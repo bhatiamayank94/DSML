{
 "cells": [
  {
   "cell_type": "code",
   "execution_count": 27,
   "metadata": {},
   "outputs": [],
   "source": [
    "# dunder functions or magic functions\n",
    "# ploymorphism - same syntax but different method as seen in below example\n",
    "# inheritance -  DRY - dont repeat yourself\n",
    "\n",
    "# print()  -  __str__\n",
    "# + = __add__\n",
    "# - = __sub"
   ]
  },
  {
   "cell_type": "code",
   "execution_count": null,
   "metadata": {},
   "outputs": [],
   "source": [
    "# change behaviour of + operator - for objects of class addition - POLYMORPHISMA\n",
    "class addition:\n",
    "    def __init__(self,name,marks):\n",
    "        self.name=name\n",
    "        self.marks=marks\n",
    "    \n",
    "    def __add__(self, other):\n",
    "        return(self.marks+other.marks)\n",
    "    \n",
    "a=addition(\"mayank\",10)\n",
    "b=addition(\"priyank\",23)\n",
    "print(a+b)\n",
    "print(\"c\"+\"d\")\n",
    "print(10+20)"
   ]
  },
  {
   "cell_type": "code",
   "execution_count": 31,
   "metadata": {},
   "outputs": [],
   "source": [
    "# inheritance\n",
    "\n",
    "class school:\n",
    "    def __init__(self, name):\n",
    "        self.name=name\n",
    "\n",
    "class student(school):\n",
    "    def __init__(self, name,grade):\n",
    "        super().__init__(name)\n",
    "        self.grade=grade\n",
    "\n",
    "class staff(school):\n",
    "    def __init__(self, name,salary):\n",
    "        super().__init__(name,)\n",
    "        self.salary=salary\n",
    "\n",
    "class teacher(staff):\n",
    "    def __init__(self, name, salary,subject):\n",
    "        super().__init__(name, salary)\n",
    "        self.subject=subject"
   ]
  },
  {
   "cell_type": "code",
   "execution_count": 33,
   "metadata": {},
   "outputs": [],
   "source": [
    "s1=student(\"mayank\",9)\n",
    "s2=teacher(\"mamta\",20000,\"english\") # note that here we did not assign salary and name to self. hence INHERITANCE"
   ]
  },
  {
   "cell_type": "code",
   "execution_count": 50,
   "metadata": {},
   "outputs": [],
   "source": [
    "# Concept of private functions - \n",
    "\n",
    "class bank_account:\n",
    "    def __init__(self,balance):\n",
    "        self.balance=balance\n",
    "    def withdraw (self,amount):\n",
    "        self.balance-=amount\n",
    "    def deposit (self,amount):\n",
    "        self.balance+=amount        "
   ]
  },
  {
   "cell_type": "code",
   "execution_count": null,
   "metadata": {},
   "outputs": [],
   "source": [
    "b1=bank_account(5000)\n",
    "print(b1.balance)\n",
    "b1.deposit(1000)\n",
    "print(b1.balance)\n",
    "b1.withdraw(4000)\n",
    "print(b1.balance)\n",
    "\n",
    "b1.balance=\"7 croreeeeeeee\"\n",
    "print(b1.balance) # see here we can change the balance. Hence now we want to make the attributes private so that they cant be altered outside class\n"
   ]
  },
  {
   "cell_type": "code",
   "execution_count": 52,
   "metadata": {},
   "outputs": [],
   "source": [
    "class bank_account_2:\n",
    "    def __init__(self,balance):\n",
    "        self.__balance=balance\n",
    "    def withdraw(self,amount):\n",
    "        self.__balance-=amount\n",
    "    def deposit(self,amount):\n",
    "        self.__balance+=amount           \n",
    "    "
   ]
  },
  {
   "cell_type": "code",
   "execution_count": null,
   "metadata": {},
   "outputs": [],
   "source": [
    "b2=bank_account_2(5000)\n",
    "# print(b2.balance) # - here it wont show bank balance because we have made it private. now ho do we access it?"
   ]
  },
  {
   "cell_type": "code",
   "execution_count": 56,
   "metadata": {},
   "outputs": [],
   "source": [
    "class bank_account_3:\n",
    "    def __init__(self,balance):\n",
    "        self.__balance=balance\n",
    "    def withdraw(self,amount):\n",
    "        self.__balance-=amount\n",
    "    def deposit(self,amount):\n",
    "        self.__balance+=amount   \n",
    "# getter function    \n",
    "    def bank_balance(self):\n",
    "        return self.__balance"
   ]
  },
  {
   "cell_type": "code",
   "execution_count": null,
   "metadata": {},
   "outputs": [],
   "source": [
    "b3=bank_account_3(5000)\n",
    "b3.bank_balance() # - here getter function helps us to know our balance"
   ]
  },
  {
   "cell_type": "code",
   "execution_count": null,
   "metadata": {},
   "outputs": [],
   "source": [
    "# one catch\n",
    "print(b3._bank_account_3__balance)\n",
    "b3._bank_account_3__balance=\"7 croreeeeeeee\"\n",
    "print(b3._bank_account_3__balance) # - here i am able to not only access balance but EVEN CHANGE IT OUTSIDE THE CLASS. WHY? \n",
    "\n",
    "# Answer 'NAME MANGLING', i.e just change the name of the defined class variable\n"
   ]
  },
  {
   "cell_type": "markdown",
   "metadata": {},
   "source": [
    "# Problems"
   ]
  },
  {
   "cell_type": "code",
   "execution_count": null,
   "metadata": {},
   "outputs": [],
   "source": [
    "#2  - Complete the classes Smaller and Larger.\n",
    "\n",
    "# Smaller class gets instantiated when the argument of the function (a:string) has a length smaller than 6 otherwise Larger is instantiated.\n",
    "# Both the classes have the same two methods, display() printing the type of a (class), and\n",
    "# evaluate() printing the number of vowels if the Name is Smaller otherwise it prints the number of consonants."
   ]
  },
  {
   "cell_type": "code",
   "execution_count": 21,
   "metadata": {},
   "outputs": [],
   "source": [
    "class Smaller:\n",
    "    def __init__(self,a):\n",
    "        self.a=a\n",
    "    def display(self):\n",
    "        print(\"The type of Name is Smaller\")\n",
    "    def evaluate(self):\n",
    "        ans=0\n",
    "        list_v=[]\n",
    "        list_a=list(a)\n",
    "        for i in list_a:\n",
    "            if i in [\"a\",\"e\",\"i\",\"o\",\"u\",\"A\",\"E\",\"I\",\"O\",\"U\"]:\n",
    "                list_v.append(i)\n",
    "        ans=len(list_v) \n",
    "        print(ans)\n",
    "class Larger:\n",
    "    def __init__(self,a):\n",
    "        self.string=a\n",
    "    \n",
    "    def display(self):\n",
    "        print(\"The type of Name is Larger\")\n",
    "    \n",
    "    def evaluate(self):\n",
    "       \n",
    "        ans=0\n",
    "        list_v=[]\n",
    "        list_a=list(a)\n",
    "        for i in list_a:\n",
    "            if i not in [\"a\",\"e\",\"i\",\"o\",\"u\",\"A\",\"E\",\"I\",\"O\",\"U\"]:\n",
    "                list_v.append(i)\n",
    "        ans=len(list_v) \n",
    "        print(ans)\n",
    "def main(a):\n",
    "    '''\n",
    "    input a is string\n",
    "    '''\n",
    "    if len(a)<6:\n",
    "        obj=Smaller(a)\n",
    "        obj.display()\n",
    "        obj.evaluate()\n",
    "    else:\n",
    "        obj=Larger(a)\n",
    "        obj.display()\n",
    "        obj.evaluate()"
   ]
  },
  {
   "cell_type": "code",
   "execution_count": 24,
   "metadata": {},
   "outputs": [
    {
     "data": {
      "text/plain": [
       "\"\\nyou are already given a class Machine_Learning with its constructor and a number of methods. \\nYou have to define a class Supervised which will inherit the MachineLearning class with the following data members and methods:\\n\\nData Members:\\n\\n1. name: string\\n2. category: string\\n\\nMethods:\\n\\n1. Constructor: Initialize the data member and call the parent class constructor\\n2. getname(): Returns the data member name.\\n3. getcategory(): Returns the data member breed.\\n4. type(): Prints 'Supervised Learning Algorithm'.\\n\\nYou also have to define a class Unsupervised which will also inherit the MachineLearning \\nclass with the same data members and methods as in Supervised, \\nbut the type() will have to print Unsupervised Learning Algorithm for this class.\\n\""
      ]
     },
     "execution_count": 24,
     "metadata": {},
     "output_type": "execute_result"
    }
   ],
   "source": [
    "#3 \n",
    "'''\n",
    "you are already given a class Machine_Learning with its constructor and a number of methods. \n",
    "You have to define a class Supervised which will inherit the MachineLearning class with the following data members and methods:\n",
    "\n",
    "Data Members:\n",
    "\n",
    "1. name: string\n",
    "2. category: string\n",
    "\n",
    "Methods:\n",
    "\n",
    "1. Constructor: Initialize the data member and call the parent class constructor\n",
    "2. getname(): Returns the data member name.\n",
    "3. getcategory(): Returns the data member breed.\n",
    "4. type(): Prints 'Supervised Learning Algorithm'.\n",
    "\n",
    "You also have to define a class Unsupervised which will also inherit the MachineLearning \n",
    "class with the same data members and methods as in Supervised, \n",
    "but the type() will have to print Unsupervised Learning Algorithm for this class.\n",
    "'''"
   ]
  },
  {
   "cell_type": "code",
   "execution_count": 23,
   "metadata": {},
   "outputs": [],
   "source": [
    "class MachineLearning:\n",
    "    def __init__(self,name,category):\n",
    "        self.name=name\n",
    "        self.category=category\n",
    "        \n",
    "    def getname(self):\n",
    "        return self.name\n",
    "        \n",
    "    def getcategory(self):\n",
    "        return self.category\n",
    "        \n",
    "    def print(self):\n",
    "        print(\"Name:\",self.name)\n",
    "        print(\"Category:\",self.category)\n",
    "\n",
    "class Supervised(MachineLearning):\n",
    "    def __init__(self,name,category):\n",
    "        super().__init__(name,category)\n",
    "\n",
    "    \n",
    "    def type(self):\n",
    "        print(f'Name: {self.name}')\n",
    "        print(f'Category: {self.category}')\n",
    "        print(\"Supervised Learning Algorithm\")\n",
    "\n",
    "class Unsupervised(MachineLearning):\n",
    "    def __init__(self,name,category):\n",
    "        super().__init__(name,category)\n",
    "    \n",
    "    def type(self):\n",
    "        print(f'Name: {self.name}')\n",
    "        print(f'Category: {self.category}')        \n",
    "        print(\"Unsupervised Learning Algorithm\")\n",
    "\n",
    "def mlAnalogy(a,b,c,d):\n",
    "    '''\n",
    "    input=> a,b = name and category for Supervised class\n",
    "            c,d = name and category for Unsupervised class\n",
    "    output=> type() is called for both classes in the end, it should first print the Name and Category then the type of class in new lines\n",
    "    '''\n",
    "\n",
    "    obj1=Supervised(a,b)\n",
    "    obj1.type()\n",
    "    obj2=Unsupervised(c,d)\n",
    "    obj2.type()\n",
    "\n",
    "    return None"
   ]
  },
  {
   "cell_type": "code",
   "execution_count": 32,
   "metadata": {},
   "outputs": [
    {
     "data": {
      "text/plain": [
       "[(True, 64), (False, 125), (True, 216)]"
      ]
     },
     "execution_count": 32,
     "metadata": {},
     "output_type": "execute_result"
    }
   ],
   "source": [
    "x=4\n",
    "list(map(lambda x: ((x**3)%2==0,x**3),[4,5,6]))"
   ]
  }
 ],
 "metadata": {
  "kernelspec": {
   "display_name": "Python 3",
   "language": "python",
   "name": "python3"
  },
  "language_info": {
   "codemirror_mode": {
    "name": "ipython",
    "version": 3
   },
   "file_extension": ".py",
   "mimetype": "text/x-python",
   "name": "python",
   "nbconvert_exporter": "python",
   "pygments_lexer": "ipython3",
   "version": "3.12.6"
  }
 },
 "nbformat": 4,
 "nbformat_minor": 2
}
