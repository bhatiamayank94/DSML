{
 "cells": [
  {
   "cell_type": "code",
   "execution_count": 1,
   "metadata": {},
   "outputs": [],
   "source": [
    "\n",
    "# Pillars of OOPS: 1 - Encapsulation (consolidation), 2 - Abstraction (layers), 3 - Inheritance, 4- Polymorphism\n",
    "\n",
    "# Class has properties and functions/methodss\n",
    "\n",
    "# life cycle of an object :  (birth) __init__ ------ life ----- __del__ (death)\n",
    "\n",
    "# Special function - __init__ -> this is used to intialise variables\n",
    "\n"
   ]
  },
  {
   "cell_type": "code",
   "execution_count": 2,
   "metadata": {},
   "outputs": [],
   "source": [
    "class test_2:\n",
    "    def __init__ (self,name,roll_num):\n",
    "        self.name=name\n",
    "        self.roll_num=roll_num\n",
    "        "
   ]
  },
  {
   "cell_type": "code",
   "execution_count": 3,
   "metadata": {},
   "outputs": [],
   "source": [
    "s1=test_2(\"Mehak\",32)"
   ]
  },
  {
   "cell_type": "code",
   "execution_count": 4,
   "metadata": {},
   "outputs": [],
   "source": [
    "class dog:\n",
    "    kind='canine'                                                       # this is class variable\n",
    "    \n",
    "    def __init__(self,name):                                            # this is object variable\n",
    "        self.name=name"
   ]
  },
  {
   "cell_type": "code",
   "execution_count": 5,
   "metadata": {},
   "outputs": [],
   "source": [
    "d1=dog(\"tommy\")\n",
    "d2=dog(\"tiger\")"
   ]
  },
  {
   "cell_type": "code",
   "execution_count": 20,
   "metadata": {},
   "outputs": [
    {
     "name": "stdout",
     "output_type": "stream",
     "text": [
      "lab\n",
      "canine\n",
      "canine\n"
     ]
    }
   ],
   "source": [
    "d1.kind = (\"lab\")\n",
    "print(d1.kind) #- #this is changed because new memory has been allocated. but D2 still refers to object dog\n",
    "print(d2.kind)\n",
    "print(dog.kind)"
   ]
  },
  {
   "cell_type": "code",
   "execution_count": 15,
   "metadata": {},
   "outputs": [],
   "source": [
    "class trickss:\n",
    "    tricks=[]\n",
    "\n",
    "    def __init__(self,name):\n",
    "        self.name=name\n",
    "\n",
    "    def teach_trick(self,trick):\n",
    "        self.tricks.append(trick)"
   ]
  },
  {
   "cell_type": "code",
   "execution_count": 16,
   "metadata": {},
   "outputs": [],
   "source": [
    "a=trickss(\"jayanti lal\")\n",
    "b=trickss(\"ronaldo\")"
   ]
  },
  {
   "cell_type": "code",
   "execution_count": 17,
   "metadata": {},
   "outputs": [
    {
     "name": "stdout",
     "output_type": "stream",
     "text": [
      "[]\n",
      "[]\n"
     ]
    }
   ],
   "source": [
    "print(a.tricks)\n",
    "print(b.tricks)"
   ]
  },
  {
   "cell_type": "code",
   "execution_count": 22,
   "metadata": {},
   "outputs": [
    {
     "name": "stdout",
     "output_type": "stream",
     "text": [
      "['jump', 'jump', 'jump']\n",
      "['jump', 'jump', 'jump']\n",
      "['jump', 'jump', 'jump']\n"
     ]
    }
   ],
   "source": [
    "a.teach_trick('jump')  # - compare this with dog class. here list gets permanently changed because list is mutable while string is not mutable. \n",
    "#CLASS VARIABLE MUTABILITY IS IMPORTANT\n",
    "\n",
    "print(a.tricks)\n",
    "print(b.tricks)\n",
    "print(trickss.tricks)"
   ]
  },
  {
   "cell_type": "markdown",
   "metadata": {},
   "source": [
    "# Problems"
   ]
  },
  {
   "cell_type": "code",
   "execution_count": null,
   "metadata": {},
   "outputs": [],
   "source": [
    "#1 Create a class Bill and initialize it with the details: previous and current meter readings. Create a function total_bill() inside the Bill class which returns the total bill based on the following criteria:\n",
    "\n",
    "# 1. For the first 100 units consumed: 3.5 rs/unit\n",
    "# 2. For the next 100 units consumed: 5 rs/unit\n",
    "# 3. For remaining units consumed: 8 rs/unit\n",
    "# 4. Meter Charges: 150 rs (It's included only once but is mandatory)"
   ]
  },
  {
   "cell_type": "code",
   "execution_count": 40,
   "metadata": {},
   "outputs": [],
   "source": [
    "class Bill():\n",
    "    def __init__(self, prev_read, cur_read):\n",
    "        self.prev_read=prev_read\n",
    "        self.cur_read=cur_read\n",
    "\n",
    "    def total_bill(self):\n",
    "        units=self.cur_read-self.prev_read\n",
    "        # total=0\n",
    "        if units<=100:\n",
    "            total=units*3.5+150\n",
    "        elif units<=200:\n",
    "            total=(units-100)*5+500\n",
    "        elif units >200:\n",
    "            total= (units-200)*8+1000\n",
    "        \n",
    "        return float(total)\n",
    "\n",
    "a=Bill(200,650)\n",
    "print(a.total_bill())"
   ]
  },
  {
   "cell_type": "code",
   "execution_count": null,
   "metadata": {},
   "outputs": [],
   "source": [
    "#2 Problem Description\n",
    "# Create a class Student and initialize it with the following class variables:\n",
    "\n",
    "\n",
    "# marks in subject 1\n",
    "# credit of subject 1\n",
    "# marks in subject 2\n",
    "# credit of subject 2\n",
    "\n",
    "# Create a function gradepointaverage() for the Student class which computes the GPA rounded to two decimals, based on the following criteria of points in a subject :\n",
    "\n",
    "# 1. If marks>=90:10 points\n",
    "# 2. If 90>marks>=75: 9 points\n",
    "# 3. If 75>marks>=60: 8 points\n",
    "# 4. If 60>marks>=45: 7 points\n",
    "# 5. If marks<45: 0 points\n",
    " "
   ]
  },
  {
   "cell_type": "code",
   "execution_count": 58,
   "metadata": {},
   "outputs": [],
   "source": [
    "class Student:\n",
    "    def __init__(self, marks1, marks2, credits1, credits2):\n",
    "        self.marks1 = marks1\n",
    "        self.marks2 = marks2\n",
    "        self.credits1 = credits1\n",
    "        self.credits2 = credits2\n",
    "        \n",
    "        # Calculate points during initialization\n",
    "        self.point1 = self.mark_to_point(self.marks1)\n",
    "        self.point2 = self.mark_to_point(self.marks2)\n",
    "\n",
    "    def mark_to_point(self, mark):  # Added 'self' parameter\n",
    "        point = 0\n",
    "        if mark >= 90:\n",
    "            point = 10\n",
    "        elif mark >= 75:\n",
    "            point = 9\n",
    "        elif mark >= 60:\n",
    "            point = 8\n",
    "        elif mark >= 45:\n",
    "            point = 7\n",
    "        elif mark < 45:\n",
    "            point = 0\n",
    "        return point  \n",
    "\n",
    "    def grade_point_average(self):\n",
    "        if self.credits1==0 and self.credits2==0:\n",
    "            gpa=-1.0\n",
    "        else:\n",
    "            gpa=(self.point1*self.credits1+self.point2*self.credits2)/(self.credits1+self.credits2)\n",
    "        return float(round(gpa,2))\n",
    "\n",
    "a=Student(85, 76, 3, 4)\n",
    "print(a.grade_point_average()) "
   ]
  }
 ],
 "metadata": {
  "kernelspec": {
   "display_name": "Python 3",
   "language": "python",
   "name": "python3"
  },
  "language_info": {
   "codemirror_mode": {
    "name": "ipython",
    "version": 3
   },
   "file_extension": ".py",
   "mimetype": "text/x-python",
   "name": "python",
   "nbconvert_exporter": "python",
   "pygments_lexer": "ipython3",
   "version": "3.12.6"
  }
 },
 "nbformat": 4,
 "nbformat_minor": 2
}
