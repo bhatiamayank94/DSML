{
 "cells": [
  {
   "cell_type": "code",
   "execution_count": 1,
   "metadata": {},
   "outputs": [],
   "source": [
    "\n",
    "# Pillars of OOPS: 1 - Encapsulation (consolidation), 2 - Abstraction (layers), 3 - Inheritance, 4- Polymorphism\n",
    "\n",
    "# Class has properties and functions/methodss\n",
    "\n",
    "# life cycle of an object :  (birth) __init__ ------ life ----- __del__ (death)\n",
    "\n",
    "# Special function - __init__ -> this is used to intialise variables\n",
    "\n"
   ]
  },
  {
   "cell_type": "code",
   "execution_count": 2,
   "metadata": {},
   "outputs": [],
   "source": [
    "class test_2:\n",
    "    def __init__ (self,name,roll_num):\n",
    "        self.name=name\n",
    "        self.roll_num=roll_num\n",
    "        "
   ]
  },
  {
   "cell_type": "code",
   "execution_count": 3,
   "metadata": {},
   "outputs": [],
   "source": [
    "s1=test_2(\"Mehak\",32)"
   ]
  },
  {
   "cell_type": "code",
   "execution_count": 4,
   "metadata": {},
   "outputs": [],
   "source": [
    "class dog:\n",
    "    kind='canine'                                                       # this is class variable\n",
    "    \n",
    "    def __init__(self,name):                                            # this is object variable\n",
    "        self.name=name"
   ]
  },
  {
   "cell_type": "code",
   "execution_count": 5,
   "metadata": {},
   "outputs": [],
   "source": [
    "d1=dog(\"tommy\")\n",
    "d2=dog(\"tiger\")"
   ]
  },
  {
   "cell_type": "code",
   "execution_count": 20,
   "metadata": {},
   "outputs": [
    {
     "name": "stdout",
     "output_type": "stream",
     "text": [
      "lab\n",
      "canine\n",
      "canine\n"
     ]
    }
   ],
   "source": [
    "d1.kind = (\"lab\")\n",
    "print(d1.kind) #- #this is changed because new memory has been allocated. but D2 still refers to object dog\n",
    "print(d2.kind)\n",
    "print(dog.kind)"
   ]
  },
  {
   "cell_type": "code",
   "execution_count": 15,
   "metadata": {},
   "outputs": [],
   "source": [
    "class trickss:\n",
    "    tricks=[]\n",
    "\n",
    "    def __init__(self,name):\n",
    "        self.name=name\n",
    "\n",
    "    def teach_trick(self,trick):\n",
    "        self.tricks.append(trick)"
   ]
  },
  {
   "cell_type": "code",
   "execution_count": 16,
   "metadata": {},
   "outputs": [],
   "source": [
    "a=trickss(\"jayanti lal\")\n",
    "b=trickss(\"ronaldo\")"
   ]
  },
  {
   "cell_type": "code",
   "execution_count": 17,
   "metadata": {},
   "outputs": [
    {
     "name": "stdout",
     "output_type": "stream",
     "text": [
      "[]\n",
      "[]\n"
     ]
    }
   ],
   "source": [
    "print(a.tricks)\n",
    "print(b.tricks)"
   ]
  },
  {
   "cell_type": "code",
   "execution_count": 22,
   "metadata": {},
   "outputs": [
    {
     "name": "stdout",
     "output_type": "stream",
     "text": [
      "['jump', 'jump', 'jump']\n",
      "['jump', 'jump', 'jump']\n",
      "['jump', 'jump', 'jump']\n"
     ]
    }
   ],
   "source": [
    "a.teach_trick('jump')  # - compare this with dog class. here list gets permanently changed because list is mutable while string is not mutable. \n",
    "#CLASS VARIABLE MUTABILITY IS IMPORTANT\n",
    "\n",
    "print(a.tricks)\n",
    "print(b.tricks)\n",
    "print(trickss.tricks)"
   ]
  }
 ],
 "metadata": {
  "kernelspec": {
   "display_name": "Python 3",
   "language": "python",
   "name": "python3"
  },
  "language_info": {
   "codemirror_mode": {
    "name": "ipython",
    "version": 3
   },
   "file_extension": ".py",
   "mimetype": "text/x-python",
   "name": "python",
   "nbconvert_exporter": "python",
   "pygments_lexer": "ipython3",
   "version": "3.12.6"
  }
 },
 "nbformat": 4,
 "nbformat_minor": 2
}
