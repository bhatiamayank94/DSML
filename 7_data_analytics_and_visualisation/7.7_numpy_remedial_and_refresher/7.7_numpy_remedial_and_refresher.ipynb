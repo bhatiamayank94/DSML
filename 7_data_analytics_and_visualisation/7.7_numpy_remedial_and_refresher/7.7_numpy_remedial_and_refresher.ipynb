{
 "cells": [
  {
   "cell_type": "code",
   "execution_count": 1,
   "metadata": {},
   "outputs": [],
   "source": [
    "import numpy as np"
   ]
  },
  {
   "cell_type": "code",
   "execution_count": 13,
   "metadata": {},
   "outputs": [
    {
     "name": "stdout",
     "output_type": "stream",
     "text": [
      "[ 0  1  2  3  4  5  6  7  8  9 10 11]\n",
      "[[ 0  1  2  3]\n",
      " [ 4  5  6  7]\n",
      " [ 8  9 10 11]]\n",
      "[ 2  3  4  5  6  7  8  9 10 11 12 13]\n",
      "[ 5  6  7  8  9 10 11]\n",
      "True\n",
      "False\n",
      "False\n",
      "[  0 111   2   3   4   5   6   7   8   9  10  11]\n",
      "[[  0 111   2   3]\n",
      " [  4   5   6   7]\n",
      " [  8   9  10  11]]\n",
      "[ 2  3  4  5  6  7  8  9 10 11 12 13]\n"
     ]
    }
   ],
   "source": [
    "# Deep copy vs shallow copy\n",
    "\n",
    "'''\n",
    "shallow copy - reshape, a.view()\n",
    "deep copy - operators, a.copy()\n",
    "'''\n",
    "\n",
    "a=np.arange(12)\n",
    "b=a.reshape(3,4)\n",
    "c=a+2\n",
    "d=a[a>4]\n",
    "\n",
    "print(a)\n",
    "print(b)\n",
    "print(c)\n",
    "print(d)\n",
    "\n",
    "\n",
    "print(np.shares_memory(a,b))\n",
    "print(np.shares_memory(a,c))\n",
    "print(np.shares_memory(a,d))\n",
    "\n",
    "b[0][1]=111\n",
    "\n",
    "print(a)\n",
    "print(b)\n",
    "print(c)"
   ]
  },
  {
   "cell_type": "code",
   "execution_count": 17,
   "metadata": {},
   "outputs": [
    {
     "name": "stderr",
     "output_type": "stream",
     "text": [
      "C:\\Users\\28962\\AppData\\Local\\Temp\\ipykernel_1116\\1339526139.py:3: UserWarning: Input line 1 contained no data and will not be counted towards `max_rows=50000`.  This differs from the behaviour in NumPy <=1.22 which counted lines rather than rows.  If desired, the previous behaviour can be achieved by using `itertools.islice`.\n",
      "Please see the 1.23 release notes for an example on how to do this.  If you wish to ignore this warning, use `warnings.filterwarnings`.  This warning is expected to be removed in the future and is given only once per `loadtxt` call.\n",
      "  raw=np.loadtxt(r'C:\\Users\\28962\\Documents\\GitHub\\DSML\\7_data_analytics_and_visualisation\\7.7_numpy_remedial_and_refresher\\fit.txt','str')\n"
     ]
    }
   ],
   "source": [
    "# Make seperate arrays for seperate columns\n",
    "\n",
    "raw=np.loadtxt(r'C:\\Users\\28962\\Documents\\GitHub\\DSML\\7_data_analytics_and_visualisation\\7.7_numpy_remedial_and_refresher\\fit.txt','str')\n",
    "\n",
    "date,step_count,mood,calories_burnt,hours_sleep,active = raw.T"
   ]
  },
  {
   "cell_type": "code",
   "execution_count": 22,
   "metadata": {},
   "outputs": [
    {
     "name": "stdout",
     "output_type": "stream",
     "text": [
      "99\n",
      "23-10-2017\n"
     ]
    }
   ],
   "source": [
    "# argmax and argmin: provide index of max and min values\n",
    "\n",
    "print(calories_burnt[np.argmax(calories_burnt)])\n",
    "print(date[np.argmax(calories_burnt)])\n",
    "print(calories_burnt[np.argmin(calories_burnt)])\n",
    "print(date[np.argmin(calories_burnt)])\n"
   ]
  },
  {
   "cell_type": "markdown",
   "metadata": {},
   "source": [
    "# Multiplication"
   ]
  },
  {
   "cell_type": "markdown",
   "metadata": {},
   "source": [
    "## Rule: (a,b).(c,d): b should always be equal to c"
   ]
  },
  {
   "cell_type": "code",
   "execution_count": 26,
   "metadata": {},
   "outputs": [
    {
     "name": "stdout",
     "output_type": "stream",
     "text": [
      "572\n",
      "572\n"
     ]
    }
   ],
   "source": [
    "# 1d vs 1d\n",
    "\n",
    "a=np.arange(12)\n",
    "b=np.arange(1,13)\n",
    "\n",
    "print(np.matmul(a,b) )\n",
    "print(np.dot(a,b))"
   ]
  },
  {
   "cell_type": "code",
   "execution_count": 41,
   "metadata": {},
   "outputs": [
    {
     "name": "stdout",
     "output_type": "stream",
     "text": [
      "[0 1 2] (3,)\n",
      "[[ 1  2  3  4]\n",
      " [ 5  6  7  8]\n",
      " [ 9 10 11 12]] (3, 4)\n",
      "[23 26 29 32]\n"
     ]
    }
   ],
   "source": [
    "# 1d vs 2d\n",
    "c=np.arange(3)\n",
    "d=np.arange(1,13).reshape(3,4)\n",
    "\n",
    "print(c,c.shape)\n",
    "print(d,d.shape)\n",
    "\n",
    "print(np.dot(c,d)) \n",
    "# print(np.dot(d,c)) # This isnt following the rule"
   ]
  },
  {
   "cell_type": "markdown",
   "metadata": {},
   "source": [
    "# NP vectorization\n"
   ]
  },
  {
   "cell_type": "code",
   "execution_count": 51,
   "metadata": {},
   "outputs": [
    {
     "data": {
      "text/plain": [
       "array([2, 4, 4])"
      ]
     },
     "execution_count": 51,
     "metadata": {},
     "output_type": "execute_result"
    }
   ],
   "source": [
    "# Vectorization helps us to use array element wise for a function\n",
    "\n",
    "def test(k):\n",
    "    if k%2==0:\n",
    "        k+=2\n",
    "    else:\n",
    "        k+=3\n",
    "    return(k)\n",
    "\n",
    "e=np.arange(3)\n",
    "\n",
    "# test(e) # this  will give error because no vectorization\n",
    "\n",
    "func=np.vectorize(test)\n",
    "func(e)\n"
   ]
  },
  {
   "cell_type": "markdown",
   "metadata": {},
   "source": [
    "## Questions"
   ]
  },
  {
   "cell_type": "code",
   "execution_count": null,
   "metadata": {},
   "outputs": [],
   "source": [
    "'''\n",
    "Q -8\n",
    "\n",
    "Given an MxN 2D array (M >= 4),\n",
    "\n",
    "Split the array column wise such that,\n",
    "\n",
    "1st sub array contains the first 2 columns\n",
    "2nd sub array contains the 3rd column\n",
    "3rd sub array contains the rest of the columns\n",
    "'''"
   ]
  }
 ],
 "metadata": {
  "kernelspec": {
   "display_name": "Python 3",
   "language": "python",
   "name": "python3"
  },
  "language_info": {
   "codemirror_mode": {
    "name": "ipython",
    "version": 3
   },
   "file_extension": ".py",
   "mimetype": "text/x-python",
   "name": "python",
   "nbconvert_exporter": "python",
   "pygments_lexer": "ipython3",
   "version": "3.12.6"
  }
 },
 "nbformat": 4,
 "nbformat_minor": 2
}
