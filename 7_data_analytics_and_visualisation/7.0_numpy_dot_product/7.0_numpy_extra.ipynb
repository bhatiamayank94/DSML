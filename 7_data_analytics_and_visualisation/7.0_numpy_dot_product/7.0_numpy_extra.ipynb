{
 "cells": [
  {
   "cell_type": "code",
   "execution_count": null,
   "metadata": {},
   "outputs": [],
   "source": [
    "# np.new_axis\n",
    "# splitting of an array\n",
    "# np.new_axis\n",
    "\n",
    "# np.vectorization\n",
    "\n",
    "# none as attribute\n",
    "# randint\n",
    "# np.concatenate\n",
    "\n",
    "# hstack, vstack, hsplit, vsplit\n",
    "\n",
    "# a.squeeze\n",
    "# np.expand_dims\n"
   ]
  },
  {
   "cell_type": "code",
   "execution_count": 2,
   "metadata": {},
   "outputs": [],
   "source": [
    "import numpy as np"
   ]
  },
  {
   "cell_type": "code",
   "execution_count": 12,
   "metadata": {},
   "outputs": [
    {
     "name": "stdout",
     "output_type": "stream",
     "text": [
      "(3,) (3,)\n",
      "[0 1 2] [0 1 2] 5\n"
     ]
    }
   ],
   "source": [
    "# 1d vs 1d\n",
    "# normal sum product \n",
    "\n",
    "a=np.arange(3)\n",
    "b=np.arange(3)\n",
    "print(a.shape,b.shape)\n",
    "\n",
    "print(a,b,np.dot(a,b))"
   ]
  },
  {
   "cell_type": "code",
   "execution_count": 31,
   "metadata": {},
   "outputs": [
    {
     "name": "stdout",
     "output_type": "stream",
     "text": [
      "[3 0 1] [[4 8 6]\n",
      " [5 5 8]\n",
      " [8 2 7]] (3,) (3, 3) [20 26 25] (3,)\n"
     ]
    }
   ],
   "source": [
    "# 1d vs 2d\n",
    "# for shapes (3,) and (3,3), final product would be (3,). i.e row vector\n",
    "\n",
    "c=np.random.randint(0,10,[3])\n",
    "d=np.random.randint(0,10,[3,3])\n",
    "d_err=np.random.randint(0,10,[4,3])\n",
    "\n",
    "print(c,d,c.shape,d.shape,np.dot(c,d),np.dot(c,d).shape)\n",
    "# print(c,d,c.shape,d.shape,np.dot(c,d_err),np.dot(c,d_err).shape) \n",
    "    # this will give error  because shape mismatch"
   ]
  },
  {
   "cell_type": "code",
   "execution_count": 4,
   "metadata": {},
   "outputs": [
    {
     "name": "stdout",
     "output_type": "stream",
     "text": [
      "[2 3 0] [[2 3 5]\n",
      " [7 0 1]\n",
      " [1 4 1]\n",
      " [4 2 5]] (3,) (4, 3) [13 14 14 14] (4,)\n"
     ]
    }
   ],
   "source": [
    "# 2d vs 1d\n",
    "# for shapes (3,3) and (3,), final product would be (3,). i.e row vector\n",
    "# BASICALLY, FOR ANY 1D VS 2D DOT PRODUCT, FUNAL PRODUCT WILL BE 1D ONLY AND THAT WILL BE ROW VECTOR\n",
    "\n",
    "e=np.random.randint(0,10,[3])\n",
    "f=np.random.randint(0,10,[4,3])\n",
    "\n",
    "print(e,f,e.shape,f.shape,np.dot(f,e),np.dot(f,e).shape)"
   ]
  },
  {
   "cell_type": "code",
   "execution_count": 32,
   "metadata": {},
   "outputs": [
    {
     "name": "stdout",
     "output_type": "stream",
     "text": [
      "[[9 7 6]\n",
      " [1 1 1]] [[2 8 6 6]\n",
      " [4 1 6 5]\n",
      " [3 9 8 3]] (2, 3) (3, 4) [[ 64 133 144 107]\n",
      " [  9  18  20  14]] (2, 4)\n"
     ]
    }
   ],
   "source": [
    "# 2d vs 2d\n",
    "\n",
    "# for shapes (2,3) and (3,4), final product would be (2,4).i.e another 2d vecotr\n",
    "\n",
    "g=np.random.randint(0,10,[2,3])\n",
    "h=np.random.randint(0,10,[3,4])\n",
    "\n",
    "print(g,h,g.shape,h.shape,np.dot(g,h),np.dot(g,h).shape) # this will become 2d vector of 2,4 shape\n"
   ]
  }
 ],
 "metadata": {
  "kernelspec": {
   "display_name": "Python 3",
   "language": "python",
   "name": "python3"
  },
  "language_info": {
   "codemirror_mode": {
    "name": "ipython",
    "version": 3
   },
   "file_extension": ".py",
   "mimetype": "text/x-python",
   "name": "python",
   "nbconvert_exporter": "python",
   "pygments_lexer": "ipython3",
   "version": "3.12.6"
  }
 },
 "nbformat": 4,
 "nbformat_minor": 2
}
