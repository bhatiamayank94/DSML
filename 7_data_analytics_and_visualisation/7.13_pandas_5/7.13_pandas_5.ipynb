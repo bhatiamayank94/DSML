{
 "cells": [
  {
   "cell_type": "code",
   "execution_count": 3,
   "metadata": {},
   "outputs": [],
   "source": [
    "import pandas as pd\n",
    "import numpy as np "
   ]
  },
  {
   "cell_type": "code",
   "execution_count": 32,
   "metadata": {},
   "outputs": [],
   "source": [
    "df=pd.read_csv(r'C:\\Users\\28962\\Documents\\GitHub\\DSML\\7_data_analytics_and_visualisation\\7.13_pandas_5\\Pfizer_1.csv')"
   ]
  },
  {
   "cell_type": "markdown",
   "metadata": {},
   "source": [
    "# melt - unpivot"
   ]
  },
  {
   "cell_type": "code",
   "execution_count": 41,
   "metadata": {},
   "outputs": [
    {
     "data": {
      "application/vnd.microsoft.datawrangler.viewer.v0+json": {
       "columns": [
        {
         "name": "index",
         "rawType": "int64",
         "type": "integer"
        },
        {
         "name": "Date",
         "rawType": "object",
         "type": "string"
        },
        {
         "name": "Parameter",
         "rawType": "object",
         "type": "string"
        },
        {
         "name": "Drug_Name",
         "rawType": "object",
         "type": "string"
        },
        {
         "name": "time",
         "rawType": "object",
         "type": "string"
        },
        {
         "name": "reading",
         "rawType": "float64",
         "type": "float"
        }
       ],
       "conversionMethod": "pd.DataFrame",
       "ref": "221fe509-1161-4543-82c8-94b72e833726",
       "rows": [
        [
         "0",
         "15-10-2020",
         "Temperature",
         "diltiazem hydrochloride",
         "1:30:00",
         "23.0"
        ],
        [
         "1",
         "15-10-2020",
         "Pressure",
         "diltiazem hydrochloride",
         "1:30:00",
         "12.0"
        ],
        [
         "2",
         "15-10-2020",
         "Temperature",
         "docetaxel injection",
         "1:30:00",
         null
        ],
        [
         "3",
         "15-10-2020",
         "Pressure",
         "docetaxel injection",
         "1:30:00",
         null
        ],
        [
         "4",
         "15-10-2020",
         "Temperature",
         "ketamine hydrochloride",
         "1:30:00",
         "24.0"
        ],
        [
         "5",
         "15-10-2020",
         "Pressure",
         "ketamine hydrochloride",
         "1:30:00",
         "8.0"
        ],
        [
         "6",
         "16-10-2020",
         "Temperature",
         "diltiazem hydrochloride",
         "1:30:00",
         "34.0"
        ],
        [
         "7",
         "16-10-2020",
         "Pressure",
         "diltiazem hydrochloride",
         "1:30:00",
         "18.0"
        ],
        [
         "8",
         "16-10-2020",
         "Temperature",
         "docetaxel injection",
         "1:30:00",
         "46.0"
        ],
        [
         "9",
         "16-10-2020",
         "Pressure",
         "docetaxel injection",
         "1:30:00",
         "23.0"
        ],
        [
         "10",
         "16-10-2020",
         "Temperature",
         "ketamine hydrochloride",
         "1:30:00",
         "8.0"
        ],
        [
         "11",
         "16-10-2020",
         "Pressure",
         "ketamine hydrochloride",
         "1:30:00",
         "12.0"
        ],
        [
         "12",
         "17-10-2020",
         "Temperature",
         "diltiazem hydrochloride",
         "1:30:00",
         "20.0"
        ],
        [
         "13",
         "17-10-2020",
         "Pressure",
         "diltiazem hydrochloride",
         "1:30:00",
         "3.0"
        ],
        [
         "14",
         "17-10-2020",
         "Temperature",
         "docetaxel injection",
         "1:30:00",
         "12.0"
        ],
        [
         "15",
         "17-10-2020",
         "Pressure",
         "docetaxel injection",
         "1:30:00",
         "20.0"
        ],
        [
         "16",
         "17-10-2020",
         "Temperature",
         "ketamine hydrochloride",
         "1:30:00",
         "13.0"
        ],
        [
         "17",
         "17-10-2020",
         "Pressure",
         "ketamine hydrochloride",
         "1:30:00",
         "8.0"
        ],
        [
         "18",
         "15-10-2020",
         "Temperature",
         "diltiazem hydrochloride",
         "2:30:00",
         "22.0"
        ],
        [
         "19",
         "15-10-2020",
         "Pressure",
         "diltiazem hydrochloride",
         "2:30:00",
         "13.0"
        ],
        [
         "20",
         "15-10-2020",
         "Temperature",
         "docetaxel injection",
         "2:30:00",
         "17.0"
        ],
        [
         "21",
         "15-10-2020",
         "Pressure",
         "docetaxel injection",
         "2:30:00",
         "22.0"
        ],
        [
         "22",
         "15-10-2020",
         "Temperature",
         "ketamine hydrochloride",
         "2:30:00",
         null
        ],
        [
         "23",
         "15-10-2020",
         "Pressure",
         "ketamine hydrochloride",
         "2:30:00",
         null
        ],
        [
         "24",
         "16-10-2020",
         "Temperature",
         "diltiazem hydrochloride",
         "2:30:00",
         "35.0"
        ],
        [
         "25",
         "16-10-2020",
         "Pressure",
         "diltiazem hydrochloride",
         "2:30:00",
         "19.0"
        ],
        [
         "26",
         "16-10-2020",
         "Temperature",
         "docetaxel injection",
         "2:30:00",
         "47.0"
        ],
        [
         "27",
         "16-10-2020",
         "Pressure",
         "docetaxel injection",
         "2:30:00",
         "24.0"
        ],
        [
         "28",
         "16-10-2020",
         "Temperature",
         "ketamine hydrochloride",
         "2:30:00",
         "9.0"
        ],
        [
         "29",
         "16-10-2020",
         "Pressure",
         "ketamine hydrochloride",
         "2:30:00",
         "12.0"
        ],
        [
         "30",
         "17-10-2020",
         "Temperature",
         "diltiazem hydrochloride",
         "2:30:00",
         "19.0"
        ],
        [
         "31",
         "17-10-2020",
         "Pressure",
         "diltiazem hydrochloride",
         "2:30:00",
         "4.0"
        ],
        [
         "32",
         "17-10-2020",
         "Temperature",
         "docetaxel injection",
         "2:30:00",
         "13.0"
        ],
        [
         "33",
         "17-10-2020",
         "Pressure",
         "docetaxel injection",
         "2:30:00",
         "22.0"
        ],
        [
         "34",
         "17-10-2020",
         "Temperature",
         "ketamine hydrochloride",
         "2:30:00",
         "14.0"
        ],
        [
         "35",
         "17-10-2020",
         "Pressure",
         "ketamine hydrochloride",
         "2:30:00",
         "9.0"
        ],
        [
         "36",
         "15-10-2020",
         "Temperature",
         "diltiazem hydrochloride",
         "3:30:00",
         null
        ],
        [
         "37",
         "15-10-2020",
         "Pressure",
         "diltiazem hydrochloride",
         "3:30:00",
         null
        ],
        [
         "38",
         "15-10-2020",
         "Temperature",
         "docetaxel injection",
         "3:30:00",
         "18.0"
        ],
        [
         "39",
         "15-10-2020",
         "Pressure",
         "docetaxel injection",
         "3:30:00",
         "22.0"
        ],
        [
         "40",
         "15-10-2020",
         "Temperature",
         "ketamine hydrochloride",
         "3:30:00",
         null
        ],
        [
         "41",
         "15-10-2020",
         "Pressure",
         "ketamine hydrochloride",
         "3:30:00",
         null
        ],
        [
         "42",
         "16-10-2020",
         "Temperature",
         "diltiazem hydrochloride",
         "3:30:00",
         "36.0"
        ],
        [
         "43",
         "16-10-2020",
         "Pressure",
         "diltiazem hydrochloride",
         "3:30:00",
         "20.0"
        ],
        [
         "44",
         "16-10-2020",
         "Temperature",
         "docetaxel injection",
         "3:30:00",
         null
        ],
        [
         "45",
         "16-10-2020",
         "Pressure",
         "docetaxel injection",
         "3:30:00",
         null
        ],
        [
         "46",
         "16-10-2020",
         "Temperature",
         "ketamine hydrochloride",
         "3:30:00",
         "10.0"
        ],
        [
         "47",
         "16-10-2020",
         "Pressure",
         "ketamine hydrochloride",
         "3:30:00",
         "13.0"
        ],
        [
         "48",
         "17-10-2020",
         "Temperature",
         "diltiazem hydrochloride",
         "3:30:00",
         "19.0"
        ],
        [
         "49",
         "17-10-2020",
         "Pressure",
         "diltiazem hydrochloride",
         "3:30:00",
         "4.0"
        ]
       ],
       "shape": {
        "columns": 5,
        "rows": 216
       }
      },
      "text/html": [
       "<div>\n",
       "<style scoped>\n",
       "    .dataframe tbody tr th:only-of-type {\n",
       "        vertical-align: middle;\n",
       "    }\n",
       "\n",
       "    .dataframe tbody tr th {\n",
       "        vertical-align: top;\n",
       "    }\n",
       "\n",
       "    .dataframe thead th {\n",
       "        text-align: right;\n",
       "    }\n",
       "</style>\n",
       "<table border=\"1\" class=\"dataframe\">\n",
       "  <thead>\n",
       "    <tr style=\"text-align: right;\">\n",
       "      <th></th>\n",
       "      <th>Date</th>\n",
       "      <th>Parameter</th>\n",
       "      <th>Drug_Name</th>\n",
       "      <th>time</th>\n",
       "      <th>reading</th>\n",
       "    </tr>\n",
       "  </thead>\n",
       "  <tbody>\n",
       "    <tr>\n",
       "      <th>0</th>\n",
       "      <td>15-10-2020</td>\n",
       "      <td>Temperature</td>\n",
       "      <td>diltiazem hydrochloride</td>\n",
       "      <td>1:30:00</td>\n",
       "      <td>23.0</td>\n",
       "    </tr>\n",
       "    <tr>\n",
       "      <th>1</th>\n",
       "      <td>15-10-2020</td>\n",
       "      <td>Pressure</td>\n",
       "      <td>diltiazem hydrochloride</td>\n",
       "      <td>1:30:00</td>\n",
       "      <td>12.0</td>\n",
       "    </tr>\n",
       "    <tr>\n",
       "      <th>2</th>\n",
       "      <td>15-10-2020</td>\n",
       "      <td>Temperature</td>\n",
       "      <td>docetaxel injection</td>\n",
       "      <td>1:30:00</td>\n",
       "      <td>NaN</td>\n",
       "    </tr>\n",
       "    <tr>\n",
       "      <th>3</th>\n",
       "      <td>15-10-2020</td>\n",
       "      <td>Pressure</td>\n",
       "      <td>docetaxel injection</td>\n",
       "      <td>1:30:00</td>\n",
       "      <td>NaN</td>\n",
       "    </tr>\n",
       "    <tr>\n",
       "      <th>4</th>\n",
       "      <td>15-10-2020</td>\n",
       "      <td>Temperature</td>\n",
       "      <td>ketamine hydrochloride</td>\n",
       "      <td>1:30:00</td>\n",
       "      <td>24.0</td>\n",
       "    </tr>\n",
       "    <tr>\n",
       "      <th>...</th>\n",
       "      <td>...</td>\n",
       "      <td>...</td>\n",
       "      <td>...</td>\n",
       "      <td>...</td>\n",
       "      <td>...</td>\n",
       "    </tr>\n",
       "    <tr>\n",
       "      <th>211</th>\n",
       "      <td>17-10-2020</td>\n",
       "      <td>Pressure</td>\n",
       "      <td>diltiazem hydrochloride</td>\n",
       "      <td>12:30:00</td>\n",
       "      <td>14.0</td>\n",
       "    </tr>\n",
       "    <tr>\n",
       "      <th>212</th>\n",
       "      <td>17-10-2020</td>\n",
       "      <td>Temperature</td>\n",
       "      <td>docetaxel injection</td>\n",
       "      <td>12:30:00</td>\n",
       "      <td>23.0</td>\n",
       "    </tr>\n",
       "    <tr>\n",
       "      <th>213</th>\n",
       "      <td>17-10-2020</td>\n",
       "      <td>Pressure</td>\n",
       "      <td>docetaxel injection</td>\n",
       "      <td>12:30:00</td>\n",
       "      <td>28.0</td>\n",
       "    </tr>\n",
       "    <tr>\n",
       "      <th>214</th>\n",
       "      <td>17-10-2020</td>\n",
       "      <td>Temperature</td>\n",
       "      <td>ketamine hydrochloride</td>\n",
       "      <td>12:30:00</td>\n",
       "      <td>24.0</td>\n",
       "    </tr>\n",
       "    <tr>\n",
       "      <th>215</th>\n",
       "      <td>17-10-2020</td>\n",
       "      <td>Pressure</td>\n",
       "      <td>ketamine hydrochloride</td>\n",
       "      <td>12:30:00</td>\n",
       "      <td>15.0</td>\n",
       "    </tr>\n",
       "  </tbody>\n",
       "</table>\n",
       "<p>216 rows × 5 columns</p>\n",
       "</div>"
      ],
      "text/plain": [
       "           Date    Parameter                Drug_Name      time  reading\n",
       "0    15-10-2020  Temperature  diltiazem hydrochloride   1:30:00     23.0\n",
       "1    15-10-2020     Pressure  diltiazem hydrochloride   1:30:00     12.0\n",
       "2    15-10-2020  Temperature      docetaxel injection   1:30:00      NaN\n",
       "3    15-10-2020     Pressure      docetaxel injection   1:30:00      NaN\n",
       "4    15-10-2020  Temperature   ketamine hydrochloride   1:30:00     24.0\n",
       "..          ...          ...                      ...       ...      ...\n",
       "211  17-10-2020     Pressure  diltiazem hydrochloride  12:30:00     14.0\n",
       "212  17-10-2020  Temperature      docetaxel injection  12:30:00     23.0\n",
       "213  17-10-2020     Pressure      docetaxel injection  12:30:00     28.0\n",
       "214  17-10-2020  Temperature   ketamine hydrochloride  12:30:00     24.0\n",
       "215  17-10-2020     Pressure   ketamine hydrochloride  12:30:00     15.0\n",
       "\n",
       "[216 rows x 5 columns]"
      ]
     },
     "execution_count": 41,
     "metadata": {},
     "output_type": "execute_result"
    }
   ],
   "source": [
    "data_melt=df.melt([\"Date\", \"Parameter\", \"Drug_Name\"],var_name='time',value_name='reading')\n",
    "data_melt"
   ]
  },
  {
   "cell_type": "markdown",
   "metadata": {},
   "source": [
    "# Pivot - no aggregation"
   ]
  },
  {
   "cell_type": "code",
   "execution_count": null,
   "metadata": {},
   "outputs": [
    {
     "data": {
      "application/vnd.microsoft.datawrangler.viewer.v0+json": {
       "columns": [
        {
         "name": "index",
         "rawType": "int64",
         "type": "integer"
        },
        {
         "name": "Date",
         "rawType": "object",
         "type": "string"
        },
        {
         "name": "time",
         "rawType": "object",
         "type": "string"
        },
        {
         "name": "Drug_Name",
         "rawType": "object",
         "type": "string"
        },
        {
         "name": "Pressure",
         "rawType": "float64",
         "type": "float"
        },
        {
         "name": "Temperature",
         "rawType": "float64",
         "type": "float"
        }
       ],
       "conversionMethod": "pd.DataFrame",
       "ref": "c97db29b-8b45-4eed-91e7-b7f7e6bf97e4",
       "rows": [
        [
         "0",
         "15-10-2020",
         "10:30:00",
         "diltiazem hydrochloride",
         "18.0",
         "20.0"
        ],
        [
         "1",
         "15-10-2020",
         "10:30:00",
         "docetaxel injection",
         "26.0",
         "23.0"
        ],
        [
         "2",
         "15-10-2020",
         "10:30:00",
         "ketamine hydrochloride",
         "9.0",
         "22.0"
        ],
        [
         "3",
         "15-10-2020",
         "11:30:00",
         "diltiazem hydrochloride",
         "19.0",
         "20.0"
        ],
        [
         "4",
         "15-10-2020",
         "11:30:00",
         "docetaxel injection",
         "29.0",
         "25.0"
        ],
        [
         "5",
         "15-10-2020",
         "11:30:00",
         "ketamine hydrochloride",
         "9.0",
         "21.0"
        ],
        [
         "6",
         "15-10-2020",
         "12:30:00",
         "diltiazem hydrochloride",
         "20.0",
         "21.0"
        ],
        [
         "7",
         "15-10-2020",
         "12:30:00",
         "docetaxel injection",
         "28.0",
         "25.0"
        ],
        [
         "8",
         "15-10-2020",
         "12:30:00",
         "ketamine hydrochloride",
         "11.0",
         "20.0"
        ],
        [
         "9",
         "15-10-2020",
         "1:30:00",
         "diltiazem hydrochloride",
         "12.0",
         "23.0"
        ],
        [
         "10",
         "15-10-2020",
         "1:30:00",
         "docetaxel injection",
         null,
         null
        ],
        [
         "11",
         "15-10-2020",
         "1:30:00",
         "ketamine hydrochloride",
         "8.0",
         "24.0"
        ],
        [
         "12",
         "15-10-2020",
         "2:30:00",
         "diltiazem hydrochloride",
         "13.0",
         "22.0"
        ],
        [
         "13",
         "15-10-2020",
         "2:30:00",
         "docetaxel injection",
         "22.0",
         "17.0"
        ],
        [
         "14",
         "15-10-2020",
         "2:30:00",
         "ketamine hydrochloride",
         null,
         null
        ],
        [
         "15",
         "15-10-2020",
         "3:30:00",
         "diltiazem hydrochloride",
         null,
         null
        ],
        [
         "16",
         "15-10-2020",
         "3:30:00",
         "docetaxel injection",
         "22.0",
         "18.0"
        ],
        [
         "17",
         "15-10-2020",
         "3:30:00",
         "ketamine hydrochloride",
         null,
         null
        ],
        [
         "18",
         "15-10-2020",
         "4:30:00",
         "diltiazem hydrochloride",
         "11.0",
         "21.0"
        ],
        [
         "19",
         "15-10-2020",
         "4:30:00",
         "docetaxel injection",
         null,
         null
        ],
        [
         "20",
         "15-10-2020",
         "4:30:00",
         "ketamine hydrochloride",
         "7.0",
         "27.0"
        ],
        [
         "21",
         "15-10-2020",
         "5:30:00",
         "diltiazem hydrochloride",
         "13.0",
         "21.0"
        ],
        [
         "22",
         "15-10-2020",
         "5:30:00",
         "docetaxel injection",
         "22.0",
         "17.0"
        ],
        [
         "23",
         "15-10-2020",
         "5:30:00",
         "ketamine hydrochloride",
         null,
         null
        ],
        [
         "24",
         "15-10-2020",
         "6:30:00",
         "diltiazem hydrochloride",
         "14.0",
         "22.0"
        ],
        [
         "25",
         "15-10-2020",
         "6:30:00",
         "docetaxel injection",
         "23.0",
         "18.0"
        ],
        [
         "26",
         "15-10-2020",
         "6:30:00",
         "ketamine hydrochloride",
         "9.0",
         "26.0"
        ],
        [
         "27",
         "15-10-2020",
         "7:30:00",
         "diltiazem hydrochloride",
         "16.0",
         "23.0"
        ],
        [
         "28",
         "15-10-2020",
         "7:30:00",
         "docetaxel injection",
         null,
         null
        ],
        [
         "29",
         "15-10-2020",
         "7:30:00",
         "ketamine hydrochloride",
         "10.0",
         "25.0"
        ],
        [
         "30",
         "15-10-2020",
         "8:30:00",
         "diltiazem hydrochloride",
         "16.0",
         "21.0"
        ],
        [
         "31",
         "15-10-2020",
         "8:30:00",
         "docetaxel injection",
         null,
         null
        ],
        [
         "32",
         "15-10-2020",
         "8:30:00",
         "ketamine hydrochloride",
         "11.0",
         "24.0"
        ],
        [
         "33",
         "15-10-2020",
         "9:30:00",
         "diltiazem hydrochloride",
         "24.0",
         "22.0"
        ],
        [
         "34",
         "15-10-2020",
         "9:30:00",
         "docetaxel injection",
         "27.0",
         "23.0"
        ],
        [
         "35",
         "15-10-2020",
         "9:30:00",
         "ketamine hydrochloride",
         "10.0",
         "23.0"
        ],
        [
         "36",
         "16-10-2020",
         "10:30:00",
         "diltiazem hydrochloride",
         "24.0",
         "40.0"
        ],
        [
         "37",
         "16-10-2020",
         "10:30:00",
         "docetaxel injection",
         "28.0",
         "56.0"
        ],
        [
         "38",
         "16-10-2020",
         "10:30:00",
         "ketamine hydrochloride",
         "16.0",
         "13.0"
        ],
        [
         "39",
         "16-10-2020",
         "11:30:00",
         "diltiazem hydrochloride",
         null,
         null
        ],
        [
         "40",
         "16-10-2020",
         "11:30:00",
         "docetaxel injection",
         "29.0",
         "57.0"
        ],
        [
         "41",
         "16-10-2020",
         "11:30:00",
         "ketamine hydrochloride",
         "17.0",
         "14.0"
        ],
        [
         "42",
         "16-10-2020",
         "12:30:00",
         "diltiazem hydrochloride",
         "27.0",
         "42.0"
        ],
        [
         "43",
         "16-10-2020",
         "12:30:00",
         "docetaxel injection",
         "30.0",
         "58.0"
        ],
        [
         "44",
         "16-10-2020",
         "12:30:00",
         "ketamine hydrochloride",
         "18.0",
         "15.0"
        ],
        [
         "45",
         "16-10-2020",
         "1:30:00",
         "diltiazem hydrochloride",
         "18.0",
         "34.0"
        ],
        [
         "46",
         "16-10-2020",
         "1:30:00",
         "docetaxel injection",
         "23.0",
         "46.0"
        ],
        [
         "47",
         "16-10-2020",
         "1:30:00",
         "ketamine hydrochloride",
         "12.0",
         "8.0"
        ],
        [
         "48",
         "16-10-2020",
         "2:30:00",
         "diltiazem hydrochloride",
         "19.0",
         "35.0"
        ],
        [
         "49",
         "16-10-2020",
         "2:30:00",
         "docetaxel injection",
         "24.0",
         "47.0"
        ]
       ],
       "shape": {
        "columns": 5,
        "rows": 108
       }
      },
      "text/html": [
       "<div>\n",
       "<style scoped>\n",
       "    .dataframe tbody tr th:only-of-type {\n",
       "        vertical-align: middle;\n",
       "    }\n",
       "\n",
       "    .dataframe tbody tr th {\n",
       "        vertical-align: top;\n",
       "    }\n",
       "\n",
       "    .dataframe thead th {\n",
       "        text-align: right;\n",
       "    }\n",
       "</style>\n",
       "<table border=\"1\" class=\"dataframe\">\n",
       "  <thead>\n",
       "    <tr style=\"text-align: right;\">\n",
       "      <th>Parameter</th>\n",
       "      <th>Date</th>\n",
       "      <th>time</th>\n",
       "      <th>Drug_Name</th>\n",
       "      <th>Pressure</th>\n",
       "      <th>Temperature</th>\n",
       "    </tr>\n",
       "  </thead>\n",
       "  <tbody>\n",
       "    <tr>\n",
       "      <th>0</th>\n",
       "      <td>15-10-2020</td>\n",
       "      <td>10:30:00</td>\n",
       "      <td>diltiazem hydrochloride</td>\n",
       "      <td>18.0</td>\n",
       "      <td>20.0</td>\n",
       "    </tr>\n",
       "    <tr>\n",
       "      <th>1</th>\n",
       "      <td>15-10-2020</td>\n",
       "      <td>10:30:00</td>\n",
       "      <td>docetaxel injection</td>\n",
       "      <td>26.0</td>\n",
       "      <td>23.0</td>\n",
       "    </tr>\n",
       "    <tr>\n",
       "      <th>2</th>\n",
       "      <td>15-10-2020</td>\n",
       "      <td>10:30:00</td>\n",
       "      <td>ketamine hydrochloride</td>\n",
       "      <td>9.0</td>\n",
       "      <td>22.0</td>\n",
       "    </tr>\n",
       "    <tr>\n",
       "      <th>3</th>\n",
       "      <td>15-10-2020</td>\n",
       "      <td>11:30:00</td>\n",
       "      <td>diltiazem hydrochloride</td>\n",
       "      <td>19.0</td>\n",
       "      <td>20.0</td>\n",
       "    </tr>\n",
       "    <tr>\n",
       "      <th>4</th>\n",
       "      <td>15-10-2020</td>\n",
       "      <td>11:30:00</td>\n",
       "      <td>docetaxel injection</td>\n",
       "      <td>29.0</td>\n",
       "      <td>25.0</td>\n",
       "    </tr>\n",
       "    <tr>\n",
       "      <th>...</th>\n",
       "      <td>...</td>\n",
       "      <td>...</td>\n",
       "      <td>...</td>\n",
       "      <td>...</td>\n",
       "      <td>...</td>\n",
       "    </tr>\n",
       "    <tr>\n",
       "      <th>103</th>\n",
       "      <td>17-10-2020</td>\n",
       "      <td>8:30:00</td>\n",
       "      <td>docetaxel injection</td>\n",
       "      <td>26.0</td>\n",
       "      <td>19.0</td>\n",
       "    </tr>\n",
       "    <tr>\n",
       "      <th>104</th>\n",
       "      <td>17-10-2020</td>\n",
       "      <td>8:30:00</td>\n",
       "      <td>ketamine hydrochloride</td>\n",
       "      <td>11.0</td>\n",
       "      <td>20.0</td>\n",
       "    </tr>\n",
       "    <tr>\n",
       "      <th>105</th>\n",
       "      <td>17-10-2020</td>\n",
       "      <td>9:30:00</td>\n",
       "      <td>diltiazem hydrochloride</td>\n",
       "      <td>9.0</td>\n",
       "      <td>13.0</td>\n",
       "    </tr>\n",
       "    <tr>\n",
       "      <th>106</th>\n",
       "      <td>17-10-2020</td>\n",
       "      <td>9:30:00</td>\n",
       "      <td>docetaxel injection</td>\n",
       "      <td>27.0</td>\n",
       "      <td>20.0</td>\n",
       "    </tr>\n",
       "    <tr>\n",
       "      <th>107</th>\n",
       "      <td>17-10-2020</td>\n",
       "      <td>9:30:00</td>\n",
       "      <td>ketamine hydrochloride</td>\n",
       "      <td>12.0</td>\n",
       "      <td>21.0</td>\n",
       "    </tr>\n",
       "  </tbody>\n",
       "</table>\n",
       "<p>108 rows × 5 columns</p>\n",
       "</div>"
      ],
      "text/plain": [
       "Parameter        Date      time                Drug_Name  Pressure  \\\n",
       "0          15-10-2020  10:30:00  diltiazem hydrochloride      18.0   \n",
       "1          15-10-2020  10:30:00      docetaxel injection      26.0   \n",
       "2          15-10-2020  10:30:00   ketamine hydrochloride       9.0   \n",
       "3          15-10-2020  11:30:00  diltiazem hydrochloride      19.0   \n",
       "4          15-10-2020  11:30:00      docetaxel injection      29.0   \n",
       "..                ...       ...                      ...       ...   \n",
       "103        17-10-2020   8:30:00      docetaxel injection      26.0   \n",
       "104        17-10-2020   8:30:00   ketamine hydrochloride      11.0   \n",
       "105        17-10-2020   9:30:00  diltiazem hydrochloride       9.0   \n",
       "106        17-10-2020   9:30:00      docetaxel injection      27.0   \n",
       "107        17-10-2020   9:30:00   ketamine hydrochloride      12.0   \n",
       "\n",
       "Parameter  Temperature  \n",
       "0                 20.0  \n",
       "1                 23.0  \n",
       "2                 22.0  \n",
       "3                 20.0  \n",
       "4                 25.0  \n",
       "..                 ...  \n",
       "103               19.0  \n",
       "104               20.0  \n",
       "105               13.0  \n",
       "106               20.0  \n",
       "107               21.0  \n",
       "\n",
       "[108 rows x 5 columns]"
      ]
     },
     "execution_count": 43,
     "metadata": {},
     "output_type": "execute_result"
    }
   ],
   "source": [
    "piv=data_melt.pivot(index=[\"Date\", \"time\", \"Drug_Name\"],columns='Parameter',values='reading').reset_index()\n",
    "piv\n",
    "\n"
   ]
  },
  {
   "cell_type": "markdown",
   "metadata": {},
   "source": [
    "# Pivot table - allows aggregation "
   ]
  },
  {
   "cell_type": "code",
   "execution_count": null,
   "metadata": {},
   "outputs": [
    {
     "data": {
      "application/vnd.microsoft.datawrangler.viewer.v0+json": {
       "columns": [
        {
         "name": "Drug_Name",
         "rawType": "object",
         "type": "string"
        },
        {
         "name": "('Temperature', '15-10-2020')",
         "rawType": "float64",
         "type": "float"
        },
        {
         "name": "('Temperature', '16-10-2020')",
         "rawType": "float64",
         "type": "float"
        },
        {
         "name": "('Temperature', '17-10-2020')",
         "rawType": "float64",
         "type": "float"
        }
       ],
       "conversionMethod": "pd.DataFrame",
       "ref": "27b6c5d6-0208-453a-9dd2-e50aaf61b9c0",
       "rows": [
        [
         "diltiazem hydrochloride",
         "21.454545454545453",
         "37.45454545454545",
         "15.636363636363637"
        ],
        [
         "docetaxel injection",
         "20.75",
         "51.45454545454545",
         "17.5"
        ],
        [
         "ketamine hydrochloride",
         "23.555555555555557",
         "11.5",
         "18.5"
        ]
       ],
       "shape": {
        "columns": 3,
        "rows": 3
       }
      },
      "text/html": [
       "<div>\n",
       "<style scoped>\n",
       "    .dataframe tbody tr th:only-of-type {\n",
       "        vertical-align: middle;\n",
       "    }\n",
       "\n",
       "    .dataframe tbody tr th {\n",
       "        vertical-align: top;\n",
       "    }\n",
       "\n",
       "    .dataframe thead tr th {\n",
       "        text-align: left;\n",
       "    }\n",
       "\n",
       "    .dataframe thead tr:last-of-type th {\n",
       "        text-align: right;\n",
       "    }\n",
       "</style>\n",
       "<table border=\"1\" class=\"dataframe\">\n",
       "  <thead>\n",
       "    <tr>\n",
       "      <th>Parameter</th>\n",
       "      <th colspan=\"3\" halign=\"left\">Temperature</th>\n",
       "    </tr>\n",
       "    <tr>\n",
       "      <th>Date</th>\n",
       "      <th>15-10-2020</th>\n",
       "      <th>16-10-2020</th>\n",
       "      <th>17-10-2020</th>\n",
       "    </tr>\n",
       "    <tr>\n",
       "      <th>Drug_Name</th>\n",
       "      <th></th>\n",
       "      <th></th>\n",
       "      <th></th>\n",
       "    </tr>\n",
       "  </thead>\n",
       "  <tbody>\n",
       "    <tr>\n",
       "      <th>diltiazem hydrochloride</th>\n",
       "      <td>21.454545</td>\n",
       "      <td>37.454545</td>\n",
       "      <td>15.636364</td>\n",
       "    </tr>\n",
       "    <tr>\n",
       "      <th>docetaxel injection</th>\n",
       "      <td>20.750000</td>\n",
       "      <td>51.454545</td>\n",
       "      <td>17.500000</td>\n",
       "    </tr>\n",
       "    <tr>\n",
       "      <th>ketamine hydrochloride</th>\n",
       "      <td>23.555556</td>\n",
       "      <td>11.500000</td>\n",
       "      <td>18.500000</td>\n",
       "    </tr>\n",
       "  </tbody>\n",
       "</table>\n",
       "</div>"
      ],
      "text/plain": [
       "Parameter               Temperature                      \n",
       "Date                     15-10-2020 16-10-2020 17-10-2020\n",
       "Drug_Name                                                \n",
       "diltiazem hydrochloride   21.454545  37.454545  15.636364\n",
       "docetaxel injection       20.750000  51.454545  17.500000\n",
       "ketamine hydrochloride    23.555556  11.500000  18.500000"
      ]
     },
     "execution_count": 44,
     "metadata": {},
     "output_type": "execute_result"
    }
   ],
   "source": [
    "# here only pivot table works and not pivot: beacuase no aggragration for pivot\n",
    "\n",
    "# DEFAULT AGGFUNCTION FOR PIVOT TABLES IN PANDAS IS MEAN \n",
    "\n",
    "piv.pivot_table(\n",
    "    index = [\"Drug_Name\"],\n",
    "    columns = \"Date\",\n",
    "    values = [\"Temperature\"]\n",
    ")"
   ]
  },
  {
   "cell_type": "code",
   "execution_count": null,
   "metadata": {},
   "outputs": [
    {
     "data": {
      "application/vnd.microsoft.datawrangler.viewer.v0+json": {
       "columns": [
        {
         "name": "Drug_Name",
         "rawType": "object",
         "type": "string"
        },
        {
         "name": "('Temperature', '15-10-2020')",
         "rawType": "float64",
         "type": "float"
        },
        {
         "name": "('Temperature', '16-10-2020')",
         "rawType": "float64",
         "type": "float"
        },
        {
         "name": "('Temperature', '17-10-2020')",
         "rawType": "float64",
         "type": "float"
        }
       ],
       "conversionMethod": "pd.DataFrame",
       "ref": "47713be1-b200-4ec1-af67-422d83c84e6f",
       "rows": [
        [
         "diltiazem hydrochloride",
         "21.454545454545453",
         "37.45454545454545",
         "15.636363636363637"
        ],
        [
         "docetaxel injection",
         "20.75",
         "51.45454545454545",
         "17.5"
        ],
        [
         "ketamine hydrochloride",
         "23.555555555555557",
         "11.5",
         "18.5"
        ]
       ],
       "shape": {
        "columns": 3,
        "rows": 3
       }
      },
      "text/html": [
       "<div>\n",
       "<style scoped>\n",
       "    .dataframe tbody tr th:only-of-type {\n",
       "        vertical-align: middle;\n",
       "    }\n",
       "\n",
       "    .dataframe tbody tr th {\n",
       "        vertical-align: top;\n",
       "    }\n",
       "\n",
       "    .dataframe thead tr th {\n",
       "        text-align: left;\n",
       "    }\n",
       "\n",
       "    .dataframe thead tr:last-of-type th {\n",
       "        text-align: right;\n",
       "    }\n",
       "</style>\n",
       "<table border=\"1\" class=\"dataframe\">\n",
       "  <thead>\n",
       "    <tr>\n",
       "      <th>Parameter</th>\n",
       "      <th colspan=\"3\" halign=\"left\">Temperature</th>\n",
       "    </tr>\n",
       "    <tr>\n",
       "      <th>Date</th>\n",
       "      <th>15-10-2020</th>\n",
       "      <th>16-10-2020</th>\n",
       "      <th>17-10-2020</th>\n",
       "    </tr>\n",
       "    <tr>\n",
       "      <th>Drug_Name</th>\n",
       "      <th></th>\n",
       "      <th></th>\n",
       "      <th></th>\n",
       "    </tr>\n",
       "  </thead>\n",
       "  <tbody>\n",
       "    <tr>\n",
       "      <th>diltiazem hydrochloride</th>\n",
       "      <td>21.454545</td>\n",
       "      <td>37.454545</td>\n",
       "      <td>15.636364</td>\n",
       "    </tr>\n",
       "    <tr>\n",
       "      <th>docetaxel injection</th>\n",
       "      <td>20.750000</td>\n",
       "      <td>51.454545</td>\n",
       "      <td>17.500000</td>\n",
       "    </tr>\n",
       "    <tr>\n",
       "      <th>ketamine hydrochloride</th>\n",
       "      <td>23.555556</td>\n",
       "      <td>11.500000</td>\n",
       "      <td>18.500000</td>\n",
       "    </tr>\n",
       "  </tbody>\n",
       "</table>\n",
       "</div>"
      ],
      "text/plain": [
       "Parameter               Temperature                      \n",
       "Date                     15-10-2020 16-10-2020 17-10-2020\n",
       "Drug_Name                                                \n",
       "diltiazem hydrochloride   21.454545  37.454545  15.636364\n",
       "docetaxel injection       20.750000  51.454545  17.500000\n",
       "ketamine hydrochloride    23.555556  11.500000  18.500000"
      ]
     },
     "execution_count": 45,
     "metadata": {},
     "output_type": "execute_result"
    }
   ],
   "source": [
    "# this will give output equal to the above command\n",
    "\n",
    "piv.pivot_table(\n",
    "    index = [\"Drug_Name\"],\n",
    "    columns = \"Date\",\n",
    "    values = [\"Temperature\"],\n",
    "    aggfunc='mean'\n",
    ")"
   ]
  },
  {
   "cell_type": "markdown",
   "metadata": {},
   "source": [
    "## Multiple aggregations for pivot tables"
   ]
  },
  {
   "cell_type": "code",
   "execution_count": 52,
   "metadata": {},
   "outputs": [
    {
     "data": {
      "application/vnd.microsoft.datawrangler.viewer.v0+json": {
       "columns": [
        {
         "name": "index",
         "rawType": "int64",
         "type": "integer"
        },
        {
         "name": "('Drug_Name', '')",
         "rawType": "object",
         "type": "string"
        },
        {
         "name": "('Pressure', '15-10-2020')",
         "rawType": "float64",
         "type": "float"
        },
        {
         "name": "('Pressure', '16-10-2020')",
         "rawType": "float64",
         "type": "float"
        },
        {
         "name": "('Pressure', '17-10-2020')",
         "rawType": "float64",
         "type": "float"
        },
        {
         "name": "('Temperature', '15-10-2020')",
         "rawType": "float64",
         "type": "float"
        },
        {
         "name": "('Temperature', '16-10-2020')",
         "rawType": "float64",
         "type": "float"
        },
        {
         "name": "('Temperature', '17-10-2020')",
         "rawType": "float64",
         "type": "float"
        }
       ],
       "conversionMethod": "pd.DataFrame",
       "ref": "9b6b48ee-4502-443d-8bf9-b82e2e3cc803",
       "rows": [
        [
         "0",
         "diltiazem hydrochloride",
         "16.0",
         "22.545454545454547",
         "7.7272727272727275",
         "23.0",
         "42.0",
         "20.0"
        ],
        [
         "1",
         "docetaxel injection",
         "24.875",
         "27.0",
         "24.5",
         "25.0",
         "58.0",
         "23.0"
        ],
        [
         "2",
         "ketamine hydrochloride",
         "9.333333333333334",
         "14.8",
         "11.5",
         "27.0",
         "15.0",
         "24.0"
        ]
       ],
       "shape": {
        "columns": 7,
        "rows": 3
       }
      },
      "text/html": [
       "<div>\n",
       "<style scoped>\n",
       "    .dataframe tbody tr th:only-of-type {\n",
       "        vertical-align: middle;\n",
       "    }\n",
       "\n",
       "    .dataframe tbody tr th {\n",
       "        vertical-align: top;\n",
       "    }\n",
       "\n",
       "    .dataframe thead tr th {\n",
       "        text-align: left;\n",
       "    }\n",
       "</style>\n",
       "<table border=\"1\" class=\"dataframe\">\n",
       "  <thead>\n",
       "    <tr>\n",
       "      <th>Parameter</th>\n",
       "      <th>Drug_Name</th>\n",
       "      <th colspan=\"3\" halign=\"left\">Pressure</th>\n",
       "      <th colspan=\"3\" halign=\"left\">Temperature</th>\n",
       "    </tr>\n",
       "    <tr>\n",
       "      <th>Date</th>\n",
       "      <th></th>\n",
       "      <th>15-10-2020</th>\n",
       "      <th>16-10-2020</th>\n",
       "      <th>17-10-2020</th>\n",
       "      <th>15-10-2020</th>\n",
       "      <th>16-10-2020</th>\n",
       "      <th>17-10-2020</th>\n",
       "    </tr>\n",
       "  </thead>\n",
       "  <tbody>\n",
       "    <tr>\n",
       "      <th>0</th>\n",
       "      <td>diltiazem hydrochloride</td>\n",
       "      <td>16.000000</td>\n",
       "      <td>22.545455</td>\n",
       "      <td>7.727273</td>\n",
       "      <td>23.0</td>\n",
       "      <td>42.0</td>\n",
       "      <td>20.0</td>\n",
       "    </tr>\n",
       "    <tr>\n",
       "      <th>1</th>\n",
       "      <td>docetaxel injection</td>\n",
       "      <td>24.875000</td>\n",
       "      <td>27.000000</td>\n",
       "      <td>24.500000</td>\n",
       "      <td>25.0</td>\n",
       "      <td>58.0</td>\n",
       "      <td>23.0</td>\n",
       "    </tr>\n",
       "    <tr>\n",
       "      <th>2</th>\n",
       "      <td>ketamine hydrochloride</td>\n",
       "      <td>9.333333</td>\n",
       "      <td>14.800000</td>\n",
       "      <td>11.500000</td>\n",
       "      <td>27.0</td>\n",
       "      <td>15.0</td>\n",
       "      <td>24.0</td>\n",
       "    </tr>\n",
       "  </tbody>\n",
       "</table>\n",
       "</div>"
      ],
      "text/plain": [
       "Parameter                Drug_Name   Pressure                        \\\n",
       "Date                               15-10-2020 16-10-2020 17-10-2020   \n",
       "0          diltiazem hydrochloride  16.000000  22.545455   7.727273   \n",
       "1              docetaxel injection  24.875000  27.000000  24.500000   \n",
       "2           ketamine hydrochloride   9.333333  14.800000  11.500000   \n",
       "\n",
       "Parameter Temperature                        \n",
       "Date       15-10-2020 16-10-2020 17-10-2020  \n",
       "0                23.0       42.0       20.0  \n",
       "1                25.0       58.0       23.0  \n",
       "2                27.0       15.0       24.0  "
      ]
     },
     "execution_count": 52,
     "metadata": {},
     "output_type": "execute_result"
    }
   ],
   "source": [
    "piv.pivot_table(index=['Drug_Name'],\n",
    "                columns='Date',\n",
    "                # values=['Pressure','Temperature'],\n",
    "                aggfunc={'Pressure':'mean',\n",
    "                         'Temperature':'max'}).reset_index()"
   ]
  },
  {
   "cell_type": "markdown",
   "metadata": {},
   "source": [
    "# Null Handling"
   ]
  },
  {
   "cell_type": "code",
   "execution_count": 56,
   "metadata": {},
   "outputs": [
    {
     "name": "stdout",
     "output_type": "stream",
     "text": [
      "Date         0\n",
      "Drug_Name    0\n",
      "Parameter    0\n",
      "1:30:00      2\n",
      "2:30:00      2\n",
      "3:30:00      6\n",
      "4:30:00      4\n",
      "5:30:00      2\n",
      "6:30:00      0\n",
      "7:30:00      2\n",
      "8:30:00      4\n",
      "9:30:00      2\n",
      "10:30:00     0\n",
      "11:30:00     2\n",
      "12:30:00     0\n",
      "dtype: int64\n"
     ]
    }
   ],
   "source": [
    "print(df.isnull().sum(axis=0))\n",
    "# print(df.isnull().sum(axis=1)) - row wise"
   ]
  },
  {
   "cell_type": "markdown",
   "metadata": {},
   "source": [
    "## Dropping nulls"
   ]
  },
  {
   "cell_type": "code",
   "execution_count": null,
   "metadata": {},
   "outputs": [
    {
     "data": {
      "application/vnd.microsoft.datawrangler.viewer.v0+json": {
       "columns": [
        {
         "name": "index",
         "rawType": "int64",
         "type": "integer"
        },
        {
         "name": "Date",
         "rawType": "object",
         "type": "string"
        },
        {
         "name": "Drug_Name",
         "rawType": "object",
         "type": "string"
        },
        {
         "name": "Parameter",
         "rawType": "object",
         "type": "string"
        },
        {
         "name": "1:30:00",
         "rawType": "float64",
         "type": "float"
        },
        {
         "name": "2:30:00",
         "rawType": "float64",
         "type": "float"
        },
        {
         "name": "3:30:00",
         "rawType": "float64",
         "type": "float"
        },
        {
         "name": "4:30:00",
         "rawType": "float64",
         "type": "float"
        },
        {
         "name": "5:30:00",
         "rawType": "float64",
         "type": "float"
        },
        {
         "name": "6:30:00",
         "rawType": "int64",
         "type": "integer"
        },
        {
         "name": "7:30:00",
         "rawType": "float64",
         "type": "float"
        },
        {
         "name": "8:30:00",
         "rawType": "float64",
         "type": "float"
        },
        {
         "name": "9:30:00",
         "rawType": "float64",
         "type": "float"
        },
        {
         "name": "10:30:00",
         "rawType": "int64",
         "type": "integer"
        },
        {
         "name": "11:30:00",
         "rawType": "float64",
         "type": "float"
        },
        {
         "name": "12:30:00",
         "rawType": "int64",
         "type": "integer"
        }
       ],
       "conversionMethod": "pd.DataFrame",
       "ref": "4ee23685-67be-438a-95a0-4832f9b8379e",
       "rows": [
        [
         "14",
         "17-10-2020",
         "docetaxel injection",
         "Temperature",
         "12.0",
         "13.0",
         "14.0",
         "15.0",
         "16.0",
         "17",
         "18.0",
         "19.0",
         "20.0",
         "21",
         "22.0",
         "23"
        ],
        [
         "15",
         "17-10-2020",
         "docetaxel injection",
         "Pressure",
         "20.0",
         "22.0",
         "22.0",
         "22.0",
         "22.0",
         "23",
         "25.0",
         "26.0",
         "27.0",
         "28",
         "29.0",
         "28"
        ],
        [
         "16",
         "17-10-2020",
         "ketamine hydrochloride",
         "Temperature",
         "13.0",
         "14.0",
         "15.0",
         "16.0",
         "17.0",
         "18",
         "19.0",
         "20.0",
         "21.0",
         "22",
         "23.0",
         "24"
        ],
        [
         "17",
         "17-10-2020",
         "ketamine hydrochloride",
         "Pressure",
         "8.0",
         "9.0",
         "10.0",
         "11.0",
         "11.0",
         "12",
         "12.0",
         "11.0",
         "12.0",
         "13",
         "14.0",
         "15"
        ]
       ],
       "shape": {
        "columns": 15,
        "rows": 4
       }
      },
      "text/html": [
       "<div>\n",
       "<style scoped>\n",
       "    .dataframe tbody tr th:only-of-type {\n",
       "        vertical-align: middle;\n",
       "    }\n",
       "\n",
       "    .dataframe tbody tr th {\n",
       "        vertical-align: top;\n",
       "    }\n",
       "\n",
       "    .dataframe thead th {\n",
       "        text-align: right;\n",
       "    }\n",
       "</style>\n",
       "<table border=\"1\" class=\"dataframe\">\n",
       "  <thead>\n",
       "    <tr style=\"text-align: right;\">\n",
       "      <th></th>\n",
       "      <th>Date</th>\n",
       "      <th>Drug_Name</th>\n",
       "      <th>Parameter</th>\n",
       "      <th>1:30:00</th>\n",
       "      <th>2:30:00</th>\n",
       "      <th>3:30:00</th>\n",
       "      <th>4:30:00</th>\n",
       "      <th>5:30:00</th>\n",
       "      <th>6:30:00</th>\n",
       "      <th>7:30:00</th>\n",
       "      <th>8:30:00</th>\n",
       "      <th>9:30:00</th>\n",
       "      <th>10:30:00</th>\n",
       "      <th>11:30:00</th>\n",
       "      <th>12:30:00</th>\n",
       "    </tr>\n",
       "  </thead>\n",
       "  <tbody>\n",
       "    <tr>\n",
       "      <th>14</th>\n",
       "      <td>17-10-2020</td>\n",
       "      <td>docetaxel injection</td>\n",
       "      <td>Temperature</td>\n",
       "      <td>12.0</td>\n",
       "      <td>13.0</td>\n",
       "      <td>14.0</td>\n",
       "      <td>15.0</td>\n",
       "      <td>16.0</td>\n",
       "      <td>17</td>\n",
       "      <td>18.0</td>\n",
       "      <td>19.0</td>\n",
       "      <td>20.0</td>\n",
       "      <td>21</td>\n",
       "      <td>22.0</td>\n",
       "      <td>23</td>\n",
       "    </tr>\n",
       "    <tr>\n",
       "      <th>15</th>\n",
       "      <td>17-10-2020</td>\n",
       "      <td>docetaxel injection</td>\n",
       "      <td>Pressure</td>\n",
       "      <td>20.0</td>\n",
       "      <td>22.0</td>\n",
       "      <td>22.0</td>\n",
       "      <td>22.0</td>\n",
       "      <td>22.0</td>\n",
       "      <td>23</td>\n",
       "      <td>25.0</td>\n",
       "      <td>26.0</td>\n",
       "      <td>27.0</td>\n",
       "      <td>28</td>\n",
       "      <td>29.0</td>\n",
       "      <td>28</td>\n",
       "    </tr>\n",
       "    <tr>\n",
       "      <th>16</th>\n",
       "      <td>17-10-2020</td>\n",
       "      <td>ketamine hydrochloride</td>\n",
       "      <td>Temperature</td>\n",
       "      <td>13.0</td>\n",
       "      <td>14.0</td>\n",
       "      <td>15.0</td>\n",
       "      <td>16.0</td>\n",
       "      <td>17.0</td>\n",
       "      <td>18</td>\n",
       "      <td>19.0</td>\n",
       "      <td>20.0</td>\n",
       "      <td>21.0</td>\n",
       "      <td>22</td>\n",
       "      <td>23.0</td>\n",
       "      <td>24</td>\n",
       "    </tr>\n",
       "    <tr>\n",
       "      <th>17</th>\n",
       "      <td>17-10-2020</td>\n",
       "      <td>ketamine hydrochloride</td>\n",
       "      <td>Pressure</td>\n",
       "      <td>8.0</td>\n",
       "      <td>9.0</td>\n",
       "      <td>10.0</td>\n",
       "      <td>11.0</td>\n",
       "      <td>11.0</td>\n",
       "      <td>12</td>\n",
       "      <td>12.0</td>\n",
       "      <td>11.0</td>\n",
       "      <td>12.0</td>\n",
       "      <td>13</td>\n",
       "      <td>14.0</td>\n",
       "      <td>15</td>\n",
       "    </tr>\n",
       "  </tbody>\n",
       "</table>\n",
       "</div>"
      ],
      "text/plain": [
       "          Date               Drug_Name    Parameter  1:30:00  2:30:00  \\\n",
       "14  17-10-2020     docetaxel injection  Temperature     12.0     13.0   \n",
       "15  17-10-2020     docetaxel injection     Pressure     20.0     22.0   \n",
       "16  17-10-2020  ketamine hydrochloride  Temperature     13.0     14.0   \n",
       "17  17-10-2020  ketamine hydrochloride     Pressure      8.0      9.0   \n",
       "\n",
       "    3:30:00  4:30:00  5:30:00  6:30:00  7:30:00  8:30:00  9:30:00  10:30:00  \\\n",
       "14     14.0     15.0     16.0       17     18.0     19.0     20.0        21   \n",
       "15     22.0     22.0     22.0       23     25.0     26.0     27.0        28   \n",
       "16     15.0     16.0     17.0       18     19.0     20.0     21.0        22   \n",
       "17     10.0     11.0     11.0       12     12.0     11.0     12.0        13   \n",
       "\n",
       "    11:30:00  12:30:00  \n",
       "14      22.0        23  \n",
       "15      29.0        28  \n",
       "16      23.0        24  \n",
       "17      14.0        15  "
      ]
     },
     "execution_count": 62,
     "metadata": {},
     "output_type": "execute_result"
    }
   ],
   "source": [
    "df.dropna() # default axis = 0 and 'any'\n",
    "df.dropna(axis=1,how='any')\n",
    "df.dropna(axis=1,how='all')\n",
    "df.dropna(axis=0,how='any')\n",
    "\n",
    "# df.dropna(axis=0,how='all')"
   ]
  },
  {
   "cell_type": "markdown",
   "metadata": {},
   "source": [
    "## Fillna()"
   ]
  },
  {
   "cell_type": "code",
   "execution_count": null,
   "metadata": {},
   "outputs": [
    {
     "name": "stdout",
     "output_type": "stream",
     "text": [
      "18.8125\n",
      "18.8125\n"
     ]
    }
   ],
   "source": [
    "# df.fillna(0)\n",
    "df=pd.read_csv(r'C:\\Users\\28962\\Documents\\GitHub\\DSML\\7_data_analytics_and_visualisation\\7.13_pandas_5\\Pfizer_1.csv')\n",
    "print(df['2:30:00'].mean())\n",
    "\n",
    "df['2:30:00'].fillna(0)\n",
    "print(df['2:30:00'].mean())"
   ]
  },
  {
   "cell_type": "markdown",
   "metadata": {},
   "source": [
    "## na handling using means "
   ]
  },
  {
   "cell_type": "code",
   "execution_count": 70,
   "metadata": {},
   "outputs": [
    {
     "data": {
      "text/plain": [
       "0     22.0000\n",
       "1     13.0000\n",
       "2     17.0000\n",
       "3     22.0000\n",
       "4     18.8125\n",
       "5     18.8125\n",
       "6     35.0000\n",
       "7     19.0000\n",
       "8     47.0000\n",
       "9     24.0000\n",
       "10     9.0000\n",
       "11    12.0000\n",
       "12    19.0000\n",
       "13     4.0000\n",
       "14    13.0000\n",
       "15    22.0000\n",
       "16    14.0000\n",
       "17     9.0000\n",
       "Name: 2:30:00, dtype: float64"
      ]
     },
     "execution_count": 70,
     "metadata": {},
     "output_type": "execute_result"
    }
   ],
   "source": [
    "df['2:30:00'].fillna(df['2:30:00'].mean())"
   ]
  },
  {
   "cell_type": "markdown",
   "metadata": {},
   "source": [
    "## na handling using means "
   ]
  },
  {
   "cell_type": "code",
   "execution_count": 107,
   "metadata": {},
   "outputs": [
    {
     "name": "stderr",
     "output_type": "stream",
     "text": [
      "C:\\Users\\28962\\AppData\\Local\\Temp\\ipykernel_11812\\3325310631.py:5: FutureWarning: A value is trying to be set on a copy of a DataFrame or Series through chained assignment using an inplace method.\n",
      "The behavior will change in pandas 3.0. This inplace method will never work because the intermediate object on which we are setting values always behaves as a copy.\n",
      "\n",
      "For example, when doing 'df[col].method(value, inplace=True)', try using 'df.method({col: value}, inplace=True)' or df[col] = df[col].method(value) instead, to perform the operation inplace on the original object.\n",
      "\n",
      "\n",
      "  df_piv['Temperature'].fillna(df_piv.groupby('Drug_Name')['Temperature'].transform('mean'),inplace=True)\n"
     ]
    },
    {
     "data": {
      "application/vnd.microsoft.datawrangler.viewer.v0+json": {
       "columns": [
        {
         "name": "index",
         "rawType": "int64",
         "type": "integer"
        },
        {
         "name": "Drug_Name",
         "rawType": "object",
         "type": "string"
        },
        {
         "name": "Date",
         "rawType": "object",
         "type": "string"
        },
        {
         "name": "time",
         "rawType": "object",
         "type": "string"
        },
        {
         "name": "Pressure",
         "rawType": "float64",
         "type": "float"
        },
        {
         "name": "Temperature",
         "rawType": "float64",
         "type": "float"
        }
       ],
       "conversionMethod": "pd.DataFrame",
       "ref": "48c76867-6a36-4b4e-88ec-ed6f72499470",
       "rows": [
        [
         "0",
         "diltiazem hydrochloride",
         "15-10-2020",
         "10:30:00",
         "18.0",
         "20.0"
        ],
        [
         "1",
         "diltiazem hydrochloride",
         "15-10-2020",
         "11:30:00",
         "19.0",
         "20.0"
        ],
        [
         "2",
         "diltiazem hydrochloride",
         "15-10-2020",
         "12:30:00",
         "20.0",
         "21.0"
        ],
        [
         "3",
         "diltiazem hydrochloride",
         "15-10-2020",
         "1:30:00",
         "12.0",
         "23.0"
        ],
        [
         "4",
         "diltiazem hydrochloride",
         "15-10-2020",
         "2:30:00",
         "13.0",
         "22.0"
        ],
        [
         "5",
         "diltiazem hydrochloride",
         "15-10-2020",
         "3:30:00",
         null,
         "24.848484848484848"
        ],
        [
         "6",
         "diltiazem hydrochloride",
         "15-10-2020",
         "4:30:00",
         "11.0",
         "21.0"
        ],
        [
         "7",
         "diltiazem hydrochloride",
         "15-10-2020",
         "5:30:00",
         "13.0",
         "21.0"
        ],
        [
         "8",
         "diltiazem hydrochloride",
         "15-10-2020",
         "6:30:00",
         "14.0",
         "22.0"
        ],
        [
         "9",
         "diltiazem hydrochloride",
         "15-10-2020",
         "7:30:00",
         "16.0",
         "23.0"
        ],
        [
         "10",
         "diltiazem hydrochloride",
         "15-10-2020",
         "8:30:00",
         "16.0",
         "21.0"
        ],
        [
         "11",
         "diltiazem hydrochloride",
         "15-10-2020",
         "9:30:00",
         "24.0",
         "22.0"
        ],
        [
         "12",
         "diltiazem hydrochloride",
         "16-10-2020",
         "10:30:00",
         "24.0",
         "40.0"
        ],
        [
         "13",
         "diltiazem hydrochloride",
         "16-10-2020",
         "11:30:00",
         null,
         "24.848484848484848"
        ],
        [
         "14",
         "diltiazem hydrochloride",
         "16-10-2020",
         "12:30:00",
         "27.0",
         "42.0"
        ],
        [
         "15",
         "diltiazem hydrochloride",
         "16-10-2020",
         "1:30:00",
         "18.0",
         "34.0"
        ],
        [
         "16",
         "diltiazem hydrochloride",
         "16-10-2020",
         "2:30:00",
         "19.0",
         "35.0"
        ],
        [
         "17",
         "diltiazem hydrochloride",
         "16-10-2020",
         "3:30:00",
         "20.0",
         "36.0"
        ],
        [
         "18",
         "diltiazem hydrochloride",
         "16-10-2020",
         "4:30:00",
         "21.0",
         "36.0"
        ],
        [
         "19",
         "diltiazem hydrochloride",
         "16-10-2020",
         "5:30:00",
         "22.0",
         "37.0"
        ],
        [
         "20",
         "diltiazem hydrochloride",
         "16-10-2020",
         "6:30:00",
         "23.0",
         "38.0"
        ],
        [
         "21",
         "diltiazem hydrochloride",
         "16-10-2020",
         "7:30:00",
         "24.0",
         "37.0"
        ],
        [
         "22",
         "diltiazem hydrochloride",
         "16-10-2020",
         "8:30:00",
         "25.0",
         "38.0"
        ],
        [
         "23",
         "diltiazem hydrochloride",
         "16-10-2020",
         "9:30:00",
         "25.0",
         "39.0"
        ],
        [
         "24",
         "diltiazem hydrochloride",
         "17-10-2020",
         "10:30:00",
         "11.0",
         "14.0"
        ],
        [
         "25",
         "diltiazem hydrochloride",
         "17-10-2020",
         "11:30:00",
         "13.0",
         "11.0"
        ],
        [
         "26",
         "diltiazem hydrochloride",
         "17-10-2020",
         "12:30:00",
         "14.0",
         "10.0"
        ],
        [
         "27",
         "diltiazem hydrochloride",
         "17-10-2020",
         "1:30:00",
         "3.0",
         "20.0"
        ],
        [
         "28",
         "diltiazem hydrochloride",
         "17-10-2020",
         "2:30:00",
         "4.0",
         "19.0"
        ],
        [
         "29",
         "diltiazem hydrochloride",
         "17-10-2020",
         "3:30:00",
         "4.0",
         "19.0"
        ],
        [
         "30",
         "diltiazem hydrochloride",
         "17-10-2020",
         "4:30:00",
         "4.0",
         "18.0"
        ],
        [
         "31",
         "diltiazem hydrochloride",
         "17-10-2020",
         "5:30:00",
         "6.0",
         "17.0"
        ],
        [
         "32",
         "diltiazem hydrochloride",
         "17-10-2020",
         "6:30:00",
         "8.0",
         "16.0"
        ],
        [
         "33",
         "diltiazem hydrochloride",
         "17-10-2020",
         "7:30:00",
         "9.0",
         "15.0"
        ],
        [
         "34",
         "diltiazem hydrochloride",
         "17-10-2020",
         "8:30:00",
         null,
         "24.848484848484848"
        ],
        [
         "35",
         "diltiazem hydrochloride",
         "17-10-2020",
         "9:30:00",
         "9.0",
         "13.0"
        ],
        [
         "36",
         "docetaxel injection",
         "15-10-2020",
         "10:30:00",
         "26.0",
         "23.0"
        ],
        [
         "37",
         "docetaxel injection",
         "15-10-2020",
         "11:30:00",
         "29.0",
         "25.0"
        ],
        [
         "38",
         "docetaxel injection",
         "15-10-2020",
         "12:30:00",
         "28.0",
         "25.0"
        ],
        [
         "39",
         "docetaxel injection",
         "15-10-2020",
         "1:30:00",
         null,
         "30.387096774193548"
        ],
        [
         "40",
         "docetaxel injection",
         "15-10-2020",
         "2:30:00",
         "22.0",
         "17.0"
        ],
        [
         "41",
         "docetaxel injection",
         "15-10-2020",
         "3:30:00",
         "22.0",
         "18.0"
        ],
        [
         "42",
         "docetaxel injection",
         "15-10-2020",
         "4:30:00",
         null,
         "30.387096774193548"
        ],
        [
         "43",
         "docetaxel injection",
         "15-10-2020",
         "5:30:00",
         "22.0",
         "17.0"
        ],
        [
         "44",
         "docetaxel injection",
         "15-10-2020",
         "6:30:00",
         "23.0",
         "18.0"
        ],
        [
         "45",
         "docetaxel injection",
         "15-10-2020",
         "7:30:00",
         null,
         "30.387096774193548"
        ],
        [
         "46",
         "docetaxel injection",
         "15-10-2020",
         "8:30:00",
         null,
         "30.387096774193548"
        ],
        [
         "47",
         "docetaxel injection",
         "15-10-2020",
         "9:30:00",
         "27.0",
         "23.0"
        ],
        [
         "48",
         "docetaxel injection",
         "16-10-2020",
         "10:30:00",
         "28.0",
         "56.0"
        ],
        [
         "49",
         "docetaxel injection",
         "16-10-2020",
         "11:30:00",
         "29.0",
         "57.0"
        ]
       ],
       "shape": {
        "columns": 5,
        "rows": 108
       }
      },
      "text/html": [
       "<div>\n",
       "<style scoped>\n",
       "    .dataframe tbody tr th:only-of-type {\n",
       "        vertical-align: middle;\n",
       "    }\n",
       "\n",
       "    .dataframe tbody tr th {\n",
       "        vertical-align: top;\n",
       "    }\n",
       "\n",
       "    .dataframe thead th {\n",
       "        text-align: right;\n",
       "    }\n",
       "</style>\n",
       "<table border=\"1\" class=\"dataframe\">\n",
       "  <thead>\n",
       "    <tr style=\"text-align: right;\">\n",
       "      <th>Parameter</th>\n",
       "      <th>Drug_Name</th>\n",
       "      <th>Date</th>\n",
       "      <th>time</th>\n",
       "      <th>Pressure</th>\n",
       "      <th>Temperature</th>\n",
       "    </tr>\n",
       "  </thead>\n",
       "  <tbody>\n",
       "    <tr>\n",
       "      <th>0</th>\n",
       "      <td>diltiazem hydrochloride</td>\n",
       "      <td>15-10-2020</td>\n",
       "      <td>10:30:00</td>\n",
       "      <td>18.0</td>\n",
       "      <td>20.0</td>\n",
       "    </tr>\n",
       "    <tr>\n",
       "      <th>1</th>\n",
       "      <td>diltiazem hydrochloride</td>\n",
       "      <td>15-10-2020</td>\n",
       "      <td>11:30:00</td>\n",
       "      <td>19.0</td>\n",
       "      <td>20.0</td>\n",
       "    </tr>\n",
       "    <tr>\n",
       "      <th>2</th>\n",
       "      <td>diltiazem hydrochloride</td>\n",
       "      <td>15-10-2020</td>\n",
       "      <td>12:30:00</td>\n",
       "      <td>20.0</td>\n",
       "      <td>21.0</td>\n",
       "    </tr>\n",
       "    <tr>\n",
       "      <th>3</th>\n",
       "      <td>diltiazem hydrochloride</td>\n",
       "      <td>15-10-2020</td>\n",
       "      <td>1:30:00</td>\n",
       "      <td>12.0</td>\n",
       "      <td>23.0</td>\n",
       "    </tr>\n",
       "    <tr>\n",
       "      <th>4</th>\n",
       "      <td>diltiazem hydrochloride</td>\n",
       "      <td>15-10-2020</td>\n",
       "      <td>2:30:00</td>\n",
       "      <td>13.0</td>\n",
       "      <td>22.0</td>\n",
       "    </tr>\n",
       "    <tr>\n",
       "      <th>...</th>\n",
       "      <td>...</td>\n",
       "      <td>...</td>\n",
       "      <td>...</td>\n",
       "      <td>...</td>\n",
       "      <td>...</td>\n",
       "    </tr>\n",
       "    <tr>\n",
       "      <th>103</th>\n",
       "      <td>ketamine hydrochloride</td>\n",
       "      <td>17-10-2020</td>\n",
       "      <td>5:30:00</td>\n",
       "      <td>11.0</td>\n",
       "      <td>17.0</td>\n",
       "    </tr>\n",
       "    <tr>\n",
       "      <th>104</th>\n",
       "      <td>ketamine hydrochloride</td>\n",
       "      <td>17-10-2020</td>\n",
       "      <td>6:30:00</td>\n",
       "      <td>12.0</td>\n",
       "      <td>18.0</td>\n",
       "    </tr>\n",
       "    <tr>\n",
       "      <th>105</th>\n",
       "      <td>ketamine hydrochloride</td>\n",
       "      <td>17-10-2020</td>\n",
       "      <td>7:30:00</td>\n",
       "      <td>12.0</td>\n",
       "      <td>19.0</td>\n",
       "    </tr>\n",
       "    <tr>\n",
       "      <th>106</th>\n",
       "      <td>ketamine hydrochloride</td>\n",
       "      <td>17-10-2020</td>\n",
       "      <td>8:30:00</td>\n",
       "      <td>11.0</td>\n",
       "      <td>20.0</td>\n",
       "    </tr>\n",
       "    <tr>\n",
       "      <th>107</th>\n",
       "      <td>ketamine hydrochloride</td>\n",
       "      <td>17-10-2020</td>\n",
       "      <td>9:30:00</td>\n",
       "      <td>12.0</td>\n",
       "      <td>21.0</td>\n",
       "    </tr>\n",
       "  </tbody>\n",
       "</table>\n",
       "<p>108 rows × 5 columns</p>\n",
       "</div>"
      ],
      "text/plain": [
       "Parameter                Drug_Name        Date      time  Pressure  \\\n",
       "0          diltiazem hydrochloride  15-10-2020  10:30:00      18.0   \n",
       "1          diltiazem hydrochloride  15-10-2020  11:30:00      19.0   \n",
       "2          diltiazem hydrochloride  15-10-2020  12:30:00      20.0   \n",
       "3          diltiazem hydrochloride  15-10-2020   1:30:00      12.0   \n",
       "4          diltiazem hydrochloride  15-10-2020   2:30:00      13.0   \n",
       "..                             ...         ...       ...       ...   \n",
       "103         ketamine hydrochloride  17-10-2020   5:30:00      11.0   \n",
       "104         ketamine hydrochloride  17-10-2020   6:30:00      12.0   \n",
       "105         ketamine hydrochloride  17-10-2020   7:30:00      12.0   \n",
       "106         ketamine hydrochloride  17-10-2020   8:30:00      11.0   \n",
       "107         ketamine hydrochloride  17-10-2020   9:30:00      12.0   \n",
       "\n",
       "Parameter  Temperature  \n",
       "0                 20.0  \n",
       "1                 20.0  \n",
       "2                 21.0  \n",
       "3                 23.0  \n",
       "4                 22.0  \n",
       "..                 ...  \n",
       "103               17.0  \n",
       "104               18.0  \n",
       "105               19.0  \n",
       "106               20.0  \n",
       "107               21.0  \n",
       "\n",
       "[108 rows x 5 columns]"
      ]
     },
     "execution_count": 107,
     "metadata": {},
     "output_type": "execute_result"
    }
   ],
   "source": [
    "df=pd.read_csv(r'C:\\Users\\28962\\Documents\\GitHub\\DSML\\7_data_analytics_and_visualisation\\7.13_pandas_5\\Pfizer_1.csv')\n",
    "df_tidy=df.melt(id_vars=['Date','Drug_Name','Parameter'],var_name='time',value_name='value')\n",
    "df_piv=df_tidy.pivot(index=['Drug_Name','Date','time'],columns='Parameter', values='value').reset_index()\n",
    "\n",
    "df_piv['Temperature'].fillna(df_piv.groupby('Drug_Name')['Temperature'].transform('mean'),inplace=True)\n",
    "\n",
    "df_piv\n"
   ]
  },
  {
   "cell_type": "markdown",
   "metadata": {},
   "source": [
    "# Bins"
   ]
  },
  {
   "cell_type": "code",
   "execution_count": 112,
   "metadata": {},
   "outputs": [
    {
     "data": {
      "application/vnd.microsoft.datawrangler.viewer.v0+json": {
       "columns": [
        {
         "name": "index",
         "rawType": "int64",
         "type": "integer"
        },
        {
         "name": "Drug_Name",
         "rawType": "object",
         "type": "string"
        },
        {
         "name": "Date",
         "rawType": "object",
         "type": "string"
        },
        {
         "name": "time",
         "rawType": "object",
         "type": "string"
        },
        {
         "name": "Pressure",
         "rawType": "float64",
         "type": "float"
        },
        {
         "name": "Temperature",
         "rawType": "float64",
         "type": "float"
        },
        {
         "name": "category",
         "rawType": "category",
         "type": "unknown"
        },
        {
         "name": "bins",
         "rawType": "category",
         "type": "unknown"
        }
       ],
       "conversionMethod": "pd.DataFrame",
       "ref": "d399df15-8bd0-40aa-bc41-570e6f59d82f",
       "rows": [
        [
         "0",
         "diltiazem hydrochloride",
         "15-10-2020",
         "10:30:00",
         "18.0",
         "20.0",
         "one",
         "(0, 25]"
        ],
        [
         "1",
         "diltiazem hydrochloride",
         "15-10-2020",
         "11:30:00",
         "19.0",
         "20.0",
         "one",
         "(0, 25]"
        ],
        [
         "2",
         "diltiazem hydrochloride",
         "15-10-2020",
         "12:30:00",
         "20.0",
         "21.0",
         "one",
         "(0, 25]"
        ],
        [
         "3",
         "diltiazem hydrochloride",
         "15-10-2020",
         "1:30:00",
         "12.0",
         "23.0",
         "one",
         "(0, 25]"
        ],
        [
         "4",
         "diltiazem hydrochloride",
         "15-10-2020",
         "2:30:00",
         "13.0",
         "22.0",
         "one",
         "(0, 25]"
        ],
        [
         "5",
         "diltiazem hydrochloride",
         "15-10-2020",
         "3:30:00",
         null,
         "24.848484848484848",
         "one",
         "(0, 25]"
        ],
        [
         "6",
         "diltiazem hydrochloride",
         "15-10-2020",
         "4:30:00",
         "11.0",
         "21.0",
         "one",
         "(0, 25]"
        ],
        [
         "7",
         "diltiazem hydrochloride",
         "15-10-2020",
         "5:30:00",
         "13.0",
         "21.0",
         "one",
         "(0, 25]"
        ],
        [
         "8",
         "diltiazem hydrochloride",
         "15-10-2020",
         "6:30:00",
         "14.0",
         "22.0",
         "one",
         "(0, 25]"
        ],
        [
         "9",
         "diltiazem hydrochloride",
         "15-10-2020",
         "7:30:00",
         "16.0",
         "23.0",
         "one",
         "(0, 25]"
        ],
        [
         "10",
         "diltiazem hydrochloride",
         "15-10-2020",
         "8:30:00",
         "16.0",
         "21.0",
         "one",
         "(0, 25]"
        ],
        [
         "11",
         "diltiazem hydrochloride",
         "15-10-2020",
         "9:30:00",
         "24.0",
         "22.0",
         "one",
         "(0, 25]"
        ],
        [
         "12",
         "diltiazem hydrochloride",
         "16-10-2020",
         "10:30:00",
         "24.0",
         "40.0",
         "two",
         "(25, 50]"
        ],
        [
         "13",
         "diltiazem hydrochloride",
         "16-10-2020",
         "11:30:00",
         null,
         "24.848484848484848",
         "one",
         "(0, 25]"
        ],
        [
         "14",
         "diltiazem hydrochloride",
         "16-10-2020",
         "12:30:00",
         "27.0",
         "42.0",
         "two",
         "(25, 50]"
        ],
        [
         "15",
         "diltiazem hydrochloride",
         "16-10-2020",
         "1:30:00",
         "18.0",
         "34.0",
         "two",
         "(25, 50]"
        ],
        [
         "16",
         "diltiazem hydrochloride",
         "16-10-2020",
         "2:30:00",
         "19.0",
         "35.0",
         "two",
         "(25, 50]"
        ],
        [
         "17",
         "diltiazem hydrochloride",
         "16-10-2020",
         "3:30:00",
         "20.0",
         "36.0",
         "two",
         "(25, 50]"
        ],
        [
         "18",
         "diltiazem hydrochloride",
         "16-10-2020",
         "4:30:00",
         "21.0",
         "36.0",
         "two",
         "(25, 50]"
        ],
        [
         "19",
         "diltiazem hydrochloride",
         "16-10-2020",
         "5:30:00",
         "22.0",
         "37.0",
         "two",
         "(25, 50]"
        ],
        [
         "20",
         "diltiazem hydrochloride",
         "16-10-2020",
         "6:30:00",
         "23.0",
         "38.0",
         "two",
         "(25, 50]"
        ],
        [
         "21",
         "diltiazem hydrochloride",
         "16-10-2020",
         "7:30:00",
         "24.0",
         "37.0",
         "two",
         "(25, 50]"
        ],
        [
         "22",
         "diltiazem hydrochloride",
         "16-10-2020",
         "8:30:00",
         "25.0",
         "38.0",
         "two",
         "(25, 50]"
        ],
        [
         "23",
         "diltiazem hydrochloride",
         "16-10-2020",
         "9:30:00",
         "25.0",
         "39.0",
         "two",
         "(25, 50]"
        ],
        [
         "24",
         "diltiazem hydrochloride",
         "17-10-2020",
         "10:30:00",
         "11.0",
         "14.0",
         "one",
         "(0, 25]"
        ],
        [
         "25",
         "diltiazem hydrochloride",
         "17-10-2020",
         "11:30:00",
         "13.0",
         "11.0",
         "one",
         "(0, 25]"
        ],
        [
         "26",
         "diltiazem hydrochloride",
         "17-10-2020",
         "12:30:00",
         "14.0",
         "10.0",
         "one",
         "(0, 25]"
        ],
        [
         "27",
         "diltiazem hydrochloride",
         "17-10-2020",
         "1:30:00",
         "3.0",
         "20.0",
         "one",
         "(0, 25]"
        ],
        [
         "28",
         "diltiazem hydrochloride",
         "17-10-2020",
         "2:30:00",
         "4.0",
         "19.0",
         "one",
         "(0, 25]"
        ],
        [
         "29",
         "diltiazem hydrochloride",
         "17-10-2020",
         "3:30:00",
         "4.0",
         "19.0",
         "one",
         "(0, 25]"
        ],
        [
         "30",
         "diltiazem hydrochloride",
         "17-10-2020",
         "4:30:00",
         "4.0",
         "18.0",
         "one",
         "(0, 25]"
        ],
        [
         "31",
         "diltiazem hydrochloride",
         "17-10-2020",
         "5:30:00",
         "6.0",
         "17.0",
         "one",
         "(0, 25]"
        ],
        [
         "32",
         "diltiazem hydrochloride",
         "17-10-2020",
         "6:30:00",
         "8.0",
         "16.0",
         "one",
         "(0, 25]"
        ],
        [
         "33",
         "diltiazem hydrochloride",
         "17-10-2020",
         "7:30:00",
         "9.0",
         "15.0",
         "one",
         "(0, 25]"
        ],
        [
         "34",
         "diltiazem hydrochloride",
         "17-10-2020",
         "8:30:00",
         null,
         "24.848484848484848",
         "one",
         "(0, 25]"
        ],
        [
         "35",
         "diltiazem hydrochloride",
         "17-10-2020",
         "9:30:00",
         "9.0",
         "13.0",
         "one",
         "(0, 25]"
        ],
        [
         "36",
         "docetaxel injection",
         "15-10-2020",
         "10:30:00",
         "26.0",
         "23.0",
         "one",
         "(0, 25]"
        ],
        [
         "37",
         "docetaxel injection",
         "15-10-2020",
         "11:30:00",
         "29.0",
         "25.0",
         "one",
         "(0, 25]"
        ],
        [
         "38",
         "docetaxel injection",
         "15-10-2020",
         "12:30:00",
         "28.0",
         "25.0",
         "one",
         "(0, 25]"
        ],
        [
         "39",
         "docetaxel injection",
         "15-10-2020",
         "1:30:00",
         null,
         "30.387096774193548",
         "two",
         "(25, 50]"
        ],
        [
         "40",
         "docetaxel injection",
         "15-10-2020",
         "2:30:00",
         "22.0",
         "17.0",
         "one",
         "(0, 25]"
        ],
        [
         "41",
         "docetaxel injection",
         "15-10-2020",
         "3:30:00",
         "22.0",
         "18.0",
         "one",
         "(0, 25]"
        ],
        [
         "42",
         "docetaxel injection",
         "15-10-2020",
         "4:30:00",
         null,
         "30.387096774193548",
         "two",
         "(25, 50]"
        ],
        [
         "43",
         "docetaxel injection",
         "15-10-2020",
         "5:30:00",
         "22.0",
         "17.0",
         "one",
         "(0, 25]"
        ],
        [
         "44",
         "docetaxel injection",
         "15-10-2020",
         "6:30:00",
         "23.0",
         "18.0",
         "one",
         "(0, 25]"
        ],
        [
         "45",
         "docetaxel injection",
         "15-10-2020",
         "7:30:00",
         null,
         "30.387096774193548",
         "two",
         "(25, 50]"
        ],
        [
         "46",
         "docetaxel injection",
         "15-10-2020",
         "8:30:00",
         null,
         "30.387096774193548",
         "two",
         "(25, 50]"
        ],
        [
         "47",
         "docetaxel injection",
         "15-10-2020",
         "9:30:00",
         "27.0",
         "23.0",
         "one",
         "(0, 25]"
        ],
        [
         "48",
         "docetaxel injection",
         "16-10-2020",
         "10:30:00",
         "28.0",
         "56.0",
         "three",
         "(50, 75]"
        ],
        [
         "49",
         "docetaxel injection",
         "16-10-2020",
         "11:30:00",
         "29.0",
         "57.0",
         "three",
         "(50, 75]"
        ]
       ],
       "shape": {
        "columns": 7,
        "rows": 108
       }
      },
      "text/html": [
       "<div>\n",
       "<style scoped>\n",
       "    .dataframe tbody tr th:only-of-type {\n",
       "        vertical-align: middle;\n",
       "    }\n",
       "\n",
       "    .dataframe tbody tr th {\n",
       "        vertical-align: top;\n",
       "    }\n",
       "\n",
       "    .dataframe thead th {\n",
       "        text-align: right;\n",
       "    }\n",
       "</style>\n",
       "<table border=\"1\" class=\"dataframe\">\n",
       "  <thead>\n",
       "    <tr style=\"text-align: right;\">\n",
       "      <th>Parameter</th>\n",
       "      <th>Drug_Name</th>\n",
       "      <th>Date</th>\n",
       "      <th>time</th>\n",
       "      <th>Pressure</th>\n",
       "      <th>Temperature</th>\n",
       "      <th>category</th>\n",
       "      <th>bins</th>\n",
       "    </tr>\n",
       "  </thead>\n",
       "  <tbody>\n",
       "    <tr>\n",
       "      <th>0</th>\n",
       "      <td>diltiazem hydrochloride</td>\n",
       "      <td>15-10-2020</td>\n",
       "      <td>10:30:00</td>\n",
       "      <td>18.0</td>\n",
       "      <td>20.0</td>\n",
       "      <td>one</td>\n",
       "      <td>(0, 25]</td>\n",
       "    </tr>\n",
       "    <tr>\n",
       "      <th>1</th>\n",
       "      <td>diltiazem hydrochloride</td>\n",
       "      <td>15-10-2020</td>\n",
       "      <td>11:30:00</td>\n",
       "      <td>19.0</td>\n",
       "      <td>20.0</td>\n",
       "      <td>one</td>\n",
       "      <td>(0, 25]</td>\n",
       "    </tr>\n",
       "    <tr>\n",
       "      <th>2</th>\n",
       "      <td>diltiazem hydrochloride</td>\n",
       "      <td>15-10-2020</td>\n",
       "      <td>12:30:00</td>\n",
       "      <td>20.0</td>\n",
       "      <td>21.0</td>\n",
       "      <td>one</td>\n",
       "      <td>(0, 25]</td>\n",
       "    </tr>\n",
       "    <tr>\n",
       "      <th>3</th>\n",
       "      <td>diltiazem hydrochloride</td>\n",
       "      <td>15-10-2020</td>\n",
       "      <td>1:30:00</td>\n",
       "      <td>12.0</td>\n",
       "      <td>23.0</td>\n",
       "      <td>one</td>\n",
       "      <td>(0, 25]</td>\n",
       "    </tr>\n",
       "    <tr>\n",
       "      <th>4</th>\n",
       "      <td>diltiazem hydrochloride</td>\n",
       "      <td>15-10-2020</td>\n",
       "      <td>2:30:00</td>\n",
       "      <td>13.0</td>\n",
       "      <td>22.0</td>\n",
       "      <td>one</td>\n",
       "      <td>(0, 25]</td>\n",
       "    </tr>\n",
       "    <tr>\n",
       "      <th>...</th>\n",
       "      <td>...</td>\n",
       "      <td>...</td>\n",
       "      <td>...</td>\n",
       "      <td>...</td>\n",
       "      <td>...</td>\n",
       "      <td>...</td>\n",
       "      <td>...</td>\n",
       "    </tr>\n",
       "    <tr>\n",
       "      <th>103</th>\n",
       "      <td>ketamine hydrochloride</td>\n",
       "      <td>17-10-2020</td>\n",
       "      <td>5:30:00</td>\n",
       "      <td>11.0</td>\n",
       "      <td>17.0</td>\n",
       "      <td>one</td>\n",
       "      <td>(0, 25]</td>\n",
       "    </tr>\n",
       "    <tr>\n",
       "      <th>104</th>\n",
       "      <td>ketamine hydrochloride</td>\n",
       "      <td>17-10-2020</td>\n",
       "      <td>6:30:00</td>\n",
       "      <td>12.0</td>\n",
       "      <td>18.0</td>\n",
       "      <td>one</td>\n",
       "      <td>(0, 25]</td>\n",
       "    </tr>\n",
       "    <tr>\n",
       "      <th>105</th>\n",
       "      <td>ketamine hydrochloride</td>\n",
       "      <td>17-10-2020</td>\n",
       "      <td>7:30:00</td>\n",
       "      <td>12.0</td>\n",
       "      <td>19.0</td>\n",
       "      <td>one</td>\n",
       "      <td>(0, 25]</td>\n",
       "    </tr>\n",
       "    <tr>\n",
       "      <th>106</th>\n",
       "      <td>ketamine hydrochloride</td>\n",
       "      <td>17-10-2020</td>\n",
       "      <td>8:30:00</td>\n",
       "      <td>11.0</td>\n",
       "      <td>20.0</td>\n",
       "      <td>one</td>\n",
       "      <td>(0, 25]</td>\n",
       "    </tr>\n",
       "    <tr>\n",
       "      <th>107</th>\n",
       "      <td>ketamine hydrochloride</td>\n",
       "      <td>17-10-2020</td>\n",
       "      <td>9:30:00</td>\n",
       "      <td>12.0</td>\n",
       "      <td>21.0</td>\n",
       "      <td>one</td>\n",
       "      <td>(0, 25]</td>\n",
       "    </tr>\n",
       "  </tbody>\n",
       "</table>\n",
       "<p>108 rows × 7 columns</p>\n",
       "</div>"
      ],
      "text/plain": [
       "Parameter                Drug_Name        Date      time  Pressure  \\\n",
       "0          diltiazem hydrochloride  15-10-2020  10:30:00      18.0   \n",
       "1          diltiazem hydrochloride  15-10-2020  11:30:00      19.0   \n",
       "2          diltiazem hydrochloride  15-10-2020  12:30:00      20.0   \n",
       "3          diltiazem hydrochloride  15-10-2020   1:30:00      12.0   \n",
       "4          diltiazem hydrochloride  15-10-2020   2:30:00      13.0   \n",
       "..                             ...         ...       ...       ...   \n",
       "103         ketamine hydrochloride  17-10-2020   5:30:00      11.0   \n",
       "104         ketamine hydrochloride  17-10-2020   6:30:00      12.0   \n",
       "105         ketamine hydrochloride  17-10-2020   7:30:00      12.0   \n",
       "106         ketamine hydrochloride  17-10-2020   8:30:00      11.0   \n",
       "107         ketamine hydrochloride  17-10-2020   9:30:00      12.0   \n",
       "\n",
       "Parameter  Temperature category     bins  \n",
       "0                 20.0      one  (0, 25]  \n",
       "1                 20.0      one  (0, 25]  \n",
       "2                 21.0      one  (0, 25]  \n",
       "3                 23.0      one  (0, 25]  \n",
       "4                 22.0      one  (0, 25]  \n",
       "..                 ...      ...      ...  \n",
       "103               17.0      one  (0, 25]  \n",
       "104               18.0      one  (0, 25]  \n",
       "105               19.0      one  (0, 25]  \n",
       "106               20.0      one  (0, 25]  \n",
       "107               21.0      one  (0, 25]  \n",
       "\n",
       "[108 rows x 7 columns]"
      ]
     },
     "execution_count": 112,
     "metadata": {},
     "output_type": "execute_result"
    }
   ],
   "source": [
    "df_piv['bins']=pd.cut(df_piv['Temperature'],\n",
    "                          bins=[0,25,50,75])\n",
    "df_piv['category']=pd.cut(df_piv['Temperature'],\n",
    "                          bins=[0,25,50,75],\n",
    "                          labels=['one','two','three'])\n",
    "df_piv"
   ]
  },
  {
   "cell_type": "markdown",
   "metadata": {},
   "source": [
    "# Create timestamp"
   ]
  },
  {
   "cell_type": "code",
   "execution_count": 127,
   "metadata": {},
   "outputs": [
    {
     "name": "stderr",
     "output_type": "stream",
     "text": [
      "C:\\Users\\28962\\AppData\\Local\\Temp\\ipykernel_11812\\417868814.py:1: UserWarning: Parsing dates in %d-%m-%Y %H:%M:%S format when dayfirst=False (the default) was specified. Pass `dayfirst=True` or specify a format to silence this warning.\n",
      "  df_piv[\"timestamp\"]=pd.to_datetime(df_piv[\"Date\"] + \" \" + df_piv[\"time\"])\n"
     ]
    },
    {
     "data": {
      "application/vnd.microsoft.datawrangler.viewer.v0+json": {
       "columns": [
        {
         "name": "index",
         "rawType": "int64",
         "type": "integer"
        },
        {
         "name": "Drug_Name",
         "rawType": "object",
         "type": "string"
        },
        {
         "name": "Date",
         "rawType": "object",
         "type": "string"
        },
        {
         "name": "time",
         "rawType": "object",
         "type": "string"
        },
        {
         "name": "Pressure",
         "rawType": "float64",
         "type": "float"
        },
        {
         "name": "Temperature",
         "rawType": "float64",
         "type": "float"
        },
        {
         "name": "category",
         "rawType": "category",
         "type": "unknown"
        },
        {
         "name": "bins",
         "rawType": "category",
         "type": "unknown"
        },
        {
         "name": "timestamp",
         "rawType": "datetime64[ns]",
         "type": "datetime"
        }
       ],
       "conversionMethod": "pd.DataFrame",
       "ref": "43de3323-b0bf-462b-8593-ac976aeeefe9",
       "rows": [
        [
         "0",
         "diltiazem hydrochloride",
         "15-10-2020",
         "10:30:00",
         "18.0",
         "20.0",
         "one",
         "(0, 25]",
         "2020-10-15 10:30:00"
        ],
        [
         "1",
         "diltiazem hydrochloride",
         "15-10-2020",
         "11:30:00",
         "19.0",
         "20.0",
         "one",
         "(0, 25]",
         "2020-10-15 11:30:00"
        ],
        [
         "2",
         "diltiazem hydrochloride",
         "15-10-2020",
         "12:30:00",
         "20.0",
         "21.0",
         "one",
         "(0, 25]",
         "2020-10-15 12:30:00"
        ],
        [
         "3",
         "diltiazem hydrochloride",
         "15-10-2020",
         "1:30:00",
         "12.0",
         "23.0",
         "one",
         "(0, 25]",
         "2020-10-15 01:30:00"
        ],
        [
         "4",
         "diltiazem hydrochloride",
         "15-10-2020",
         "2:30:00",
         "13.0",
         "22.0",
         "one",
         "(0, 25]",
         "2020-10-15 02:30:00"
        ],
        [
         "5",
         "diltiazem hydrochloride",
         "15-10-2020",
         "3:30:00",
         null,
         "24.848484848484848",
         "one",
         "(0, 25]",
         "2020-10-15 03:30:00"
        ],
        [
         "6",
         "diltiazem hydrochloride",
         "15-10-2020",
         "4:30:00",
         "11.0",
         "21.0",
         "one",
         "(0, 25]",
         "2020-10-15 04:30:00"
        ],
        [
         "7",
         "diltiazem hydrochloride",
         "15-10-2020",
         "5:30:00",
         "13.0",
         "21.0",
         "one",
         "(0, 25]",
         "2020-10-15 05:30:00"
        ],
        [
         "8",
         "diltiazem hydrochloride",
         "15-10-2020",
         "6:30:00",
         "14.0",
         "22.0",
         "one",
         "(0, 25]",
         "2020-10-15 06:30:00"
        ],
        [
         "9",
         "diltiazem hydrochloride",
         "15-10-2020",
         "7:30:00",
         "16.0",
         "23.0",
         "one",
         "(0, 25]",
         "2020-10-15 07:30:00"
        ],
        [
         "10",
         "diltiazem hydrochloride",
         "15-10-2020",
         "8:30:00",
         "16.0",
         "21.0",
         "one",
         "(0, 25]",
         "2020-10-15 08:30:00"
        ],
        [
         "11",
         "diltiazem hydrochloride",
         "15-10-2020",
         "9:30:00",
         "24.0",
         "22.0",
         "one",
         "(0, 25]",
         "2020-10-15 09:30:00"
        ],
        [
         "12",
         "diltiazem hydrochloride",
         "16-10-2020",
         "10:30:00",
         "24.0",
         "40.0",
         "two",
         "(25, 50]",
         "2020-10-16 10:30:00"
        ],
        [
         "13",
         "diltiazem hydrochloride",
         "16-10-2020",
         "11:30:00",
         null,
         "24.848484848484848",
         "one",
         "(0, 25]",
         "2020-10-16 11:30:00"
        ],
        [
         "14",
         "diltiazem hydrochloride",
         "16-10-2020",
         "12:30:00",
         "27.0",
         "42.0",
         "two",
         "(25, 50]",
         "2020-10-16 12:30:00"
        ],
        [
         "15",
         "diltiazem hydrochloride",
         "16-10-2020",
         "1:30:00",
         "18.0",
         "34.0",
         "two",
         "(25, 50]",
         "2020-10-16 01:30:00"
        ],
        [
         "16",
         "diltiazem hydrochloride",
         "16-10-2020",
         "2:30:00",
         "19.0",
         "35.0",
         "two",
         "(25, 50]",
         "2020-10-16 02:30:00"
        ],
        [
         "17",
         "diltiazem hydrochloride",
         "16-10-2020",
         "3:30:00",
         "20.0",
         "36.0",
         "two",
         "(25, 50]",
         "2020-10-16 03:30:00"
        ],
        [
         "18",
         "diltiazem hydrochloride",
         "16-10-2020",
         "4:30:00",
         "21.0",
         "36.0",
         "two",
         "(25, 50]",
         "2020-10-16 04:30:00"
        ],
        [
         "19",
         "diltiazem hydrochloride",
         "16-10-2020",
         "5:30:00",
         "22.0",
         "37.0",
         "two",
         "(25, 50]",
         "2020-10-16 05:30:00"
        ],
        [
         "20",
         "diltiazem hydrochloride",
         "16-10-2020",
         "6:30:00",
         "23.0",
         "38.0",
         "two",
         "(25, 50]",
         "2020-10-16 06:30:00"
        ],
        [
         "21",
         "diltiazem hydrochloride",
         "16-10-2020",
         "7:30:00",
         "24.0",
         "37.0",
         "two",
         "(25, 50]",
         "2020-10-16 07:30:00"
        ],
        [
         "22",
         "diltiazem hydrochloride",
         "16-10-2020",
         "8:30:00",
         "25.0",
         "38.0",
         "two",
         "(25, 50]",
         "2020-10-16 08:30:00"
        ],
        [
         "23",
         "diltiazem hydrochloride",
         "16-10-2020",
         "9:30:00",
         "25.0",
         "39.0",
         "two",
         "(25, 50]",
         "2020-10-16 09:30:00"
        ],
        [
         "24",
         "diltiazem hydrochloride",
         "17-10-2020",
         "10:30:00",
         "11.0",
         "14.0",
         "one",
         "(0, 25]",
         "2020-10-17 10:30:00"
        ],
        [
         "25",
         "diltiazem hydrochloride",
         "17-10-2020",
         "11:30:00",
         "13.0",
         "11.0",
         "one",
         "(0, 25]",
         "2020-10-17 11:30:00"
        ],
        [
         "26",
         "diltiazem hydrochloride",
         "17-10-2020",
         "12:30:00",
         "14.0",
         "10.0",
         "one",
         "(0, 25]",
         "2020-10-17 12:30:00"
        ],
        [
         "27",
         "diltiazem hydrochloride",
         "17-10-2020",
         "1:30:00",
         "3.0",
         "20.0",
         "one",
         "(0, 25]",
         "2020-10-17 01:30:00"
        ],
        [
         "28",
         "diltiazem hydrochloride",
         "17-10-2020",
         "2:30:00",
         "4.0",
         "19.0",
         "one",
         "(0, 25]",
         "2020-10-17 02:30:00"
        ],
        [
         "29",
         "diltiazem hydrochloride",
         "17-10-2020",
         "3:30:00",
         "4.0",
         "19.0",
         "one",
         "(0, 25]",
         "2020-10-17 03:30:00"
        ],
        [
         "30",
         "diltiazem hydrochloride",
         "17-10-2020",
         "4:30:00",
         "4.0",
         "18.0",
         "one",
         "(0, 25]",
         "2020-10-17 04:30:00"
        ],
        [
         "31",
         "diltiazem hydrochloride",
         "17-10-2020",
         "5:30:00",
         "6.0",
         "17.0",
         "one",
         "(0, 25]",
         "2020-10-17 05:30:00"
        ],
        [
         "32",
         "diltiazem hydrochloride",
         "17-10-2020",
         "6:30:00",
         "8.0",
         "16.0",
         "one",
         "(0, 25]",
         "2020-10-17 06:30:00"
        ],
        [
         "33",
         "diltiazem hydrochloride",
         "17-10-2020",
         "7:30:00",
         "9.0",
         "15.0",
         "one",
         "(0, 25]",
         "2020-10-17 07:30:00"
        ],
        [
         "34",
         "diltiazem hydrochloride",
         "17-10-2020",
         "8:30:00",
         null,
         "24.848484848484848",
         "one",
         "(0, 25]",
         "2020-10-17 08:30:00"
        ],
        [
         "35",
         "diltiazem hydrochloride",
         "17-10-2020",
         "9:30:00",
         "9.0",
         "13.0",
         "one",
         "(0, 25]",
         "2020-10-17 09:30:00"
        ],
        [
         "36",
         "docetaxel injection",
         "15-10-2020",
         "10:30:00",
         "26.0",
         "23.0",
         "one",
         "(0, 25]",
         "2020-10-15 10:30:00"
        ],
        [
         "37",
         "docetaxel injection",
         "15-10-2020",
         "11:30:00",
         "29.0",
         "25.0",
         "one",
         "(0, 25]",
         "2020-10-15 11:30:00"
        ],
        [
         "38",
         "docetaxel injection",
         "15-10-2020",
         "12:30:00",
         "28.0",
         "25.0",
         "one",
         "(0, 25]",
         "2020-10-15 12:30:00"
        ],
        [
         "39",
         "docetaxel injection",
         "15-10-2020",
         "1:30:00",
         null,
         "30.387096774193548",
         "two",
         "(25, 50]",
         "2020-10-15 01:30:00"
        ],
        [
         "40",
         "docetaxel injection",
         "15-10-2020",
         "2:30:00",
         "22.0",
         "17.0",
         "one",
         "(0, 25]",
         "2020-10-15 02:30:00"
        ],
        [
         "41",
         "docetaxel injection",
         "15-10-2020",
         "3:30:00",
         "22.0",
         "18.0",
         "one",
         "(0, 25]",
         "2020-10-15 03:30:00"
        ],
        [
         "42",
         "docetaxel injection",
         "15-10-2020",
         "4:30:00",
         null,
         "30.387096774193548",
         "two",
         "(25, 50]",
         "2020-10-15 04:30:00"
        ],
        [
         "43",
         "docetaxel injection",
         "15-10-2020",
         "5:30:00",
         "22.0",
         "17.0",
         "one",
         "(0, 25]",
         "2020-10-15 05:30:00"
        ],
        [
         "44",
         "docetaxel injection",
         "15-10-2020",
         "6:30:00",
         "23.0",
         "18.0",
         "one",
         "(0, 25]",
         "2020-10-15 06:30:00"
        ],
        [
         "45",
         "docetaxel injection",
         "15-10-2020",
         "7:30:00",
         null,
         "30.387096774193548",
         "two",
         "(25, 50]",
         "2020-10-15 07:30:00"
        ],
        [
         "46",
         "docetaxel injection",
         "15-10-2020",
         "8:30:00",
         null,
         "30.387096774193548",
         "two",
         "(25, 50]",
         "2020-10-15 08:30:00"
        ],
        [
         "47",
         "docetaxel injection",
         "15-10-2020",
         "9:30:00",
         "27.0",
         "23.0",
         "one",
         "(0, 25]",
         "2020-10-15 09:30:00"
        ],
        [
         "48",
         "docetaxel injection",
         "16-10-2020",
         "10:30:00",
         "28.0",
         "56.0",
         "three",
         "(50, 75]",
         "2020-10-16 10:30:00"
        ],
        [
         "49",
         "docetaxel injection",
         "16-10-2020",
         "11:30:00",
         "29.0",
         "57.0",
         "three",
         "(50, 75]",
         "2020-10-16 11:30:00"
        ]
       ],
       "shape": {
        "columns": 8,
        "rows": 108
       }
      },
      "text/html": [
       "<div>\n",
       "<style scoped>\n",
       "    .dataframe tbody tr th:only-of-type {\n",
       "        vertical-align: middle;\n",
       "    }\n",
       "\n",
       "    .dataframe tbody tr th {\n",
       "        vertical-align: top;\n",
       "    }\n",
       "\n",
       "    .dataframe thead th {\n",
       "        text-align: right;\n",
       "    }\n",
       "</style>\n",
       "<table border=\"1\" class=\"dataframe\">\n",
       "  <thead>\n",
       "    <tr style=\"text-align: right;\">\n",
       "      <th>Parameter</th>\n",
       "      <th>Drug_Name</th>\n",
       "      <th>Date</th>\n",
       "      <th>time</th>\n",
       "      <th>Pressure</th>\n",
       "      <th>Temperature</th>\n",
       "      <th>category</th>\n",
       "      <th>bins</th>\n",
       "      <th>timestamp</th>\n",
       "    </tr>\n",
       "  </thead>\n",
       "  <tbody>\n",
       "    <tr>\n",
       "      <th>0</th>\n",
       "      <td>diltiazem hydrochloride</td>\n",
       "      <td>15-10-2020</td>\n",
       "      <td>10:30:00</td>\n",
       "      <td>18.0</td>\n",
       "      <td>20.0</td>\n",
       "      <td>one</td>\n",
       "      <td>(0, 25]</td>\n",
       "      <td>2020-10-15 10:30:00</td>\n",
       "    </tr>\n",
       "    <tr>\n",
       "      <th>1</th>\n",
       "      <td>diltiazem hydrochloride</td>\n",
       "      <td>15-10-2020</td>\n",
       "      <td>11:30:00</td>\n",
       "      <td>19.0</td>\n",
       "      <td>20.0</td>\n",
       "      <td>one</td>\n",
       "      <td>(0, 25]</td>\n",
       "      <td>2020-10-15 11:30:00</td>\n",
       "    </tr>\n",
       "    <tr>\n",
       "      <th>2</th>\n",
       "      <td>diltiazem hydrochloride</td>\n",
       "      <td>15-10-2020</td>\n",
       "      <td>12:30:00</td>\n",
       "      <td>20.0</td>\n",
       "      <td>21.0</td>\n",
       "      <td>one</td>\n",
       "      <td>(0, 25]</td>\n",
       "      <td>2020-10-15 12:30:00</td>\n",
       "    </tr>\n",
       "    <tr>\n",
       "      <th>3</th>\n",
       "      <td>diltiazem hydrochloride</td>\n",
       "      <td>15-10-2020</td>\n",
       "      <td>1:30:00</td>\n",
       "      <td>12.0</td>\n",
       "      <td>23.0</td>\n",
       "      <td>one</td>\n",
       "      <td>(0, 25]</td>\n",
       "      <td>2020-10-15 01:30:00</td>\n",
       "    </tr>\n",
       "    <tr>\n",
       "      <th>4</th>\n",
       "      <td>diltiazem hydrochloride</td>\n",
       "      <td>15-10-2020</td>\n",
       "      <td>2:30:00</td>\n",
       "      <td>13.0</td>\n",
       "      <td>22.0</td>\n",
       "      <td>one</td>\n",
       "      <td>(0, 25]</td>\n",
       "      <td>2020-10-15 02:30:00</td>\n",
       "    </tr>\n",
       "    <tr>\n",
       "      <th>...</th>\n",
       "      <td>...</td>\n",
       "      <td>...</td>\n",
       "      <td>...</td>\n",
       "      <td>...</td>\n",
       "      <td>...</td>\n",
       "      <td>...</td>\n",
       "      <td>...</td>\n",
       "      <td>...</td>\n",
       "    </tr>\n",
       "    <tr>\n",
       "      <th>103</th>\n",
       "      <td>ketamine hydrochloride</td>\n",
       "      <td>17-10-2020</td>\n",
       "      <td>5:30:00</td>\n",
       "      <td>11.0</td>\n",
       "      <td>17.0</td>\n",
       "      <td>one</td>\n",
       "      <td>(0, 25]</td>\n",
       "      <td>2020-10-17 05:30:00</td>\n",
       "    </tr>\n",
       "    <tr>\n",
       "      <th>104</th>\n",
       "      <td>ketamine hydrochloride</td>\n",
       "      <td>17-10-2020</td>\n",
       "      <td>6:30:00</td>\n",
       "      <td>12.0</td>\n",
       "      <td>18.0</td>\n",
       "      <td>one</td>\n",
       "      <td>(0, 25]</td>\n",
       "      <td>2020-10-17 06:30:00</td>\n",
       "    </tr>\n",
       "    <tr>\n",
       "      <th>105</th>\n",
       "      <td>ketamine hydrochloride</td>\n",
       "      <td>17-10-2020</td>\n",
       "      <td>7:30:00</td>\n",
       "      <td>12.0</td>\n",
       "      <td>19.0</td>\n",
       "      <td>one</td>\n",
       "      <td>(0, 25]</td>\n",
       "      <td>2020-10-17 07:30:00</td>\n",
       "    </tr>\n",
       "    <tr>\n",
       "      <th>106</th>\n",
       "      <td>ketamine hydrochloride</td>\n",
       "      <td>17-10-2020</td>\n",
       "      <td>8:30:00</td>\n",
       "      <td>11.0</td>\n",
       "      <td>20.0</td>\n",
       "      <td>one</td>\n",
       "      <td>(0, 25]</td>\n",
       "      <td>2020-10-17 08:30:00</td>\n",
       "    </tr>\n",
       "    <tr>\n",
       "      <th>107</th>\n",
       "      <td>ketamine hydrochloride</td>\n",
       "      <td>17-10-2020</td>\n",
       "      <td>9:30:00</td>\n",
       "      <td>12.0</td>\n",
       "      <td>21.0</td>\n",
       "      <td>one</td>\n",
       "      <td>(0, 25]</td>\n",
       "      <td>2020-10-17 09:30:00</td>\n",
       "    </tr>\n",
       "  </tbody>\n",
       "</table>\n",
       "<p>108 rows × 8 columns</p>\n",
       "</div>"
      ],
      "text/plain": [
       "Parameter                Drug_Name        Date      time  Pressure  \\\n",
       "0          diltiazem hydrochloride  15-10-2020  10:30:00      18.0   \n",
       "1          diltiazem hydrochloride  15-10-2020  11:30:00      19.0   \n",
       "2          diltiazem hydrochloride  15-10-2020  12:30:00      20.0   \n",
       "3          diltiazem hydrochloride  15-10-2020   1:30:00      12.0   \n",
       "4          diltiazem hydrochloride  15-10-2020   2:30:00      13.0   \n",
       "..                             ...         ...       ...       ...   \n",
       "103         ketamine hydrochloride  17-10-2020   5:30:00      11.0   \n",
       "104         ketamine hydrochloride  17-10-2020   6:30:00      12.0   \n",
       "105         ketamine hydrochloride  17-10-2020   7:30:00      12.0   \n",
       "106         ketamine hydrochloride  17-10-2020   8:30:00      11.0   \n",
       "107         ketamine hydrochloride  17-10-2020   9:30:00      12.0   \n",
       "\n",
       "Parameter  Temperature category     bins           timestamp  \n",
       "0                 20.0      one  (0, 25] 2020-10-15 10:30:00  \n",
       "1                 20.0      one  (0, 25] 2020-10-15 11:30:00  \n",
       "2                 21.0      one  (0, 25] 2020-10-15 12:30:00  \n",
       "3                 23.0      one  (0, 25] 2020-10-15 01:30:00  \n",
       "4                 22.0      one  (0, 25] 2020-10-15 02:30:00  \n",
       "..                 ...      ...      ...                 ...  \n",
       "103               17.0      one  (0, 25] 2020-10-17 05:30:00  \n",
       "104               18.0      one  (0, 25] 2020-10-17 06:30:00  \n",
       "105               19.0      one  (0, 25] 2020-10-17 07:30:00  \n",
       "106               20.0      one  (0, 25] 2020-10-17 08:30:00  \n",
       "107               21.0      one  (0, 25] 2020-10-17 09:30:00  \n",
       "\n",
       "[108 rows x 8 columns]"
      ]
     },
     "execution_count": 127,
     "metadata": {},
     "output_type": "execute_result"
    }
   ],
   "source": [
    "df_piv[\"timestamp\"]=pd.to_datetime(df_piv[\"Date\"] + \" \" + df_piv[\"time\"])\n",
    "df_piv"
   ]
  }
 ],
 "metadata": {
  "kernelspec": {
   "display_name": "Python 3",
   "language": "python",
   "name": "python3"
  },
  "language_info": {
   "codemirror_mode": {
    "name": "ipython",
    "version": 3
   },
   "file_extension": ".py",
   "mimetype": "text/x-python",
   "name": "python",
   "nbconvert_exporter": "python",
   "pygments_lexer": "ipython3",
   "version": "3.12.6"
  }
 },
 "nbformat": 4,
 "nbformat_minor": 2
}
