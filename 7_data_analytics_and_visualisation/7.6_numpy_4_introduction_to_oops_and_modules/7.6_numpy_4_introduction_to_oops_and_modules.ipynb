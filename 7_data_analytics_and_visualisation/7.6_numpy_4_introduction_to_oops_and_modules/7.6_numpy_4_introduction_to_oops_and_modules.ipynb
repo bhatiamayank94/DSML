{
 "cells": [
  {
   "cell_type": "code",
   "execution_count": null,
   "metadata": {},
   "outputs": [],
   "source": [
    "'''\n",
    "by default every class passes an argument that points to itself\n",
    "\n",
    "'''"
   ]
  },
  {
   "cell_type": "code",
   "execution_count": 2,
   "metadata": {},
   "outputs": [],
   "source": [
    "import numpy as n"
   ]
  },
  {
   "cell_type": "code",
   "execution_count": 4,
   "metadata": {},
   "outputs": [
    {
     "name": "stdout",
     "output_type": "stream",
     "text": [
      "dps\n",
      "dps\n",
      "dps\n",
      "dps\n",
      "dps\n",
      "Christ king\n"
     ]
    }
   ],
   "source": [
    "# class and object variables\n",
    "class student:\n",
    "    school = 'dps'\n",
    "\n",
    "    def __init__(self,name,age):\n",
    "        self.name=name\n",
    "        self.age=age\n",
    "\n",
    "a=student('mayank',25)\n",
    "b=student('pankaj',35)\n",
    "\n",
    "print(student.school)\n",
    "print(a.school)\n",
    "print(b.school)\n",
    "\n",
    "b.school='Christ king'\n",
    "\n",
    "print(student.school)\n",
    "print(a.school)\n",
    "print(b.school)\n",
    "\n",
    "# NOTICE HOW ONLY B OBJECT'S SCHOOL IS GETTING CHANGED AND NOT OBJECT VARIABLE. THIS IS BECAUSE OBJECT VARIABLE IS UNMUTABLE"
   ]
  },
  {
   "cell_type": "code",
   "execution_count": 8,
   "metadata": {},
   "outputs": [
    {
     "name": "stdout",
     "output_type": "stream",
     "text": [
      "[]\n",
      "[]\n",
      "[]\n",
      "['flip']\n",
      "['flip']\n",
      "['flip']\n"
     ]
    }
   ],
   "source": [
    "class dogs:\n",
    "    tricks=[]\n",
    "\n",
    "    def __init__(self,name):\n",
    "        self.type=type\n",
    "        self.name=name\n",
    "    \n",
    "    def trick(self,trick):\n",
    "        self.tricks.append(trick)\n",
    "\n",
    "c=dogs(\"tommy\")\n",
    "d=dogs(\"Jayanti\")\n",
    "\n",
    "print(dogs.tricks)\n",
    "print(c.tricks)\n",
    "print(d.tricks)\n",
    "\n",
    "c.trick('flip')\n",
    "\n",
    "print(dogs.tricks)\n",
    "print(c.tricks)\n",
    "print(d.tricks)\n",
    "\n",
    "\n",
    "# NOTICE HERE ALL VARIABLES (C,D AND CLASS) ARE GETTING UPDATED. tHIS IS BECAUSE LISTS ARE MUTABLE\n",
    "\n"
   ]
  },
  {
   "cell_type": "code",
   "execution_count": 8,
   "metadata": {},
   "outputs": [
    {
     "data": {
      "text/plain": [
       "True"
      ]
     },
     "execution_count": 8,
     "metadata": {},
     "output_type": "execute_result"
    }
   ],
   "source": [
    "'''\n",
    "Q4 \n",
    "'''\n",
    "\n",
    "arr = np.array([1,2,3,0,-2,4])\n",
    "arr2 = arr*1\n",
    "arr3 = arr[:]\n",
    "arr4 = arr[arr > 0]\n",
    "arr5 = arr.reshape(2,3)\n",
    "\n",
    "np.shares_memory(arr,arr5)"
   ]
  },
  {
   "cell_type": "code",
   "execution_count": 2,
   "metadata": {},
   "outputs": [
    {
     "name": "stdout",
     "output_type": "stream",
     "text": [
      "[array([[0, 1, 2, 3]]), array([[4, 5, 6, 7]]), array([[ 8,  9, 10, 11]]), array([[12, 13, 14, 15]])]\n"
     ]
    }
   ],
   "source": [
    "import numpy as np\n",
    "arr = np.arange(16).reshape(4,4)  \n",
    "print(np.split(arr,4))\n",
    "a,b,c,d=np.split(arr,4)"
   ]
  },
  {
   "cell_type": "code",
   "execution_count": 10,
   "metadata": {},
   "outputs": [
    {
     "data": {
      "text/plain": [
       "[array([[0, 1, 2, 3]]),\n",
       " array([[4, 5, 6, 7]]),\n",
       " array([[ 8,  9, 10, 11]]),\n",
       " array([[12, 13, 14, 15]])]"
      ]
     },
     "execution_count": 10,
     "metadata": {},
     "output_type": "execute_result"
    }
   ],
   "source": [
    "np.split(arr,4)"
   ]
  }
 ],
 "metadata": {
  "kernelspec": {
   "display_name": "Python 3",
   "language": "python",
   "name": "python3"
  },
  "language_info": {
   "codemirror_mode": {
    "name": "ipython",
    "version": 3
   },
   "file_extension": ".py",
   "mimetype": "text/x-python",
   "name": "python",
   "nbconvert_exporter": "python",
   "pygments_lexer": "ipython3",
   "version": "3.12.6"
  }
 },
 "nbformat": 4,
 "nbformat_minor": 2
}
