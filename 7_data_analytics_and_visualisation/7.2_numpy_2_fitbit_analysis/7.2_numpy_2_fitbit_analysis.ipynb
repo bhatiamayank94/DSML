{
 "cells": [
  {
   "cell_type": "code",
   "execution_count": 6,
   "metadata": {},
   "outputs": [
    {
     "name": "stdout",
     "output_type": "stream",
     "text": [
      "[3 6 5]\n"
     ]
    }
   ],
   "source": [
    "# Extract multiple elements from an array using index\n",
    "\n",
    "import numpy as np\n",
    "a=np.array([1,2,3,4,5,6])\n",
    "print(a[[2,-1,-2]])"
   ]
  },
  {
   "cell_type": "code",
   "execution_count": 9,
   "metadata": {},
   "outputs": [
    {
     "name": "stdout",
     "output_type": "stream",
     "text": [
      "[4 3 2]\n",
      "[]\n"
     ]
    }
   ],
   "source": [
    "# np array slicing \n",
    "b=np.array([1,2,3,4,5])\n",
    "print(b[3:-5:-1])\n",
    "\n",
    "print (b[1:3:-1]) # Note this emty array because there is no direction to move towards. In case of list, this would have given error"
   ]
  },
  {
   "cell_type": "code",
   "execution_count": 14,
   "metadata": {},
   "outputs": [
    {
     "name": "stdout",
     "output_type": "stream",
     "text": [
      "[100 111 222   4   5   6   7   8   9]\n",
      "[1000 1000 1000    4    5    6    7]\n"
     ]
    }
   ],
   "source": [
    "# Assignment/broadcasting - from array and from single element\n",
    "\n",
    "c=np.array([1,2,3,4,5,6,7,8,9])\n",
    "c[0:3]=[100,111,222]\n",
    "print(c)\n",
    "\n",
    "d=np.array([1,2,3,4,5,6,7])\n",
    "d[0:3]=1000\n",
    "print(d)"
   ]
  },
  {
   "cell_type": "code",
   "execution_count": 15,
   "metadata": {},
   "outputs": [
    {
     "name": "stdout",
     "output_type": "stream",
     "text": [
      "[4 5 6]\n"
     ]
    }
   ],
   "source": [
    "# Masking/fancy slicing\n",
    "e=np.array([1,2,3,4,5,6])\n",
    "print(e[e>3])"
   ]
  },
  {
   "cell_type": "code",
   "execution_count": 16,
   "metadata": {},
   "outputs": [
    {
     "name": "stdout",
     "output_type": "stream",
     "text": [
      "[  1   2 100 100 100 100]\n"
     ]
    }
   ],
   "source": [
    "# Assignment along with masking\n",
    "\n",
    "f=np.array([1,2,3,4,5,6])\n",
    "f[f>2]=100\n",
    "print(f)"
   ]
  },
  {
   "cell_type": "code",
   "execution_count": 18,
   "metadata": {},
   "outputs": [
    {
     "name": "stdout",
     "output_type": "stream",
     "text": [
      "[1 3 5 7]\n"
     ]
    }
   ],
   "source": [
    "# Negative masking with tilda\n",
    "g=np.array([1,2,3,4,5,6,7])\n",
    "print(g[~g%2==0])"
   ]
  },
  {
   "cell_type": "code",
   "execution_count": 20,
   "metadata": {},
   "outputs": [
    {
     "name": "stdout",
     "output_type": "stream",
     "text": [
      "[3 4]\n"
     ]
    }
   ],
   "source": [
    "# Multiple masking - dont use 'and' but instead &. That's because 'and' performs operation between objects whereas '&' performs element wise operation bw 2 arrays\n",
    "\n",
    "h=np.array([1,2,3,4,5,6])\n",
    "print(h[(h>2)&(h<5)])"
   ]
  },
  {
   "cell_type": "code",
   "execution_count": 32,
   "metadata": {},
   "outputs": [
    {
     "name": "stdout",
     "output_type": "stream",
     "text": [
      "4.0\n",
      "28\n",
      "[2 1 5 4 3 6 7]\n",
      "[1 2 3 4 5 6 7]\n"
     ]
    }
   ],
   "source": [
    "# Mathematical functions like mean, sum , sort\n",
    "\n",
    "i=np.array([2,1,5,4,3,6,7])\n",
    "print(np.mean(i))\n",
    "print(np.sum(i))\n",
    "j=np.sort(i)\n",
    "print(i)\n",
    "print(j)"
   ]
  },
  {
   "cell_type": "code",
   "execution_count": 39,
   "metadata": {},
   "outputs": [
    {
     "name": "stdout",
     "output_type": "stream",
     "text": [
      "7\n",
      "7\n"
     ]
    }
   ],
   "source": [
    "# to get number of elements always use shape instead of length. Because shape is meta data of an array where a count is an aggregate method\n",
    "\n",
    "k=np.array([1,2,3,4,5,6,7])\n",
    "print(k.shape[0])\n",
    "print(len(k))"
   ]
  },
  {
   "cell_type": "code",
   "execution_count": null,
   "metadata": {},
   "outputs": [
    {
     "name": "stderr",
     "output_type": "stream",
     "text": [
      "Downloading...\n",
      "From: https://drive.google.com/uc?id=1c0ClC8SrPwJq5rrkyMKyPn80nyHcFikK\n",
      "To: c:\\Users\\28962\\Documents\\GitHub\\DSML\\7_data_analytics_and_visualisation\\7.2_numpy_2_fitbit_analysis\\survey.txt\n",
      "\n",
      "  0%|          | 0.00/2.55k [00:00<?, ?B/s]\n",
      "100%|██████████| 2.55k/2.55k [00:00<?, ?B/s]\n"
     ]
    }
   ],
   "source": [
    "# Gdown: to download data from google drive \n",
    "\n",
    "!gdown 1c0ClC8SrPwJq5rrkyMKyPn80nyHcFikK"
   ]
  },
  {
   "cell_type": "code",
   "execution_count": 43,
   "metadata": {},
   "outputs": [
    {
     "data": {
      "text/plain": [
       "array([ 7., 10.,  5., ...,  5.,  9., 10.])"
      ]
     },
     "execution_count": 43,
     "metadata": {},
     "output_type": "execute_result"
    }
   ],
   "source": [
    "l=np.loadtxt(r'c:\\Users\\28962\\Documents\\GitHub\\DSML\\7_data_analytics_and_visualisation\\7.2_numpy_2_fitbit_analysis\\survey.txt')"
   ]
  }
 ],
 "metadata": {
  "kernelspec": {
   "display_name": "Python 3",
   "language": "python",
   "name": "python3"
  },
  "language_info": {
   "codemirror_mode": {
    "name": "ipython",
    "version": 3
   },
   "file_extension": ".py",
   "mimetype": "text/x-python",
   "name": "python",
   "nbconvert_exporter": "python",
   "pygments_lexer": "ipython3",
   "version": "3.12.6"
  }
 },
 "nbformat": 4,
 "nbformat_minor": 2
}
