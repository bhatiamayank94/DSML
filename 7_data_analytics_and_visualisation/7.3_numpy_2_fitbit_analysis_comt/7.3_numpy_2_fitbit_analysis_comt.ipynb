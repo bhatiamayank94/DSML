{
 "cells": [
  {
   "cell_type": "code",
   "execution_count": 42,
   "metadata": {},
   "outputs": [
    {
     "name": "stdout",
     "output_type": "stream",
     "text": [
      "[ 7. 10.  5. ...  5.  9. 10.] ['mid' 'Promoters' 'mid' ... 'mid' 'Promoters' 'Promoters']\n"
     ]
    },
    {
     "name": "stderr",
     "output_type": "stream",
     "text": [
      "Downloading...\n",
      "From: https://drive.google.com/uc?id=1c0ClC8SrPwJq5rrkyMKyPn80nyHcFikK\n",
      "To: c:\\Users\\28962\\Documents\\GitHub\\DSML\\7_data_analytics_and_visualisation\\7.3_numpy_2_fitbit_analysis_comt\\survey.txt\n",
      "\n",
      "  0%|          | 0.00/2.55k [00:00<?, ?B/s]\n",
      "100%|██████████| 2.55k/2.55k [00:00<?, ?B/s]\n"
     ]
    }
   ],
   "source": [
    "# Empty array: Important to mention dtype and shape\n",
    "\n",
    "import numpy as np\n",
    "!gdown 1c0ClC8SrPwJq5rrkyMKyPn80nyHcFikK\n",
    "a=np.loadtxt(r'c:\\Users\\28962\\Documents\\GitHub\\DSML\\7_data_analytics_and_visualisation\\7.3_numpy_2_fitbit_analysis_comt\\survey.txt')\n",
    "b=np.empty(shape=[a.shape[0],],dtype='U25')\n",
    "b[a>7]='Promoters'\n",
    "b[a<5]='Detractors'\n",
    "b[(a>=5)&(a<=7)]='mid'\n",
    "print(a,b)"
   ]
  },
  {
   "cell_type": "code",
   "execution_count": 40,
   "metadata": {},
   "outputs": [],
   "source": [
    "# Unique values with return counts and make a dictionary for these\n",
    "\n",
    "c=np.array([1,1,2,2,2,2,3,4,5,6,6,6])\n",
    "d=np.unique(c,return_counts=True)\n",
    "dict={}\n",
    "dict[d[0][0]]=d[1][0]\n",
    "dict[d[0][1]]=d[1][1]\n",
    "dict[d[0][2]]=d[1][2]"
   ]
  },
  {
   "cell_type": "code",
   "execution_count": 52,
   "metadata": {},
   "outputs": [
    {
     "name": "stdout",
     "output_type": "stream",
     "text": [
      "[[ 0  1  2  3]\n",
      " [ 4  5  6  7]\n",
      " [ 8  9 10 11]]\n",
      "[[4 5]\n",
      " [8 9]]\n",
      "3\n"
     ]
    }
   ],
   "source": [
    "# slice, reshape of 2-d array and len of 2d arry will give number of 1st dimension elements\n",
    "\n",
    "e=np.arange(12).reshape(3,4)\n",
    "print(e)\n",
    "print(e[1:,:2])\n",
    "print(len(e))"
   ]
  },
  {
   "cell_type": "code",
   "execution_count": 54,
   "metadata": {},
   "outputs": [
    {
     "name": "stdout",
     "output_type": "stream",
     "text": [
      "[[ 0  1  2  3]\n",
      " [ 4  5  6  7]\n",
      " [ 8  9 10 11]]\n",
      "[ 0  1  2  3  4  5  6  7  8  9 10 11]\n"
     ]
    }
   ],
   "source": [
    "# Flatten\n",
    "f=np.arange(12).reshape(3,-1)\n",
    "print(f)\n",
    "print(f.flatten())"
   ]
  },
  {
   "cell_type": "code",
   "execution_count": 59,
   "metadata": {},
   "outputs": [
    {
     "name": "stdout",
     "output_type": "stream",
     "text": [
      "[[ 0  1  2]\n",
      " [ 3  4  5]\n",
      " [ 6  7  8]\n",
      " [ 9 10 11]]\n",
      "[[ 0  3  6  9]\n",
      " [ 1  4  7 10]\n",
      " [ 2  5  8 11]]\n",
      "[ 0  1  2  3  4  5  6  7  8  9 10 11]\n",
      "[ 0  1  2  3  4  5  6  7  8  9 10 11]\n"
     ]
    }
   ],
   "source": [
    "# Transpose. No transpose for 1d array, why?\n",
    "\n",
    "g=np.arange(12).reshape(4,-1) # Reshape with unknown column or rows \n",
    "print(g)\n",
    "print(g.T)\n",
    "print(g.flatten())"
   ]
  },
  {
   "cell_type": "code",
   "execution_count": 60,
   "metadata": {},
   "outputs": [
    {
     "name": "stdout",
     "output_type": "stream",
     "text": [
      "[ 6  7  8  9 10 11]\n"
     ]
    }
   ],
   "source": [
    "# Masking of 2d array: always returns 1d array\n",
    "\n",
    "h = np.arange(12).reshape(4,-1)\n",
    "print(h[h>5])"
   ]
  },
  {
   "cell_type": "code",
   "execution_count": 62,
   "metadata": {},
   "outputs": [
    {
     "name": "stdout",
     "output_type": "stream",
     "text": [
      "[[ 0  1  2  3]\n",
      " [ 4  5  6  7]\n",
      " [ 8  9 10 11]]\n",
      "66\n",
      "[12 15 18 21]\n",
      "[ 6 22 38]\n"
     ]
    }
   ],
   "source": [
    "# Axis parameter - needed for operations like sum, min, sort\n",
    "\n",
    "i = np.arange(12).reshape(3,-1)\n",
    "print(i)\n",
    "print(np.sum(i))\n",
    "print(np.sum(i,axis=0))\n",
    "print(np.sum(i,axis=1))"
   ]
  },
  {
   "cell_type": "code",
   "execution_count": 64,
   "metadata": {},
   "outputs": [
    {
     "name": "stdout",
     "output_type": "stream",
     "text": [
      "[[ 0  1  2  3]\n",
      " [ 4  5  6  7]\n",
      " [ 8  9 10 11]]\n",
      "6\n",
      "[ 5 10]\n"
     ]
    }
   ],
   "source": [
    "# Indexing for single and multiple elements\n",
    "\n",
    "j= np.arange(12).reshape(3,-1)\n",
    "print(j)\n",
    "print(j[1,2])\n",
    "print(j[(1,2),(1,2)])"
   ]
  },
  {
   "cell_type": "markdown",
   "metadata": {},
   "source": [
    "# Problems"
   ]
  },
  {
   "cell_type": "code",
   "execution_count": 65,
   "metadata": {},
   "outputs": [],
   "source": [
    "'''\n",
    "\n",
    "1 - Given an array in form of a matrix of size (n, n), rotate the matrix clockwise by 90º\n",
    "\n",
    "Sample Input:\n",
    "\n",
    "[[1 2 3] \n",
    " [4 5 6]\n",
    " [7 8 9]]\n",
    "\n",
    " Sample Output:\n",
    "\n",
    "[[7 4 1]\n",
    " [8 5 2]\n",
    " [9 6 3]]\n",
    "\n",
    "'''\n",
    "import numpy as np\n",
    "def rotate_img(mat):\n",
    "   a=mat\n",
    "   return(np.transpose(mat[::-1]))\n"
   ]
  },
  {
   "cell_type": "code",
   "execution_count": 83,
   "metadata": {},
   "outputs": [
    {
     "data": {
      "text/plain": [
       "array(['plovers', 'plovers', 'plovers', 'plovers', 'plovers', 'Cranes',\n",
       "       'spoonbills', 'Cranes', 'plovers', 'spoonbills'], dtype='<U10')"
      ]
     },
     "execution_count": 83,
     "metadata": {},
     "output_type": "execute_result"
    }
   ],
   "source": [
    "'''\n",
    "    \n",
    "2 - Given a list of birds and their corresponding age, return the name of birds sorted according to age (ascending)\n",
    "\n",
    "birds = ['spoonbills',  'plovers',  'plovers',  'plovers',  'plovers',  'Cranes',  'plovers',  'plovers',  'Cranes',  'spoonbills']\n",
    "age = [5.5, 6.0, 3.5, 1.5, 3.0, 4.0, 3.5, 2.0, 5.5, 6.0]\n",
    "    \n",
    "    \n",
    "'''\n",
    "\n",
    "import numpy  as np\n",
    "\n",
    "def sort_birds(birds, age):\n",
    "    result=birds[np.argsort(age)]\n",
    "    return result\n",
    "\n",
    "\n",
    "\n",
    "birds = np.array(['spoonbills',  'plovers',  'plovers',  'plovers',  'plovers',  'Cranes',  'plovers',  'plovers',  'Cranes',  'spoonbills'])\n",
    "age = np.array([5.5, 6.0, 3.5, 1.5, 3.0, 4.0, 3.5, 2.0, 5.5, 6.0])\n",
    "\n",
    "sort_birds(birds, age)\n"
   ]
  },
  {
   "cell_type": "code",
   "execution_count": 92,
   "metadata": {},
   "outputs": [
    {
     "data": {
      "text/plain": [
       "array([1, 2, 3, 7, 8, 9])"
      ]
     },
     "execution_count": 92,
     "metadata": {},
     "output_type": "execute_result"
    }
   ],
   "source": [
    "'''\n",
    "3 - Given a M x N array, Perform the following operations:\n",
    "1. Get the odd rows from the array i.e. 1st, 3rd, 5th etc..\n",
    "2. Convert the above result into 1D array and return it.\n",
    "'''\n",
    "import numpy as np \n",
    "def test(arr):\n",
    "    result=arr[::2].flatten()\n",
    "    return(result)\n",
    "a=np.array([[1, 2, 3],[4, 5, 6],[7, 8, 9]])\n",
    "\n",
    "test(a)\n"
   ]
  }
 ],
 "metadata": {
  "kernelspec": {
   "display_name": "Python 3",
   "language": "python",
   "name": "python3"
  },
  "language_info": {
   "codemirror_mode": {
    "name": "ipython",
    "version": 3
   },
   "file_extension": ".py",
   "mimetype": "text/x-python",
   "name": "python",
   "nbconvert_exporter": "python",
   "pygments_lexer": "ipython3",
   "version": "3.12.6"
  }
 },
 "nbformat": 4,
 "nbformat_minor": 2
}
