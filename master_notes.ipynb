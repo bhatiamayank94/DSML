{
 "cells": [
  {
   "cell_type": "code",
   "execution_count": 65,
   "metadata": {},
   "outputs": [],
   "source": [
    "# ##Pandas\n",
    "\n",
    "# import pandas as pd\n",
    "# from datetime import datetime\n",
    "\n",
    "# # importing from a csv file \n",
    "# df = pd.read_csv(r\"C:\\Users\\bhati\\Documents\\GitHub\\DSML\\master_notes_files\\inspection_data.csv\") \n",
    "\n",
    "# # creating an empty dataframe\n",
    "# a=[]\n",
    "# df_a=pd.DataFrame(a)\n",
    "# df_b=pd.DataFrame(a)\n",
    "# df_c=pd.DataFrame(a)\n",
    "# df_d=pd.DataFrame(a)\n",
    "# df_e=pd.DataFrame(a)\n",
    "# df_f=pd.DataFrame(a)\n",
    "# df_g=pd.DataFrame(a)\n",
    "# df_h=pd.DataFrame(a)\n",
    "# df_i=pd.DataFrame(a)\n",
    "# df_j=pd.DataFrame(a)\n",
    "# df_k=pd.DataFrame(a)\n",
    "# df_l=pd.DataFrame(a)\n",
    "# df_m=pd.DataFrame(a)\n",
    "\n",
    "# # Basic formatting and column addition \n",
    "# df['INSPECTION_START_TIME']=pd.to_datetime(df.INSPECTION_START_TIME)\n",
    "# df['INSPECTION_END_TIME']=pd.to_datetime(df.INSPECTION_END_TIME)\n",
    "# df['INSPECTION_START_DATE']=pd.to_datetime(df.INSPECTION_START_DATE)\n",
    "# df['INSPECTION_END_DATE']=pd.to_datetime(df.INSPECTION_END_DATE)\n",
    "# df['inspection_tat']=df['INSPECTION_END_TIME'] - df['INSPECTION_START_TIME']\n",
    "\n",
    "# # exporting a dataframe to an excel \n",
    "# df.to_csv(r\"C:\\Users\\bhati\\Documents\\GitHub\\DSML\\check_2.csv\")\n",
    "\n",
    "# # df highlight\n",
    "# print(df.head())\n",
    "# print(df.shape)\n",
    "# print(df.dtypes)\n",
    "\n",
    "# # df group by \n",
    "# df_e=(df.groupby(['INSPECTION_BY','VERSION','INSPECTION_STATUS'])['inspection_tat'].describe())\n",
    "# df_a['version','status','avg']=(df.groupby(['VERSION','INSPECTION_STATUS'])['inspection_tat'].mean())\n",
    "# df_c['version','status','size']=(df.groupby(['VERSION','INSPECTION_STATUS'])['inspection_tat'].size())\n",
    "# df_d['version','status','std']=(df.groupby(['VERSION','INSPECTION_STATUS'])['inspection_tat'].std())\n",
    "# df_f=(df.groupby(['VERSION','INSPECTION_STATUS'])['inspection_tat'].first())\n",
    "# df_g=(df.groupby(['VERSION','INSPECTION_STATUS'])['inspection_tat'].max())\n",
    "\n",
    "\n",
    "# # Custom group by \n",
    "# df_h=df.groupby(['INSPECTION_BY'])['MODEL'].apply(set)\n",
    "\n",
    "\n"
   ]
  },
  {
   "cell_type": "code",
   "execution_count": 69,
   "metadata": {},
   "outputs": [],
   "source": [
    "df_h.to_csv(r\"C:\\Users\\bhati\\Documents\\GitHub\\DSML\\set.csv\")"
   ]
  }
 ],
 "metadata": {
  "kernelspec": {
   "display_name": "Python 3",
   "language": "python",
   "name": "python3"
  },
  "language_info": {
   "codemirror_mode": {
    "name": "ipython",
    "version": 3
   },
   "file_extension": ".py",
   "mimetype": "text/x-python",
   "name": "python",
   "nbconvert_exporter": "python",
   "pygments_lexer": "ipython3",
   "version": "3.11.9"
  }
 },
 "nbformat": 4,
 "nbformat_minor": 2
}
