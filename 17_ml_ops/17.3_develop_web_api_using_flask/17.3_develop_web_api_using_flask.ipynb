{
 "cells": [
  {
   "cell_type": "code",
   "execution_count": null,
   "metadata": {},
   "outputs": [],
   "source": [
    "# an api is middleman between client and server\n",
    "\n",
    "# client -> api -> server -> api -> client\n",
    "\n",
    "# error 505 - no resource (no app)\n",
    "\n",
    "# 200 - response generated successfully\n",
    "\n",
    "# 500 - request reached resource but internal server error\n",
    "\n",
    "\n",
    "# types of requests\n",
    "#     get  - fetch resource\n",
    "#     post - uploading picture"
   ]
  }
 ],
 "metadata": {
  "language_info": {
   "name": "python"
  }
 },
 "nbformat": 4,
 "nbformat_minor": 2
}
