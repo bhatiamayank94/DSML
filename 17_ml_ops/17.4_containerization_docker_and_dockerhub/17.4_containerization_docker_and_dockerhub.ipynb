{
 "cells": [
  {
   "cell_type": "markdown",
   "metadata": {},
   "source": [
    "# Gyaan"
   ]
  },
  {
   "cell_type": "code",
   "execution_count": null,
   "metadata": {},
   "outputs": [],
   "source": [
    "# Docker problem statement - independence of library version, software version, \n",
    "\n",
    "# VM (Virtual machine) - example ec2 is an an example of IAAS: infrastrucutre as a service \n",
    "\n",
    "# docker  - example ecs is an an example of PAAS: Platform as a service "
   ]
  },
  {
   "cell_type": "markdown",
   "metadata": {},
   "source": [
    "# Terminologies"
   ]
  },
  {
   "cell_type": "code",
   "execution_count": null,
   "metadata": {},
   "outputs": [],
   "source": [
    "'''\n",
    "docker file - contains steps: requirement.txt,define os, working dir, upgrade pip, run requirements.txt, copy all files and then cmd command\n",
    "    \n",
    "image - read only file of template to run the container: docker build -t \"image_tag\" .\n",
    "\n",
    "container - final container on port : \n",
    "'''"
   ]
  },
  {
   "cell_type": "markdown",
   "metadata": {},
   "source": [
    "Docker file gyaan"
   ]
  },
  {
   "cell_type": "code",
   "execution_count": null,
   "metadata": {},
   "outputs": [],
   "source": [
    "# 1: try to build base of a lightweight OS (slim-buster in the example) - hub.docker.com\n",
    "\n",
    "# 2: check python version: python --version (Python 3.12.6)\n"
   ]
  }
 ],
 "metadata": {
  "language_info": {
   "name": "python"
  }
 },
 "nbformat": 4,
 "nbformat_minor": 2
}
