{
 "cells": [
  {
   "cell_type": "code",
   "execution_count": null,
   "metadata": {},
   "outputs": [],
   "source": [
    "# Deploy docker on cloud\n",
    "\n",
    "# CSP (Cloud service providers) - AWS, GCP, azure\n",
    "\n",
    "    # they provide compute servicing, network, storage, security, backup, scalability\n",
    "\n",
    "# ECR - Elastic container registry - similar to dockerhub: used to store image\n",
    "\n",
    "# ECS - Elastic container services - managing scaling and deploying containers  ON EC2 ELASTIC CLOUD COMPUTE  - Similar to kubernetes\n",
    "\n",
    "# AWS Fargate - similar to EC2 but no management - serverless system where management is done by aws\n",
    "\n",
    "# ec2 vs fargate: you pay for insfrastrucutre for ec2 but fargate pay per use (because it is serverless)\n",
    "\n",
    "\n",
    "\n",
    "\n",
    "\n",
    "\n",
    "\n"
   ]
  }
 ],
 "metadata": {
  "language_info": {
   "name": "python"
  }
 },
 "nbformat": 4,
 "nbformat_minor": 2
}
