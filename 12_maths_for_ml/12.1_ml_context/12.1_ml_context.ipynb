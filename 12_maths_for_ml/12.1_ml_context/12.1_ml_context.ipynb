{
 "cells": [
  {
   "cell_type": "code",
   "execution_count": 1,
   "metadata": {},
   "outputs": [],
   "source": [
    "# Remember:\n",
    "# 1 - Y intercept is also called bias\n",
    "# 2 - Steps of building a classification model:\n",
    "#     a - collect labeled data\n",
    "#     b - create visualiszations\n",
    "#     c - decide appropriate geometry class to seperate class\n",
    "#     d - choosing loss functions\n",
    "#     e - optimisation/training\n",
    "# 3 - always remember equation of line as: w1x+x2y+wo=0\n",
    "# 4 - half space: any half of either side of optimised line"
   ]
  }
 ],
 "metadata": {
  "kernelspec": {
   "display_name": "Python 3",
   "language": "python",
   "name": "python3"
  },
  "language_info": {
   "codemirror_mode": {
    "name": "ipython",
    "version": 3
   },
   "file_extension": ".py",
   "mimetype": "text/x-python",
   "name": "python",
   "nbconvert_exporter": "python",
   "pygments_lexer": "ipython3",
   "version": "3.12.6"
  }
 },
 "nbformat": 4,
 "nbformat_minor": 2
}
