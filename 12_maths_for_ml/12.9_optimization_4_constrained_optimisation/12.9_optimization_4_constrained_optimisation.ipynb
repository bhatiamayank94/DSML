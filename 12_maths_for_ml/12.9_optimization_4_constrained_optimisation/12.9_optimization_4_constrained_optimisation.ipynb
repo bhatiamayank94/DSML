{
 "cells": [
  {
   "cell_type": "code",
   "execution_count": null,
   "metadata": {},
   "outputs": [],
   "source": [
    "'''\n",
    "Lagranges' theorem: f(x)+ lambda(g(x))=0\n",
    "\n",
    "Vector partial differential: similar to normal partial differential\n",
    "\n",
    "'''"
   ]
  }
 ],
 "metadata": {
  "language_info": {
   "name": "python"
  }
 },
 "nbformat": 4,
 "nbformat_minor": 2
}
