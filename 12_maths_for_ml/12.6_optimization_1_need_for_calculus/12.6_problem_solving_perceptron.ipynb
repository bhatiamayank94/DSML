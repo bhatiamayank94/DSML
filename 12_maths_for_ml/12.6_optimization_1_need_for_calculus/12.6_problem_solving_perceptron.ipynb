{
 "cells": [
  {
   "cell_type": "code",
   "execution_count": null,
   "metadata": {},
   "outputs": [],
   "source": [
    "'''\n",
    "1 - slope=0 can be maxima or minima. That can be confirmed through double derivative. If dd is positive, then it is local minima and vice versa\n",
    "\n",
    "2 - Inflexion point: double derivative = 0\n",
    "\n",
    "'''"
   ]
  }
 ],
 "metadata": {
  "language_info": {
   "name": "python"
  }
 },
 "nbformat": 4,
 "nbformat_minor": 2
}
