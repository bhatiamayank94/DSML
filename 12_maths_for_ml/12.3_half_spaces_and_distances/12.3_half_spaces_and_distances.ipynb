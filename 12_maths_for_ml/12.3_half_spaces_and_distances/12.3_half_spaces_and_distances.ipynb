{
 "cells": [
  {
   "cell_type": "code",
   "execution_count": null,
   "metadata": {},
   "outputs": [],
   "source": [
    "'''\n",
    "\n",
    "Rules to study = prepare notes\n",
    "\n",
    "solve assignments\n",
    "\n",
    "'''"
   ]
  },
  {
   "cell_type": "code",
   "execution_count": null,
   "metadata": {},
   "outputs": [],
   "source": [
    "'''\n",
    "unit vector use case - compare unit vectors of 2 vectors to know difference in variation - a.b_unit\n",
    "\n",
    "projection of a on b = a*cos_theta, cos_theta = (a.b/(a_norm*b_norm). cos_theta*(a_norm)= a.b/b_norm: a.b_unit\n",
    "\n",
    "\n",
    "distances will be used in segmentation to find a line with max distance to all points\n",
    "\n",
    "\n",
    "weight vector is always perpendicular to any classifier\n",
    "\n",
    "distance of any line from origin: wT*x0/(w_vector_norm) = -w0/(w_vector_norm)\n",
    "distance of any point from line: (wT*x0+w0)/(w_vector_norm)\n",
    "\n",
    "\n",
    "if you want to move a line by 20 units to right,   it goes like w1(x1-a)+w2x2+w0=0 (similarly subtract from y to go up)\n",
    "\n",
    "\n",
    "if wT.x_w0 >0 then the point lies to the right to the line  but if it is negative the it lies to tht left of the line \n",
    "\n",
    "\n",
    "'''"
   ]
  },
  {
   "cell_type": "markdown",
   "metadata": {},
   "source": [
    "Problem"
   ]
  },
  {
   "cell_type": "code",
   "execution_count": null,
   "metadata": {},
   "outputs": [],
   "source": [
    "'''\n",
    "\n",
    "You are given a list of (X,Y) coordinates, check whether the coordinates lie on a straight line or not. \n",
    "If they lie on a straight line return the slope and intercept else return −1.\n",
    "\n",
    "'''"
   ]
  },
  {
   "cell_type": "code",
   "execution_count": 15,
   "metadata": {},
   "outputs": [],
   "source": [
    "# creating a list of tuples\n",
    "\n",
    "a=[(1.0, 5.0), (-3.0, -3.0), (2.5, 8.0)]"
   ]
  },
  {
   "cell_type": "code",
   "execution_count": 23,
   "metadata": {},
   "outputs": [],
   "source": [
    "def straight_line_or_not(coordinates):\n",
    "\n",
    "    \"\"\"\n",
    "        Input is the list of tuples containg the coordiantes.\n",
    "        Fucntion computes the slope and intercept if the points lies in a straight line.\n",
    "        If lie straight line return the tuple (slope,intercept) having float values till one deciaml point.\n",
    "        else, return -1\n",
    "    \"\"\"\n",
    "    a=coordinates\n",
    "    m=(a[1][1]-a[0][1])/(a[1][0]-a[0][0])\n",
    "    c=a[0][1]-m*a[0][0]\n",
    "\n",
    "    k=1\n",
    "    for i in a:\n",
    "        val=(m*i[0]+c-i[1])\n",
    "        if val!=0:\n",
    "            k=-1\n",
    "            break\n",
    "    if k!=-1:\n",
    "        tup=(m,c)\n",
    "    else:\n",
    "        tup=-1\n",
    "    return(tup)"
   ]
  },
  {
   "cell_type": "code",
   "execution_count": 24,
   "metadata": {},
   "outputs": [
    {
     "data": {
      "text/plain": [
       "(2.0, 3.0)"
      ]
     },
     "execution_count": 24,
     "metadata": {},
     "output_type": "execute_result"
    }
   ],
   "source": [
    "straight_line_or_not([(1.0, 5.0), (-3.0, -3.0), (2.5, 8.0)])"
   ]
  }
 ],
 "metadata": {
  "kernelspec": {
   "display_name": "Python 3",
   "language": "python",
   "name": "python3"
  },
  "language_info": {
   "codemirror_mode": {
    "name": "ipython",
    "version": 3
   },
   "file_extension": ".py",
   "mimetype": "text/x-python",
   "name": "python",
   "nbconvert_exporter": "python",
   "pygments_lexer": "ipython3",
   "version": "3.12.6"
  }
 },
 "nbformat": 4,
 "nbformat_minor": 2
}
