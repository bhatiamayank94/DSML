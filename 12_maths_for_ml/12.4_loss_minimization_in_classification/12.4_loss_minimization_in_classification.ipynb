{
 "cells": [
  {
   "cell_type": "code",
   "execution_count": null,
   "metadata": {},
   "outputs": [],
   "source": [
    "'''\n",
    "Distance between 2 parallel lines: either sum of distances from origin (if w0 signs are different) or difference of distances (if w0 signs are same)\n",
    "i.e -w0/w_norm + (-w'0/w'_norm)\n",
    "\n",
    "Gain = sum of distance of true classification along with subtraction of false classifications -> sum(yi*(wt.x+w0/(w_norm))).\n",
    "this is to compare classifier lines\n",
    "\n",
    "\n",
    "loss is opposite to loss: -gain\n",
    "\n",
    "interesting question - number 5: halfspace sign can be determined by the distance of origin vector from line: wT.x+w0 -> w0\n",
    "\n",
    "'''"
   ]
  }
 ],
 "metadata": {
  "language_info": {
   "name": "python"
  }
 },
 "nbformat": 4,
 "nbformat_minor": 2
}
