{
 "cells": [
  {
   "cell_type": "code",
   "execution_count": null,
   "metadata": {},
   "outputs": [],
   "source": [
    "'''\n",
    "any function is defined as vector\n",
    "vector can be in rown form [x1,x2,x3] or in column form [x1,\n",
    "                                                        x2,\n",
    "                                                        x3]\n",
    "\n",
    "In general, vectors are in columns format only\n",
    "'''"
   ]
  }
 ],
 "metadata": {
  "language_info": {
   "name": "python"
  }
 },
 "nbformat": 4,
 "nbformat_minor": 2
}
