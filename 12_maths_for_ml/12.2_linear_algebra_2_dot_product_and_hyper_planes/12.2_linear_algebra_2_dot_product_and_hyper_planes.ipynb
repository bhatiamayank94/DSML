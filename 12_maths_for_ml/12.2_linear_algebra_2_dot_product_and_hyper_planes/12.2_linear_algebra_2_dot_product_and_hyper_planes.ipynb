{
 "cells": [
  {
   "cell_type": "code",
   "execution_count": null,
   "metadata": {},
   "outputs": [],
   "source": [
    "'''\n",
    "any function is defined as vector\n",
    "vector can be in rown form [x1,x2,x3] or in column form [x1,\n",
    "                                                        x2,\n",
    "                                                        x3]\n",
    "\n",
    "In general, vectors are in columns format only\n",
    "'''"
   ]
  },
  {
   "cell_type": "code",
   "execution_count": null,
   "metadata": {},
   "outputs": [],
   "source": [
    "'''\n",
    "Linear equation of 6 featured target is m1x1 + m2x2 + m3x3 + m4x4 + m5x5 + m6x6 + m0y=0\n",
    "\n",
    "magnitude of any vector =norm = distance: all same things\n",
    "\n",
    "matrix multiplication - already know\n",
    "\n",
    "dot product real life use case - used in similarity search. Use case - example a [4,3,2], b [4.2,3.2,2.2],c[4,-3,2]: \n",
    "here a.c is less than a.b which shows that higher the dot product, more similar are 2 points\n",
    "\n",
    "in the above example, we didnt consider norm/magnitude of 2 vectors. For that we have angel: cos(theta) = aT.b/(a_norm*b_norm)\n",
    "\n",
    "\n",
    "Summary - if cos (theta) is low and aT.b is high, then most similar. vice versa, if cos (theta) is high and aT.b is low then very different\n",
    "\n",
    "wT.x _w0 - representation of a line in ml\n",
    "\n",
    "\n",
    "for classifiers, x vector is the line of classifier and w vector is the line perpendicular to x vector\n",
    "\n",
    "unit vector - vector of magnitude 1: w_norm/(w1*2+w2*2)*1/2 \n",
    "\n",
    "'''"
   ]
  }
 ],
 "metadata": {
  "language_info": {
   "name": "python"
  }
 },
 "nbformat": 4,
 "nbformat_minor": 2
}
