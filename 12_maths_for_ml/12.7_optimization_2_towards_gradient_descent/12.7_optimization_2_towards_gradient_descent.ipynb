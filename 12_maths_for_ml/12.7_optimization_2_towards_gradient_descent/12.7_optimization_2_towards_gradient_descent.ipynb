{
 "cells": [
  {
   "cell_type": "code",
   "execution_count": null,
   "metadata": {},
   "outputs": [],
   "source": [
    "'''\n",
    "differentiablity: 2 criteria: continuous curve and right limit should be equal to left limit\n",
    "\n",
    "common derivatives: sinx=cosx, cosx=-sinx, tanx= -sec^2x\n",
    "\n",
    "Rules:\n",
    "    addition rule: (fx+gx)' = f'x+g'x\n",
    "    product rule:   (fx.gx)'=fx.g'x+gx.f'x.\n",
    "        example (x.logx)' = 1+logx\n",
    "    quotient rule: ust implement product rule for 1/fx\n",
    "        example logx/x = 1/x*2-logx/x*2 = (1-logx)/x*2\n",
    "    chain rule: f(g(x))' = f'(g(x)).g'(x) - sigmoid function\n",
    "    sigmoid function\n",
    "\n",
    "\n",
    "\n",
    "'''"
   ]
  }
 ],
 "metadata": {
  "language_info": {
   "name": "python"
  }
 },
 "nbformat": 4,
 "nbformat_minor": 2
}
