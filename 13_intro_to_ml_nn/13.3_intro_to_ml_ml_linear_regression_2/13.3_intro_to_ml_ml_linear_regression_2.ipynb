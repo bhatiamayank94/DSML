{
 "cells": [
  {
   "cell_type": "code",
   "execution_count": null,
   "metadata": {},
   "outputs": [],
   "source": [
    "# # # FAILED MODEL FOR INSPECTION TAT (move to next cell)\n",
    "\n",
    "# import pandas as pd\n",
    "# import sklearn as sk\n",
    "# from sklearn.preprocessing import MinMaxScaler\n",
    "# import datetime\n",
    "# import matplotlib.pyplot as plt\n",
    "\n",
    "# # Exporting and filtering raw file\n",
    "\n",
    "# df_raw=pd.read_csv(r'C:\\Users\\bhati\\Documents\\GitHub\\DSML\\master_notes_files\\inspection_data.csv')\n",
    "# df_raw['INSPECTION_START_TIME']=pd.to_datetime(df_raw.INSPECTION_START_TIME)\n",
    "# df_raw['INSPECTION_END_TIME']=pd.to_datetime(df_raw.INSPECTION_END_TIME)\n",
    "# df_raw['INSPECTION_START_DATE']=pd.to_datetime(df_raw.INSPECTION_START_DATE)\n",
    "# df_raw['INSPECTION_END_DATE']=pd.to_datetime(df_raw.INSPECTION_END_DATE)\n",
    "# df_raw['inspection_tat']=df_raw['INSPECTION_END_TIME'] - df_raw['INSPECTION_START_TIME']\n",
    "# df_raw.head()\n",
    "# df_filtered=df_raw[(df_raw['VERSION']==0) & (df_raw['INSPECTION_STATUS']=='done')]\n",
    "# df_filtered_2=df_filtered.drop(['VERSION','INSPECTION_STATUS','INSPECTION_START_TIME','INSPECTION_END_TIME','INSPECTION_START_DATE','INSPECTION_END_DATE','APPOINTMENT_ID'],axis=1)\n",
    "\n",
    "# # target variable encoding\n",
    "\n",
    "# def target_encoding(df,tar,var):\n",
    "#     df[var]=df.groupby([var])[tar].transform('mean')\n",
    "#     return df\n",
    "\n",
    "# target_encoding(df_filtered_2,'inspection_tat','INSPECTION_BY')\n",
    "# target_encoding(df_filtered_2,'inspection_tat','INSPECTION_TYPE')\n",
    "# target_encoding(df_filtered_2,'inspection_tat','CITY')\n",
    "# target_encoding(df_filtered_2,'inspection_tat','MAKE')\n",
    "# target_encoding(df_filtered_2,'inspection_tat','MODEL')\n",
    "# target_encoding(df_filtered_2,'inspection_tat','YEAR')\n",
    "# target_encoding(df_filtered_2,'inspection_tat','INSPECTION_BY')\n",
    "# target_encoding(df_filtered_2,'inspection_tat','FUEL_TYPE')\n",
    "\n",
    "# # Scale dimensions\n",
    "\n",
    "# from sklearn.preprocessing import MinMaxScaler\n",
    "\n",
    "# scaler=MinMaxScaler()\n",
    "# df_scaled=pd.DataFrame(scaler.fit_transform(df_filtered_2),columns=df_filtered_2.columns)\n",
    "\n",
    "# # splitting dataset into train and test\n",
    "\n",
    "# from sklearn.model_selection import train_test_split\n",
    "\n",
    "# y=df_scaled['inspection_tat']\n",
    "# x=df_scaled.drop('inspection_tat',axis=1)\n",
    "\n",
    "# x_train,x_test,y_train,y_test=train_test_split(x,y,test_size=0.3,random_state=1)\n",
    "\n",
    "# # Training\n",
    "\n",
    "# from sklearn.linear_model import LinearRegression\n",
    "\n",
    "# lm=LinearRegression()\n",
    "# lm.fit(x_train,y_train)\n",
    "\n",
    "# # testing scores\n",
    "# print(lm.score(x_train, y_train))"
   ]
  },
  {
   "cell_type": "code",
   "execution_count": 76,
   "metadata": {},
   "outputs": [],
   "source": [
    "import datetime as dt\n",
    "import pandas as pd\n",
    "import sklearn"
   ]
  },
  {
   "cell_type": "code",
   "execution_count": 105,
   "metadata": {},
   "outputs": [
    {
     "name": "stdout",
     "output_type": "stream",
     "text": [
      "0.9458936000772378\n",
      "0.9459830232581433\n"
     ]
    }
   ],
   "source": [
    "# Preprocessing\n",
    "\n",
    "df_car=pd.read_csv(r\"C:\\Users\\bhati\\Documents\\GitHub\\DSML\\13_intro_to_ml_nn\\13.2_intro_to_ml_ml_linear_regression_1\\cars24-car-price-cleaned.csv\")\n",
    "\n",
    "def target_encoding(df,tar,var):\n",
    "    df[var]=df.groupby([var])[tar].transform('mean')\n",
    "    return df\n",
    "\n",
    "target_encoding(df_car,'selling_price','make')\n",
    "target_encoding(df_car,'selling_price','model')\n",
    "\n",
    "# scaling\n",
    "import sklearn.linear_model\n",
    "from sklearn.preprocessing import MinMaxScaler\n",
    "\n",
    "scaler=MinMaxScaler()\n",
    "\n",
    "df_car_scaled=pd.DataFrame(scaler.fit_transform(df_car),columns=df_car.columns)\n",
    "\n",
    "# splitting\n",
    "\n",
    "from sklearn.model_selection import train_test_split\n",
    "\n",
    "y=df_car_scaled['selling_price']\n",
    "x=df_car_scaled.drop('selling_price',axis=1)\n",
    "\n",
    "x_train,x_test,y_train,y_test=train_test_split(x,y,test_size=0.3,random_state=1)\n",
    "\n",
    "# Training\n",
    "\n",
    "from sklearn.linear_model import LinearRegression\n",
    "\n",
    "lm=LinearRegression()\n",
    "\n",
    "lm.fit(x_train,y_train)\n",
    "\n",
    "print(lm.score(x_train,y_train))\n",
    "print(lm.score(x_test,y_test))"
   ]
  }
 ],
 "metadata": {
  "kernelspec": {
   "display_name": "Python 3",
   "language": "python",
   "name": "python3"
  },
  "language_info": {
   "codemirror_mode": {
    "name": "ipython",
    "version": 3
   },
   "file_extension": ".py",
   "mimetype": "text/x-python",
   "name": "python",
   "nbconvert_exporter": "python",
   "pygments_lexer": "ipython3",
   "version": "3.11.9"
  }
 },
 "nbformat": 4,
 "nbformat_minor": 2
}
