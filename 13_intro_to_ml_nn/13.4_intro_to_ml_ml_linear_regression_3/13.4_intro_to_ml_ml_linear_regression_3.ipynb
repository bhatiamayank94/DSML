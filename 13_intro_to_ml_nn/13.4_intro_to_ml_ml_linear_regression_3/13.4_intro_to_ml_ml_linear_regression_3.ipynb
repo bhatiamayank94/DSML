{
 "cells": [
  {
   "cell_type": "code",
   "execution_count": null,
   "metadata": {},
   "outputs": [],
   "source": [
    "'''\n",
    "Adjusted R square  - this accounts for irrelevant features. in case of addition of irrelavant feature, r square will be similar but adjusted r square will dip\n",
    "    formula: 1 - (1-r_square)*(n-1)/(n-d-1)\n",
    "\n",
    "statmodel - similar to skl but in statmodel, we have a function built for vif (variance inflation flactor)\n",
    "\n",
    "Assumption - Assumption of linearity\n",
    "\n",
    "'''"
   ]
  }
 ],
 "metadata": {
  "language_info": {
   "name": "python"
  }
 },
 "nbformat": 4,
 "nbformat_minor": 2
}
