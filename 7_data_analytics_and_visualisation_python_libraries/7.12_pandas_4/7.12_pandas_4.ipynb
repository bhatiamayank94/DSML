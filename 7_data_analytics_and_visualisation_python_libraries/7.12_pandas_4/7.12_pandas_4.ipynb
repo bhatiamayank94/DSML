{
 "cells": [
  {
   "cell_type": "code",
   "execution_count": 2,
   "metadata": {},
   "outputs": [],
   "source": [
    "import numpy as np \n",
    "import pandas as pd"
   ]
  },
  {
   "cell_type": "code",
   "execution_count": 3,
   "metadata": {},
   "outputs": [],
   "source": [
    "df_mov=pd.read_csv(r'C:\\Users\\28962\\Documents\\GitHub\\DSML\\7_data_analytics_and_visualisation\\7.12_pandas_4\\movies.csv',index_col=0)\n",
    "df_dir=pd.read_csv(r'C:\\Users\\28962\\Documents\\GitHub\\DSML\\7_data_analytics_and_visualisation\\7.12_pandas_4\\directors.csv',index_col=0)\n",
    "df_mer=df_mov.merge(df_dir,how='left',left_on='director_id',right_on='id')\n",
    "df_mer[['budget','revenue']]=df_mer[['budget','revenue']]/1000000"
   ]
  },
  {
   "cell_type": "markdown",
   "metadata": {},
   "source": [
    "# Group by peripherals"
   ]
  },
  {
   "cell_type": "markdown",
   "metadata": {},
   "source": [
    "## Group by describe"
   ]
  },
  {
   "cell_type": "code",
   "execution_count": 47,
   "metadata": {},
   "outputs": [
    {
     "data": {
      "application/vnd.microsoft.datawrangler.viewer.v0+json": {
       "columns": [
        {
         "name": "index",
         "rawType": "int64",
         "type": "integer"
        },
        {
         "name": "director_name",
         "rawType": "object",
         "type": "string"
        },
        {
         "name": "count",
         "rawType": "float64",
         "type": "float"
        },
        {
         "name": "mean",
         "rawType": "float64",
         "type": "float"
        },
        {
         "name": "std",
         "rawType": "float64",
         "type": "float"
        },
        {
         "name": "min",
         "rawType": "float64",
         "type": "float"
        },
        {
         "name": "25%",
         "rawType": "float64",
         "type": "float"
        },
        {
         "name": "50%",
         "rawType": "float64",
         "type": "float"
        },
        {
         "name": "75%",
         "rawType": "float64",
         "type": "float"
        },
        {
         "name": "max",
         "rawType": "float64",
         "type": "float"
        }
       ],
       "conversionMethod": "pd.DataFrame",
       "ref": "92d54889-e402-4ffd-b3b3-533f3bed6b23",
       "rows": [
        [
         "0",
         "Adam McKay",
         "6.0",
         "56.916666666666664",
         "28.299146041297192",
         "26.0",
         "33.5",
         "57.5",
         "70.625",
         "100.0"
        ],
        [
         "1",
         "Adam Shankman",
         "8.0",
         "48.375",
         "24.744046903100898",
         "11.0",
         "31.25",
         "53.0",
         "63.75",
         "80.0"
        ],
        [
         "2",
         "Alejandro González Iñárritu",
         "6.0",
         "33.333333333333336",
         "50.816007976489715",
         "0.0",
         "6.0",
         "19.0",
         "23.75",
         "135.0"
        ],
        [
         "3",
         "Alex Proyas",
         "5.0",
         "70.4",
         "56.28765406374652",
         "15.0",
         "27.0",
         "50.0",
         "120.0",
         "140.0"
        ],
        [
         "4",
         "Alexander Payne",
         "5.0",
         "15.6",
         "10.99090533122727",
         "0.0",
         "12.0",
         "16.0",
         "20.0",
         "30.0"
        ],
        [
         "5",
         "Andrew Adamson",
         "5.0",
         "123.0",
         "91.48770409186143",
         "0.0",
         "60.0",
         "150.0",
         "180.0",
         "225.0"
        ],
        [
         "6",
         "Andrew Niccol",
         "5.0",
         "32.4",
         "18.35211159512714",
         "0.0",
         "36.0",
         "40.0",
         "42.0",
         "44.0"
        ],
        [
         "7",
         "Andrzej Bartkowiak",
         "5.0",
         "42.0",
         "16.046806535881213",
         "25.0",
         "25.0",
         "50.0",
         "50.0",
         "60.0"
        ],
        [
         "8",
         "Andy Fickman",
         "6.0",
         "29.166666666666668",
         "12.237919213112441",
         "20.0",
         "20.5",
         "23.5",
         "34.75",
         "50.0"
        ],
        [
         "9",
         "Andy Tennant",
         "6.0",
         "51.833333333333336",
         "22.27479891416905",
         "26.0",
         "32.5",
         "55.0",
         "70.0",
         "75.0"
        ],
        [
         "10",
         "Ang Lee",
         "8.0",
         "45.0625",
         "52.711097706541565",
         "0.0",
         "15.875",
         "17.5",
         "58.5",
         "137.0"
        ],
        [
         "11",
         "Anne Fletcher",
         "5.0",
         "31.4",
         "11.610340218959994",
         "12.0",
         "30.0",
         "35.0",
         "40.0",
         "40.0"
        ],
        [
         "12",
         "Antoine Fuqua",
         "8.0",
         "47.25",
         "19.99821420598778",
         "17.0",
         "30.0",
         "50.0",
         "63.25",
         "70.0"
        ],
        [
         "13",
         "Atom Egoyan",
         "6.0",
         "7.5",
         "10.36822067666386",
         "0.0",
         "0.0",
         "2.5",
         "12.5",
         "25.0"
        ],
        [
         "14",
         "Barry Levinson",
         "13.0",
         "31.153846153846153",
         "25.102609936837755",
         "0.0",
         "15.0",
         "25.0",
         "44.0",
         "75.0"
        ],
        [
         "15",
         "Barry Sonnenfeld",
         "7.0",
         "103.60714285714286",
         "76.91876899567181",
         "30.0",
         "35.125",
         "90.0",
         "155.0",
         "225.0"
        ],
        [
         "16",
         "Ben Stiller",
         "5.0",
         "61.4",
         "28.316073174082597",
         "28.0",
         "47.0",
         "50.0",
         "90.0",
         "92.0"
        ],
        [
         "17",
         "Bill Condon",
         "5.0",
         "45.6",
         "49.4651392396706",
         "0.0",
         "10.0",
         "28.0",
         "70.0",
         "120.0"
        ],
        [
         "18",
         "Bobby Farrelly",
         "11.0",
         "38.45454545454545",
         "16.717437820214172",
         "16.0",
         "28.5",
         "36.0",
         "45.5",
         "75.0"
        ],
        [
         "19",
         "Brad Anderson",
         "5.0",
         "6.9",
         "6.767569726275452",
         "0.0",
         "1.5",
         "5.0",
         "13.0",
         "15.0"
        ],
        [
         "20",
         "Brett Ratner",
         "9.0",
         "90.33333333333333",
         "58.382360349680965",
         "0.0",
         "60.0",
         "78.0",
         "100.0",
         "210.0"
        ],
        [
         "21",
         "Brian De Palma",
         "12.0",
         "35.791666666666664",
         "30.251565198675205",
         "5.0",
         "11.5",
         "25.0",
         "55.75",
         "90.0"
        ],
        [
         "22",
         "Brian Helgeland",
         "5.0",
         "51.0",
         "26.315394733881533",
         "25.0",
         "35.0",
         "40.0",
         "65.0",
         "90.0"
        ],
        [
         "23",
         "Brian Levant",
         "6.0",
         "47.0",
         "21.203773249117717",
         "28.0",
         "32.25",
         "39.5",
         "56.5",
         "83.0"
        ],
        [
         "24",
         "Brian Robbins",
         "6.0",
         "34.333333333333336",
         "21.106081272151556",
         "0.0",
         "26.0",
         "36.0",
         "47.5",
         "60.0"
        ],
        [
         "25",
         "Bryan Singer",
         "8.0",
         "144.875",
         "93.03215649901459",
         "6.0",
         "75.0",
         "144.0",
         "208.75",
         "270.0"
        ],
        [
         "26",
         "Cameron Crowe",
         "6.0",
         "53.666666666666664",
         "10.595596569644705",
         "37.0",
         "50.0",
         "53.5",
         "59.25",
         "68.0"
        ],
        [
         "27",
         "Catherine Hardwicke",
         "6.0",
         "23.5",
         "18.294808006644946",
         "0.0",
         "7.75",
         "30.0",
         "36.5",
         "42.0"
        ],
        [
         "28",
         "Chris Columbus",
         "11.0",
         "57.0",
         "44.55558326405345",
         "0.0",
         "18.0",
         "40.0",
         "97.5",
         "125.0"
        ],
        [
         "29",
         "Chris Weitz",
         "6.0",
         "46.333333333333336",
         "67.77806921613116",
         "0.0",
         "10.25",
         "19.0",
         "44.25",
         "180.0"
        ],
        [
         "30",
         "Christopher Nolan",
         "8.0",
         "125.625",
         "84.17148736783903",
         "9.0",
         "44.5",
         "155.0",
         "170.0",
         "250.0"
        ],
        [
         "31",
         "Chuck Russell",
         "6.0",
         "41.0",
         "34.61791443747009",
         "5.0",
         "19.25",
         "31.5",
         "55.0",
         "100.0"
        ],
        [
         "32",
         "Clint Eastwood",
         "19.0",
         "39.56842105263158",
         "21.448777552101475",
         "0.0",
         "24.5",
         "35.0",
         "52.5",
         "90.0"
        ],
        [
         "33",
         "Curtis Hanson",
         "7.0",
         "23.285714285714285",
         "20.039247205706822",
         "0.0",
         "3.5",
         "35.0",
         "38.0",
         "45.0"
        ],
        [
         "34",
         "Danny Boyle",
         "8.0",
         "22.75",
         "16.254669658725327",
         "4.0",
         "12.5",
         "19.0",
         "32.5",
         "50.0"
        ],
        [
         "35",
         "Darren Aronofsky",
         "6.0",
         "30.593333333333334",
         "47.87387875101272",
         "0.06",
         "4.875",
         "9.5",
         "29.5",
         "125.0"
        ],
        [
         "36",
         "Darren Lynn Bousman",
         "5.0",
         "4.8",
         "5.019960159204453",
         "0.0",
         "0.0",
         "4.0",
         "10.0",
         "10.0"
        ],
        [
         "37",
         "David Ayer",
         "6.0",
         "51.166666666666664",
         "65.14419902544407",
         "2.0",
         "10.25",
         "27.5",
         "59.75",
         "175.0"
        ],
        [
         "38",
         "David Cronenberg",
         "7.0",
         "18.493142857142857",
         "17.64323276716006",
         "0.0",
         "7.976",
         "15.0",
         "23.5",
         "51.5"
        ],
        [
         "39",
         "David Fincher",
         "10.0",
         "65.0",
         "33.76059504478228",
         "33.0",
         "48.5",
         "55.5",
         "64.5",
         "150.0"
        ],
        [
         "40",
         "David Gordon Green",
         "8.0",
         "16.7375",
         "18.527426580998387",
         "0.0",
         "0.0",
         "14.5",
         "27.25",
         "49.9"
        ],
        [
         "41",
         "David Koepp",
         "5.0",
         "29.4",
         "23.70232056149777",
         "0.0",
         "12.0",
         "35.0",
         "40.0",
         "60.0"
        ],
        [
         "42",
         "David Lynch",
         "5.0",
         "14.002",
         "15.570164417885893",
         "0.01",
         "5.0",
         "10.0",
         "15.0",
         "40.0"
        ],
        [
         "43",
         "David O. Russell",
         "8.0",
         "34.5",
         "22.608468704068773",
         "7.0",
         "21.75",
         "25.5",
         "45.0",
         "75.0"
        ],
        [
         "44",
         "David R. Ellis",
         "5.0",
         "30.4",
         "6.18869937870632",
         "25.0",
         "26.0",
         "28.0",
         "33.0",
         "40.0"
        ],
        [
         "45",
         "David Zucker",
         "5.0",
         "30.0",
         "15.443445211480501",
         "14.0",
         "20.0",
         "23.0",
         "45.0",
         "48.0"
        ],
        [
         "46",
         "Dennis Dugan",
         "9.0",
         "53.02222222222222",
         "35.41969006702973",
         "0.0",
         "22.0",
         "79.0",
         "80.0",
         "90.0"
        ],
        [
         "47",
         "Donald Petrie",
         "8.0",
         "34.375",
         "20.2480157758024",
         "0.0",
         "25.25",
         "35.0",
         "46.25",
         "65.0"
        ],
        [
         "48",
         "Doug Liman",
         "7.0",
         "65.95714285714286",
         "64.13901197510653",
         "0.2",
         "14.25",
         "60.0",
         "97.5",
         "178.0"
        ],
        [
         "49",
         "Edward Zwick",
         "7.0",
         "62.0",
         "44.40720662234904",
         "18.0",
         "30.0",
         "46.0",
         "85.0",
         "140.0"
        ]
       ],
       "shape": {
        "columns": 9,
        "rows": 199
       }
      },
      "text/html": [
       "<div>\n",
       "<style scoped>\n",
       "    .dataframe tbody tr th:only-of-type {\n",
       "        vertical-align: middle;\n",
       "    }\n",
       "\n",
       "    .dataframe tbody tr th {\n",
       "        vertical-align: top;\n",
       "    }\n",
       "\n",
       "    .dataframe thead th {\n",
       "        text-align: right;\n",
       "    }\n",
       "</style>\n",
       "<table border=\"1\" class=\"dataframe\">\n",
       "  <thead>\n",
       "    <tr style=\"text-align: right;\">\n",
       "      <th></th>\n",
       "      <th>director_name</th>\n",
       "      <th>count</th>\n",
       "      <th>mean</th>\n",
       "      <th>std</th>\n",
       "      <th>min</th>\n",
       "      <th>25%</th>\n",
       "      <th>50%</th>\n",
       "      <th>75%</th>\n",
       "      <th>max</th>\n",
       "    </tr>\n",
       "  </thead>\n",
       "  <tbody>\n",
       "    <tr>\n",
       "      <th>0</th>\n",
       "      <td>Adam McKay</td>\n",
       "      <td>6.0</td>\n",
       "      <td>56.916667</td>\n",
       "      <td>28.299146</td>\n",
       "      <td>26.0</td>\n",
       "      <td>33.50</td>\n",
       "      <td>57.500000</td>\n",
       "      <td>70.625000</td>\n",
       "      <td>100.0</td>\n",
       "    </tr>\n",
       "    <tr>\n",
       "      <th>1</th>\n",
       "      <td>Adam Shankman</td>\n",
       "      <td>8.0</td>\n",
       "      <td>48.375000</td>\n",
       "      <td>24.744047</td>\n",
       "      <td>11.0</td>\n",
       "      <td>31.25</td>\n",
       "      <td>53.000000</td>\n",
       "      <td>63.750000</td>\n",
       "      <td>80.0</td>\n",
       "    </tr>\n",
       "    <tr>\n",
       "      <th>2</th>\n",
       "      <td>Alejandro González Iñárritu</td>\n",
       "      <td>6.0</td>\n",
       "      <td>33.333333</td>\n",
       "      <td>50.816008</td>\n",
       "      <td>0.0</td>\n",
       "      <td>6.00</td>\n",
       "      <td>19.000000</td>\n",
       "      <td>23.750000</td>\n",
       "      <td>135.0</td>\n",
       "    </tr>\n",
       "    <tr>\n",
       "      <th>3</th>\n",
       "      <td>Alex Proyas</td>\n",
       "      <td>5.0</td>\n",
       "      <td>70.400000</td>\n",
       "      <td>56.287654</td>\n",
       "      <td>15.0</td>\n",
       "      <td>27.00</td>\n",
       "      <td>50.000000</td>\n",
       "      <td>120.000000</td>\n",
       "      <td>140.0</td>\n",
       "    </tr>\n",
       "    <tr>\n",
       "      <th>4</th>\n",
       "      <td>Alexander Payne</td>\n",
       "      <td>5.0</td>\n",
       "      <td>15.600000</td>\n",
       "      <td>10.990905</td>\n",
       "      <td>0.0</td>\n",
       "      <td>12.00</td>\n",
       "      <td>16.000000</td>\n",
       "      <td>20.000000</td>\n",
       "      <td>30.0</td>\n",
       "    </tr>\n",
       "    <tr>\n",
       "      <th>...</th>\n",
       "      <td>...</td>\n",
       "      <td>...</td>\n",
       "      <td>...</td>\n",
       "      <td>...</td>\n",
       "      <td>...</td>\n",
       "      <td>...</td>\n",
       "      <td>...</td>\n",
       "      <td>...</td>\n",
       "      <td>...</td>\n",
       "    </tr>\n",
       "    <tr>\n",
       "      <th>194</th>\n",
       "      <td>Wes Craven</td>\n",
       "      <td>10.0</td>\n",
       "      <td>23.380000</td>\n",
       "      <td>12.591867</td>\n",
       "      <td>1.8</td>\n",
       "      <td>14.00</td>\n",
       "      <td>24.500000</td>\n",
       "      <td>32.750000</td>\n",
       "      <td>40.0</td>\n",
       "    </tr>\n",
       "    <tr>\n",
       "      <th>195</th>\n",
       "      <td>Wolfgang Petersen</td>\n",
       "      <td>7.0</td>\n",
       "      <td>90.142857</td>\n",
       "      <td>63.763701</td>\n",
       "      <td>14.0</td>\n",
       "      <td>38.50</td>\n",
       "      <td>85.000000</td>\n",
       "      <td>140.000000</td>\n",
       "      <td>175.0</td>\n",
       "    </tr>\n",
       "    <tr>\n",
       "      <th>196</th>\n",
       "      <td>Woody Allen</td>\n",
       "      <td>18.0</td>\n",
       "      <td>11.777778</td>\n",
       "      <td>9.453014</td>\n",
       "      <td>0.0</td>\n",
       "      <td>1.00</td>\n",
       "      <td>15.000000</td>\n",
       "      <td>17.750000</td>\n",
       "      <td>30.0</td>\n",
       "    </tr>\n",
       "    <tr>\n",
       "      <th>197</th>\n",
       "      <td>Zack Snyder</td>\n",
       "      <td>7.0</td>\n",
       "      <td>122.857143</td>\n",
       "      <td>84.163390</td>\n",
       "      <td>28.0</td>\n",
       "      <td>72.50</td>\n",
       "      <td>82.000000</td>\n",
       "      <td>177.500000</td>\n",
       "      <td>250.0</td>\n",
       "    </tr>\n",
       "    <tr>\n",
       "      <th>198</th>\n",
       "      <td>Zhang Yimou</td>\n",
       "      <td>6.0</td>\n",
       "      <td>20.833352</td>\n",
       "      <td>37.928429</td>\n",
       "      <td>0.0</td>\n",
       "      <td>0.00</td>\n",
       "      <td>0.000055</td>\n",
       "      <td>23.250028</td>\n",
       "      <td>94.0</td>\n",
       "    </tr>\n",
       "  </tbody>\n",
       "</table>\n",
       "<p>199 rows × 9 columns</p>\n",
       "</div>"
      ],
      "text/plain": [
       "                   director_name  count        mean        std   min    25%  \\\n",
       "0                     Adam McKay    6.0   56.916667  28.299146  26.0  33.50   \n",
       "1                  Adam Shankman    8.0   48.375000  24.744047  11.0  31.25   \n",
       "2    Alejandro González Iñárritu    6.0   33.333333  50.816008   0.0   6.00   \n",
       "3                    Alex Proyas    5.0   70.400000  56.287654  15.0  27.00   \n",
       "4                Alexander Payne    5.0   15.600000  10.990905   0.0  12.00   \n",
       "..                           ...    ...         ...        ...   ...    ...   \n",
       "194                   Wes Craven   10.0   23.380000  12.591867   1.8  14.00   \n",
       "195            Wolfgang Petersen    7.0   90.142857  63.763701  14.0  38.50   \n",
       "196                  Woody Allen   18.0   11.777778   9.453014   0.0   1.00   \n",
       "197                  Zack Snyder    7.0  122.857143  84.163390  28.0  72.50   \n",
       "198                  Zhang Yimou    6.0   20.833352  37.928429   0.0   0.00   \n",
       "\n",
       "           50%         75%    max  \n",
       "0    57.500000   70.625000  100.0  \n",
       "1    53.000000   63.750000   80.0  \n",
       "2    19.000000   23.750000  135.0  \n",
       "3    50.000000  120.000000  140.0  \n",
       "4    16.000000   20.000000   30.0  \n",
       "..         ...         ...    ...  \n",
       "194  24.500000   32.750000   40.0  \n",
       "195  85.000000  140.000000  175.0  \n",
       "196  15.000000   17.750000   30.0  \n",
       "197  82.000000  177.500000  250.0  \n",
       "198   0.000055   23.250028   94.0  \n",
       "\n",
       "[199 rows x 9 columns]"
      ]
     },
     "execution_count": 47,
     "metadata": {},
     "output_type": "execute_result"
    }
   ],
   "source": [
    "# NOTE THAT IF ATTRIBUTE IS NOT MENTIONED AFTER GROUP BY, THEN AGGREGATION HAPPENS TO ALL THE APPLICABLE COLUMNS\n",
    "\n",
    "# df_mer.groupby(['director_name','year']).describe().reset_index()\n",
    "# df_mer.groupby(['director_name']).describe().reset_index()\n",
    "df_mer.groupby(['director_name'])['budget'].describe().reset_index()"
   ]
  },
  {
   "cell_type": "markdown",
   "metadata": {},
   "source": [
    "## Custom group by"
   ]
  },
  {
   "cell_type": "markdown",
   "metadata": {},
   "source": [
    "### apply"
   ]
  },
  {
   "cell_type": "code",
   "execution_count": 53,
   "metadata": {},
   "outputs": [
    {
     "data": {
      "application/vnd.microsoft.datawrangler.viewer.v0+json": {
       "columns": [
        {
         "name": "index",
         "rawType": "int64",
         "type": "integer"
        },
        {
         "name": "director_name",
         "rawType": "object",
         "type": "string"
        },
        {
         "name": "title",
         "rawType": "object",
         "type": "unknown"
        }
       ],
       "conversionMethod": "pd.DataFrame",
       "ref": "57f16646-4a8d-4372-b2ca-2875e58e15f4",
       "rows": [
        [
         "0",
         "Adam McKay",
         "{'Anchorman: The Legend of Ron Burgundy', 'Talladega Nights: The Ballad of Ricky Bobby', 'Anchorman 2: The Legend Continues', 'The Big Short', 'Step Brothers', 'The Other Guys'}"
        ],
        [
         "1",
         "Adam Shankman",
         "{'A Walk to Remember', 'Cheaper by the Dozen 2', 'Rock of Ages', 'The Wedding Planner', 'Hairspray', 'Bedtime Stories', 'The Pacifier', 'Bringing Down the House'}"
        ],
        [
         "2",
         "Alejandro González Iñárritu",
         "{'21 Grams', 'Biutiful', 'Babel', 'Birdman', 'Amores perros', 'The Revenant'}"
        ],
        [
         "3",
         "Alex Proyas",
         "{'Dark City', 'Knowing', 'Gods of Egypt', 'I, Robot', 'The Crow'}"
        ],
        [
         "4",
         "Alexander Payne",
         "{'The Descendants', 'Sideways', 'About Schmidt', 'Election', 'Nebraska'}"
        ],
        [
         "5",
         "Andrew Adamson",
         "{'The Chronicles of Narnia: Prince Caspian', 'Shrek', 'The Chronicles of Narnia: The Lion, the Witch and the Wardrobe', 'Shrek 2', 'Cirque du Soleil: Worlds Away'}"
        ],
        [
         "6",
         "Andrew Niccol",
         "{'In Time', 'Lord of War', 'Gattaca', 'The Host', 'Good Kill'}"
        ],
        [
         "7",
         "Andrzej Bartkowiak",
         "{'Street Fighter: The Legend of Chun-Li', 'Exit Wounds', 'Doom', 'Cradle 2 the Grave', 'Romeo Must Die'}"
        ],
        [
         "8",
         "Andy Fickman",
         "{'The Game Plan', 'You Again', 'Race to Witch Mountain', 'Paul Blart: Mall Cop 2', 'Parental Guidance', \"She's the Man\"}"
        ],
        [
         "9",
         "Andy Tennant",
         "{'Anna and the King', 'The Bounty Hunter', \"Fool's Gold\", 'Hitch', 'Ever After: A Cinderella Story', 'Sweet Home Alabama'}"
        ],
        [
         "10",
         "Ang Lee",
         "{'Crouching Tiger, Hidden Dragon', 'The Ice Storm', 'Ride with the Devil', 'Brokeback Mountain', 'Hulk', 'Sense and Sensibility', 'Taking Woodstock', 'Life of Pi'}"
        ],
        [
         "11",
         "Anne Fletcher",
         "{'27 Dresses', 'Hot Pursuit', 'Step Up', 'The Proposal', 'The Guilt Trip'}"
        ],
        [
         "12",
         "Antoine Fuqua",
         "{'Training Day', 'The Replacement Killers', \"Brooklyn's Finest\", 'Southpaw', 'The Equalizer', 'Shooter', 'Olympus Has Fallen', 'Tears of the Sun'}"
        ],
        [
         "13",
         "Atom Egoyan",
         "{'Ararat', \"Felicia's Journey\", 'The Sweet Hereafter', 'Exotica', 'Where the Truth Lies', 'Chloe'}"
        ],
        [
         "14",
         "Barry Levinson",
         "{'Disclosure', 'Young Sherlock Holmes', 'Wag the Dog', 'An Everlasting Piece', 'Sphere', 'Good Morning, Vietnam', 'What Just Happened', 'Bandits', 'Man of the Year', 'Diner', 'Rain Man', 'Envy', 'Sleepers'}"
        ],
        [
         "15",
         "Barry Sonnenfeld",
         "{'Men in Black II', 'Wild Wild West', 'Men in Black', 'Get Shorty', 'The Addams Family', 'Men in Black 3', 'Big Trouble'}"
        ],
        [
         "16",
         "Ben Stiller",
         "{'Tropic Thunder', 'The Cable Guy', 'Zoolander', 'The Secret Life of Walter Mitty', 'Zoolander 2'}"
        ],
        [
         "17",
         "Bill Condon",
         "{'The Fifth Estate', 'Dreamgirls', 'Kinsey', 'Gods and Monsters', 'The Twilight Saga: Breaking Dawn - Part 2'}"
        ],
        [
         "18",
         "Bobby Farrelly",
         "{'Shallow Hal', 'The Three Stooges', 'Me, Myself & Irene', 'Fever Pitch', 'Kingpin', 'Osmosis Jones', 'Stuck on You', 'Dumb and Dumber To', 'Dumb and Dumber', 'Hall Pass', \"There's Something About Mary\"}"
        ],
        [
         "19",
         "Brad Anderson",
         "{'Session 9', 'The Call', 'The Machinist', 'Transsiberian', 'Next Stop Wonderland'}"
        ],
        [
         "20",
         "Brett Ratner",
         "{'Hercules', 'Rush Hour 2', 'X-Men: The Last Stand', 'Rush Hour 3', 'Red Dragon', 'The Family Man', 'After the Sunset', 'Money Talks', 'Tower Heist'}"
        ],
        [
         "21",
         "Brian De Palma",
         "{'The Black Dahlia', 'Scarface', 'Redacted', 'Mission: Impossible', 'The Untouchables', 'Femme Fatale', 'Mission to Mars', 'Dressed to Kill', 'Body Double', 'Snake Eyes', 'Raising Cain', 'Blow Out'}"
        ],
        [
         "22",
         "Brian Helgeland",
         "{'The Order', 'Payback', \"A Knight's Tale\", 'Legend', '42'}"
        ],
        [
         "23",
         "Brian Levant",
         "{'The Flintstones', 'The Flintstones in Viva Rock Vegas', 'The Spy Next Door', 'Snow Dogs', 'Are We There Yet?', 'Jingle All the Way'}"
        ],
        [
         "24",
         "Brian Robbins",
         "{'Hardball', 'The Shaggy Dog', 'Varsity Blues', 'Meet Dave', 'A Thousand Words', 'Ready to Rumble'}"
        ],
        [
         "25",
         "Bryan Singer",
         "{'Superman Returns', 'The Usual Suspects', 'X-Men: Days of Future Past', 'Jack the Giant Slayer', 'X-Men: Apocalypse', 'X2', 'Valkyrie', 'X-Men'}"
        ],
        [
         "26",
         "Cameron Crowe",
         "{'Vanilla Sky', 'Elizabethtown', 'We Bought a Zoo', 'Jerry Maguire', 'Aloha', 'Almost Famous'}"
        ],
        [
         "27",
         "Catherine Hardwicke",
         "{'The Nativity Story', 'Lords of Dogtown', 'Red Riding Hood', 'Plush', 'Twilight', 'Thirteen'}"
        ],
        [
         "28",
         "Chris Columbus",
         "{'Home Alone 2: Lost in New York', 'Bicentennial Man', 'Harry Potter and the Chamber of Secrets', 'Pixels', \"Harry Potter and the Philosopher's Stone\", 'Mrs. Doubtfire', 'Percy Jackson & the Olympians: The Lightning Thief', 'Home Alone', 'Rent', 'Stepmom', 'I Love You, Beth Cooper'}"
        ],
        [
         "29",
         "Chris Weitz",
         "{'The Golden Compass', 'Down to Earth', 'The Twilight Saga: New Moon', 'American Pie', 'A Better Life', 'About a Boy'}"
        ],
        [
         "30",
         "Christopher Nolan",
         "{'The Dark Knight', 'The Prestige', 'Insomnia', 'Memento', 'The Dark Knight Rises', 'Inception', 'Interstellar', 'Batman Begins'}"
        ],
        [
         "31",
         "Chuck Russell",
         "{'A Nightmare on Elm Street 3: Dream Warriors', 'The Scorpion King', 'Eraser', 'Bless the Child', 'I Am Wrath', 'The Mask'}"
        ],
        [
         "32",
         "Clint Eastwood",
         "{'Jersey Boys', 'Gran Torino', 'American Sniper', 'Firefox', 'Pale Rider', 'Hereafter', 'Unforgiven', 'Space Cowboys', 'Absolute Power', 'Letters from Iwo Jima', 'Mystic River', 'Midnight in the Garden of Good and Evil', 'Invictus', 'Flags of Our Fathers', 'Million Dollar Baby', 'J. Edgar', 'Blood Work', 'Changeling', 'The Bridges of Madison County'}"
        ],
        [
         "33",
         "Curtis Hanson",
         "{'Chasing Mavericks', 'Wonder Boys', 'The River Wild', 'Lucky You', '8 Mile', 'L.A. Confidential', \"Losin' It\"}"
        ],
        [
         "34",
         "Danny Boyle",
         "{'Sunshine', 'Trainspotting', 'Steve Jobs', 'The Beach', '127 Hours', '28 Days Later', 'Trance', 'Slumdog Millionaire'}"
        ],
        [
         "35",
         "Darren Aronofsky",
         "{'Pi', 'The Wrestler', 'Requiem for a Dream', 'The Fountain', 'Black Swan', 'Noah'}"
        ],
        [
         "36",
         "Darren Lynn Bousman",
         "{'Repo! The Genetic Opera', 'Saw II', \"Alleluia! The Devil's Carnival\", 'Saw III', 'Saw IV'}"
        ],
        [
         "37",
         "David Ayer",
         "{'Fury', 'Suicide Squad', 'Street Kings', 'Harsh Times', 'Sabotage', 'End of Watch'}"
        ],
        [
         "38",
         "David Cronenberg",
         "{'The Dead Zone', 'A Dangerous Method', 'Spider', 'Videodrome', 'Eastern Promises', 'eXistenZ', 'A History of Violence'}"
        ],
        [
         "39",
         "David Fincher",
         "{'The Game', 'Fight Club', 'Zodiac', 'The Social Network', 'Se7en', 'Gone Girl', 'Alien³', 'The Girl with the Dragon Tattoo', 'Panic Room', 'The Curious Case of Benjamin Button'}"
        ],
        [
         "40",
         "David Gordon Green",
         "{'All the Real Girls', 'Your Highness', 'Our Brand Is Crisis', 'The Sitter', 'Snow Angels', 'George Washington', 'Pineapple Express', 'Joe'}"
        ],
        [
         "41",
         "David Koepp",
         "{'Secret Window', 'Ghost Town', 'Stir of Echoes', 'Premium Rush', 'Mortdecai'}"
        ],
        [
         "42",
         "David Lynch",
         "{'Eraserhead', 'The Straight Story', 'Mulholland Drive', 'Dune', 'The Elephant Man'}"
        ],
        [
         "43",
         "David O. Russell",
         "{'I Heart Huckabees', 'Accidental Love', 'Joy', 'The Fighter', 'American Hustle', 'Three Kings', 'Flirting with Disaster', 'Silver Linings Playbook'}"
        ],
        [
         "44",
         "David R. Ellis",
         "{'Shark Night', 'Cellular', 'Final Destination 2', 'The Final Destination', 'Snakes on a Plane'}"
        ],
        [
         "45",
         "David Zucker",
         "{'Scary Movie 3', 'The Naked Gun 2½: The Smell of Fear', 'An American Carol', \"My Boss's Daughter\", 'Scary Movie 4'}"
        ],
        [
         "46",
         "Dennis Dugan",
         "{'Happy Gilmore', 'Grown Ups 2', 'Saving Silverman', \"You Don't Mess with the Zohan\", 'Jack and Jill', 'Grown Ups', 'Just Go with It', 'The Benchwarmers', 'Big Daddy'}"
        ],
        [
         "47",
         "Donald Petrie",
         "{'Just My Luck', 'My Favorite Martian', 'My Life in Ruins', 'Ri¢hie Ri¢h', 'Mystic Pizza', 'Welcome to Mooseport', 'How to Lose a Guy in 10 Days', 'Miss Congeniality'}"
        ],
        [
         "48",
         "Doug Liman",
         "{'The Bourne Identity', 'Fair Game', 'Mr. & Mrs. Smith', 'Swingers', 'Go', 'Edge of Tomorrow', 'Jumper'}"
        ],
        [
         "49",
         "Edward Zwick",
         "{'Courage Under Fire', 'Love & Other Drugs', 'Blood Diamond', 'The Siege', 'Legends of the Fall', 'Glory', 'The Last Samurai'}"
        ]
       ],
       "shape": {
        "columns": 2,
        "rows": 199
       }
      },
      "text/html": [
       "<div>\n",
       "<style scoped>\n",
       "    .dataframe tbody tr th:only-of-type {\n",
       "        vertical-align: middle;\n",
       "    }\n",
       "\n",
       "    .dataframe tbody tr th {\n",
       "        vertical-align: top;\n",
       "    }\n",
       "\n",
       "    .dataframe thead th {\n",
       "        text-align: right;\n",
       "    }\n",
       "</style>\n",
       "<table border=\"1\" class=\"dataframe\">\n",
       "  <thead>\n",
       "    <tr style=\"text-align: right;\">\n",
       "      <th></th>\n",
       "      <th>director_name</th>\n",
       "      <th>title</th>\n",
       "    </tr>\n",
       "  </thead>\n",
       "  <tbody>\n",
       "    <tr>\n",
       "      <th>0</th>\n",
       "      <td>Adam McKay</td>\n",
       "      <td>{Anchorman: The Legend of Ron Burgundy, Tallad...</td>\n",
       "    </tr>\n",
       "    <tr>\n",
       "      <th>1</th>\n",
       "      <td>Adam Shankman</td>\n",
       "      <td>{A Walk to Remember, Cheaper by the Dozen 2, R...</td>\n",
       "    </tr>\n",
       "    <tr>\n",
       "      <th>2</th>\n",
       "      <td>Alejandro González Iñárritu</td>\n",
       "      <td>{21 Grams, Biutiful, Babel, Birdman, Amores pe...</td>\n",
       "    </tr>\n",
       "    <tr>\n",
       "      <th>3</th>\n",
       "      <td>Alex Proyas</td>\n",
       "      <td>{Dark City, Knowing, Gods of Egypt, I, Robot, ...</td>\n",
       "    </tr>\n",
       "    <tr>\n",
       "      <th>4</th>\n",
       "      <td>Alexander Payne</td>\n",
       "      <td>{The Descendants, Sideways, About Schmidt, Ele...</td>\n",
       "    </tr>\n",
       "    <tr>\n",
       "      <th>...</th>\n",
       "      <td>...</td>\n",
       "      <td>...</td>\n",
       "    </tr>\n",
       "    <tr>\n",
       "      <th>194</th>\n",
       "      <td>Wes Craven</td>\n",
       "      <td>{My Soul to Take, Scream 2, Scream 4, A Nightm...</td>\n",
       "    </tr>\n",
       "    <tr>\n",
       "      <th>195</th>\n",
       "      <td>Wolfgang Petersen</td>\n",
       "      <td>{Outbreak, The Perfect Storm, Poseidon, Air Fo...</td>\n",
       "    </tr>\n",
       "    <tr>\n",
       "      <th>196</th>\n",
       "      <td>Woody Allen</td>\n",
       "      <td>{Whatever Works, Midnight in Paris, Blue Jasmi...</td>\n",
       "    </tr>\n",
       "    <tr>\n",
       "      <th>197</th>\n",
       "      <td>Zack Snyder</td>\n",
       "      <td>{Dawn of the Dead, Watchmen, Man of Steel, 300...</td>\n",
       "    </tr>\n",
       "    <tr>\n",
       "      <th>198</th>\n",
       "      <td>Zhang Yimou</td>\n",
       "      <td>{A Woman, a Gun and a Noodle Shop, The Flowers...</td>\n",
       "    </tr>\n",
       "  </tbody>\n",
       "</table>\n",
       "<p>199 rows × 2 columns</p>\n",
       "</div>"
      ],
      "text/plain": [
       "                   director_name  \\\n",
       "0                     Adam McKay   \n",
       "1                  Adam Shankman   \n",
       "2    Alejandro González Iñárritu   \n",
       "3                    Alex Proyas   \n",
       "4                Alexander Payne   \n",
       "..                           ...   \n",
       "194                   Wes Craven   \n",
       "195            Wolfgang Petersen   \n",
       "196                  Woody Allen   \n",
       "197                  Zack Snyder   \n",
       "198                  Zhang Yimou   \n",
       "\n",
       "                                                 title  \n",
       "0    {Anchorman: The Legend of Ron Burgundy, Tallad...  \n",
       "1    {A Walk to Remember, Cheaper by the Dozen 2, R...  \n",
       "2    {21 Grams, Biutiful, Babel, Birdman, Amores pe...  \n",
       "3    {Dark City, Knowing, Gods of Egypt, I, Robot, ...  \n",
       "4    {The Descendants, Sideways, About Schmidt, Ele...  \n",
       "..                                                 ...  \n",
       "194  {My Soul to Take, Scream 2, Scream 4, A Nightm...  \n",
       "195  {Outbreak, The Perfect Storm, Poseidon, Air Fo...  \n",
       "196  {Whatever Works, Midnight in Paris, Blue Jasmi...  \n",
       "197  {Dawn of the Dead, Watchmen, Man of Steel, 300...  \n",
       "198  {A Woman, a Gun and a Noodle Shop, The Flowers...  \n",
       "\n",
       "[199 rows x 2 columns]"
      ]
     },
     "execution_count": 53,
     "metadata": {},
     "output_type": "execute_result"
    }
   ],
   "source": [
    "df_mer.groupby('director_name')['title'].apply(set).reset_index()"
   ]
  },
  {
   "cell_type": "markdown",
   "metadata": {},
   "source": [
    "### Lambda function"
   ]
  },
  {
   "cell_type": "code",
   "execution_count": 56,
   "metadata": {},
   "outputs": [
    {
     "name": "stderr",
     "output_type": "stream",
     "text": [
      "C:\\Users\\28962\\AppData\\Local\\Temp\\ipykernel_3864\\2080057639.py:2: DeprecationWarning: DataFrameGroupBy.apply operated on the grouping columns. This behavior is deprecated, and in a future version of pandas the grouping columns will be excluded from the operation. Either pass `include_groups=False` to exclude the groupings or explicitly select the grouping columns after groupby to silence this warning.\n",
      "  df_mer.groupby('director_name').apply(lambda x: (x['revenue']-x['budget']).mean()).reset_index()\n"
     ]
    },
    {
     "data": {
      "application/vnd.microsoft.datawrangler.viewer.v0+json": {
       "columns": [
        {
         "name": "index",
         "rawType": "int64",
         "type": "integer"
        },
        {
         "name": "director_name",
         "rawType": "object",
         "type": "string"
        },
        {
         "name": "0",
         "rawType": "float64",
         "type": "float"
        }
       ],
       "conversionMethod": "pd.DataFrame",
       "ref": "f0b85d0b-7c86-41d3-976e-b51d783ad767",
       "rows": [
        [
         "0",
         "Adam McKay",
         "86.2627425"
        ],
        [
         "1",
         "Adam Shankman",
         "60.820346625"
        ],
        [
         "2",
         "Alejandro González Iñárritu",
         "112.99664516666667"
        ],
        [
         "3",
         "Alex Proyas",
         "84.5124916"
        ],
        [
         "4",
         "Alexander Payne",
         "66.4469912"
        ],
        [
         "5",
         "Andrew Adamson",
         "398.37188940000004"
        ],
        [
         "6",
         "Andrew Niccol",
         "22.446988200000003"
        ],
        [
         "7",
         "Andrzej Bartkowiak",
         "17.247287800000002"
        ],
        [
         "8",
         "Andy Fickman",
         "62.07473533333334"
        ],
        [
         "9",
         "Andy Tennant",
         "91.7766095"
        ],
        [
         "10",
         "Ang Lee",
         "128.63996237499998"
        ],
        [
         "11",
         "Anne Fletcher",
         "105.67462479999999"
        ],
        [
         "12",
         "Antoine Fuqua",
         "50.25164"
        ],
        [
         "13",
         "Atom Egoyan",
         "-5.546159500000001"
        ],
        [
         "14",
         "Barry Levinson",
         "54.17324846153846"
        ],
        [
         "15",
         "Barry Sonnenfeld",
         "209.598391"
        ],
        [
         "16",
         "Ben Stiller",
         "57.7563496"
        ],
        [
         "17",
         "Bill Condon",
         "154.18886320000001"
        ],
        [
         "18",
         "Bobby Farrelly",
         "83.20162718181818"
        ],
        [
         "19",
         "Brad Anderson",
         "9.715198000000001"
        ],
        [
         "20",
         "Brett Ratner",
         "102.0647008888889"
        ],
        [
         "21",
         "Brian De Palma",
         "40.97672925"
        ],
        [
         "22",
         "Brian Helgeland",
         "34.7335214"
        ],
        [
         "23",
         "Brian Levant",
         "65.34784633333332"
        ],
        [
         "24",
         "Brian Robbins",
         "-3.266264833333333"
        ],
        [
         "25",
         "Bryan Singer",
         "206.154375125"
        ],
        [
         "26",
         "Cameron Crowe",
         "66.78189533333334"
        ],
        [
         "27",
         "Catherine Hardwicke",
         "59.79863116666666"
        ],
        [
         "28",
         "Chris Columbus",
         "281.693773"
        ],
        [
         "29",
         "Chris Weitz",
         "195.05076366666665"
        ],
        [
         "30",
         "Christopher Nolan",
         "402.81040425000003"
        ],
        [
         "31",
         "Chuck Russell",
         "93.00089516666667"
        ],
        [
         "32",
         "Clint Eastwood",
         "91.81888884210525"
        ],
        [
         "33",
         "Curtis Hanson",
         "26.460713999999996"
        ],
        [
         "34",
         "Danny Boyle",
         "70.699068375"
        ],
        [
         "35",
         "Darren Aronofsky",
         "96.25022483333335"
        ],
        [
         "36",
         "Darren Lynn Bousman",
         "86.4685334"
        ],
        [
         "37",
         "David Ayer",
         "131.1649525"
        ],
        [
         "38",
         "David Cronenberg",
         "5.658141571428572"
        ],
        [
         "39",
         "David Fincher",
         "148.9346325"
        ],
        [
         "40",
         "David Gordon Green",
         "4.821350125"
        ],
        [
         "41",
         "David Koepp",
         "5.709683400000001"
        ],
        [
         "42",
         "David Lynch",
         "2.8087786000000006"
        ],
        [
         "43",
         "David O. Russell",
         "62.295503374999996"
        ],
        [
         "44",
         "David R. Ellis",
         "50.6329406"
        ],
        [
         "45",
         "David Zucker",
         "68.5732496"
        ],
        [
         "46",
         "Dennis Dugan",
         "100.306837"
        ],
        [
         "47",
         "Donald Petrie",
         "27.979590375"
        ],
        [
         "48",
         "Doug Liman",
         "125.78009314285714"
        ],
        [
         "49",
         "Edward Zwick",
         "100.20826899999999"
        ]
       ],
       "shape": {
        "columns": 2,
        "rows": 199
       }
      },
      "text/html": [
       "<div>\n",
       "<style scoped>\n",
       "    .dataframe tbody tr th:only-of-type {\n",
       "        vertical-align: middle;\n",
       "    }\n",
       "\n",
       "    .dataframe tbody tr th {\n",
       "        vertical-align: top;\n",
       "    }\n",
       "\n",
       "    .dataframe thead th {\n",
       "        text-align: right;\n",
       "    }\n",
       "</style>\n",
       "<table border=\"1\" class=\"dataframe\">\n",
       "  <thead>\n",
       "    <tr style=\"text-align: right;\">\n",
       "      <th></th>\n",
       "      <th>director_name</th>\n",
       "      <th>0</th>\n",
       "    </tr>\n",
       "  </thead>\n",
       "  <tbody>\n",
       "    <tr>\n",
       "      <th>0</th>\n",
       "      <td>Adam McKay</td>\n",
       "      <td>86.262743</td>\n",
       "    </tr>\n",
       "    <tr>\n",
       "      <th>1</th>\n",
       "      <td>Adam Shankman</td>\n",
       "      <td>60.820347</td>\n",
       "    </tr>\n",
       "    <tr>\n",
       "      <th>2</th>\n",
       "      <td>Alejandro González Iñárritu</td>\n",
       "      <td>112.996645</td>\n",
       "    </tr>\n",
       "    <tr>\n",
       "      <th>3</th>\n",
       "      <td>Alex Proyas</td>\n",
       "      <td>84.512492</td>\n",
       "    </tr>\n",
       "    <tr>\n",
       "      <th>4</th>\n",
       "      <td>Alexander Payne</td>\n",
       "      <td>66.446991</td>\n",
       "    </tr>\n",
       "    <tr>\n",
       "      <th>...</th>\n",
       "      <td>...</td>\n",
       "      <td>...</td>\n",
       "    </tr>\n",
       "    <tr>\n",
       "      <th>194</th>\n",
       "      <td>Wes Craven</td>\n",
       "      <td>53.099428</td>\n",
       "    </tr>\n",
       "    <tr>\n",
       "      <th>195</th>\n",
       "      <td>Wolfgang Petersen</td>\n",
       "      <td>140.573726</td>\n",
       "    </tr>\n",
       "    <tr>\n",
       "      <th>196</th>\n",
       "      <td>Woody Allen</td>\n",
       "      <td>22.717018</td>\n",
       "    </tr>\n",
       "    <tr>\n",
       "      <th>197</th>\n",
       "      <td>Zack Snyder</td>\n",
       "      <td>230.885341</td>\n",
       "    </tr>\n",
       "    <tr>\n",
       "      <th>198</th>\n",
       "      <td>Zhang Yimou</td>\n",
       "      <td>40.094950</td>\n",
       "    </tr>\n",
       "  </tbody>\n",
       "</table>\n",
       "<p>199 rows × 2 columns</p>\n",
       "</div>"
      ],
      "text/plain": [
       "                   director_name           0\n",
       "0                     Adam McKay   86.262743\n",
       "1                  Adam Shankman   60.820347\n",
       "2    Alejandro González Iñárritu  112.996645\n",
       "3                    Alex Proyas   84.512492\n",
       "4                Alexander Payne   66.446991\n",
       "..                           ...         ...\n",
       "194                   Wes Craven   53.099428\n",
       "195            Wolfgang Petersen  140.573726\n",
       "196                  Woody Allen   22.717018\n",
       "197                  Zack Snyder  230.885341\n",
       "198                  Zhang Yimou   40.094950\n",
       "\n",
       "[199 rows x 2 columns]"
      ]
     },
     "execution_count": 56,
     "metadata": {},
     "output_type": "execute_result"
    }
   ],
   "source": [
    "# df_mer.groupby('director_name')['budget'].apply(lambda x: x.mean()-x.median()).reset_index()\n",
    "df_mer.groupby('director_name').apply(lambda x: (x['revenue']-x['budget']).mean()).reset_index()"
   ]
  },
  {
   "cell_type": "markdown",
   "metadata": {},
   "source": [
    "### multiple granularity aggregations"
   ]
  },
  {
   "cell_type": "code",
   "execution_count": 62,
   "metadata": {},
   "outputs": [
    {
     "data": {
      "application/vnd.microsoft.datawrangler.viewer.v0+json": {
       "columns": [
        {
         "name": "index",
         "rawType": "int64",
         "type": "integer"
        },
        {
         "name": "director_name",
         "rawType": "object",
         "type": "string"
        },
        {
         "name": "budget",
         "rawType": "float64",
         "type": "float"
        },
        {
         "name": "revenue",
         "rawType": "float64",
         "type": "float"
        }
       ],
       "conversionMethod": "pd.DataFrame",
       "ref": "9110678f-574c-4d1e-9493-9b071697159c",
       "rows": [
        [
         "0",
         "Adam McKay",
         "56.916666666666664",
         "143.17940916666666"
        ],
        [
         "1",
         "Adam Shankman",
         "48.375",
         "109.195346625"
        ],
        [
         "2",
         "Alejandro González Iñárritu",
         "33.333333333333336",
         "146.3299785"
        ],
        [
         "3",
         "Alex Proyas",
         "70.4",
         "154.9124916"
        ],
        [
         "4",
         "Alexander Payne",
         "15.6",
         "82.04699120000001"
        ],
        [
         "5",
         "Andrew Adamson",
         "123.0",
         "521.3718894000001"
        ],
        [
         "6",
         "Andrew Niccol",
         "32.4",
         "54.8469882"
        ],
        [
         "7",
         "Andrzej Bartkowiak",
         "42.0",
         "59.2472878"
        ],
        [
         "8",
         "Andy Fickman",
         "29.166666666666668",
         "91.241402"
        ],
        [
         "9",
         "Andy Tennant",
         "51.833333333333336",
         "143.60994283333332"
        ],
        [
         "10",
         "Ang Lee",
         "45.0625",
         "173.702462375"
        ],
        [
         "11",
         "Anne Fletcher",
         "31.4",
         "137.07462479999998"
        ],
        [
         "12",
         "Antoine Fuqua",
         "47.25",
         "97.50164"
        ],
        [
         "13",
         "Atom Egoyan",
         "7.5",
         "1.9538405"
        ],
        [
         "14",
         "Barry Levinson",
         "31.153846153846153",
         "85.32709461538462"
        ],
        [
         "15",
         "Barry Sonnenfeld",
         "103.60714285714286",
         "313.2055338571428"
        ],
        [
         "16",
         "Ben Stiller",
         "61.4",
         "119.1563496"
        ],
        [
         "17",
         "Bill Condon",
         "45.6",
         "199.78886319999998"
        ],
        [
         "18",
         "Bobby Farrelly",
         "38.45454545454545",
         "121.65617263636364"
        ],
        [
         "19",
         "Brad Anderson",
         "6.9",
         "16.615198"
        ],
        [
         "20",
         "Brett Ratner",
         "90.33333333333333",
         "192.39803422222224"
        ],
        [
         "21",
         "Brian De Palma",
         "35.791666666666664",
         "76.76839591666666"
        ],
        [
         "22",
         "Brian Helgeland",
         "51.0",
         "85.7335214"
        ],
        [
         "23",
         "Brian Levant",
         "47.0",
         "112.34784633333334"
        ],
        [
         "24",
         "Brian Robbins",
         "34.333333333333336",
         "31.0670685"
        ],
        [
         "25",
         "Bryan Singer",
         "144.875",
         "351.029375125"
        ],
        [
         "26",
         "Cameron Crowe",
         "53.666666666666664",
         "120.448562"
        ],
        [
         "27",
         "Catherine Hardwicke",
         "23.5",
         "83.29863116666665"
        ],
        [
         "28",
         "Chris Columbus",
         "57.0",
         "338.693773"
        ],
        [
         "29",
         "Chris Weitz",
         "46.333333333333336",
         "241.384097"
        ],
        [
         "30",
         "Christopher Nolan",
         "125.625",
         "528.43540425"
        ],
        [
         "31",
         "Chuck Russell",
         "41.0",
         "134.00089516666665"
        ],
        [
         "32",
         "Clint Eastwood",
         "39.56842105263158",
         "131.38730989473686"
        ],
        [
         "33",
         "Curtis Hanson",
         "23.285714285714285",
         "49.74642828571429"
        ],
        [
         "34",
         "Danny Boyle",
         "22.75",
         "93.44906837500001"
        ],
        [
         "35",
         "Darren Aronofsky",
         "30.593333333333334",
         "126.84355816666668"
        ],
        [
         "36",
         "Darren Lynn Bousman",
         "4.8",
         "91.2685334"
        ],
        [
         "37",
         "David Ayer",
         "51.166666666666664",
         "182.33161916666666"
        ],
        [
         "38",
         "David Cronenberg",
         "18.493142857142857",
         "24.151284428571426"
        ],
        [
         "39",
         "David Fincher",
         "65.0",
         "213.9346325"
        ],
        [
         "40",
         "David Gordon Green",
         "16.7375",
         "21.558850125"
        ],
        [
         "41",
         "David Koepp",
         "29.4",
         "35.1096834"
        ],
        [
         "42",
         "David Lynch",
         "14.002",
         "16.8107786"
        ],
        [
         "43",
         "David O. Russell",
         "34.5",
         "96.795503375"
        ],
        [
         "44",
         "David R. Ellis",
         "30.4",
         "81.03294059999999"
        ],
        [
         "45",
         "David Zucker",
         "30.0",
         "98.5732496"
        ],
        [
         "46",
         "Dennis Dugan",
         "53.02222222222222",
         "153.3290592222222"
        ],
        [
         "47",
         "Donald Petrie",
         "34.375",
         "62.354590375"
        ],
        [
         "48",
         "Doug Liman",
         "65.95714285714286",
         "191.737236"
        ],
        [
         "49",
         "Edward Zwick",
         "62.0",
         "162.208269"
        ]
       ],
       "shape": {
        "columns": 3,
        "rows": 199
       }
      },
      "text/html": [
       "<div>\n",
       "<style scoped>\n",
       "    .dataframe tbody tr th:only-of-type {\n",
       "        vertical-align: middle;\n",
       "    }\n",
       "\n",
       "    .dataframe tbody tr th {\n",
       "        vertical-align: top;\n",
       "    }\n",
       "\n",
       "    .dataframe thead th {\n",
       "        text-align: right;\n",
       "    }\n",
       "</style>\n",
       "<table border=\"1\" class=\"dataframe\">\n",
       "  <thead>\n",
       "    <tr style=\"text-align: right;\">\n",
       "      <th></th>\n",
       "      <th>director_name</th>\n",
       "      <th>budget</th>\n",
       "      <th>revenue</th>\n",
       "    </tr>\n",
       "  </thead>\n",
       "  <tbody>\n",
       "    <tr>\n",
       "      <th>0</th>\n",
       "      <td>Adam McKay</td>\n",
       "      <td>56.916667</td>\n",
       "      <td>143.179409</td>\n",
       "    </tr>\n",
       "    <tr>\n",
       "      <th>1</th>\n",
       "      <td>Adam Shankman</td>\n",
       "      <td>48.375000</td>\n",
       "      <td>109.195347</td>\n",
       "    </tr>\n",
       "    <tr>\n",
       "      <th>2</th>\n",
       "      <td>Alejandro González Iñárritu</td>\n",
       "      <td>33.333333</td>\n",
       "      <td>146.329979</td>\n",
       "    </tr>\n",
       "    <tr>\n",
       "      <th>3</th>\n",
       "      <td>Alex Proyas</td>\n",
       "      <td>70.400000</td>\n",
       "      <td>154.912492</td>\n",
       "    </tr>\n",
       "    <tr>\n",
       "      <th>4</th>\n",
       "      <td>Alexander Payne</td>\n",
       "      <td>15.600000</td>\n",
       "      <td>82.046991</td>\n",
       "    </tr>\n",
       "    <tr>\n",
       "      <th>...</th>\n",
       "      <td>...</td>\n",
       "      <td>...</td>\n",
       "      <td>...</td>\n",
       "    </tr>\n",
       "    <tr>\n",
       "      <th>194</th>\n",
       "      <td>Wes Craven</td>\n",
       "      <td>23.380000</td>\n",
       "      <td>76.479428</td>\n",
       "    </tr>\n",
       "    <tr>\n",
       "      <th>195</th>\n",
       "      <td>Wolfgang Petersen</td>\n",
       "      <td>90.142857</td>\n",
       "      <td>230.716583</td>\n",
       "    </tr>\n",
       "    <tr>\n",
       "      <th>196</th>\n",
       "      <td>Woody Allen</td>\n",
       "      <td>11.777778</td>\n",
       "      <td>34.494796</td>\n",
       "    </tr>\n",
       "    <tr>\n",
       "      <th>197</th>\n",
       "      <td>Zack Snyder</td>\n",
       "      <td>122.857143</td>\n",
       "      <td>353.742484</td>\n",
       "    </tr>\n",
       "    <tr>\n",
       "      <th>198</th>\n",
       "      <td>Zhang Yimou</td>\n",
       "      <td>20.833352</td>\n",
       "      <td>60.928302</td>\n",
       "    </tr>\n",
       "  </tbody>\n",
       "</table>\n",
       "<p>199 rows × 3 columns</p>\n",
       "</div>"
      ],
      "text/plain": [
       "                   director_name      budget     revenue\n",
       "0                     Adam McKay   56.916667  143.179409\n",
       "1                  Adam Shankman   48.375000  109.195347\n",
       "2    Alejandro González Iñárritu   33.333333  146.329979\n",
       "3                    Alex Proyas   70.400000  154.912492\n",
       "4                Alexander Payne   15.600000   82.046991\n",
       "..                           ...         ...         ...\n",
       "194                   Wes Craven   23.380000   76.479428\n",
       "195            Wolfgang Petersen   90.142857  230.716583\n",
       "196                  Woody Allen   11.777778   34.494796\n",
       "197                  Zack Snyder  122.857143  353.742484\n",
       "198                  Zhang Yimou   20.833352   60.928302\n",
       "\n",
       "[199 rows x 3 columns]"
      ]
     },
     "execution_count": 62,
     "metadata": {},
     "output_type": "execute_result"
    }
   ],
   "source": [
    "df_mer.groupby('director_name')[['budget','revenue']].mean().reset_index()"
   ]
  },
  {
   "cell_type": "markdown",
   "metadata": {},
   "source": [
    "### multiple  aggregations (p-1)"
   ]
  },
  {
   "cell_type": "code",
   "execution_count": 59,
   "metadata": {},
   "outputs": [
    {
     "data": {
      "application/vnd.microsoft.datawrangler.viewer.v0+json": {
       "columns": [
        {
         "name": "director_name",
         "rawType": "object",
         "type": "string"
        },
        {
         "name": "a",
         "rawType": "float64",
         "type": "float"
        },
        {
         "name": "b",
         "rawType": "int64",
         "type": "integer"
        }
       ],
       "conversionMethod": "pd.DataFrame",
       "ref": "d20d0b99-81ed-4bdc-85c5-bb9fea2b08a2",
       "rows": [
        [
         "Adam McKay",
         "341.5",
         "6"
        ],
        [
         "Adam Shankman",
         "387.0",
         "8"
        ],
        [
         "Alejandro González Iñárritu",
         "200.0",
         "6"
        ],
        [
         "Alex Proyas",
         "352.0",
         "5"
        ],
        [
         "Alexander Payne",
         "78.0",
         "5"
        ],
        [
         "Andrew Adamson",
         "615.0",
         "5"
        ],
        [
         "Andrew Niccol",
         "162.0",
         "5"
        ],
        [
         "Andrzej Bartkowiak",
         "210.0",
         "5"
        ],
        [
         "Andy Fickman",
         "175.0",
         "6"
        ],
        [
         "Andy Tennant",
         "311.0",
         "6"
        ],
        [
         "Ang Lee",
         "360.5",
         "8"
        ],
        [
         "Anne Fletcher",
         "157.0",
         "5"
        ],
        [
         "Antoine Fuqua",
         "378.0",
         "8"
        ],
        [
         "Atom Egoyan",
         "45.0",
         "6"
        ],
        [
         "Barry Levinson",
         "405.0",
         "13"
        ],
        [
         "Barry Sonnenfeld",
         "725.25",
         "7"
        ],
        [
         "Ben Stiller",
         "307.0",
         "5"
        ],
        [
         "Bill Condon",
         "228.0",
         "5"
        ],
        [
         "Bobby Farrelly",
         "423.0",
         "11"
        ],
        [
         "Brad Anderson",
         "34.5",
         "5"
        ],
        [
         "Brett Ratner",
         "813.0",
         "9"
        ],
        [
         "Brian De Palma",
         "429.5",
         "12"
        ],
        [
         "Brian Helgeland",
         "255.0",
         "5"
        ],
        [
         "Brian Levant",
         "282.0",
         "6"
        ],
        [
         "Brian Robbins",
         "206.0",
         "6"
        ],
        [
         "Bryan Singer",
         "1159.0",
         "8"
        ],
        [
         "Cameron Crowe",
         "322.0",
         "6"
        ],
        [
         "Catherine Hardwicke",
         "141.0",
         "6"
        ],
        [
         "Chris Columbus",
         "627.0",
         "11"
        ],
        [
         "Chris Weitz",
         "278.0",
         "6"
        ],
        [
         "Christopher Nolan",
         "1005.0",
         "8"
        ],
        [
         "Chuck Russell",
         "246.0",
         "6"
        ],
        [
         "Clint Eastwood",
         "751.8",
         "19"
        ],
        [
         "Curtis Hanson",
         "163.0",
         "7"
        ],
        [
         "Danny Boyle",
         "182.0",
         "8"
        ],
        [
         "Darren Aronofsky",
         "183.56",
         "6"
        ],
        [
         "Darren Lynn Bousman",
         "24.0",
         "5"
        ],
        [
         "David Ayer",
         "307.0",
         "6"
        ],
        [
         "David Cronenberg",
         "129.452",
         "7"
        ],
        [
         "David Fincher",
         "650.0",
         "10"
        ],
        [
         "David Gordon Green",
         "133.9",
         "8"
        ],
        [
         "David Koepp",
         "147.0",
         "5"
        ],
        [
         "David Lynch",
         "70.01",
         "5"
        ],
        [
         "David O. Russell",
         "276.0",
         "8"
        ],
        [
         "David R. Ellis",
         "152.0",
         "5"
        ],
        [
         "David Zucker",
         "150.0",
         "5"
        ],
        [
         "Dennis Dugan",
         "477.2",
         "9"
        ],
        [
         "Donald Petrie",
         "275.0",
         "8"
        ],
        [
         "Doug Liman",
         "461.7",
         "7"
        ],
        [
         "Edward Zwick",
         "434.0",
         "7"
        ]
       ],
       "shape": {
        "columns": 2,
        "rows": 199
       }
      },
      "text/html": [
       "<div>\n",
       "<style scoped>\n",
       "    .dataframe tbody tr th:only-of-type {\n",
       "        vertical-align: middle;\n",
       "    }\n",
       "\n",
       "    .dataframe tbody tr th {\n",
       "        vertical-align: top;\n",
       "    }\n",
       "\n",
       "    .dataframe thead th {\n",
       "        text-align: right;\n",
       "    }\n",
       "</style>\n",
       "<table border=\"1\" class=\"dataframe\">\n",
       "  <thead>\n",
       "    <tr style=\"text-align: right;\">\n",
       "      <th></th>\n",
       "      <th>a</th>\n",
       "      <th>b</th>\n",
       "    </tr>\n",
       "    <tr>\n",
       "      <th>director_name</th>\n",
       "      <th></th>\n",
       "      <th></th>\n",
       "    </tr>\n",
       "  </thead>\n",
       "  <tbody>\n",
       "    <tr>\n",
       "      <th>Adam McKay</th>\n",
       "      <td>341.50000</td>\n",
       "      <td>6</td>\n",
       "    </tr>\n",
       "    <tr>\n",
       "      <th>Adam Shankman</th>\n",
       "      <td>387.00000</td>\n",
       "      <td>8</td>\n",
       "    </tr>\n",
       "    <tr>\n",
       "      <th>Alejandro González Iñárritu</th>\n",
       "      <td>200.00000</td>\n",
       "      <td>6</td>\n",
       "    </tr>\n",
       "    <tr>\n",
       "      <th>Alex Proyas</th>\n",
       "      <td>352.00000</td>\n",
       "      <td>5</td>\n",
       "    </tr>\n",
       "    <tr>\n",
       "      <th>Alexander Payne</th>\n",
       "      <td>78.00000</td>\n",
       "      <td>5</td>\n",
       "    </tr>\n",
       "    <tr>\n",
       "      <th>...</th>\n",
       "      <td>...</td>\n",
       "      <td>...</td>\n",
       "    </tr>\n",
       "    <tr>\n",
       "      <th>Wes Craven</th>\n",
       "      <td>233.80000</td>\n",
       "      <td>10</td>\n",
       "    </tr>\n",
       "    <tr>\n",
       "      <th>Wolfgang Petersen</th>\n",
       "      <td>631.00000</td>\n",
       "      <td>7</td>\n",
       "    </tr>\n",
       "    <tr>\n",
       "      <th>Woody Allen</th>\n",
       "      <td>212.00000</td>\n",
       "      <td>18</td>\n",
       "    </tr>\n",
       "    <tr>\n",
       "      <th>Zack Snyder</th>\n",
       "      <td>860.00000</td>\n",
       "      <td>7</td>\n",
       "    </tr>\n",
       "    <tr>\n",
       "      <th>Zhang Yimou</th>\n",
       "      <td>125.00011</td>\n",
       "      <td>6</td>\n",
       "    </tr>\n",
       "  </tbody>\n",
       "</table>\n",
       "<p>199 rows × 2 columns</p>\n",
       "</div>"
      ],
      "text/plain": [
       "                                     a   b\n",
       "director_name                             \n",
       "Adam McKay                   341.50000   6\n",
       "Adam Shankman                387.00000   8\n",
       "Alejandro González Iñárritu  200.00000   6\n",
       "Alex Proyas                  352.00000   5\n",
       "Alexander Payne               78.00000   5\n",
       "...                                ...  ..\n",
       "Wes Craven                   233.80000  10\n",
       "Wolfgang Petersen            631.00000   7\n",
       "Woody Allen                  212.00000  18\n",
       "Zack Snyder                  860.00000   7\n",
       "Zhang Yimou                  125.00011   6\n",
       "\n",
       "[199 rows x 2 columns]"
      ]
     },
     "execution_count": 59,
     "metadata": {},
     "output_type": "execute_result"
    }
   ],
   "source": [
    "df_mer.groupby('director_name').agg(a=('budget','sum'),\n",
    "                                    b=('revenue','count'))"
   ]
  },
  {
   "cell_type": "markdown",
   "metadata": {},
   "source": [
    "## grouped filter using apply: P(-1)"
   ]
  },
  {
   "cell_type": "code",
   "execution_count": null,
   "metadata": {},
   "outputs": [
    {
     "data": {
      "application/vnd.microsoft.datawrangler.viewer.v0+json": {
       "columns": [
        {
         "name": "index",
         "rawType": "int64",
         "type": "integer"
        },
        {
         "name": "id_x",
         "rawType": "int64",
         "type": "integer"
        },
        {
         "name": "budget",
         "rawType": "float64",
         "type": "float"
        },
        {
         "name": "popularity",
         "rawType": "int64",
         "type": "integer"
        },
        {
         "name": "revenue",
         "rawType": "float64",
         "type": "float"
        },
        {
         "name": "title",
         "rawType": "object",
         "type": "string"
        },
        {
         "name": "vote_average",
         "rawType": "float64",
         "type": "float"
        },
        {
         "name": "vote_count",
         "rawType": "int64",
         "type": "integer"
        },
        {
         "name": "director_id",
         "rawType": "int64",
         "type": "integer"
        },
        {
         "name": "year",
         "rawType": "int64",
         "type": "integer"
        },
        {
         "name": "month",
         "rawType": "object",
         "type": "string"
        },
        {
         "name": "day",
         "rawType": "object",
         "type": "string"
        },
        {
         "name": "director_name",
         "rawType": "object",
         "type": "string"
        },
        {
         "name": "id_y",
         "rawType": "int64",
         "type": "integer"
        },
        {
         "name": "gender",
         "rawType": "object",
         "type": "unknown"
        }
       ],
       "conversionMethod": "pd.DataFrame",
       "ref": "0d1d14e4-8196-437d-919f-3da8470596fc",
       "rows": [
        [
         "0",
         "43597",
         "237.0",
         "150",
         "2787.965087",
         "Avatar",
         "7.2",
         "11800",
         "4762",
         "2009",
         "Dec",
         "Thursday",
         "James Cameron",
         "4762",
         "Male"
        ],
        [
         "1",
         "43598",
         "300.0",
         "139",
         "961.0",
         "Pirates of the Caribbean: At World's End",
         "6.9",
         "4500",
         "4763",
         "2007",
         "May",
         "Saturday",
         "Gore Verbinski",
         "4763",
         "Male"
        ],
        [
         "2",
         "43599",
         "245.0",
         "107",
         "880.674609",
         "Spectre",
         "6.3",
         "4466",
         "4764",
         "2015",
         "Oct",
         "Monday",
         "Sam Mendes",
         "4764",
         "Male"
        ],
        [
         "3",
         "43600",
         "250.0",
         "112",
         "1084.939099",
         "The Dark Knight Rises",
         "7.6",
         "9106",
         "4765",
         "2012",
         "Jul",
         "Monday",
         "Christopher Nolan",
         "4765",
         "Male"
        ],
        [
         "4",
         "43602",
         "258.0",
         "115",
         "890.871626",
         "Spider-Man 3",
         "5.9",
         "3576",
         "4767",
         "2007",
         "May",
         "Tuesday",
         "Sam Raimi",
         "4767",
         "Male"
        ],
        [
         "5",
         "43606",
         "250.0",
         "155",
         "873.260194",
         "Batman v Superman: Dawn of Justice",
         "5.7",
         "7004",
         "4771",
         "2016",
         "Mar",
         "Wednesday",
         "Zack Snyder",
         "4771",
         "Male"
        ],
        [
         "6",
         "43607",
         "270.0",
         "57",
         "391.081192",
         "Superman Returns",
         "5.4",
         "1400",
         "4772",
         "2006",
         "Jun",
         "Wednesday",
         "Bryan Singer",
         "4772",
         "Male"
        ],
        [
         "7",
         "43608",
         "200.0",
         "107",
         "586.090727",
         "Quantum of Solace",
         "6.1",
         "2965",
         "4773",
         "2008",
         "Oct",
         "Thursday",
         "Marc Forster",
         "4773",
         "Male"
        ],
        [
         "8",
         "43609",
         "200.0",
         "145",
         "1065.659812",
         "Pirates of the Caribbean: Dead Man's Chest",
         "7.0",
         "5246",
         "4763",
         "2006",
         "Jun",
         "Tuesday",
         "Gore Verbinski",
         "4763",
         "Male"
        ],
        [
         "9",
         "43610",
         "255.0",
         "49",
         "89.28991",
         "The Lone Ranger",
         "5.9",
         "2311",
         "4763",
         "2013",
         "Jul",
         "Wednesday",
         "Gore Verbinski",
         "4763",
         "Male"
        ],
        [
         "10",
         "43611",
         "225.0",
         "99",
         "662.845518",
         "Man of Steel",
         "6.5",
         "6359",
         "4771",
         "2013",
         "Jun",
         "Wednesday",
         "Zack Snyder",
         "4771",
         "Male"
        ],
        [
         "11",
         "43612",
         "225.0",
         "53",
         "419.651413",
         "The Chronicles of Narnia: Prince Caspian",
         "6.3",
         "1630",
         "4774",
         "2008",
         "May",
         "Thursday",
         "Andrew Adamson",
         "4774",
         "Male"
        ],
        [
         "12",
         "43614",
         "380.0",
         "135",
         "1045.713802",
         "Pirates of the Caribbean: On Stranger Tides",
         "6.4",
         "4948",
         "4775",
         "2011",
         "May",
         "Saturday",
         "Rob Marshall",
         "4775",
         "Male"
        ],
        [
         "13",
         "43615",
         "225.0",
         "52",
         "624.026776",
         "Men in Black 3",
         "6.2",
         "4160",
         "4776",
         "2012",
         "May",
         "Wednesday",
         "Barry Sonnenfeld",
         "4776",
         "Male"
        ],
        [
         "14",
         "43616",
         "250.0",
         "120",
         "956.019788",
         "The Hobbit: The Battle of the Five Armies",
         "7.1",
         "4760",
         "4777",
         "2014",
         "Dec",
         "Wednesday",
         "Peter Jackson",
         "4777",
         "Male"
        ],
        [
         "15",
         "43618",
         "200.0",
         "37",
         "310.66954",
         "Robin Hood",
         "6.2",
         "1398",
         "4779",
         "2010",
         "May",
         "Wednesday",
         "Ridley Scott",
         "4779",
         "Male"
        ],
        [
         "16",
         "43619",
         "250.0",
         "94",
         "958.4",
         "The Hobbit: The Desolation of Smaug",
         "7.6",
         "4524",
         "4777",
         "2013",
         "Dec",
         "Wednesday",
         "Peter Jackson",
         "4777",
         "Male"
        ],
        [
         "17",
         "43620",
         "180.0",
         "42",
         "372.234864",
         "The Golden Compass",
         "5.8",
         "1303",
         "4780",
         "2007",
         "Dec",
         "Tuesday",
         "Chris Weitz",
         "4780",
         null
        ],
        [
         "18",
         "43621",
         "207.0",
         "61",
         "550.0",
         "King Kong",
         "6.6",
         "2337",
         "4777",
         "2005",
         "Dec",
         "Wednesday",
         "Peter Jackson",
         "4777",
         "Male"
        ],
        [
         "19",
         "43622",
         "200.0",
         "100",
         "1845.034188",
         "Titanic",
         "7.5",
         "7562",
         "4762",
         "1997",
         "Nov",
         "Tuesday",
         "James Cameron",
         "4762",
         "Male"
        ],
        [
         "20",
         "43624",
         "209.0",
         "64",
         "303.025485",
         "Battleship",
         "5.5",
         "2114",
         "4782",
         "2012",
         "Apr",
         "Wednesday",
         "Peter Berg",
         "4782",
         "Male"
        ],
        [
         "21",
         "43626",
         "200.0",
         "93",
         "1108.561013",
         "Skyfall",
         "6.9",
         "7604",
         "4764",
         "2012",
         "Oct",
         "Thursday",
         "Sam Mendes",
         "4764",
         "Male"
        ],
        [
         "22",
         "43627",
         "200.0",
         "35",
         "783.766341",
         "Spider-Man 2",
         "6.7",
         "4321",
         "4767",
         "2004",
         "Jun",
         "Friday",
         "Sam Raimi",
         "4767",
         "Male"
        ],
        [
         "23",
         "43629",
         "200.0",
         "78",
         "1025.49111",
         "Alice in Wonderland",
         "6.4",
         "4645",
         "4785",
         "2010",
         "Mar",
         "Wednesday",
         "Tim Burton",
         "4785",
         "Male"
        ],
        [
         "24",
         "43630",
         "210.0",
         "3",
         "459.359555",
         "X-Men: The Last Stand",
         "6.3",
         "3525",
         "4786",
         "2006",
         "May",
         "Wednesday",
         "Brett Ratner",
         "4786",
         "Male"
        ],
        [
         "25",
         "43632",
         "150.0",
         "21",
         "836.297228",
         "Transformers: Revenge of the Fallen",
         "6.0",
         "3138",
         "4788",
         "2009",
         "Jun",
         "Friday",
         "Michael Bay",
         "4788",
         "Male"
        ],
        [
         "26",
         "43633",
         "210.0",
         "116",
         "1091.405097",
         "Transformers: Age of Extinction",
         "5.8",
         "3095",
         "4788",
         "2014",
         "Jun",
         "Wednesday",
         "Michael Bay",
         "4788",
         "Male"
        ],
        [
         "27",
         "43634",
         "200.0",
         "46",
         "491.868548",
         "Oz: The Great and Powerful",
         "5.7",
         "3530",
         "4767",
         "2013",
         "Mar",
         "Thursday",
         "Sam Raimi",
         "4767",
         "Male"
        ],
        [
         "28",
         "43638",
         "200.0",
         "51",
         "219.851172",
         "Green Lantern",
         "5.1",
         "2487",
         "4791",
         "2011",
         "Jun",
         "Thursday",
         "Martin Campbell",
         "4791",
         "Male"
        ],
        [
         "29",
         "43640",
         "200.0",
         "71",
         "371.353001",
         "Terminator Salvation",
         "5.9",
         "2463",
         "4793",
         "2009",
         "May",
         "Wednesday",
         "McG",
         "4793",
         "Male"
        ],
        [
         "30",
         "43641",
         "190.0",
         "102",
         "1506.24936",
         "Furious 7",
         "7.3",
         "4176",
         "4794",
         "2015",
         "Apr",
         "Wednesday",
         "James Wan",
         "4794",
         "Male"
        ],
        [
         "31",
         "43642",
         "200.0",
         "81",
         "531.865",
         "World War Z",
         "6.7",
         "5560",
         "4773",
         "2013",
         "Jun",
         "Thursday",
         "Marc Forster",
         "4773",
         "Male"
        ],
        [
         "32",
         "43643",
         "250.0",
         "118",
         "747.862775",
         "X-Men: Days of Future Past",
         "7.5",
         "6032",
         "4772",
         "2014",
         "May",
         "Thursday",
         "Bryan Singer",
         "4772",
         "Male"
        ],
        [
         "33",
         "43645",
         "195.0",
         "43",
         "197.687603",
         "Jack the Giant Slayer",
         "5.5",
         "2598",
         "4772",
         "2013",
         "Feb",
         "Wednesday",
         "Bryan Singer",
         "4772",
         "Male"
        ],
        [
         "34",
         "43647",
         "150.0",
         "62",
         "335.154643",
         "Prince of Persia: The Sands of Time",
         "6.2",
         "2317",
         "4797",
         "2010",
         "May",
         "Wednesday",
         "Mike Newell",
         "4797",
         "Male"
        ],
        [
         "35",
         "43648",
         "180.0",
         "56",
         "407.602906",
         "Pacific Rim",
         "6.7",
         "4794",
         "4798",
         "2013",
         "Jul",
         "Thursday",
         "Guillermo del Toro",
         "4798",
         "Male"
        ],
        [
         "36",
         "43649",
         "195.0",
         "28",
         "1123.746996",
         "Transformers: Dark of the Moon",
         "6.1",
         "3299",
         "4788",
         "2011",
         "Jun",
         "Tuesday",
         "Michael Bay",
         "4788",
         "Male"
        ],
        [
         "37",
         "43650",
         "185.0",
         "75",
         "786.636033",
         "Indiana Jones and the Kingdom of the Crystal Skull",
         "5.7",
         "2495",
         "4799",
         "2008",
         "May",
         "Wednesday",
         "Steven Spielberg",
         "4799",
         "Male"
        ],
        [
         "38",
         "43653",
         "185.0",
         "65",
         "343.471816",
         "Star Trek Beyond",
         "6.6",
         "2568",
         "4802",
         "2016",
         "Jul",
         "Thursday",
         "Justin Lin",
         "4802",
         null
        ],
        [
         "39",
         "43655",
         "140.0",
         "22",
         "258.022233",
         "Rush Hour 3",
         "6.1",
         "783",
         "4786",
         "2007",
         "Aug",
         "Wednesday",
         "Brett Ratner",
         "4786",
         "Male"
        ],
        [
         "40",
         "43656",
         "200.0",
         "45",
         "769.653595",
         "2012",
         "5.6",
         "4903",
         "4803",
         "2009",
         "Oct",
         "Saturday",
         "Roland Emmerich",
         "4803",
         "Male"
        ],
        [
         "41",
         "43657",
         "200.0",
         "39",
         "325.233863",
         "A Christmas Carol",
         "6.6",
         "1095",
         "4804",
         "2009",
         "Nov",
         "Wednesday",
         "Robert Zemeckis",
         "4804",
         "Male"
        ],
        [
         "42",
         "43658",
         "176.000003",
         "85",
         "183.987723",
         "Jupiter Ascending",
         "5.2",
         "2768",
         "4805",
         "2015",
         "Feb",
         "Wednesday",
         "Lilly Wachowski",
         "4805",
         "Female"
        ],
        [
         "43",
         "43660",
         "180.0",
         "67",
         "748.806957",
         "The Chronicles of Narnia: The Lion, the Witch and the Wardrobe",
         "6.7",
         "2629",
         "4774",
         "2005",
         "Dec",
         "Wednesday",
         "Andrew Adamson",
         "4774",
         "Male"
        ],
        [
         "44",
         "43661",
         "178.0",
         "139",
         "543.934787",
         "X-Men: Apocalypse",
         "6.4",
         "4721",
         "4772",
         "2016",
         "May",
         "Wednesday",
         "Bryan Singer",
         "4772",
         "Male"
        ],
        [
         "45",
         "43662",
         "185.0",
         "187",
         "1004.558444",
         "The Dark Knight",
         "8.2",
         "12002",
         "4765",
         "2008",
         "Jul",
         "Wednesday",
         "Christopher Nolan",
         "4765",
         "Male"
        ],
        [
         "46",
         "43665",
         "140.0",
         "120",
         "585.174222",
         "Iron Man",
         "7.4",
         "8776",
         "4808",
         "2008",
         "Apr",
         "Wednesday",
         "Jon Favreau",
         "4808",
         "Male"
        ],
        [
         "47",
         "43666",
         "170.0",
         "32",
         "185.77016",
         "Hugo",
         "7.0",
         "2141",
         "4809",
         "2011",
         "Nov",
         "Tuesday",
         "Martin Scorsese",
         "4809",
         "Male"
        ],
        [
         "48",
         "43667",
         "170.0",
         "40",
         "222.104681",
         "Wild Wild West",
         "5.1",
         "1020",
         "4776",
         "1999",
         "Jun",
         "Tuesday",
         "Barry Sonnenfeld",
         "4776",
         "Male"
        ],
        [
         "49",
         "43668",
         "145.0",
         "60",
         "401.128639",
         "The Mummy: Tomb of the Dragon Emperor",
         "5.2",
         "1387",
         "4810",
         "2008",
         "Jul",
         "Tuesday",
         "Rob Cohen",
         "4810",
         "Male"
        ]
       ],
       "shape": {
        "columns": 14,
        "rows": 679
       }
      },
      "text/html": [
       "<div>\n",
       "<style scoped>\n",
       "    .dataframe tbody tr th:only-of-type {\n",
       "        vertical-align: middle;\n",
       "    }\n",
       "\n",
       "    .dataframe tbody tr th {\n",
       "        vertical-align: top;\n",
       "    }\n",
       "\n",
       "    .dataframe thead th {\n",
       "        text-align: right;\n",
       "    }\n",
       "</style>\n",
       "<table border=\"1\" class=\"dataframe\">\n",
       "  <thead>\n",
       "    <tr style=\"text-align: right;\">\n",
       "      <th></th>\n",
       "      <th>id_x</th>\n",
       "      <th>budget</th>\n",
       "      <th>popularity</th>\n",
       "      <th>revenue</th>\n",
       "      <th>title</th>\n",
       "      <th>vote_average</th>\n",
       "      <th>vote_count</th>\n",
       "      <th>director_id</th>\n",
       "      <th>year</th>\n",
       "      <th>month</th>\n",
       "      <th>day</th>\n",
       "      <th>director_name</th>\n",
       "      <th>id_y</th>\n",
       "      <th>gender</th>\n",
       "    </tr>\n",
       "  </thead>\n",
       "  <tbody>\n",
       "    <tr>\n",
       "      <th>0</th>\n",
       "      <td>43597</td>\n",
       "      <td>237.00</td>\n",
       "      <td>150</td>\n",
       "      <td>2787.965087</td>\n",
       "      <td>Avatar</td>\n",
       "      <td>7.2</td>\n",
       "      <td>11800</td>\n",
       "      <td>4762</td>\n",
       "      <td>2009</td>\n",
       "      <td>Dec</td>\n",
       "      <td>Thursday</td>\n",
       "      <td>James Cameron</td>\n",
       "      <td>4762</td>\n",
       "      <td>Male</td>\n",
       "    </tr>\n",
       "    <tr>\n",
       "      <th>1</th>\n",
       "      <td>43598</td>\n",
       "      <td>300.00</td>\n",
       "      <td>139</td>\n",
       "      <td>961.000000</td>\n",
       "      <td>Pirates of the Caribbean: At World's End</td>\n",
       "      <td>6.9</td>\n",
       "      <td>4500</td>\n",
       "      <td>4763</td>\n",
       "      <td>2007</td>\n",
       "      <td>May</td>\n",
       "      <td>Saturday</td>\n",
       "      <td>Gore Verbinski</td>\n",
       "      <td>4763</td>\n",
       "      <td>Male</td>\n",
       "    </tr>\n",
       "    <tr>\n",
       "      <th>2</th>\n",
       "      <td>43599</td>\n",
       "      <td>245.00</td>\n",
       "      <td>107</td>\n",
       "      <td>880.674609</td>\n",
       "      <td>Spectre</td>\n",
       "      <td>6.3</td>\n",
       "      <td>4466</td>\n",
       "      <td>4764</td>\n",
       "      <td>2015</td>\n",
       "      <td>Oct</td>\n",
       "      <td>Monday</td>\n",
       "      <td>Sam Mendes</td>\n",
       "      <td>4764</td>\n",
       "      <td>Male</td>\n",
       "    </tr>\n",
       "    <tr>\n",
       "      <th>3</th>\n",
       "      <td>43600</td>\n",
       "      <td>250.00</td>\n",
       "      <td>112</td>\n",
       "      <td>1084.939099</td>\n",
       "      <td>The Dark Knight Rises</td>\n",
       "      <td>7.6</td>\n",
       "      <td>9106</td>\n",
       "      <td>4765</td>\n",
       "      <td>2012</td>\n",
       "      <td>Jul</td>\n",
       "      <td>Monday</td>\n",
       "      <td>Christopher Nolan</td>\n",
       "      <td>4765</td>\n",
       "      <td>Male</td>\n",
       "    </tr>\n",
       "    <tr>\n",
       "      <th>4</th>\n",
       "      <td>43602</td>\n",
       "      <td>258.00</td>\n",
       "      <td>115</td>\n",
       "      <td>890.871626</td>\n",
       "      <td>Spider-Man 3</td>\n",
       "      <td>5.9</td>\n",
       "      <td>3576</td>\n",
       "      <td>4767</td>\n",
       "      <td>2007</td>\n",
       "      <td>May</td>\n",
       "      <td>Tuesday</td>\n",
       "      <td>Sam Raimi</td>\n",
       "      <td>4767</td>\n",
       "      <td>Male</td>\n",
       "    </tr>\n",
       "    <tr>\n",
       "      <th>...</th>\n",
       "      <td>...</td>\n",
       "      <td>...</td>\n",
       "      <td>...</td>\n",
       "      <td>...</td>\n",
       "      <td>...</td>\n",
       "      <td>...</td>\n",
       "      <td>...</td>\n",
       "      <td>...</td>\n",
       "      <td>...</td>\n",
       "      <td>...</td>\n",
       "      <td>...</td>\n",
       "      <td>...</td>\n",
       "      <td>...</td>\n",
       "      <td>...</td>\n",
       "    </tr>\n",
       "    <tr>\n",
       "      <th>1450</th>\n",
       "      <td>48267</td>\n",
       "      <td>0.40</td>\n",
       "      <td>33</td>\n",
       "      <td>100.000000</td>\n",
       "      <td>Mad Max</td>\n",
       "      <td>6.6</td>\n",
       "      <td>1213</td>\n",
       "      <td>4845</td>\n",
       "      <td>1979</td>\n",
       "      <td>Apr</td>\n",
       "      <td>Thursday</td>\n",
       "      <td>George Miller</td>\n",
       "      <td>4845</td>\n",
       "      <td>Male</td>\n",
       "    </tr>\n",
       "    <tr>\n",
       "      <th>1451</th>\n",
       "      <td>48268</td>\n",
       "      <td>0.20</td>\n",
       "      <td>13</td>\n",
       "      <td>4.505922</td>\n",
       "      <td>Swingers</td>\n",
       "      <td>6.8</td>\n",
       "      <td>253</td>\n",
       "      <td>4813</td>\n",
       "      <td>1996</td>\n",
       "      <td>Oct</td>\n",
       "      <td>Friday</td>\n",
       "      <td>Doug Liman</td>\n",
       "      <td>4813</td>\n",
       "      <td>Male</td>\n",
       "    </tr>\n",
       "    <tr>\n",
       "      <th>1452</th>\n",
       "      <td>48274</td>\n",
       "      <td>0.00</td>\n",
       "      <td>5</td>\n",
       "      <td>2.611555</td>\n",
       "      <td>Three</td>\n",
       "      <td>6.3</td>\n",
       "      <td>31</td>\n",
       "      <td>4936</td>\n",
       "      <td>2010</td>\n",
       "      <td>Dec</td>\n",
       "      <td>Thursday</td>\n",
       "      <td>Tom Tykwer</td>\n",
       "      <td>4936</td>\n",
       "      <td>Male</td>\n",
       "    </tr>\n",
       "    <tr>\n",
       "      <th>1458</th>\n",
       "      <td>48335</td>\n",
       "      <td>0.06</td>\n",
       "      <td>27</td>\n",
       "      <td>3.221152</td>\n",
       "      <td>Pi</td>\n",
       "      <td>7.1</td>\n",
       "      <td>586</td>\n",
       "      <td>4881</td>\n",
       "      <td>1998</td>\n",
       "      <td>Jul</td>\n",
       "      <td>Friday</td>\n",
       "      <td>Darren Aronofsky</td>\n",
       "      <td>4881</td>\n",
       "      <td>Male</td>\n",
       "    </tr>\n",
       "    <tr>\n",
       "      <th>1460</th>\n",
       "      <td>48363</td>\n",
       "      <td>0.00</td>\n",
       "      <td>3</td>\n",
       "      <td>0.321952</td>\n",
       "      <td>The Last Waltz</td>\n",
       "      <td>7.9</td>\n",
       "      <td>64</td>\n",
       "      <td>4809</td>\n",
       "      <td>1978</td>\n",
       "      <td>May</td>\n",
       "      <td>Monday</td>\n",
       "      <td>Martin Scorsese</td>\n",
       "      <td>4809</td>\n",
       "      <td>Male</td>\n",
       "    </tr>\n",
       "  </tbody>\n",
       "</table>\n",
       "<p>679 rows × 14 columns</p>\n",
       "</div>"
      ],
      "text/plain": [
       "       id_x  budget  popularity      revenue  \\\n",
       "0     43597  237.00         150  2787.965087   \n",
       "1     43598  300.00         139   961.000000   \n",
       "2     43599  245.00         107   880.674609   \n",
       "3     43600  250.00         112  1084.939099   \n",
       "4     43602  258.00         115   890.871626   \n",
       "...     ...     ...         ...          ...   \n",
       "1450  48267    0.40          33   100.000000   \n",
       "1451  48268    0.20          13     4.505922   \n",
       "1452  48274    0.00           5     2.611555   \n",
       "1458  48335    0.06          27     3.221152   \n",
       "1460  48363    0.00           3     0.321952   \n",
       "\n",
       "                                         title  vote_average  vote_count  \\\n",
       "0                                       Avatar           7.2       11800   \n",
       "1     Pirates of the Caribbean: At World's End           6.9        4500   \n",
       "2                                      Spectre           6.3        4466   \n",
       "3                        The Dark Knight Rises           7.6        9106   \n",
       "4                                 Spider-Man 3           5.9        3576   \n",
       "...                                        ...           ...         ...   \n",
       "1450                                   Mad Max           6.6        1213   \n",
       "1451                                  Swingers           6.8         253   \n",
       "1452                                     Three           6.3          31   \n",
       "1458                                        Pi           7.1         586   \n",
       "1460                            The Last Waltz           7.9          64   \n",
       "\n",
       "      director_id  year month       day      director_name  id_y gender  \n",
       "0            4762  2009   Dec  Thursday      James Cameron  4762   Male  \n",
       "1            4763  2007   May  Saturday     Gore Verbinski  4763   Male  \n",
       "2            4764  2015   Oct    Monday         Sam Mendes  4764   Male  \n",
       "3            4765  2012   Jul    Monday  Christopher Nolan  4765   Male  \n",
       "4            4767  2007   May   Tuesday          Sam Raimi  4767   Male  \n",
       "...           ...   ...   ...       ...                ...   ...    ...  \n",
       "1450         4845  1979   Apr  Thursday      George Miller  4845   Male  \n",
       "1451         4813  1996   Oct    Friday         Doug Liman  4813   Male  \n",
       "1452         4936  2010   Dec  Thursday         Tom Tykwer  4936   Male  \n",
       "1458         4881  1998   Jul    Friday   Darren Aronofsky  4881   Male  \n",
       "1460         4809  1978   May    Monday    Martin Scorsese  4809   Male  \n",
       "\n",
       "[679 rows x 14 columns]"
      ]
     },
     "execution_count": 25,
     "metadata": {},
     "output_type": "execute_result"
    }
   ],
   "source": [
    "# FILTER FUNCTION RETURNS ITERABLE\n",
    "df_mer.groupby('director_name').filter(lambda x: x['budget'].max()>=100)"
   ]
  },
  {
   "cell_type": "markdown",
   "metadata": {},
   "source": [
    "# Multiple index df"
   ]
  },
  {
   "cell_type": "code",
   "execution_count": 20,
   "metadata": {},
   "outputs": [
    {
     "name": "stderr",
     "output_type": "stream",
     "text": [
      "C:\\Users\\28962\\AppData\\Local\\Temp\\ipykernel_18800\\2435733554.py:1: FutureWarning: The provided callable <built-in function max> is currently using SeriesGroupBy.max. In a future version of pandas, the provided callable will be used directly. To keep current behavior pass the string \"max\" instead.\n",
      "  df_mult_index=df_mer.groupby('director_name')[['year', 'title']].aggregate({'year':['min',max],\n"
     ]
    },
    {
     "data": {
      "application/vnd.microsoft.datawrangler.viewer.v0+json": {
       "columns": [
        {
         "name": "director_name",
         "rawType": "object",
         "type": "string"
        },
        {
         "name": "('year', 'min')",
         "rawType": "int64",
         "type": "integer"
        },
        {
         "name": "('year', 'max')",
         "rawType": "int64",
         "type": "integer"
        },
        {
         "name": "('title', 'count')",
         "rawType": "int64",
         "type": "integer"
        }
       ],
       "conversionMethod": "pd.DataFrame",
       "ref": "6974ba60-0ea8-4d23-9d4d-754f3ffd98b2",
       "rows": [
        [
         "Adam McKay",
         "2004",
         "2015",
         "6"
        ],
        [
         "Adam Shankman",
         "2001",
         "2012",
         "8"
        ],
        [
         "Alejandro González Iñárritu",
         "2000",
         "2015",
         "6"
        ],
        [
         "Alex Proyas",
         "1994",
         "2016",
         "5"
        ],
        [
         "Alexander Payne",
         "1999",
         "2013",
         "5"
        ],
        [
         "Andrew Adamson",
         "2001",
         "2012",
         "5"
        ],
        [
         "Andrew Niccol",
         "1997",
         "2015",
         "5"
        ],
        [
         "Andrzej Bartkowiak",
         "2000",
         "2009",
         "5"
        ],
        [
         "Andy Fickman",
         "2006",
         "2015",
         "6"
        ],
        [
         "Andy Tennant",
         "1998",
         "2010",
         "6"
        ],
        [
         "Ang Lee",
         "1995",
         "2012",
         "8"
        ],
        [
         "Anne Fletcher",
         "2006",
         "2015",
         "5"
        ],
        [
         "Antoine Fuqua",
         "1998",
         "2015",
         "8"
        ],
        [
         "Atom Egoyan",
         "1994",
         "2009",
         "6"
        ],
        [
         "Barry Levinson",
         "1982",
         "2008",
         "13"
        ],
        [
         "Barry Sonnenfeld",
         "1991",
         "2012",
         "7"
        ],
        [
         "Ben Stiller",
         "1996",
         "2016",
         "5"
        ],
        [
         "Bill Condon",
         "1998",
         "2013",
         "5"
        ],
        [
         "Bobby Farrelly",
         "1994",
         "2014",
         "11"
        ],
        [
         "Brad Anderson",
         "1998",
         "2013",
         "5"
        ],
        [
         "Brett Ratner",
         "1997",
         "2014",
         "9"
        ],
        [
         "Brian De Palma",
         "1980",
         "2007",
         "12"
        ],
        [
         "Brian Helgeland",
         "1999",
         "2015",
         "5"
        ],
        [
         "Brian Levant",
         "1994",
         "2010",
         "6"
        ],
        [
         "Brian Robbins",
         "1999",
         "2012",
         "6"
        ],
        [
         "Bryan Singer",
         "1995",
         "2016",
         "8"
        ],
        [
         "Cameron Crowe",
         "1996",
         "2015",
         "6"
        ],
        [
         "Catherine Hardwicke",
         "2003",
         "2013",
         "6"
        ],
        [
         "Chris Columbus",
         "1990",
         "2015",
         "11"
        ],
        [
         "Chris Weitz",
         "1999",
         "2011",
         "6"
        ],
        [
         "Christopher Nolan",
         "2000",
         "2014",
         "8"
        ],
        [
         "Chuck Russell",
         "1987",
         "2016",
         "6"
        ],
        [
         "Clint Eastwood",
         "1982",
         "2014",
         "19"
        ],
        [
         "Curtis Hanson",
         "1983",
         "2012",
         "7"
        ],
        [
         "Danny Boyle",
         "1996",
         "2015",
         "8"
        ],
        [
         "Darren Aronofsky",
         "1998",
         "2014",
         "6"
        ],
        [
         "Darren Lynn Bousman",
         "2005",
         "2016",
         "5"
        ],
        [
         "David Ayer",
         "2005",
         "2016",
         "6"
        ],
        [
         "David Cronenberg",
         "1983",
         "2011",
         "7"
        ],
        [
         "David Fincher",
         "1992",
         "2014",
         "10"
        ],
        [
         "David Gordon Green",
         "2000",
         "2015",
         "8"
        ],
        [
         "David Koepp",
         "1999",
         "2015",
         "5"
        ],
        [
         "David Lynch",
         "1977",
         "2001",
         "5"
        ],
        [
         "David O. Russell",
         "1996",
         "2015",
         "8"
        ],
        [
         "David R. Ellis",
         "2003",
         "2011",
         "5"
        ],
        [
         "David Zucker",
         "1991",
         "2008",
         "5"
        ],
        [
         "Dennis Dugan",
         "1996",
         "2013",
         "9"
        ],
        [
         "Donald Petrie",
         "1988",
         "2009",
         "8"
        ],
        [
         "Doug Liman",
         "1996",
         "2014",
         "7"
        ],
        [
         "Edward Zwick",
         "1989",
         "2010",
         "7"
        ]
       ],
       "shape": {
        "columns": 3,
        "rows": 199
       }
      },
      "text/html": [
       "<div>\n",
       "<style scoped>\n",
       "    .dataframe tbody tr th:only-of-type {\n",
       "        vertical-align: middle;\n",
       "    }\n",
       "\n",
       "    .dataframe tbody tr th {\n",
       "        vertical-align: top;\n",
       "    }\n",
       "\n",
       "    .dataframe thead tr th {\n",
       "        text-align: left;\n",
       "    }\n",
       "\n",
       "    .dataframe thead tr:last-of-type th {\n",
       "        text-align: right;\n",
       "    }\n",
       "</style>\n",
       "<table border=\"1\" class=\"dataframe\">\n",
       "  <thead>\n",
       "    <tr>\n",
       "      <th></th>\n",
       "      <th colspan=\"2\" halign=\"left\">year</th>\n",
       "      <th>title</th>\n",
       "    </tr>\n",
       "    <tr>\n",
       "      <th></th>\n",
       "      <th>min</th>\n",
       "      <th>max</th>\n",
       "      <th>count</th>\n",
       "    </tr>\n",
       "    <tr>\n",
       "      <th>director_name</th>\n",
       "      <th></th>\n",
       "      <th></th>\n",
       "      <th></th>\n",
       "    </tr>\n",
       "  </thead>\n",
       "  <tbody>\n",
       "    <tr>\n",
       "      <th>Adam McKay</th>\n",
       "      <td>2004</td>\n",
       "      <td>2015</td>\n",
       "      <td>6</td>\n",
       "    </tr>\n",
       "    <tr>\n",
       "      <th>Adam Shankman</th>\n",
       "      <td>2001</td>\n",
       "      <td>2012</td>\n",
       "      <td>8</td>\n",
       "    </tr>\n",
       "    <tr>\n",
       "      <th>Alejandro González Iñárritu</th>\n",
       "      <td>2000</td>\n",
       "      <td>2015</td>\n",
       "      <td>6</td>\n",
       "    </tr>\n",
       "    <tr>\n",
       "      <th>Alex Proyas</th>\n",
       "      <td>1994</td>\n",
       "      <td>2016</td>\n",
       "      <td>5</td>\n",
       "    </tr>\n",
       "    <tr>\n",
       "      <th>Alexander Payne</th>\n",
       "      <td>1999</td>\n",
       "      <td>2013</td>\n",
       "      <td>5</td>\n",
       "    </tr>\n",
       "    <tr>\n",
       "      <th>...</th>\n",
       "      <td>...</td>\n",
       "      <td>...</td>\n",
       "      <td>...</td>\n",
       "    </tr>\n",
       "    <tr>\n",
       "      <th>Wes Craven</th>\n",
       "      <td>1984</td>\n",
       "      <td>2011</td>\n",
       "      <td>10</td>\n",
       "    </tr>\n",
       "    <tr>\n",
       "      <th>Wolfgang Petersen</th>\n",
       "      <td>1981</td>\n",
       "      <td>2006</td>\n",
       "      <td>7</td>\n",
       "    </tr>\n",
       "    <tr>\n",
       "      <th>Woody Allen</th>\n",
       "      <td>1977</td>\n",
       "      <td>2013</td>\n",
       "      <td>18</td>\n",
       "    </tr>\n",
       "    <tr>\n",
       "      <th>Zack Snyder</th>\n",
       "      <td>2004</td>\n",
       "      <td>2016</td>\n",
       "      <td>7</td>\n",
       "    </tr>\n",
       "    <tr>\n",
       "      <th>Zhang Yimou</th>\n",
       "      <td>2002</td>\n",
       "      <td>2014</td>\n",
       "      <td>6</td>\n",
       "    </tr>\n",
       "  </tbody>\n",
       "</table>\n",
       "<p>199 rows × 3 columns</p>\n",
       "</div>"
      ],
      "text/plain": [
       "                             year       title\n",
       "                              min   max count\n",
       "director_name                                \n",
       "Adam McKay                   2004  2015     6\n",
       "Adam Shankman                2001  2012     8\n",
       "Alejandro González Iñárritu  2000  2015     6\n",
       "Alex Proyas                  1994  2016     5\n",
       "Alexander Payne              1999  2013     5\n",
       "...                           ...   ...   ...\n",
       "Wes Craven                   1984  2011    10\n",
       "Wolfgang Petersen            1981  2006     7\n",
       "Woody Allen                  1977  2013    18\n",
       "Zack Snyder                  2004  2016     7\n",
       "Zhang Yimou                  2002  2014     6\n",
       "\n",
       "[199 rows x 3 columns]"
      ]
     },
     "execution_count": 20,
     "metadata": {},
     "output_type": "execute_result"
    }
   ],
   "source": [
    "df_mult_index=df_mer.groupby('director_name')[['year', 'title']].aggregate({'year':['min',max],\n",
    "                             'title':'count'})\n",
    "df_mult_index"
   ]
  },
  {
   "cell_type": "code",
   "execution_count": 18,
   "metadata": {},
   "outputs": [
    {
     "data": {
      "application/vnd.microsoft.datawrangler.viewer.v0+json": {
       "columns": [
        {
         "name": "director_name",
         "rawType": "object",
         "type": "string"
        },
        {
         "name": "min",
         "rawType": "int64",
         "type": "integer"
        },
        {
         "name": "max",
         "rawType": "int64",
         "type": "integer"
        }
       ],
       "conversionMethod": "pd.DataFrame",
       "ref": "4445f7ca-da69-426c-93ca-812fe855fadc",
       "rows": [
        [
         "Adam McKay",
         "2004",
         "2015"
        ],
        [
         "Adam Shankman",
         "2001",
         "2012"
        ],
        [
         "Alejandro González Iñárritu",
         "2000",
         "2015"
        ],
        [
         "Alex Proyas",
         "1994",
         "2016"
        ],
        [
         "Alexander Payne",
         "1999",
         "2013"
        ],
        [
         "Andrew Adamson",
         "2001",
         "2012"
        ],
        [
         "Andrew Niccol",
         "1997",
         "2015"
        ],
        [
         "Andrzej Bartkowiak",
         "2000",
         "2009"
        ],
        [
         "Andy Fickman",
         "2006",
         "2015"
        ],
        [
         "Andy Tennant",
         "1998",
         "2010"
        ],
        [
         "Ang Lee",
         "1995",
         "2012"
        ],
        [
         "Anne Fletcher",
         "2006",
         "2015"
        ],
        [
         "Antoine Fuqua",
         "1998",
         "2015"
        ],
        [
         "Atom Egoyan",
         "1994",
         "2009"
        ],
        [
         "Barry Levinson",
         "1982",
         "2008"
        ],
        [
         "Barry Sonnenfeld",
         "1991",
         "2012"
        ],
        [
         "Ben Stiller",
         "1996",
         "2016"
        ],
        [
         "Bill Condon",
         "1998",
         "2013"
        ],
        [
         "Bobby Farrelly",
         "1994",
         "2014"
        ],
        [
         "Brad Anderson",
         "1998",
         "2013"
        ],
        [
         "Brett Ratner",
         "1997",
         "2014"
        ],
        [
         "Brian De Palma",
         "1980",
         "2007"
        ],
        [
         "Brian Helgeland",
         "1999",
         "2015"
        ],
        [
         "Brian Levant",
         "1994",
         "2010"
        ],
        [
         "Brian Robbins",
         "1999",
         "2012"
        ],
        [
         "Bryan Singer",
         "1995",
         "2016"
        ],
        [
         "Cameron Crowe",
         "1996",
         "2015"
        ],
        [
         "Catherine Hardwicke",
         "2003",
         "2013"
        ],
        [
         "Chris Columbus",
         "1990",
         "2015"
        ],
        [
         "Chris Weitz",
         "1999",
         "2011"
        ],
        [
         "Christopher Nolan",
         "2000",
         "2014"
        ],
        [
         "Chuck Russell",
         "1987",
         "2016"
        ],
        [
         "Clint Eastwood",
         "1982",
         "2014"
        ],
        [
         "Curtis Hanson",
         "1983",
         "2012"
        ],
        [
         "Danny Boyle",
         "1996",
         "2015"
        ],
        [
         "Darren Aronofsky",
         "1998",
         "2014"
        ],
        [
         "Darren Lynn Bousman",
         "2005",
         "2016"
        ],
        [
         "David Ayer",
         "2005",
         "2016"
        ],
        [
         "David Cronenberg",
         "1983",
         "2011"
        ],
        [
         "David Fincher",
         "1992",
         "2014"
        ],
        [
         "David Gordon Green",
         "2000",
         "2015"
        ],
        [
         "David Koepp",
         "1999",
         "2015"
        ],
        [
         "David Lynch",
         "1977",
         "2001"
        ],
        [
         "David O. Russell",
         "1996",
         "2015"
        ],
        [
         "David R. Ellis",
         "2003",
         "2011"
        ],
        [
         "David Zucker",
         "1991",
         "2008"
        ],
        [
         "Dennis Dugan",
         "1996",
         "2013"
        ],
        [
         "Donald Petrie",
         "1988",
         "2009"
        ],
        [
         "Doug Liman",
         "1996",
         "2014"
        ],
        [
         "Edward Zwick",
         "1989",
         "2010"
        ]
       ],
       "shape": {
        "columns": 2,
        "rows": 199
       }
      },
      "text/html": [
       "<div>\n",
       "<style scoped>\n",
       "    .dataframe tbody tr th:only-of-type {\n",
       "        vertical-align: middle;\n",
       "    }\n",
       "\n",
       "    .dataframe tbody tr th {\n",
       "        vertical-align: top;\n",
       "    }\n",
       "\n",
       "    .dataframe thead th {\n",
       "        text-align: right;\n",
       "    }\n",
       "</style>\n",
       "<table border=\"1\" class=\"dataframe\">\n",
       "  <thead>\n",
       "    <tr style=\"text-align: right;\">\n",
       "      <th></th>\n",
       "      <th>min</th>\n",
       "      <th>max</th>\n",
       "    </tr>\n",
       "    <tr>\n",
       "      <th>director_name</th>\n",
       "      <th></th>\n",
       "      <th></th>\n",
       "    </tr>\n",
       "  </thead>\n",
       "  <tbody>\n",
       "    <tr>\n",
       "      <th>Adam McKay</th>\n",
       "      <td>2004</td>\n",
       "      <td>2015</td>\n",
       "    </tr>\n",
       "    <tr>\n",
       "      <th>Adam Shankman</th>\n",
       "      <td>2001</td>\n",
       "      <td>2012</td>\n",
       "    </tr>\n",
       "    <tr>\n",
       "      <th>Alejandro González Iñárritu</th>\n",
       "      <td>2000</td>\n",
       "      <td>2015</td>\n",
       "    </tr>\n",
       "    <tr>\n",
       "      <th>Alex Proyas</th>\n",
       "      <td>1994</td>\n",
       "      <td>2016</td>\n",
       "    </tr>\n",
       "    <tr>\n",
       "      <th>Alexander Payne</th>\n",
       "      <td>1999</td>\n",
       "      <td>2013</td>\n",
       "    </tr>\n",
       "    <tr>\n",
       "      <th>...</th>\n",
       "      <td>...</td>\n",
       "      <td>...</td>\n",
       "    </tr>\n",
       "    <tr>\n",
       "      <th>Wes Craven</th>\n",
       "      <td>1984</td>\n",
       "      <td>2011</td>\n",
       "    </tr>\n",
       "    <tr>\n",
       "      <th>Wolfgang Petersen</th>\n",
       "      <td>1981</td>\n",
       "      <td>2006</td>\n",
       "    </tr>\n",
       "    <tr>\n",
       "      <th>Woody Allen</th>\n",
       "      <td>1977</td>\n",
       "      <td>2013</td>\n",
       "    </tr>\n",
       "    <tr>\n",
       "      <th>Zack Snyder</th>\n",
       "      <td>2004</td>\n",
       "      <td>2016</td>\n",
       "    </tr>\n",
       "    <tr>\n",
       "      <th>Zhang Yimou</th>\n",
       "      <td>2002</td>\n",
       "      <td>2014</td>\n",
       "    </tr>\n",
       "  </tbody>\n",
       "</table>\n",
       "<p>199 rows × 2 columns</p>\n",
       "</div>"
      ],
      "text/plain": [
       "                              min   max\n",
       "director_name                          \n",
       "Adam McKay                   2004  2015\n",
       "Adam Shankman                2001  2012\n",
       "Alejandro González Iñárritu  2000  2015\n",
       "Alex Proyas                  1994  2016\n",
       "Alexander Payne              1999  2013\n",
       "...                           ...   ...\n",
       "Wes Craven                   1984  2011\n",
       "Wolfgang Petersen            1981  2006\n",
       "Woody Allen                  1977  2013\n",
       "Zack Snyder                  2004  2016\n",
       "Zhang Yimou                  2002  2014\n",
       "\n",
       "[199 rows x 2 columns]"
      ]
     },
     "execution_count": 18,
     "metadata": {},
     "output_type": "execute_result"
    }
   ],
   "source": [
    "df_mult_index['year']"
   ]
  },
  {
   "cell_type": "markdown",
   "metadata": {},
   "source": [
    "# Problems"
   ]
  },
  {
   "cell_type": "markdown",
   "metadata": {},
   "source": [
    "## Startswith and ends with"
   ]
  },
  {
   "cell_type": "markdown",
   "metadata": {},
   "source": [
    "## Split"
   ]
  },
  {
   "cell_type": "code",
   "execution_count": 46,
   "metadata": {},
   "outputs": [],
   "source": [
    "import pandas as pd\n",
    "df = pd.DataFrame({'City\\tState': [\"Kolkata\\tWest Bengal\", \"Chennai\\tTamil Nadu\", \"Hyderabad\\tTelengana\", \"Bangalore\\tKarnataka\"]})"
   ]
  },
  {
   "cell_type": "code",
   "execution_count": 47,
   "metadata": {},
   "outputs": [],
   "source": [
    "df[['City', 'State']] = df['City\\tState'].str.split('\\t', expand=True)"
   ]
  },
  {
   "cell_type": "code",
   "execution_count": 48,
   "metadata": {},
   "outputs": [
    {
     "data": {
      "application/vnd.microsoft.datawrangler.viewer.v0+json": {
       "columns": [
        {
         "name": "index",
         "rawType": "int64",
         "type": "integer"
        },
        {
         "name": "City",
         "rawType": "object",
         "type": "string"
        },
        {
         "name": "State",
         "rawType": "object",
         "type": "string"
        }
       ],
       "conversionMethod": "pd.DataFrame",
       "ref": "c6a36386-0878-49c6-9576-124c6304d63c",
       "rows": [
        [
         "0",
         "Kolkata",
         "West Bengal"
        ],
        [
         "1",
         "Chennai",
         "Tamil Nadu"
        ],
        [
         "2",
         "Hyderabad",
         "Telengana"
        ],
        [
         "3",
         "Bangalore",
         "Karnataka"
        ]
       ],
       "shape": {
        "columns": 2,
        "rows": 4
       }
      },
      "text/html": [
       "<div>\n",
       "<style scoped>\n",
       "    .dataframe tbody tr th:only-of-type {\n",
       "        vertical-align: middle;\n",
       "    }\n",
       "\n",
       "    .dataframe tbody tr th {\n",
       "        vertical-align: top;\n",
       "    }\n",
       "\n",
       "    .dataframe thead th {\n",
       "        text-align: right;\n",
       "    }\n",
       "</style>\n",
       "<table border=\"1\" class=\"dataframe\">\n",
       "  <thead>\n",
       "    <tr style=\"text-align: right;\">\n",
       "      <th></th>\n",
       "      <th>City</th>\n",
       "      <th>State</th>\n",
       "    </tr>\n",
       "  </thead>\n",
       "  <tbody>\n",
       "    <tr>\n",
       "      <th>0</th>\n",
       "      <td>Kolkata</td>\n",
       "      <td>West Bengal</td>\n",
       "    </tr>\n",
       "    <tr>\n",
       "      <th>1</th>\n",
       "      <td>Chennai</td>\n",
       "      <td>Tamil Nadu</td>\n",
       "    </tr>\n",
       "    <tr>\n",
       "      <th>2</th>\n",
       "      <td>Hyderabad</td>\n",
       "      <td>Telengana</td>\n",
       "    </tr>\n",
       "    <tr>\n",
       "      <th>3</th>\n",
       "      <td>Bangalore</td>\n",
       "      <td>Karnataka</td>\n",
       "    </tr>\n",
       "  </tbody>\n",
       "</table>\n",
       "</div>"
      ],
      "text/plain": [
       "        City        State\n",
       "0    Kolkata  West Bengal\n",
       "1    Chennai   Tamil Nadu\n",
       "2  Hyderabad    Telengana\n",
       "3  Bangalore    Karnataka"
      ]
     },
     "execution_count": 48,
     "metadata": {},
     "output_type": "execute_result"
    }
   ],
   "source": [
    "df.drop('City\\tState',axis=1,inplace=True)\n",
    "df"
   ]
  },
  {
   "cell_type": "code",
   "execution_count": null,
   "metadata": {},
   "outputs": [],
   "source": [
    "'''\n",
    "Q -11: Get the Month\n",
    "'''"
   ]
  },
  {
   "cell_type": "code",
   "execution_count": 58,
   "metadata": {},
   "outputs": [],
   "source": [
    "a=[56, 92, 29, 93, 55, 32 ]\n",
    "b=['2021-01-01', '2021-02-12', '2021-04-16', '2021-01-22', '2021-01-15', '2021-02-26' ]"
   ]
  },
  {
   "cell_type": "code",
   "execution_count": 69,
   "metadata": {},
   "outputs": [],
   "source": [
    "df= pd.DataFrame({'RID': a, 'RDate': b})\n",
    "df['RDate']=df['RDate'].astype('date64[pyarrow]')\n",
    "df['RMonth'] = df['RDate'].dt.month\n",
    "df['RYear'] = df['RDate'].dt.year\n",
    "df['RDay'] = df['RDate'].dt.day"
   ]
  },
  {
   "cell_type": "code",
   "execution_count": 67,
   "metadata": {},
   "outputs": [
    {
     "data": {
      "application/vnd.microsoft.datawrangler.viewer.v0+json": {
       "columns": [
        {
         "name": "index",
         "rawType": "int64",
         "type": "integer"
        },
        {
         "name": "RID",
         "rawType": "int64",
         "type": "integer"
        },
        {
         "name": "RDate",
         "rawType": "date64[ms][pyarrow]",
         "type": "unknown"
        },
        {
         "name": "RMonth",
         "rawType": "int64[pyarrow]",
         "type": "unknown"
        },
        {
         "name": "RYear",
         "rawType": "int64[pyarrow]",
         "type": "unknown"
        },
        {
         "name": "RDay",
         "rawType": "int64[pyarrow]",
         "type": "unknown"
        }
       ],
       "conversionMethod": "pd.DataFrame",
       "ref": "48101576-7b7f-468e-a113-902876876a7c",
       "rows": [
        [
         "0",
         "56",
         "2021-01-01",
         "1",
         "2021",
         "1"
        ],
        [
         "1",
         "92",
         "2021-02-12",
         "2",
         "2021",
         "12"
        ],
        [
         "2",
         "29",
         "2021-04-16",
         "4",
         "2021",
         "16"
        ],
        [
         "3",
         "93",
         "2021-01-22",
         "1",
         "2021",
         "22"
        ],
        [
         "4",
         "55",
         "2021-01-15",
         "1",
         "2021",
         "15"
        ],
        [
         "5",
         "32",
         "2021-02-26",
         "2",
         "2021",
         "26"
        ]
       ],
       "shape": {
        "columns": 5,
        "rows": 6
       }
      },
      "text/html": [
       "<div>\n",
       "<style scoped>\n",
       "    .dataframe tbody tr th:only-of-type {\n",
       "        vertical-align: middle;\n",
       "    }\n",
       "\n",
       "    .dataframe tbody tr th {\n",
       "        vertical-align: top;\n",
       "    }\n",
       "\n",
       "    .dataframe thead th {\n",
       "        text-align: right;\n",
       "    }\n",
       "</style>\n",
       "<table border=\"1\" class=\"dataframe\">\n",
       "  <thead>\n",
       "    <tr style=\"text-align: right;\">\n",
       "      <th></th>\n",
       "      <th>RID</th>\n",
       "      <th>RDate</th>\n",
       "      <th>RMonth</th>\n",
       "      <th>RYear</th>\n",
       "      <th>RDay</th>\n",
       "    </tr>\n",
       "  </thead>\n",
       "  <tbody>\n",
       "    <tr>\n",
       "      <th>0</th>\n",
       "      <td>56</td>\n",
       "      <td>2021-01-01</td>\n",
       "      <td>1</td>\n",
       "      <td>2021</td>\n",
       "      <td>1</td>\n",
       "    </tr>\n",
       "    <tr>\n",
       "      <th>1</th>\n",
       "      <td>92</td>\n",
       "      <td>2021-02-12</td>\n",
       "      <td>2</td>\n",
       "      <td>2021</td>\n",
       "      <td>12</td>\n",
       "    </tr>\n",
       "    <tr>\n",
       "      <th>2</th>\n",
       "      <td>29</td>\n",
       "      <td>2021-04-16</td>\n",
       "      <td>4</td>\n",
       "      <td>2021</td>\n",
       "      <td>16</td>\n",
       "    </tr>\n",
       "    <tr>\n",
       "      <th>3</th>\n",
       "      <td>93</td>\n",
       "      <td>2021-01-22</td>\n",
       "      <td>1</td>\n",
       "      <td>2021</td>\n",
       "      <td>22</td>\n",
       "    </tr>\n",
       "    <tr>\n",
       "      <th>4</th>\n",
       "      <td>55</td>\n",
       "      <td>2021-01-15</td>\n",
       "      <td>1</td>\n",
       "      <td>2021</td>\n",
       "      <td>15</td>\n",
       "    </tr>\n",
       "    <tr>\n",
       "      <th>5</th>\n",
       "      <td>32</td>\n",
       "      <td>2021-02-26</td>\n",
       "      <td>2</td>\n",
       "      <td>2021</td>\n",
       "      <td>26</td>\n",
       "    </tr>\n",
       "  </tbody>\n",
       "</table>\n",
       "</div>"
      ],
      "text/plain": [
       "   RID       RDate  RMonth  RYear  RDay\n",
       "0   56  2021-01-01       1   2021     1\n",
       "1   92  2021-02-12       2   2021    12\n",
       "2   29  2021-04-16       4   2021    16\n",
       "3   93  2021-01-22       1   2021    22\n",
       "4   55  2021-01-15       1   2021    15\n",
       "5   32  2021-02-26       2   2021    26"
      ]
     },
     "execution_count": 67,
     "metadata": {},
     "output_type": "execute_result"
    }
   ],
   "source": [
    "df"
   ]
  }
 ],
 "metadata": {
  "kernelspec": {
   "display_name": "Python 3",
   "language": "python",
   "name": "python3"
  },
  "language_info": {
   "codemirror_mode": {
    "name": "ipython",
    "version": 3
   },
   "file_extension": ".py",
   "mimetype": "text/x-python",
   "name": "python",
   "nbconvert_exporter": "python",
   "pygments_lexer": "ipython3",
   "version": "3.12.6"
  }
 },
 "nbformat": 4,
 "nbformat_minor": 2
}
