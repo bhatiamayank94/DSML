{
 "cells": [
  {
   "cell_type": "code",
   "execution_count": null,
   "metadata": {},
   "outputs": [],
   "source": [
    "'''\n",
    "Why pandas - because numpy has homo data whereas pandas can hav hetero data\n",
    "Pandas series  - one column pf df is series\n",
    "'''"
   ]
  },
  {
   "cell_type": "code",
   "execution_count": null,
   "metadata": {},
   "outputs": [],
   "source": [
    "import numpy as np\n",
    "import pandas as pd"
   ]
  },
  {
   "cell_type": "markdown",
   "metadata": {},
   "source": [
    "# Summary"
   ]
  },
  {
   "cell_type": "code",
   "execution_count": 19,
   "metadata": {},
   "outputs": [
    {
     "name": "stdout",
     "output_type": "stream",
     "text": [
      "<class 'pandas.core.frame.DataFrame'>\n",
      "RangeIndex: 1704 entries, 0 to 1703\n",
      "Data columns (total 6 columns):\n",
      " #   Column      Non-Null Count  Dtype  \n",
      "---  ------      --------------  -----  \n",
      " 0   country     1704 non-null   object \n",
      " 1   year        1704 non-null   int64  \n",
      " 2   population  1704 non-null   int64  \n",
      " 3   continent   1704 non-null   object \n",
      " 4   life_exp    1704 non-null   float64\n",
      " 5   gdp_cap     1704 non-null   float64\n",
      "dtypes: float64(2), int64(2), object(2)\n",
      "memory usage: 80.0+ KB\n",
      "None\n",
      "       country  year  population continent  life_exp     gdp_cap\n",
      "0  Afghanistan  1952     8425333      Asia    28.801  779.445314\n",
      "1  Afghanistan  1957     9240934      Asia    30.332  820.853030\n",
      "2  Afghanistan  1962    10267083      Asia    31.997  853.100710\n",
      "3  Afghanistan  1967    11537966      Asia    34.020  836.197138\n",
      "4  Afghanistan  1972    13079460      Asia    36.088  739.981106\n",
      "       country  year  population continent  life_exp     gdp_cap\n",
      "1699  Zimbabwe  1987     9216418    Africa    62.351  706.157306\n",
      "1700  Zimbabwe  1992    10704340    Africa    60.377  693.420786\n",
      "1701  Zimbabwe  1997    11404948    Africa    46.809  792.449960\n",
      "1702  Zimbabwe  2002    11926563    Africa    39.989  672.038623\n",
      "1703  Zimbabwe  2007    12311143    Africa    43.487  469.709298\n",
      "(1704, 6)\n",
      "Index(['country', 'year', 'population', 'continent', 'life_exp', 'gdp_cap'], dtype='object')\n"
     ]
    }
   ],
   "source": [
    "\n",
    "\n",
    "df=pd.read_csv(r'C:\\Users\\28962\\Documents\\GitHub\\DSML\\7_data_analytics_and_visualisation\\7.9_pandas_1\\mckinsey.csv')\n",
    "print(df.info())\n",
    "print(df.head(5))\n",
    "print(df.tail(5))\n",
    "print(df.shape)\n",
    "print(df.columns)"
   ]
  },
  {
   "cell_type": "markdown",
   "metadata": {},
   "source": [
    "# Index"
   ]
  },
  {
   "cell_type": "code",
   "execution_count": 1,
   "metadata": {},
   "outputs": [],
   "source": [
    "# Index of a series is immutable"
   ]
  },
  {
   "cell_type": "markdown",
   "metadata": {},
   "source": [
    "# Series"
   ]
  },
  {
   "cell_type": "code",
   "execution_count": null,
   "metadata": {},
   "outputs": [],
   "source": [
    "# Fetch list of specific series- in list or normally , i.e series and dataframe"
   ]
  },
  {
   "cell_type": "markdown",
   "metadata": {},
   "source": [
    "# Importance of iloc - only way to slice columns"
   ]
  },
  {
   "cell_type": "code",
   "execution_count": null,
   "metadata": {},
   "outputs": [
    {
     "data": {
      "application/vnd.microsoft.datawrangler.viewer.v0+json": {
       "columns": [
        {
         "name": "index",
         "rawType": "int64",
         "type": "integer"
        },
        {
         "name": "country",
         "rawType": "object",
         "type": "string"
        },
        {
         "name": "year",
         "rawType": "int64",
         "type": "integer"
        },
        {
         "name": "population",
         "rawType": "int64",
         "type": "integer"
        },
        {
         "name": "continent",
         "rawType": "object",
         "type": "string"
        },
        {
         "name": "life_exp",
         "rawType": "float64",
         "type": "float"
        },
        {
         "name": "gdp_cap",
         "rawType": "float64",
         "type": "float"
        }
       ],
       "conversionMethod": "pd.DataFrame",
       "ref": "63d75163-82e5-41ad-b0e8-3ecf0685f9b1",
       "rows": [
        [
         "0",
         "Afghanistan",
         "1952",
         "8425333",
         "Asia",
         "28.801",
         "779.4453145"
        ],
        [
         "1",
         "Afghanistan",
         "1957",
         "9240934",
         "Asia",
         "30.332",
         "820.8530296"
        ],
        [
         "2",
         "Afghanistan",
         "1962",
         "10267083",
         "Asia",
         "31.997",
         "853.10071"
        ],
        [
         "3",
         "Afghanistan",
         "1967",
         "11537966",
         "Asia",
         "34.02",
         "836.1971382"
        ],
        [
         "4",
         "Afghanistan",
         "1972",
         "13079460",
         "Asia",
         "36.088",
         "739.9811058"
        ],
        [
         "5",
         "Afghanistan",
         "1977",
         "14880372",
         "Asia",
         "38.438",
         "786.11336"
        ],
        [
         "6",
         "Afghanistan",
         "1982",
         "12881816",
         "Asia",
         "39.854",
         "978.0114388"
        ],
        [
         "7",
         "Afghanistan",
         "1987",
         "13867957",
         "Asia",
         "40.822",
         "852.3959448"
        ],
        [
         "8",
         "Afghanistan",
         "1992",
         "16317921",
         "Asia",
         "41.674",
         "649.3413952"
        ],
        [
         "9",
         "Afghanistan",
         "1997",
         "22227415",
         "Asia",
         "41.763",
         "635.341351"
        ]
       ],
       "shape": {
        "columns": 6,
        "rows": 10
       }
      },
      "text/html": [
       "<div>\n",
       "<style scoped>\n",
       "    .dataframe tbody tr th:only-of-type {\n",
       "        vertical-align: middle;\n",
       "    }\n",
       "\n",
       "    .dataframe tbody tr th {\n",
       "        vertical-align: top;\n",
       "    }\n",
       "\n",
       "    .dataframe thead th {\n",
       "        text-align: right;\n",
       "    }\n",
       "</style>\n",
       "<table border=\"1\" class=\"dataframe\">\n",
       "  <thead>\n",
       "    <tr style=\"text-align: right;\">\n",
       "      <th></th>\n",
       "      <th>country</th>\n",
       "      <th>year</th>\n",
       "      <th>population</th>\n",
       "      <th>continent</th>\n",
       "      <th>life_exp</th>\n",
       "      <th>gdp_cap</th>\n",
       "    </tr>\n",
       "  </thead>\n",
       "  <tbody>\n",
       "    <tr>\n",
       "      <th>0</th>\n",
       "      <td>Afghanistan</td>\n",
       "      <td>1952</td>\n",
       "      <td>8425333</td>\n",
       "      <td>Asia</td>\n",
       "      <td>28.801</td>\n",
       "      <td>779.445314</td>\n",
       "    </tr>\n",
       "    <tr>\n",
       "      <th>1</th>\n",
       "      <td>Afghanistan</td>\n",
       "      <td>1957</td>\n",
       "      <td>9240934</td>\n",
       "      <td>Asia</td>\n",
       "      <td>30.332</td>\n",
       "      <td>820.853030</td>\n",
       "    </tr>\n",
       "    <tr>\n",
       "      <th>2</th>\n",
       "      <td>Afghanistan</td>\n",
       "      <td>1962</td>\n",
       "      <td>10267083</td>\n",
       "      <td>Asia</td>\n",
       "      <td>31.997</td>\n",
       "      <td>853.100710</td>\n",
       "    </tr>\n",
       "    <tr>\n",
       "      <th>3</th>\n",
       "      <td>Afghanistan</td>\n",
       "      <td>1967</td>\n",
       "      <td>11537966</td>\n",
       "      <td>Asia</td>\n",
       "      <td>34.020</td>\n",
       "      <td>836.197138</td>\n",
       "    </tr>\n",
       "    <tr>\n",
       "      <th>4</th>\n",
       "      <td>Afghanistan</td>\n",
       "      <td>1972</td>\n",
       "      <td>13079460</td>\n",
       "      <td>Asia</td>\n",
       "      <td>36.088</td>\n",
       "      <td>739.981106</td>\n",
       "    </tr>\n",
       "    <tr>\n",
       "      <th>5</th>\n",
       "      <td>Afghanistan</td>\n",
       "      <td>1977</td>\n",
       "      <td>14880372</td>\n",
       "      <td>Asia</td>\n",
       "      <td>38.438</td>\n",
       "      <td>786.113360</td>\n",
       "    </tr>\n",
       "    <tr>\n",
       "      <th>6</th>\n",
       "      <td>Afghanistan</td>\n",
       "      <td>1982</td>\n",
       "      <td>12881816</td>\n",
       "      <td>Asia</td>\n",
       "      <td>39.854</td>\n",
       "      <td>978.011439</td>\n",
       "    </tr>\n",
       "    <tr>\n",
       "      <th>7</th>\n",
       "      <td>Afghanistan</td>\n",
       "      <td>1987</td>\n",
       "      <td>13867957</td>\n",
       "      <td>Asia</td>\n",
       "      <td>40.822</td>\n",
       "      <td>852.395945</td>\n",
       "    </tr>\n",
       "    <tr>\n",
       "      <th>8</th>\n",
       "      <td>Afghanistan</td>\n",
       "      <td>1992</td>\n",
       "      <td>16317921</td>\n",
       "      <td>Asia</td>\n",
       "      <td>41.674</td>\n",
       "      <td>649.341395</td>\n",
       "    </tr>\n",
       "    <tr>\n",
       "      <th>9</th>\n",
       "      <td>Afghanistan</td>\n",
       "      <td>1997</td>\n",
       "      <td>22227415</td>\n",
       "      <td>Asia</td>\n",
       "      <td>41.763</td>\n",
       "      <td>635.341351</td>\n",
       "    </tr>\n",
       "  </tbody>\n",
       "</table>\n",
       "</div>"
      ],
      "text/plain": [
       "       country  year  population continent  life_exp     gdp_cap\n",
       "0  Afghanistan  1952     8425333      Asia    28.801  779.445314\n",
       "1  Afghanistan  1957     9240934      Asia    30.332  820.853030\n",
       "2  Afghanistan  1962    10267083      Asia    31.997  853.100710\n",
       "3  Afghanistan  1967    11537966      Asia    34.020  836.197138\n",
       "4  Afghanistan  1972    13079460      Asia    36.088  739.981106\n",
       "5  Afghanistan  1977    14880372      Asia    38.438  786.113360\n",
       "6  Afghanistan  1982    12881816      Asia    39.854  978.011439\n",
       "7  Afghanistan  1987    13867957      Asia    40.822  852.395945\n",
       "8  Afghanistan  1992    16317921      Asia    41.674  649.341395\n",
       "9  Afghanistan  1997    22227415      Asia    41.763  635.341351"
      ]
     },
     "execution_count": 183,
     "metadata": {},
     "output_type": "execute_result"
    }
   ],
   "source": [
    "df=pd.read_csv(r'C:\\Users\\28962\\Documents\\GitHub\\DSML\\7_data_analytics_and_visualisation\\7.9_pandas_1\\mckinsey.csv')\n",
    "df.iloc[:10,:3]\n",
    "df[:10]"
   ]
  },
  {
   "cell_type": "markdown",
   "metadata": {},
   "source": [
    "# DF from scratch"
   ]
  },
  {
   "cell_type": "markdown",
   "metadata": {},
   "source": [
    "## Manual entries through a dict"
   ]
  },
  {
   "cell_type": "code",
   "execution_count": 7,
   "metadata": {},
   "outputs": [],
   "source": [
    "dict={\"name\":[\"mayank\",\"pankaj\"],\n",
    "      \"age\":[30,33]}\n",
    "\n",
    "df_dict=pd.DataFrame(dict)"
   ]
  },
  {
   "cell_type": "markdown",
   "metadata": {},
   "source": [
    "## Row Oriented"
   ]
  },
  {
   "cell_type": "code",
   "execution_count": 14,
   "metadata": {},
   "outputs": [],
   "source": [
    "df_row=pd.DataFrame([[\"mayank\",30],\n",
    "                     [\"pankaj\",34]],\n",
    "                     columns=[\"name\",\"age\"])\n",
    "\n",
    "# note that single row entry will give an error because pd expects list of rows\n",
    "\n",
    "df_row_1=pd.DataFrame([[\"mayank\",30]],\n",
    "                     columns=[\"name\",\"age\"]) # no error\n",
    "\n",
    "# df_row_2=pd.DataFrame([\"mayank\",30],\n",
    "#                      columns=[\"name\",\"age\"]) # this will give error"
   ]
  },
  {
   "cell_type": "markdown",
   "metadata": {},
   "source": [
    "## Column Oriented - similar to dict"
   ]
  },
  {
   "cell_type": "code",
   "execution_count": 18,
   "metadata": {},
   "outputs": [],
   "source": [
    "df_column=pd.DataFrame({\"name\":[\"Mayank\",\"Pankaj\"],\n",
    "                        \"age\":[30,33]}) \n",
    "\n",
    "# note that square brackets wont be taken instead of curly beacuse it can take only dict format"
   ]
  },
  {
   "cell_type": "markdown",
   "metadata": {},
   "source": [
    "# unique and nunique"
   ]
  },
  {
   "cell_type": "code",
   "execution_count": 30,
   "metadata": {},
   "outputs": [
    {
     "name": "stdout",
     "output_type": "stream",
     "text": [
      "['Afghanistan' 'Albania' 'Algeria' 'Angola' 'Argentina' 'Australia'\n",
      " 'Austria' 'Bahrain' 'Bangladesh' 'Belgium' 'Benin' 'Bolivia'\n",
      " 'Bosnia and Herzegovina' 'Botswana' 'Brazil' 'Bulgaria' 'Burkina Faso'\n",
      " 'Burundi' 'Cambodia' 'Cameroon' 'Canada' 'Central African Republic'\n",
      " 'Chad' 'Chile' 'China' 'Colombia' 'Comoros' 'Congo, Dem. Rep.'\n",
      " 'Congo, Rep.' 'Costa Rica' \"Cote d'Ivoire\" 'Croatia' 'Cuba'\n",
      " 'Czech Republic' 'Denmark' 'Djibouti' 'Dominican Republic' 'Ecuador'\n",
      " 'Egypt' 'El Salvador' 'Equatorial Guinea' 'Eritrea' 'Ethiopia' 'Finland'\n",
      " 'France' 'Gabon' 'Gambia' 'Germany' 'Ghana' 'Greece' 'Guatemala' 'Guinea'\n",
      " 'Guinea-Bissau' 'Haiti' 'Honduras' 'Hong Kong, China' 'Hungary' 'Iceland'\n",
      " 'India' 'Indonesia' 'Iran' 'Iraq' 'Ireland' 'Israel' 'Italy' 'Jamaica'\n",
      " 'Japan' 'Jordan' 'Kenya' 'Korea, Dem. Rep.' 'Korea, Rep.' 'Kuwait'\n",
      " 'Lebanon' 'Lesotho' 'Liberia' 'Libya' 'Madagascar' 'Malawi' 'Malaysia'\n",
      " 'Mali' 'Mauritania' 'Mauritius' 'Mexico' 'Mongolia' 'Montenegro'\n",
      " 'Morocco' 'Mozambique' 'Myanmar' 'Namibia' 'Nepal' 'Netherlands'\n",
      " 'New Zealand' 'Nicaragua' 'Niger' 'Nigeria' 'Norway' 'Oman' 'Pakistan'\n",
      " 'Panama' 'Paraguay' 'Peru' 'Philippines' 'Poland' 'Portugal'\n",
      " 'Puerto Rico' 'Reunion' 'Romania' 'Rwanda' 'Sao Tome and Principe'\n",
      " 'Saudi Arabia' 'Senegal' 'Serbia' 'Sierra Leone' 'Singapore'\n",
      " 'Slovak Republic' 'Slovenia' 'Somalia' 'South Africa' 'Spain' 'Sri Lanka'\n",
      " 'Sudan' 'Swaziland' 'Sweden' 'Switzerland' 'Syria' 'Taiwan' 'Tanzania'\n",
      " 'Thailand' 'Togo' 'Trinidad and Tobago' 'Tunisia' 'Turkey' 'Uganda'\n",
      " 'United Kingdom' 'United States' 'Uruguay' 'Venezuela' 'Vietnam'\n",
      " 'West Bank and Gaza' 'Yemen, Rep.' 'Zambia' 'Zimbabwe']\n"
     ]
    },
    {
     "data": {
      "text/plain": [
       "142"
      ]
     },
     "execution_count": 30,
     "metadata": {},
     "output_type": "execute_result"
    }
   ],
   "source": [
    "print(df['country'].unique())\n",
    "df['country'].nunique()\n"
   ]
  },
  {
   "cell_type": "markdown",
   "metadata": {},
   "source": [
    "## distribution with unique values"
   ]
  },
  {
   "cell_type": "code",
   "execution_count": 33,
   "metadata": {},
   "outputs": [
    {
     "data": {
      "text/plain": [
       "country\n",
       "Afghanistan           12\n",
       "Albania               12\n",
       "Algeria               12\n",
       "Angola                12\n",
       "Argentina             12\n",
       "                      ..\n",
       "Vietnam               12\n",
       "West Bank and Gaza    12\n",
       "Yemen, Rep.           12\n",
       "Zambia                12\n",
       "Zimbabwe              12\n",
       "Name: count, Length: 142, dtype: int64"
      ]
     },
     "execution_count": 33,
     "metadata": {},
     "output_type": "execute_result"
    }
   ],
   "source": [
    "df['country'].value_counts()"
   ]
  },
  {
   "cell_type": "markdown",
   "metadata": {},
   "source": [
    "# Column Manipulation"
   ]
  },
  {
   "cell_type": "markdown",
   "metadata": {},
   "source": [
    "## Change the name of the column"
   ]
  },
  {
   "cell_type": "code",
   "execution_count": 40,
   "metadata": {},
   "outputs": [
    {
     "data": {
      "application/vnd.microsoft.datawrangler.viewer.v0+json": {
       "columns": [
        {
         "name": "index",
         "rawType": "int64",
         "type": "integer"
        },
        {
         "name": "country_2",
         "rawType": "object",
         "type": "string"
        },
        {
         "name": "year",
         "rawType": "int64",
         "type": "integer"
        },
        {
         "name": "population_2",
         "rawType": "int64",
         "type": "integer"
        },
        {
         "name": "continent",
         "rawType": "object",
         "type": "string"
        },
        {
         "name": "life_exp",
         "rawType": "float64",
         "type": "float"
        },
        {
         "name": "gdp_cap",
         "rawType": "float64",
         "type": "float"
        }
       ],
       "conversionMethod": "pd.DataFrame",
       "ref": "4ccd36d7-3dfb-43eb-af24-49477762790f",
       "rows": [
        [
         "0",
         "Afghanistan",
         "1952",
         "8425333",
         "Asia",
         "28.801",
         "779.4453145"
        ],
        [
         "1",
         "Afghanistan",
         "1957",
         "9240934",
         "Asia",
         "30.332",
         "820.8530296"
        ],
        [
         "2",
         "Afghanistan",
         "1962",
         "10267083",
         "Asia",
         "31.997",
         "853.10071"
        ],
        [
         "3",
         "Afghanistan",
         "1967",
         "11537966",
         "Asia",
         "34.02",
         "836.1971382"
        ],
        [
         "4",
         "Afghanistan",
         "1972",
         "13079460",
         "Asia",
         "36.088",
         "739.9811058"
        ],
        [
         "5",
         "Afghanistan",
         "1977",
         "14880372",
         "Asia",
         "38.438",
         "786.11336"
        ],
        [
         "6",
         "Afghanistan",
         "1982",
         "12881816",
         "Asia",
         "39.854",
         "978.0114388"
        ],
        [
         "7",
         "Afghanistan",
         "1987",
         "13867957",
         "Asia",
         "40.822",
         "852.3959448"
        ],
        [
         "8",
         "Afghanistan",
         "1992",
         "16317921",
         "Asia",
         "41.674",
         "649.3413952"
        ],
        [
         "9",
         "Afghanistan",
         "1997",
         "22227415",
         "Asia",
         "41.763",
         "635.341351"
        ],
        [
         "10",
         "Afghanistan",
         "2002",
         "25268405",
         "Asia",
         "42.129",
         "726.7340548"
        ],
        [
         "11",
         "Afghanistan",
         "2007",
         "31889923",
         "Asia",
         "43.828",
         "974.5803384"
        ],
        [
         "12",
         "Albania",
         "1952",
         "1282697",
         "Europe",
         "55.23",
         "1601.056136"
        ],
        [
         "13",
         "Albania",
         "1957",
         "1476505",
         "Europe",
         "59.28",
         "1942.284244"
        ],
        [
         "14",
         "Albania",
         "1962",
         "1728137",
         "Europe",
         "64.82",
         "2312.888958"
        ],
        [
         "15",
         "Albania",
         "1967",
         "1984060",
         "Europe",
         "66.22",
         "2760.196931"
        ],
        [
         "16",
         "Albania",
         "1972",
         "2263554",
         "Europe",
         "67.69",
         "3313.422188"
        ],
        [
         "17",
         "Albania",
         "1977",
         "2509048",
         "Europe",
         "68.93",
         "3533.00391"
        ],
        [
         "18",
         "Albania",
         "1982",
         "2780097",
         "Europe",
         "70.42",
         "3630.880722"
        ],
        [
         "19",
         "Albania",
         "1987",
         "3075321",
         "Europe",
         "72.0",
         "3738.932735"
        ],
        [
         "20",
         "Albania",
         "1992",
         "3326498",
         "Europe",
         "71.581",
         "2497.437901"
        ],
        [
         "21",
         "Albania",
         "1997",
         "3428038",
         "Europe",
         "72.95",
         "3193.054604"
        ],
        [
         "22",
         "Albania",
         "2002",
         "3508512",
         "Europe",
         "75.651",
         "4604.211737"
        ],
        [
         "23",
         "Albania",
         "2007",
         "3600523",
         "Europe",
         "76.423",
         "5937.029526"
        ],
        [
         "24",
         "Algeria",
         "1952",
         "9279525",
         "Africa",
         "43.077",
         "2449.008185"
        ],
        [
         "25",
         "Algeria",
         "1957",
         "10270856",
         "Africa",
         "45.685",
         "3013.976023"
        ],
        [
         "26",
         "Algeria",
         "1962",
         "11000948",
         "Africa",
         "48.303",
         "2550.81688"
        ],
        [
         "27",
         "Algeria",
         "1967",
         "12760499",
         "Africa",
         "51.407",
         "3246.991771"
        ],
        [
         "28",
         "Algeria",
         "1972",
         "14760787",
         "Africa",
         "54.518",
         "4182.663766"
        ],
        [
         "29",
         "Algeria",
         "1977",
         "17152804",
         "Africa",
         "58.014",
         "4910.416756"
        ],
        [
         "30",
         "Algeria",
         "1982",
         "20033753",
         "Africa",
         "61.368",
         "5745.160213"
        ],
        [
         "31",
         "Algeria",
         "1987",
         "23254956",
         "Africa",
         "65.799",
         "5681.358539"
        ],
        [
         "32",
         "Algeria",
         "1992",
         "26298373",
         "Africa",
         "67.744",
         "5023.216647"
        ],
        [
         "33",
         "Algeria",
         "1997",
         "29072015",
         "Africa",
         "69.152",
         "4797.295051"
        ],
        [
         "34",
         "Algeria",
         "2002",
         "31287142",
         "Africa",
         "70.994",
         "5288.040382"
        ],
        [
         "35",
         "Algeria",
         "2007",
         "33333216",
         "Africa",
         "72.301",
         "6223.367465"
        ],
        [
         "36",
         "Angola",
         "1952",
         "4232095",
         "Africa",
         "30.015",
         "3520.610273"
        ],
        [
         "37",
         "Angola",
         "1957",
         "4561361",
         "Africa",
         "31.999",
         "3827.940465"
        ],
        [
         "38",
         "Angola",
         "1962",
         "4826015",
         "Africa",
         "34.0",
         "4269.276742"
        ],
        [
         "39",
         "Angola",
         "1967",
         "5247469",
         "Africa",
         "35.985",
         "5522.776375"
        ],
        [
         "40",
         "Angola",
         "1972",
         "5894858",
         "Africa",
         "37.928",
         "5473.288005"
        ],
        [
         "41",
         "Angola",
         "1977",
         "6162675",
         "Africa",
         "39.483",
         "3008.647355"
        ],
        [
         "42",
         "Angola",
         "1982",
         "7016384",
         "Africa",
         "39.942",
         "2756.953672"
        ],
        [
         "43",
         "Angola",
         "1987",
         "7874230",
         "Africa",
         "39.906",
         "2430.208311"
        ],
        [
         "44",
         "Angola",
         "1992",
         "8735988",
         "Africa",
         "40.647",
         "2627.845685"
        ],
        [
         "45",
         "Angola",
         "1997",
         "9875024",
         "Africa",
         "40.963",
         "2277.140884"
        ],
        [
         "46",
         "Angola",
         "2002",
         "10866106",
         "Africa",
         "41.003",
         "2773.287312"
        ],
        [
         "47",
         "Angola",
         "2007",
         "12420476",
         "Africa",
         "42.731",
         "4797.231267"
        ],
        [
         "48",
         "Argentina",
         "1952",
         "17876956",
         "Americas",
         "62.485",
         "5911.315053"
        ],
        [
         "49",
         "Argentina",
         "1957",
         "19610538",
         "Americas",
         "64.399",
         "6856.856212"
        ]
       ],
       "shape": {
        "columns": 6,
        "rows": 1704
       }
      },
      "text/html": [
       "<div>\n",
       "<style scoped>\n",
       "    .dataframe tbody tr th:only-of-type {\n",
       "        vertical-align: middle;\n",
       "    }\n",
       "\n",
       "    .dataframe tbody tr th {\n",
       "        vertical-align: top;\n",
       "    }\n",
       "\n",
       "    .dataframe thead th {\n",
       "        text-align: right;\n",
       "    }\n",
       "</style>\n",
       "<table border=\"1\" class=\"dataframe\">\n",
       "  <thead>\n",
       "    <tr style=\"text-align: right;\">\n",
       "      <th></th>\n",
       "      <th>country_2</th>\n",
       "      <th>year</th>\n",
       "      <th>population_2</th>\n",
       "      <th>continent</th>\n",
       "      <th>life_exp</th>\n",
       "      <th>gdp_cap</th>\n",
       "    </tr>\n",
       "  </thead>\n",
       "  <tbody>\n",
       "    <tr>\n",
       "      <th>0</th>\n",
       "      <td>Afghanistan</td>\n",
       "      <td>1952</td>\n",
       "      <td>8425333</td>\n",
       "      <td>Asia</td>\n",
       "      <td>28.801</td>\n",
       "      <td>779.445314</td>\n",
       "    </tr>\n",
       "    <tr>\n",
       "      <th>1</th>\n",
       "      <td>Afghanistan</td>\n",
       "      <td>1957</td>\n",
       "      <td>9240934</td>\n",
       "      <td>Asia</td>\n",
       "      <td>30.332</td>\n",
       "      <td>820.853030</td>\n",
       "    </tr>\n",
       "    <tr>\n",
       "      <th>2</th>\n",
       "      <td>Afghanistan</td>\n",
       "      <td>1962</td>\n",
       "      <td>10267083</td>\n",
       "      <td>Asia</td>\n",
       "      <td>31.997</td>\n",
       "      <td>853.100710</td>\n",
       "    </tr>\n",
       "    <tr>\n",
       "      <th>3</th>\n",
       "      <td>Afghanistan</td>\n",
       "      <td>1967</td>\n",
       "      <td>11537966</td>\n",
       "      <td>Asia</td>\n",
       "      <td>34.020</td>\n",
       "      <td>836.197138</td>\n",
       "    </tr>\n",
       "    <tr>\n",
       "      <th>4</th>\n",
       "      <td>Afghanistan</td>\n",
       "      <td>1972</td>\n",
       "      <td>13079460</td>\n",
       "      <td>Asia</td>\n",
       "      <td>36.088</td>\n",
       "      <td>739.981106</td>\n",
       "    </tr>\n",
       "    <tr>\n",
       "      <th>...</th>\n",
       "      <td>...</td>\n",
       "      <td>...</td>\n",
       "      <td>...</td>\n",
       "      <td>...</td>\n",
       "      <td>...</td>\n",
       "      <td>...</td>\n",
       "    </tr>\n",
       "    <tr>\n",
       "      <th>1699</th>\n",
       "      <td>Zimbabwe</td>\n",
       "      <td>1987</td>\n",
       "      <td>9216418</td>\n",
       "      <td>Africa</td>\n",
       "      <td>62.351</td>\n",
       "      <td>706.157306</td>\n",
       "    </tr>\n",
       "    <tr>\n",
       "      <th>1700</th>\n",
       "      <td>Zimbabwe</td>\n",
       "      <td>1992</td>\n",
       "      <td>10704340</td>\n",
       "      <td>Africa</td>\n",
       "      <td>60.377</td>\n",
       "      <td>693.420786</td>\n",
       "    </tr>\n",
       "    <tr>\n",
       "      <th>1701</th>\n",
       "      <td>Zimbabwe</td>\n",
       "      <td>1997</td>\n",
       "      <td>11404948</td>\n",
       "      <td>Africa</td>\n",
       "      <td>46.809</td>\n",
       "      <td>792.449960</td>\n",
       "    </tr>\n",
       "    <tr>\n",
       "      <th>1702</th>\n",
       "      <td>Zimbabwe</td>\n",
       "      <td>2002</td>\n",
       "      <td>11926563</td>\n",
       "      <td>Africa</td>\n",
       "      <td>39.989</td>\n",
       "      <td>672.038623</td>\n",
       "    </tr>\n",
       "    <tr>\n",
       "      <th>1703</th>\n",
       "      <td>Zimbabwe</td>\n",
       "      <td>2007</td>\n",
       "      <td>12311143</td>\n",
       "      <td>Africa</td>\n",
       "      <td>43.487</td>\n",
       "      <td>469.709298</td>\n",
       "    </tr>\n",
       "  </tbody>\n",
       "</table>\n",
       "<p>1704 rows × 6 columns</p>\n",
       "</div>"
      ],
      "text/plain": [
       "        country_2  year  population_2 continent  life_exp     gdp_cap\n",
       "0     Afghanistan  1952       8425333      Asia    28.801  779.445314\n",
       "1     Afghanistan  1957       9240934      Asia    30.332  820.853030\n",
       "2     Afghanistan  1962      10267083      Asia    31.997  853.100710\n",
       "3     Afghanistan  1967      11537966      Asia    34.020  836.197138\n",
       "4     Afghanistan  1972      13079460      Asia    36.088  739.981106\n",
       "...           ...   ...           ...       ...       ...         ...\n",
       "1699     Zimbabwe  1987       9216418    Africa    62.351  706.157306\n",
       "1700     Zimbabwe  1992      10704340    Africa    60.377  693.420786\n",
       "1701     Zimbabwe  1997      11404948    Africa    46.809  792.449960\n",
       "1702     Zimbabwe  2002      11926563    Africa    39.989  672.038623\n",
       "1703     Zimbabwe  2007      12311143    Africa    43.487  469.709298\n",
       "\n",
       "[1704 rows x 6 columns]"
      ]
     },
     "execution_count": 40,
     "metadata": {},
     "output_type": "execute_result"
    }
   ],
   "source": [
    "df=pd.read_csv(r'C:\\Users\\28962\\Documents\\GitHub\\DSML\\7_data_analytics_and_visualisation\\7.9_pandas_1\\mckinsey.csv')\n",
    "df.rename({\"country\":\"country_2\",\"population\":\"population_2\"})\n",
    "df.rename({\"country\":\"country_2\",\"population\":\"population_2\"},axis=1)\n",
    "\n",
    "# Note that if axis is not provided, then it creates 2 new columns"
   ]
  },
  {
   "cell_type": "markdown",
   "metadata": {},
   "source": [
    "## importance of inplace=True"
   ]
  },
  {
   "cell_type": "code",
   "execution_count": 45,
   "metadata": {},
   "outputs": [
    {
     "name": "stdout",
     "output_type": "stream",
     "text": [
      "        country_2  year  population_2 continent  life_exp     gdp_cap\n",
      "0     Afghanistan  1952       8425333      Asia    28.801  779.445314\n",
      "1     Afghanistan  1957       9240934      Asia    30.332  820.853030\n",
      "2     Afghanistan  1962      10267083      Asia    31.997  853.100710\n",
      "3     Afghanistan  1967      11537966      Asia    34.020  836.197138\n",
      "4     Afghanistan  1972      13079460      Asia    36.088  739.981106\n",
      "...           ...   ...           ...       ...       ...         ...\n",
      "1699     Zimbabwe  1987       9216418    Africa    62.351  706.157306\n",
      "1700     Zimbabwe  1992      10704340    Africa    60.377  693.420786\n",
      "1701     Zimbabwe  1997      11404948    Africa    46.809  792.449960\n",
      "1702     Zimbabwe  2002      11926563    Africa    39.989  672.038623\n",
      "1703     Zimbabwe  2007      12311143    Africa    43.487  469.709298\n",
      "\n",
      "[1704 rows x 6 columns]\n"
     ]
    }
   ],
   "source": [
    "print(df) # see that columns name arent changed from previous command. To change that, use inplace=True\n",
    "\n",
    "df.rename({\"country\":\"country_2\",\"population\":\"population_2\"},axis=1,inplace=True)\n",
    "\n"
   ]
  },
  {
   "cell_type": "markdown",
   "metadata": {},
   "source": [
    "## Drop column"
   ]
  },
  {
   "cell_type": "code",
   "execution_count": null,
   "metadata": {},
   "outputs": [
    {
     "name": "stdout",
     "output_type": "stream",
     "text": [
      "          country  year  population  life_exp     gdp_cap\n",
      "0     Afghanistan  1952     8425333    28.801  779.445314\n",
      "1     Afghanistan  1957     9240934    30.332  820.853030\n",
      "2     Afghanistan  1962    10267083    31.997  853.100710\n",
      "3     Afghanistan  1967    11537966    34.020  836.197138\n",
      "4     Afghanistan  1972    13079460    36.088  739.981106\n",
      "...           ...   ...         ...       ...         ...\n",
      "1699     Zimbabwe  1987     9216418    62.351  706.157306\n",
      "1700     Zimbabwe  1992    10704340    60.377  693.420786\n",
      "1701     Zimbabwe  1997    11404948    46.809  792.449960\n",
      "1702     Zimbabwe  2002    11926563    39.989  672.038623\n",
      "1703     Zimbabwe  2007    12311143    43.487  469.709298\n",
      "\n",
      "[1704 rows x 5 columns]\n"
     ]
    }
   ],
   "source": [
    "df=pd.read_csv(r'C:\\Users\\28962\\Documents\\GitHub\\DSML\\7_data_analytics_and_visualisation\\7.9_pandas_1\\mckinsey.csv')\n",
    "df.drop(\"continent\",axis=1,inplace=True)\n",
    "print(df)"
   ]
  },
  {
   "cell_type": "markdown",
   "metadata": {},
   "source": [
    "## Add column from scratch using loop\n"
   ]
  },
  {
   "cell_type": "code",
   "execution_count": 58,
   "metadata": {},
   "outputs": [
    {
     "name": "stdout",
     "output_type": "stream",
     "text": [
      "Index(['country', 'year', 'population', 'continent', 'life_exp', 'gdp_cap',\n",
      "       'year_2'],\n",
      "      dtype='object')\n"
     ]
    }
   ],
   "source": [
    "df=pd.read_csv(r'C:\\Users\\28962\\Documents\\GitHub\\DSML\\7_data_analytics_and_visualisation\\7.9_pandas_1\\mckinsey.csv')\n",
    "\n",
    "df[\"year_2\"]=df[\"year\"]+7\n",
    "print(df.columns)"
   ]
  },
  {
   "cell_type": "code",
   "execution_count": null,
   "metadata": {},
   "outputs": [
    {
     "data": {
      "application/vnd.microsoft.datawrangler.viewer.v0+json": {
       "columns": [
        {
         "name": "index",
         "rawType": "int64",
         "type": "integer"
        },
        {
         "name": "country",
         "rawType": "object",
         "type": "string"
        },
        {
         "name": "year",
         "rawType": "int64",
         "type": "integer"
        },
        {
         "name": "population",
         "rawType": "int64",
         "type": "integer"
        },
        {
         "name": "continent",
         "rawType": "object",
         "type": "string"
        },
        {
         "name": "life_exp",
         "rawType": "float64",
         "type": "float"
        },
        {
         "name": "gdp_cap",
         "rawType": "float64",
         "type": "float"
        },
        {
         "name": "test",
         "rawType": "int64",
         "type": "integer"
        }
       ],
       "conversionMethod": "pd.DataFrame",
       "ref": "fcf745e5-bc7a-42a0-9290-6808980d2f38",
       "rows": [
        [
         "0",
         "Afghanistan",
         "1952",
         "8425333",
         "Asia",
         "28.801",
         "779.4453145",
         "0"
        ],
        [
         "1",
         "Afghanistan",
         "1957",
         "9240934",
         "Asia",
         "30.332",
         "820.8530296",
         "1"
        ],
        [
         "2",
         "Afghanistan",
         "1962",
         "10267083",
         "Asia",
         "31.997",
         "853.10071",
         "4"
        ],
        [
         "3",
         "Afghanistan",
         "1967",
         "11537966",
         "Asia",
         "34.02",
         "836.1971382",
         "9"
        ],
        [
         "4",
         "Afghanistan",
         "1972",
         "13079460",
         "Asia",
         "36.088",
         "739.9811058",
         "16"
        ]
       ],
       "shape": {
        "columns": 7,
        "rows": 5
       }
      },
      "text/html": [
       "<div>\n",
       "<style scoped>\n",
       "    .dataframe tbody tr th:only-of-type {\n",
       "        vertical-align: middle;\n",
       "    }\n",
       "\n",
       "    .dataframe tbody tr th {\n",
       "        vertical-align: top;\n",
       "    }\n",
       "\n",
       "    .dataframe thead th {\n",
       "        text-align: right;\n",
       "    }\n",
       "</style>\n",
       "<table border=\"1\" class=\"dataframe\">\n",
       "  <thead>\n",
       "    <tr style=\"text-align: right;\">\n",
       "      <th></th>\n",
       "      <th>country</th>\n",
       "      <th>year</th>\n",
       "      <th>population</th>\n",
       "      <th>continent</th>\n",
       "      <th>life_exp</th>\n",
       "      <th>gdp_cap</th>\n",
       "      <th>test</th>\n",
       "    </tr>\n",
       "  </thead>\n",
       "  <tbody>\n",
       "    <tr>\n",
       "      <th>0</th>\n",
       "      <td>Afghanistan</td>\n",
       "      <td>1952</td>\n",
       "      <td>8425333</td>\n",
       "      <td>Asia</td>\n",
       "      <td>28.801</td>\n",
       "      <td>779.445314</td>\n",
       "      <td>0</td>\n",
       "    </tr>\n",
       "    <tr>\n",
       "      <th>1</th>\n",
       "      <td>Afghanistan</td>\n",
       "      <td>1957</td>\n",
       "      <td>9240934</td>\n",
       "      <td>Asia</td>\n",
       "      <td>30.332</td>\n",
       "      <td>820.853030</td>\n",
       "      <td>1</td>\n",
       "    </tr>\n",
       "    <tr>\n",
       "      <th>2</th>\n",
       "      <td>Afghanistan</td>\n",
       "      <td>1962</td>\n",
       "      <td>10267083</td>\n",
       "      <td>Asia</td>\n",
       "      <td>31.997</td>\n",
       "      <td>853.100710</td>\n",
       "      <td>4</td>\n",
       "    </tr>\n",
       "    <tr>\n",
       "      <th>3</th>\n",
       "      <td>Afghanistan</td>\n",
       "      <td>1967</td>\n",
       "      <td>11537966</td>\n",
       "      <td>Asia</td>\n",
       "      <td>34.020</td>\n",
       "      <td>836.197138</td>\n",
       "      <td>9</td>\n",
       "    </tr>\n",
       "    <tr>\n",
       "      <th>4</th>\n",
       "      <td>Afghanistan</td>\n",
       "      <td>1972</td>\n",
       "      <td>13079460</td>\n",
       "      <td>Asia</td>\n",
       "      <td>36.088</td>\n",
       "      <td>739.981106</td>\n",
       "      <td>16</td>\n",
       "    </tr>\n",
       "  </tbody>\n",
       "</table>\n",
       "</div>"
      ],
      "text/plain": [
       "       country  year  population continent  life_exp     gdp_cap  test\n",
       "0  Afghanistan  1952     8425333      Asia    28.801  779.445314     0\n",
       "1  Afghanistan  1957     9240934      Asia    30.332  820.853030     1\n",
       "2  Afghanistan  1962    10267083      Asia    31.997  853.100710     4\n",
       "3  Afghanistan  1967    11537966      Asia    34.020  836.197138     9\n",
       "4  Afghanistan  1972    13079460      Asia    36.088  739.981106    16"
      ]
     },
     "execution_count": 65,
     "metadata": {},
     "output_type": "execute_result"
    }
   ],
   "source": [
    "df=pd.read_csv(r'C:\\Users\\28962\\Documents\\GitHub\\DSML\\7_data_analytics_and_visualisation\\7.9_pandas_1\\mckinsey.csv')\n",
    "df[\"test\"]=[i**2 for i in range(df.shape[0])] # Note that nunber of entries here should be equal to number of indices in the df\n",
    "df.head() "
   ]
  },
  {
   "cell_type": "markdown",
   "metadata": {},
   "source": [
    "# Row manipulation"
   ]
  },
  {
   "cell_type": "markdown",
   "metadata": {},
   "source": [
    "## index manipulation"
   ]
  },
  {
   "cell_type": "code",
   "execution_count": null,
   "metadata": {},
   "outputs": [],
   "source": [
    "df=pd.read_csv(r'C:\\Users\\28962\\Documents\\GitHub\\DSML\\7_data_analytics_and_visualisation\\7.9_pandas_1\\mckinsey.csv')\n",
    "df.index.values\n",
    "df.index=[i**2 for i in range(df.shape[0])]\n",
    "df.reset_index(inplace=True) #important command "
   ]
  },
  {
   "cell_type": "markdown",
   "metadata": {},
   "source": [
    "## DF slicing row wise"
   ]
  },
  {
   "cell_type": "code",
   "execution_count": 180,
   "metadata": {},
   "outputs": [
    {
     "data": {
      "application/vnd.microsoft.datawrangler.viewer.v0+json": {
       "columns": [
        {
         "name": "index",
         "rawType": "int64",
         "type": "integer"
        },
        {
         "name": "country",
         "rawType": "object",
         "type": "string"
        },
        {
         "name": "year",
         "rawType": "int64",
         "type": "integer"
        },
        {
         "name": "population",
         "rawType": "int64",
         "type": "integer"
        },
        {
         "name": "continent",
         "rawType": "object",
         "type": "string"
        },
        {
         "name": "life_exp",
         "rawType": "float64",
         "type": "float"
        },
        {
         "name": "gdp_cap",
         "rawType": "float64",
         "type": "float"
        }
       ],
       "conversionMethod": "pd.DataFrame",
       "ref": "4c500c1b-77da-418c-88a3-d9b79613c1d8",
       "rows": [
        [
         "0",
         "Afghanistan",
         "1952",
         "8425333",
         "Asia",
         "28.801",
         "779.4453145"
        ],
        [
         "1",
         "Afghanistan",
         "1957",
         "9240934",
         "Asia",
         "30.332",
         "820.8530296"
        ],
        [
         "2",
         "Afghanistan",
         "1962",
         "10267083",
         "Asia",
         "31.997",
         "853.10071"
        ],
        [
         "3",
         "Afghanistan",
         "1967",
         "11537966",
         "Asia",
         "34.02",
         "836.1971382"
        ],
        [
         "4",
         "Afghanistan",
         "1972",
         "13079460",
         "Asia",
         "36.088",
         "739.9811058"
        ],
        [
         "5",
         "Afghanistan",
         "1977",
         "14880372",
         "Asia",
         "38.438",
         "786.11336"
        ],
        [
         "6",
         "Afghanistan",
         "1982",
         "12881816",
         "Asia",
         "39.854",
         "978.0114388"
        ],
        [
         "7",
         "Afghanistan",
         "1987",
         "13867957",
         "Asia",
         "40.822",
         "852.3959448"
        ],
        [
         "8",
         "Afghanistan",
         "1992",
         "16317921",
         "Asia",
         "41.674",
         "649.3413952"
        ],
        [
         "9",
         "Afghanistan",
         "1997",
         "22227415",
         "Asia",
         "41.763",
         "635.341351"
        ]
       ],
       "shape": {
        "columns": 6,
        "rows": 10
       }
      },
      "text/html": [
       "<div>\n",
       "<style scoped>\n",
       "    .dataframe tbody tr th:only-of-type {\n",
       "        vertical-align: middle;\n",
       "    }\n",
       "\n",
       "    .dataframe tbody tr th {\n",
       "        vertical-align: top;\n",
       "    }\n",
       "\n",
       "    .dataframe thead th {\n",
       "        text-align: right;\n",
       "    }\n",
       "</style>\n",
       "<table border=\"1\" class=\"dataframe\">\n",
       "  <thead>\n",
       "    <tr style=\"text-align: right;\">\n",
       "      <th></th>\n",
       "      <th>country</th>\n",
       "      <th>year</th>\n",
       "      <th>population</th>\n",
       "      <th>continent</th>\n",
       "      <th>life_exp</th>\n",
       "      <th>gdp_cap</th>\n",
       "    </tr>\n",
       "  </thead>\n",
       "  <tbody>\n",
       "    <tr>\n",
       "      <th>0</th>\n",
       "      <td>Afghanistan</td>\n",
       "      <td>1952</td>\n",
       "      <td>8425333</td>\n",
       "      <td>Asia</td>\n",
       "      <td>28.801</td>\n",
       "      <td>779.445314</td>\n",
       "    </tr>\n",
       "    <tr>\n",
       "      <th>1</th>\n",
       "      <td>Afghanistan</td>\n",
       "      <td>1957</td>\n",
       "      <td>9240934</td>\n",
       "      <td>Asia</td>\n",
       "      <td>30.332</td>\n",
       "      <td>820.853030</td>\n",
       "    </tr>\n",
       "    <tr>\n",
       "      <th>2</th>\n",
       "      <td>Afghanistan</td>\n",
       "      <td>1962</td>\n",
       "      <td>10267083</td>\n",
       "      <td>Asia</td>\n",
       "      <td>31.997</td>\n",
       "      <td>853.100710</td>\n",
       "    </tr>\n",
       "    <tr>\n",
       "      <th>3</th>\n",
       "      <td>Afghanistan</td>\n",
       "      <td>1967</td>\n",
       "      <td>11537966</td>\n",
       "      <td>Asia</td>\n",
       "      <td>34.020</td>\n",
       "      <td>836.197138</td>\n",
       "    </tr>\n",
       "    <tr>\n",
       "      <th>4</th>\n",
       "      <td>Afghanistan</td>\n",
       "      <td>1972</td>\n",
       "      <td>13079460</td>\n",
       "      <td>Asia</td>\n",
       "      <td>36.088</td>\n",
       "      <td>739.981106</td>\n",
       "    </tr>\n",
       "    <tr>\n",
       "      <th>5</th>\n",
       "      <td>Afghanistan</td>\n",
       "      <td>1977</td>\n",
       "      <td>14880372</td>\n",
       "      <td>Asia</td>\n",
       "      <td>38.438</td>\n",
       "      <td>786.113360</td>\n",
       "    </tr>\n",
       "    <tr>\n",
       "      <th>6</th>\n",
       "      <td>Afghanistan</td>\n",
       "      <td>1982</td>\n",
       "      <td>12881816</td>\n",
       "      <td>Asia</td>\n",
       "      <td>39.854</td>\n",
       "      <td>978.011439</td>\n",
       "    </tr>\n",
       "    <tr>\n",
       "      <th>7</th>\n",
       "      <td>Afghanistan</td>\n",
       "      <td>1987</td>\n",
       "      <td>13867957</td>\n",
       "      <td>Asia</td>\n",
       "      <td>40.822</td>\n",
       "      <td>852.395945</td>\n",
       "    </tr>\n",
       "    <tr>\n",
       "      <th>8</th>\n",
       "      <td>Afghanistan</td>\n",
       "      <td>1992</td>\n",
       "      <td>16317921</td>\n",
       "      <td>Asia</td>\n",
       "      <td>41.674</td>\n",
       "      <td>649.341395</td>\n",
       "    </tr>\n",
       "    <tr>\n",
       "      <th>9</th>\n",
       "      <td>Afghanistan</td>\n",
       "      <td>1997</td>\n",
       "      <td>22227415</td>\n",
       "      <td>Asia</td>\n",
       "      <td>41.763</td>\n",
       "      <td>635.341351</td>\n",
       "    </tr>\n",
       "  </tbody>\n",
       "</table>\n",
       "</div>"
      ],
      "text/plain": [
       "       country  year  population continent  life_exp     gdp_cap\n",
       "0  Afghanistan  1952     8425333      Asia    28.801  779.445314\n",
       "1  Afghanistan  1957     9240934      Asia    30.332  820.853030\n",
       "2  Afghanistan  1962    10267083      Asia    31.997  853.100710\n",
       "3  Afghanistan  1967    11537966      Asia    34.020  836.197138\n",
       "4  Afghanistan  1972    13079460      Asia    36.088  739.981106\n",
       "5  Afghanistan  1977    14880372      Asia    38.438  786.113360\n",
       "6  Afghanistan  1982    12881816      Asia    39.854  978.011439\n",
       "7  Afghanistan  1987    13867957      Asia    40.822  852.395945\n",
       "8  Afghanistan  1992    16317921      Asia    41.674  649.341395\n",
       "9  Afghanistan  1997    22227415      Asia    41.763  635.341351"
      ]
     },
     "execution_count": 180,
     "metadata": {},
     "output_type": "execute_result"
    }
   ],
   "source": [
    "df=pd.read_csv(r'C:\\Users\\28962\\Documents\\GitHub\\DSML\\7_data_analytics_and_visualisation\\7.9_pandas_1\\mckinsey.csv')\n",
    "df[:10] \n",
    "# however please note that single row cant be printed for exambple below command willl gove an error because this is syntax for selecting a column\n",
    "# df[1] ] "
   ]
  },
  {
   "cell_type": "markdown",
   "metadata": {},
   "source": [
    "## Loc and iloc"
   ]
  },
  {
   "cell_type": "code",
   "execution_count": 96,
   "metadata": {},
   "outputs": [
    {
     "data": {
      "application/vnd.microsoft.datawrangler.viewer.v0+json": {
       "columns": [
        {
         "name": "index",
         "rawType": "int64",
         "type": "integer"
        },
        {
         "name": "country",
         "rawType": "object",
         "type": "string"
        },
        {
         "name": "year",
         "rawType": "int64",
         "type": "integer"
        },
        {
         "name": "population",
         "rawType": "int64",
         "type": "integer"
        },
        {
         "name": "continent",
         "rawType": "object",
         "type": "string"
        },
        {
         "name": "life_exp",
         "rawType": "float64",
         "type": "float"
        },
        {
         "name": "gdp_cap",
         "rawType": "float64",
         "type": "float"
        }
       ],
       "conversionMethod": "pd.DataFrame",
       "ref": "eaf9dafe-0070-4aa4-acc1-6e5d2b45d526",
       "rows": [
        [
         "1703",
         "Zimbabwe",
         "2007",
         "12311143",
         "Africa",
         "43.487",
         "469.7092981"
        ],
        [
         "1702",
         "Zimbabwe",
         "2002",
         "11926563",
         "Africa",
         "39.989",
         "672.0386227"
        ],
        [
         "1701",
         "Zimbabwe",
         "1997",
         "11404948",
         "Africa",
         "46.809",
         "792.4499603"
        ]
       ],
       "shape": {
        "columns": 6,
        "rows": 3
       }
      },
      "text/html": [
       "<div>\n",
       "<style scoped>\n",
       "    .dataframe tbody tr th:only-of-type {\n",
       "        vertical-align: middle;\n",
       "    }\n",
       "\n",
       "    .dataframe tbody tr th {\n",
       "        vertical-align: top;\n",
       "    }\n",
       "\n",
       "    .dataframe thead th {\n",
       "        text-align: right;\n",
       "    }\n",
       "</style>\n",
       "<table border=\"1\" class=\"dataframe\">\n",
       "  <thead>\n",
       "    <tr style=\"text-align: right;\">\n",
       "      <th></th>\n",
       "      <th>country</th>\n",
       "      <th>year</th>\n",
       "      <th>population</th>\n",
       "      <th>continent</th>\n",
       "      <th>life_exp</th>\n",
       "      <th>gdp_cap</th>\n",
       "    </tr>\n",
       "  </thead>\n",
       "  <tbody>\n",
       "    <tr>\n",
       "      <th>1703</th>\n",
       "      <td>Zimbabwe</td>\n",
       "      <td>2007</td>\n",
       "      <td>12311143</td>\n",
       "      <td>Africa</td>\n",
       "      <td>43.487</td>\n",
       "      <td>469.709298</td>\n",
       "    </tr>\n",
       "    <tr>\n",
       "      <th>1702</th>\n",
       "      <td>Zimbabwe</td>\n",
       "      <td>2002</td>\n",
       "      <td>11926563</td>\n",
       "      <td>Africa</td>\n",
       "      <td>39.989</td>\n",
       "      <td>672.038623</td>\n",
       "    </tr>\n",
       "    <tr>\n",
       "      <th>1701</th>\n",
       "      <td>Zimbabwe</td>\n",
       "      <td>1997</td>\n",
       "      <td>11404948</td>\n",
       "      <td>Africa</td>\n",
       "      <td>46.809</td>\n",
       "      <td>792.449960</td>\n",
       "    </tr>\n",
       "  </tbody>\n",
       "</table>\n",
       "</div>"
      ],
      "text/plain": [
       "       country  year  population continent  life_exp     gdp_cap\n",
       "1703  Zimbabwe  2007    12311143    Africa    43.487  469.709298\n",
       "1702  Zimbabwe  2002    11926563    Africa    39.989  672.038623\n",
       "1701  Zimbabwe  1997    11404948    Africa    46.809  792.449960"
      ]
     },
     "execution_count": 96,
     "metadata": {},
     "output_type": "execute_result"
    }
   ],
   "source": [
    "# Ignore loc. Only use iloc\n",
    "df=pd.read_csv(r'C:\\Users\\28962\\Documents\\GitHub\\DSML\\7_data_analytics_and_visualisation\\7.9_pandas_1\\mckinsey.csv')\n",
    "# df.iloc[:3]\n",
    "# df.iloc[[1,2,10,20]]\n",
    "df.iloc[[-1,-2,-3]]\n"
   ]
  },
  {
   "cell_type": "markdown",
   "metadata": {},
   "source": [
    "## Append: now concat"
   ]
  },
  {
   "cell_type": "code",
   "execution_count": null,
   "metadata": {},
   "outputs": [],
   "source": [
    "df=pd.read_csv(r'C:\\Users\\28962\\Documents\\GitHub\\DSML\\7_data_analytics_and_visualisation\\7.9_pandas_1\\mckinsey.csv')\n",
    "df.head()\n",
    "new_row=pd.DataFrame([{\"country\":\"india\",\"year\":2020,\"population\":2,\"continent\":\"mayank\",\"life_exp\":1,\"gdp_cap\":2}])\n",
    "df_2=pd.concat([df,new_row],ignore_index=True) # check the impact of ignore_index=True"
   ]
  },
  {
   "cell_type": "markdown",
   "metadata": {},
   "source": [
    "## Replace a row"
   ]
  },
  {
   "cell_type": "code",
   "execution_count": 128,
   "metadata": {},
   "outputs": [],
   "source": [
    "df=pd.read_csv(r'C:\\Users\\28962\\Documents\\GitHub\\DSML\\7_data_analytics_and_visualisation\\7.9_pandas_1\\mckinsey.csv')\n",
    "df.iloc[2]={\"country\":\"india\",\"year\":2020,\"population\":2,\"continent\":\"mayank\",\"life_exp\":1,\"gdp_cap\":2}"
   ]
  },
  {
   "cell_type": "markdown",
   "metadata": {},
   "source": [
    "## Delete a row"
   ]
  },
  {
   "cell_type": "code",
   "execution_count": 142,
   "metadata": {},
   "outputs": [],
   "source": [
    "df=pd.read_csv(r'C:\\Users\\28962\\Documents\\GitHub\\DSML\\7_data_analytics_and_visualisation\\7.9_pandas_1\\mckinsey.csv')\n",
    "df.drop(3,axis=0,inplace=True)\n",
    "df.drop([2,4],axis=0,inplace=True)\n",
    "# # df.drop(:10,axis=0,inplace=True) # this wont work because slicing is not possible for drop\n",
    "df.reset_index(inplace=True)"
   ]
  },
  {
   "cell_type": "markdown",
   "metadata": {},
   "source": [
    "## Dedupe rows"
   ]
  },
  {
   "cell_type": "code",
   "execution_count": null,
   "metadata": {},
   "outputs": [
    {
     "name": "stdout",
     "output_type": "stream",
     "text": [
      "0       False\n",
      "1       False\n",
      "2       False\n",
      "3       False\n",
      "4       False\n",
      "        ...  \n",
      "1702    False\n",
      "1703    False\n",
      "1704     True\n",
      "1705     True\n",
      "1706     True\n",
      "Length: 1707, dtype: bool\n",
      "1707\n",
      "1704\n"
     ]
    }
   ],
   "source": [
    "df = pd.read_csv(r'C:\\Users\\28962\\Documents\\GitHub\\DSML\\7_data_analytics_and_visualisation\\7.9_pandas_1\\mckinsey.csv')\n",
    "df_2 = df.iloc[-3:]\n",
    "df_3 = pd.concat([df, df_2], ignore_index=True)\n",
    "\n",
    "print(df_3.duplicated())\n",
    "\n",
    "# Duplicated rows\n",
    "df_3_duplicates = df_3[df_3.duplicated()]\n",
    "print(df_3.shape[0])\n",
    "df_3.drop_duplicates(inplace=True)\n",
    "print(df_3.shape[0])\n"
   ]
  },
  {
   "cell_type": "markdown",
   "metadata": {},
   "source": [
    "## Drop duplicates to keep first/last record"
   ]
  },
  {
   "cell_type": "code",
   "execution_count": null,
   "metadata": {},
   "outputs": [
    {
     "name": "stdout",
     "output_type": "stream",
     "text": [
      "0       False\n",
      "1       False\n",
      "2       False\n",
      "3       False\n",
      "4       False\n",
      "        ...  \n",
      "1702    False\n",
      "1703    False\n",
      "1704     True\n",
      "1705     True\n",
      "1706     True\n",
      "Length: 1707, dtype: bool\n",
      "1707\n",
      "1704\n"
     ]
    }
   ],
   "source": [
    "df = pd.read_csv(r'C:\\Users\\28962\\Documents\\GitHub\\DSML\\7_data_analytics_and_visualisation\\7.9_pandas_1\\mckinsey.csv')\n",
    "df_2 = df.iloc[-3:]\n",
    "df_3 = pd.concat([df, df_2], ignore_index=True)\n",
    "\n",
    "print(df_3.duplicated())\n",
    "\n",
    "# Duplicated rows\n",
    "df_3_duplicates = df_3[df_3.duplicated()]\n",
    "print(df_3.shape[0])\n",
    "df_3.drop_duplicates(keep='first',inplace=True)\n",
    "print(df_3.shape[0])"
   ]
  },
  {
   "cell_type": "markdown",
   "metadata": {},
   "source": [
    "## Duplicates only for specific columns"
   ]
  },
  {
   "cell_type": "code",
   "execution_count": 178,
   "metadata": {},
   "outputs": [
    {
     "data": {
      "application/vnd.microsoft.datawrangler.viewer.v0+json": {
       "columns": [
        {
         "name": "index",
         "rawType": "int64",
         "type": "integer"
        },
        {
         "name": "country",
         "rawType": "object",
         "type": "string"
        },
        {
         "name": "year",
         "rawType": "int64",
         "type": "integer"
        },
        {
         "name": "population",
         "rawType": "int64",
         "type": "integer"
        },
        {
         "name": "continent",
         "rawType": "object",
         "type": "string"
        },
        {
         "name": "life_exp",
         "rawType": "float64",
         "type": "float"
        },
        {
         "name": "gdp_cap",
         "rawType": "float64",
         "type": "float"
        }
       ],
       "conversionMethod": "pd.DataFrame",
       "ref": "bd468587-48ad-43a8-b54c-fe9f03d6c26f",
       "rows": [
        [
         "11",
         "Afghanistan",
         "2007",
         "31889923",
         "Asia",
         "43.828",
         "974.5803384"
        ],
        [
         "23",
         "Albania",
         "2007",
         "3600523",
         "Europe",
         "76.423",
         "5937.029526"
        ],
        [
         "35",
         "Algeria",
         "2007",
         "33333216",
         "Africa",
         "72.301",
         "6223.367465"
        ],
        [
         "47",
         "Angola",
         "2007",
         "12420476",
         "Africa",
         "42.731",
         "4797.231267"
        ],
        [
         "59",
         "Argentina",
         "2007",
         "40301927",
         "Americas",
         "75.32",
         "12779.37964"
        ],
        [
         "71",
         "Australia",
         "2007",
         "20434176",
         "Oceania",
         "81.235",
         "34435.36744"
        ],
        [
         "83",
         "Austria",
         "2007",
         "8199783",
         "Europe",
         "79.829",
         "36126.4927"
        ],
        [
         "95",
         "Bahrain",
         "2007",
         "708573",
         "Asia",
         "75.635",
         "29796.04834"
        ],
        [
         "107",
         "Bangladesh",
         "2007",
         "150448339",
         "Asia",
         "64.062",
         "1391.253792"
        ],
        [
         "119",
         "Belgium",
         "2007",
         "10392226",
         "Europe",
         "79.441",
         "33692.60508"
        ],
        [
         "131",
         "Benin",
         "2007",
         "8078314",
         "Africa",
         "56.728",
         "1441.284873"
        ],
        [
         "143",
         "Bolivia",
         "2007",
         "9119152",
         "Americas",
         "65.554",
         "3822.137084"
        ],
        [
         "155",
         "Bosnia and Herzegovina",
         "2007",
         "4552198",
         "Europe",
         "74.852",
         "7446.298803"
        ],
        [
         "167",
         "Botswana",
         "2007",
         "1639131",
         "Africa",
         "50.728",
         "12569.85177"
        ],
        [
         "179",
         "Brazil",
         "2007",
         "190010647",
         "Americas",
         "72.39",
         "9065.800825"
        ],
        [
         "191",
         "Bulgaria",
         "2007",
         "7322858",
         "Europe",
         "73.005",
         "10680.79282"
        ],
        [
         "203",
         "Burkina Faso",
         "2007",
         "14326203",
         "Africa",
         "52.295",
         "1217.032994"
        ],
        [
         "215",
         "Burundi",
         "2007",
         "8390505",
         "Africa",
         "49.58",
         "430.0706916"
        ],
        [
         "227",
         "Cambodia",
         "2007",
         "14131858",
         "Asia",
         "59.723",
         "1713.778686"
        ],
        [
         "239",
         "Cameroon",
         "2007",
         "17696293",
         "Africa",
         "50.43",
         "2042.09524"
        ],
        [
         "251",
         "Canada",
         "2007",
         "33390141",
         "Americas",
         "80.653",
         "36319.23501"
        ],
        [
         "263",
         "Central African Republic",
         "2007",
         "4369038",
         "Africa",
         "44.741",
         "706.016537"
        ],
        [
         "275",
         "Chad",
         "2007",
         "10238807",
         "Africa",
         "50.651",
         "1704.063724"
        ],
        [
         "287",
         "Chile",
         "2007",
         "16284741",
         "Americas",
         "78.553",
         "13171.63885"
        ],
        [
         "299",
         "China",
         "2007",
         "1318683096",
         "Asia",
         "72.961",
         "4959.114854"
        ],
        [
         "311",
         "Colombia",
         "2007",
         "44227550",
         "Americas",
         "72.889",
         "7006.580419"
        ],
        [
         "323",
         "Comoros",
         "2007",
         "710960",
         "Africa",
         "65.152",
         "986.1478792"
        ],
        [
         "335",
         "Congo, Dem. Rep.",
         "2007",
         "64606759",
         "Africa",
         "46.462",
         "277.5518587"
        ],
        [
         "347",
         "Congo, Rep.",
         "2007",
         "3800610",
         "Africa",
         "55.322",
         "3632.557798"
        ],
        [
         "359",
         "Costa Rica",
         "2007",
         "4133884",
         "Americas",
         "78.782",
         "9645.06142"
        ],
        [
         "371",
         "Cote d'Ivoire",
         "2007",
         "18013409",
         "Africa",
         "48.328",
         "1544.750112"
        ],
        [
         "383",
         "Croatia",
         "2007",
         "4493312",
         "Europe",
         "75.748",
         "14619.22272"
        ],
        [
         "395",
         "Cuba",
         "2007",
         "11416987",
         "Americas",
         "78.273",
         "8948.102923"
        ],
        [
         "407",
         "Czech Republic",
         "2007",
         "10228744",
         "Europe",
         "76.486",
         "22833.30851"
        ],
        [
         "419",
         "Denmark",
         "2007",
         "5468120",
         "Europe",
         "78.332",
         "35278.41874"
        ],
        [
         "431",
         "Djibouti",
         "2007",
         "496374",
         "Africa",
         "54.791",
         "2082.481567"
        ],
        [
         "443",
         "Dominican Republic",
         "2007",
         "9319622",
         "Americas",
         "72.235",
         "6025.374752"
        ],
        [
         "455",
         "Ecuador",
         "2007",
         "13755680",
         "Americas",
         "74.994",
         "6873.262326"
        ],
        [
         "467",
         "Egypt",
         "2007",
         "80264543",
         "Africa",
         "71.338",
         "5581.180998"
        ],
        [
         "479",
         "El Salvador",
         "2007",
         "6939688",
         "Americas",
         "71.878",
         "5728.353514"
        ],
        [
         "491",
         "Equatorial Guinea",
         "2007",
         "551201",
         "Africa",
         "51.579",
         "12154.08975"
        ],
        [
         "503",
         "Eritrea",
         "2007",
         "4906585",
         "Africa",
         "58.04",
         "641.3695236"
        ],
        [
         "515",
         "Ethiopia",
         "2007",
         "76511887",
         "Africa",
         "52.947",
         "690.8055759"
        ],
        [
         "527",
         "Finland",
         "2007",
         "5238460",
         "Europe",
         "79.313",
         "33207.0844"
        ],
        [
         "539",
         "France",
         "2007",
         "61083916",
         "Europe",
         "80.657",
         "30470.0167"
        ],
        [
         "551",
         "Gabon",
         "2007",
         "1454867",
         "Africa",
         "56.735",
         "13206.48452"
        ],
        [
         "563",
         "Gambia",
         "2007",
         "1688359",
         "Africa",
         "59.448",
         "752.7497265"
        ],
        [
         "575",
         "Germany",
         "2007",
         "82400996",
         "Europe",
         "79.406",
         "32170.37442"
        ],
        [
         "587",
         "Ghana",
         "2007",
         "22873338",
         "Africa",
         "60.022",
         "1327.60891"
        ],
        [
         "599",
         "Greece",
         "2007",
         "10706290",
         "Europe",
         "79.483",
         "27538.41188"
        ]
       ],
       "shape": {
        "columns": 6,
        "rows": 142
       }
      },
      "text/html": [
       "<div>\n",
       "<style scoped>\n",
       "    .dataframe tbody tr th:only-of-type {\n",
       "        vertical-align: middle;\n",
       "    }\n",
       "\n",
       "    .dataframe tbody tr th {\n",
       "        vertical-align: top;\n",
       "    }\n",
       "\n",
       "    .dataframe thead th {\n",
       "        text-align: right;\n",
       "    }\n",
       "</style>\n",
       "<table border=\"1\" class=\"dataframe\">\n",
       "  <thead>\n",
       "    <tr style=\"text-align: right;\">\n",
       "      <th></th>\n",
       "      <th>country</th>\n",
       "      <th>year</th>\n",
       "      <th>population</th>\n",
       "      <th>continent</th>\n",
       "      <th>life_exp</th>\n",
       "      <th>gdp_cap</th>\n",
       "    </tr>\n",
       "  </thead>\n",
       "  <tbody>\n",
       "    <tr>\n",
       "      <th>11</th>\n",
       "      <td>Afghanistan</td>\n",
       "      <td>2007</td>\n",
       "      <td>31889923</td>\n",
       "      <td>Asia</td>\n",
       "      <td>43.828</td>\n",
       "      <td>974.580338</td>\n",
       "    </tr>\n",
       "    <tr>\n",
       "      <th>23</th>\n",
       "      <td>Albania</td>\n",
       "      <td>2007</td>\n",
       "      <td>3600523</td>\n",
       "      <td>Europe</td>\n",
       "      <td>76.423</td>\n",
       "      <td>5937.029526</td>\n",
       "    </tr>\n",
       "    <tr>\n",
       "      <th>35</th>\n",
       "      <td>Algeria</td>\n",
       "      <td>2007</td>\n",
       "      <td>33333216</td>\n",
       "      <td>Africa</td>\n",
       "      <td>72.301</td>\n",
       "      <td>6223.367465</td>\n",
       "    </tr>\n",
       "    <tr>\n",
       "      <th>47</th>\n",
       "      <td>Angola</td>\n",
       "      <td>2007</td>\n",
       "      <td>12420476</td>\n",
       "      <td>Africa</td>\n",
       "      <td>42.731</td>\n",
       "      <td>4797.231267</td>\n",
       "    </tr>\n",
       "    <tr>\n",
       "      <th>59</th>\n",
       "      <td>Argentina</td>\n",
       "      <td>2007</td>\n",
       "      <td>40301927</td>\n",
       "      <td>Americas</td>\n",
       "      <td>75.320</td>\n",
       "      <td>12779.379640</td>\n",
       "    </tr>\n",
       "    <tr>\n",
       "      <th>...</th>\n",
       "      <td>...</td>\n",
       "      <td>...</td>\n",
       "      <td>...</td>\n",
       "      <td>...</td>\n",
       "      <td>...</td>\n",
       "      <td>...</td>\n",
       "    </tr>\n",
       "    <tr>\n",
       "      <th>1655</th>\n",
       "      <td>Vietnam</td>\n",
       "      <td>2007</td>\n",
       "      <td>85262356</td>\n",
       "      <td>Asia</td>\n",
       "      <td>74.249</td>\n",
       "      <td>2441.576404</td>\n",
       "    </tr>\n",
       "    <tr>\n",
       "      <th>1667</th>\n",
       "      <td>West Bank and Gaza</td>\n",
       "      <td>2007</td>\n",
       "      <td>4018332</td>\n",
       "      <td>Asia</td>\n",
       "      <td>73.422</td>\n",
       "      <td>3025.349798</td>\n",
       "    </tr>\n",
       "    <tr>\n",
       "      <th>1679</th>\n",
       "      <td>Yemen, Rep.</td>\n",
       "      <td>2007</td>\n",
       "      <td>22211743</td>\n",
       "      <td>Asia</td>\n",
       "      <td>62.698</td>\n",
       "      <td>2280.769906</td>\n",
       "    </tr>\n",
       "    <tr>\n",
       "      <th>1691</th>\n",
       "      <td>Zambia</td>\n",
       "      <td>2007</td>\n",
       "      <td>11746035</td>\n",
       "      <td>Africa</td>\n",
       "      <td>42.384</td>\n",
       "      <td>1271.211593</td>\n",
       "    </tr>\n",
       "    <tr>\n",
       "      <th>1706</th>\n",
       "      <td>Zimbabwe</td>\n",
       "      <td>2007</td>\n",
       "      <td>12311143</td>\n",
       "      <td>Africa</td>\n",
       "      <td>43.487</td>\n",
       "      <td>469.709298</td>\n",
       "    </tr>\n",
       "  </tbody>\n",
       "</table>\n",
       "<p>142 rows × 6 columns</p>\n",
       "</div>"
      ],
      "text/plain": [
       "                 country  year  population continent  life_exp       gdp_cap\n",
       "11           Afghanistan  2007    31889923      Asia    43.828    974.580338\n",
       "23               Albania  2007     3600523    Europe    76.423   5937.029526\n",
       "35               Algeria  2007    33333216    Africa    72.301   6223.367465\n",
       "47                Angola  2007    12420476    Africa    42.731   4797.231267\n",
       "59             Argentina  2007    40301927  Americas    75.320  12779.379640\n",
       "...                  ...   ...         ...       ...       ...           ...\n",
       "1655             Vietnam  2007    85262356      Asia    74.249   2441.576404\n",
       "1667  West Bank and Gaza  2007     4018332      Asia    73.422   3025.349798\n",
       "1679         Yemen, Rep.  2007    22211743      Asia    62.698   2280.769906\n",
       "1691              Zambia  2007    11746035    Africa    42.384   1271.211593\n",
       "1706            Zimbabwe  2007    12311143    Africa    43.487    469.709298\n",
       "\n",
       "[142 rows x 6 columns]"
      ]
     },
     "execution_count": 178,
     "metadata": {},
     "output_type": "execute_result"
    }
   ],
   "source": [
    "df = pd.read_csv(r'C:\\Users\\28962\\Documents\\GitHub\\DSML\\7_data_analytics_and_visualisation\\7.9_pandas_1\\mckinsey.csv')\n",
    "df_2 = df.iloc[-3:]\n",
    "df_3 = pd.concat([df, df_2], ignore_index=True)\n",
    "\n",
    "df_3.drop_duplicates(subset=['country'],keep='last')"
   ]
  },
  {
   "cell_type": "code",
   "execution_count": 176,
   "metadata": {},
   "outputs": [
    {
     "data": {
      "text/plain": [
       "Index(['country', 'year', 'population', 'continent', 'life_exp', 'gdp_cap'], dtype='object')"
      ]
     },
     "execution_count": 176,
     "metadata": {},
     "output_type": "execute_result"
    }
   ],
   "source": [
    "df_3.columns"
   ]
  },
  {
   "cell_type": "markdown",
   "metadata": {},
   "source": [
    "# Problems"
   ]
  },
  {
   "cell_type": "code",
   "execution_count": null,
   "metadata": {},
   "outputs": [],
   "source": [
    "'''\n",
    "Q2 - String into words as indices and their count as value\n",
    "\n",
    "'''\n",
    "\n",
    "# DIDNT GET NUMBER OF INPUTS IN THE SCALER SOLUTION"
   ]
  },
  {
   "cell_type": "code",
   "execution_count": 220,
   "metadata": {},
   "outputs": [],
   "source": [
    "def solve(string):\n",
    "    a=pd.DataFrame(string.split(),columns=[\"words\"])\n",
    "    result=pd.DataFrame(a['words'].value_counts())\n",
    "    res=result.sort_index()\n",
    "    return res"
   ]
  },
  {
   "cell_type": "code",
   "execution_count": null,
   "metadata": {},
   "outputs": [],
   "source": [
    "'''\n",
    "q4 - INTERESTING BECAUSE OF DF.INSERT\n",
    "\n",
    "'''"
   ]
  },
  {
   "cell_type": "code",
   "execution_count": null,
   "metadata": {},
   "outputs": [],
   "source": [
    "'''\n",
    "Q7 - append rowns and remove specific row\n",
    "'''"
   ]
  },
  {
   "cell_type": "code",
   "execution_count": null,
   "metadata": {},
   "outputs": [],
   "source": [
    "a=pd.DataFrame([[\"a\",12],\n",
    "                [\"b\",15],\n",
    "                [\"c\",18]]\n",
    "                ,columns=[\"name\",\"age\"])\n",
    "\n",
    "\n",
    "def add_and_remove(df, data, out):\n",
    "\n",
    "    # Add the rows \n",
    "    df_b=pd.DataFrame(data,columns=df.columns)\n",
    "    df=pd.concat([df,df_b],ignore_index=True)\n",
    "    # Remove the out index row \n",
    "    df.drop(out,inplace=True)\n",
    "    \n",
    "    return df"
   ]
  },
  {
   "cell_type": "code",
   "execution_count": null,
   "metadata": {},
   "outputs": [],
   "source": [
    "'''\n",
    "Q9 - IMPORTANT TO ILLUSTRATE THAT DROP_DUPOICATES ONLY CHECKS RECORDS AND NOT INDICESB\n",
    "'''"
   ]
  },
  {
   "cell_type": "code",
   "execution_count": null,
   "metadata": {},
   "outputs": [],
   "source": [
    "'''\n",
    "Additional porblems\n",
    "\n",
    "'''"
   ]
  },
  {
   "cell_type": "code",
   "execution_count": null,
   "metadata": {},
   "outputs": [],
   "source": [
    "'''\n",
    "\n",
    "Q-4 d.index\n",
    "'''"
   ]
  }
 ],
 "metadata": {
  "kernelspec": {
   "display_name": "Python 3",
   "language": "python",
   "name": "python3"
  },
  "language_info": {
   "codemirror_mode": {
    "name": "ipython",
    "version": 3
   },
   "file_extension": ".py",
   "mimetype": "text/x-python",
   "name": "python",
   "nbconvert_exporter": "python",
   "pygments_lexer": "ipython3",
   "version": "3.12.6"
  }
 },
 "nbformat": 4,
 "nbformat_minor": 2
}
