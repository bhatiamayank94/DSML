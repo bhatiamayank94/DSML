{
 "cells": [
  {
   "cell_type": "code",
   "execution_count": null,
   "metadata": {},
   "outputs": [],
   "source": [
    "# np.new_axis\n",
    "# splitting of an array\n",
    "# np.new_axis\n",
    "\n",
    "# np.vectorization\n",
    "\n",
    "# none as attribute\n",
    "# randint\n",
    "# np.concatenate\n",
    "\n",
    "# hstack, vstack, hsplit, vsplit\n",
    "\n",
    "# a.squeeze\n",
    "# np.expand_dims\n"
   ]
  },
  {
   "cell_type": "code",
   "execution_count": 2,
   "metadata": {},
   "outputs": [],
   "source": [
    "import numpy as np"
   ]
  },
  {
   "cell_type": "code",
   "execution_count": 12,
   "metadata": {},
   "outputs": [
    {
     "name": "stdout",
     "output_type": "stream",
     "text": [
      "(3,) (3,)\n",
      "[0 1 2] [0 1 2] 5\n"
     ]
    }
   ],
   "source": [
    "# 1d vs 1d\n",
    "# normal sum product \n",
    "\n",
    "a=np.arange(3)\n",
    "b=np.arange(3)\n",
    "print(a.shape,b.shape)\n",
    "\n",
    "print(a,b,np.dot(a,b))"
   ]
  },
  {
   "cell_type": "code",
   "execution_count": 31,
   "metadata": {},
   "outputs": [
    {
     "name": "stdout",
     "output_type": "stream",
     "text": [
      "[3 0 1] [[4 8 6]\n",
      " [5 5 8]\n",
      " [8 2 7]] (3,) (3, 3) [20 26 25] (3,)\n"
     ]
    }
   ],
   "source": [
    "# 1d vs 2d\n",
    "# for shapes (3,) and (3,3), final product would be (3,). i.e row vector\n",
    "\n",
    "c=np.random.randint(0,10,[3])\n",
    "d=np.random.randint(0,10,[3,3])\n",
    "d_err=np.random.randint(0,10,[4,3])\n",
    "\n",
    "print(c,d,c.shape,d.shape,np.dot(c,d),np.dot(c,d).shape)\n",
    "# print(c,d,c.shape,d.shape,np.dot(c,d_err),np.dot(c,d_err).shape) \n",
    "    # this will give error  because shape mismatch"
   ]
  },
  {
   "cell_type": "code",
   "execution_count": 4,
   "metadata": {},
   "outputs": [
    {
     "name": "stdout",
     "output_type": "stream",
     "text": [
      "[2 3 0] [[2 3 5]\n",
      " [7 0 1]\n",
      " [1 4 1]\n",
      " [4 2 5]] (3,) (4, 3) [13 14 14 14] (4,)\n"
     ]
    }
   ],
   "source": [
    "# 2d vs 1d\n",
    "# for shapes (3,3) and (3,), final product would be (3,). i.e row vector\n",
    "# BASICALLY, FOR ANY 1D VS 2D DOT PRODUCT, FUNAL PRODUCT WILL BE 1D ONLY AND THAT WILL BE ROW VECTOR\n",
    "\n",
    "e=np.random.randint(0,10,[3])\n",
    "f=np.random.randint(0,10,[4,3])\n",
    "\n",
    "print(e,f,e.shape,f.shape,np.dot(f,e),np.dot(f,e).shape)"
   ]
  },
  {
   "cell_type": "code",
   "execution_count": 32,
   "metadata": {},
   "outputs": [
    {
     "name": "stdout",
     "output_type": "stream",
     "text": [
      "[[9 7 6]\n",
      " [1 1 1]] [[2 8 6 6]\n",
      " [4 1 6 5]\n",
      " [3 9 8 3]] (2, 3) (3, 4) [[ 64 133 144 107]\n",
      " [  9  18  20  14]] (2, 4)\n"
     ]
    }
   ],
   "source": [
    "# 2d vs 2d\n",
    "\n",
    "# for shapes (2,3) and (3,4), final product would be (2,4).i.e another 2d vecotr\n",
    "\n",
    "g=np.random.randint(0,10,[2,3])\n",
    "h=np.random.randint(0,10,[3,4])\n",
    "\n",
    "print(g,h,g.shape,h.shape,np.dot(g,h),np.dot(g,h).shape) # this will become 2d vector of 2,4 shape\n"
   ]
  },
  {
   "cell_type": "markdown",
   "metadata": {},
   "source": [
    "# Explode"
   ]
  },
  {
   "cell_type": "code",
   "execution_count": 2,
   "metadata": {},
   "outputs": [
    {
     "name": "stdout",
     "output_type": "stream",
     "text": [
      "   Student         Subjects\n",
      "0    Alice  [Math, History]\n",
      "1      Bob           [Math]\n",
      "2  Charlie  [Math, Science]\n"
     ]
    }
   ],
   "source": [
    "import pandas as pd\n",
    "data = {\n",
    "    'Student': ['Alice', 'Bob', 'Charlie'],\n",
    "    'Subjects': [['Math', 'History'], ['Math'], ['Math', 'Science']]\n",
    "}\n",
    "\n",
    "df = pd.DataFrame(data)\n",
    "print(df)"
   ]
  },
  {
   "cell_type": "code",
   "execution_count": 3,
   "metadata": {},
   "outputs": [
    {
     "data": {
      "application/vnd.microsoft.datawrangler.viewer.v0+json": {
       "columns": [
        {
         "name": "index",
         "rawType": "int64",
         "type": "integer"
        },
        {
         "name": "Student",
         "rawType": "object",
         "type": "string"
        },
        {
         "name": "Subjects",
         "rawType": "object",
         "type": "string"
        }
       ],
       "conversionMethod": "pd.DataFrame",
       "ref": "aeda7ed4-609a-49ae-bc94-fbd887af4285",
       "rows": [
        [
         "0",
         "Alice",
         "Math"
        ],
        [
         "0",
         "Alice",
         "History"
        ],
        [
         "1",
         "Bob",
         "Math"
        ],
        [
         "2",
         "Charlie",
         "Math"
        ],
        [
         "2",
         "Charlie",
         "Science"
        ]
       ],
       "shape": {
        "columns": 2,
        "rows": 5
       }
      },
      "text/html": [
       "<div>\n",
       "<style scoped>\n",
       "    .dataframe tbody tr th:only-of-type {\n",
       "        vertical-align: middle;\n",
       "    }\n",
       "\n",
       "    .dataframe tbody tr th {\n",
       "        vertical-align: top;\n",
       "    }\n",
       "\n",
       "    .dataframe thead th {\n",
       "        text-align: right;\n",
       "    }\n",
       "</style>\n",
       "<table border=\"1\" class=\"dataframe\">\n",
       "  <thead>\n",
       "    <tr style=\"text-align: right;\">\n",
       "      <th></th>\n",
       "      <th>Student</th>\n",
       "      <th>Subjects</th>\n",
       "    </tr>\n",
       "  </thead>\n",
       "  <tbody>\n",
       "    <tr>\n",
       "      <th>0</th>\n",
       "      <td>Alice</td>\n",
       "      <td>Math</td>\n",
       "    </tr>\n",
       "    <tr>\n",
       "      <th>0</th>\n",
       "      <td>Alice</td>\n",
       "      <td>History</td>\n",
       "    </tr>\n",
       "    <tr>\n",
       "      <th>1</th>\n",
       "      <td>Bob</td>\n",
       "      <td>Math</td>\n",
       "    </tr>\n",
       "    <tr>\n",
       "      <th>2</th>\n",
       "      <td>Charlie</td>\n",
       "      <td>Math</td>\n",
       "    </tr>\n",
       "    <tr>\n",
       "      <th>2</th>\n",
       "      <td>Charlie</td>\n",
       "      <td>Science</td>\n",
       "    </tr>\n",
       "  </tbody>\n",
       "</table>\n",
       "</div>"
      ],
      "text/plain": [
       "   Student Subjects\n",
       "0    Alice     Math\n",
       "0    Alice  History\n",
       "1      Bob     Math\n",
       "2  Charlie     Math\n",
       "2  Charlie  Science"
      ]
     },
     "execution_count": 3,
     "metadata": {},
     "output_type": "execute_result"
    }
   ],
   "source": [
    "df.explode('Subjects')"
   ]
  }
 ],
 "metadata": {
  "kernelspec": {
   "display_name": "Python 3",
   "language": "python",
   "name": "python3"
  },
  "language_info": {
   "codemirror_mode": {
    "name": "ipython",
    "version": 3
   },
   "file_extension": ".py",
   "mimetype": "text/x-python",
   "name": "python",
   "nbconvert_exporter": "python",
   "pygments_lexer": "ipython3",
   "version": "3.12.6"
  }
 },
 "nbformat": 4,
 "nbformat_minor": 2
}
