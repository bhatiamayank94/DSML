{
 "cells": [
  {
   "cell_type": "code",
   "execution_count": null,
   "metadata": {},
   "outputs": [],
   "source": [
    "'''\n",
    "Why numpy \n",
    "    1 - homogeneous data\n",
    "    2 - element wise operation\n",
    "    3 - cleaner syntax\n",
    "    4 - fast: this is because of continuous data blocks: in a list, there is a reference of each element, whereas in np array reference is to complete block\n",
    "'''"
   ]
  },
  {
   "cell_type": "code",
   "execution_count": 12,
   "metadata": {},
   "outputs": [
    {
     "name": "stdout",
     "output_type": "stream",
     "text": [
      "230 ns ± 2.2 ns per loop (mean ± std. dev. of 7 runs, 1,000,000 loops each)\n",
      "5.3 μs ± 15 ns per loop (mean ± std. dev. of 7 runs, 100,000 loops each)\n"
     ]
    }
   ],
   "source": [
    "# Exhibit fast speed of numpy array \n",
    "\n",
    "import numpy as np\n",
    "a=list(range(10000))\n",
    "b=np.array(range(10000))\n",
    "%timeit (i**2 for i in a)\n",
    "%timeit (b**2)"
   ]
  },
  {
   "cell_type": "code",
   "execution_count": 18,
   "metadata": {},
   "outputs": [
    {
     "name": "stdout",
     "output_type": "stream",
     "text": [
      "<class 'numpy.ndarray'>\n",
      "1\n",
      "(10000,)\n",
      "<class 'numpy.ndarray'>\n",
      "2\n",
      "(2, 4)\n"
     ]
    }
   ],
   "source": [
    "# Meta of an array\n",
    "\n",
    "c=np.array([[1,2,3,4],[5,6,7,8]])\n",
    "\n",
    "print(type(b))\n",
    "print(b.ndim)\n",
    "print(b.shape) # returns a tuple of no of rows and no of columns\n",
    "\n",
    "print(type(c))\n",
    "print(c.ndim)\n",
    "print(c.shape) # returns a tuple of no of rows and no of columns"
   ]
  },
  {
   "cell_type": "code",
   "execution_count": 21,
   "metadata": {},
   "outputs": [],
   "source": [
    "# arange function - parallel to normal range function\n",
    "d=np.arange(2,10,0.5)"
   ]
  }
 ],
 "metadata": {
  "kernelspec": {
   "display_name": "Python 3",
   "language": "python",
   "name": "python3"
  },
  "language_info": {
   "codemirror_mode": {
    "name": "ipython",
    "version": 3
   },
   "file_extension": ".py",
   "mimetype": "text/x-python",
   "name": "python",
   "nbconvert_exporter": "python",
   "pygments_lexer": "ipython3",
   "version": "3.11.9"
  }
 },
 "nbformat": 4,
 "nbformat_minor": 2
}
