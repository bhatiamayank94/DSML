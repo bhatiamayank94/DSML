{
 "cells": [
  {
   "cell_type": "code",
   "execution_count": 10,
   "metadata": {},
   "outputs": [
    {
     "name": "stdout",
     "output_type": "stream",
     "text": [
      "False\n",
      "True\n",
      "False\n",
      "True\n"
     ]
    }
   ],
   "source": [
    "# np.any and np.all\n",
    "\n",
    "import numpy as np\n",
    "a=np.arange(12).reshape(3,4)\n",
    "b=np.arange(13,25).reshape(3,4)\n",
    "print(np.any(a>b))\n",
    "print(np.any(a<b))\n",
    "\n",
    "print(np.all(a>b))\n",
    "print(np.all(a<b))"
   ]
  },
  {
   "cell_type": "code",
   "execution_count": 11,
   "metadata": {},
   "outputs": [
    {
     "data": {
      "text/plain": [
       "array([['no ji ', 'no ji ', 'no ji ', 'no ji '],\n",
       "       ['no ji ', 'no ji ', 'hello ji', 'hello ji'],\n",
       "       ['hello ji', 'hello ji', 'hello ji', 'hello ji']], dtype='<U8')"
      ]
     },
     "execution_count": 11,
     "metadata": {},
     "output_type": "execute_result"
    }
   ],
   "source": [
    "# np.where -> exactly boolean functionlity \n",
    "\n",
    "c=np.arange(12).reshape(3,4)\n",
    "np.where(c>5,\"hello ji\", \"no ji \")"
   ]
  }
 ],
 "metadata": {
  "kernelspec": {
   "display_name": "Python 3",
   "language": "python",
   "name": "python3"
  },
  "language_info": {
   "codemirror_mode": {
    "name": "ipython",
    "version": 3
   },
   "file_extension": ".py",
   "mimetype": "text/x-python",
   "name": "python",
   "nbconvert_exporter": "python",
   "pygments_lexer": "ipython3",
   "version": "3.12.6"
  }
 },
 "nbformat": 4,
 "nbformat_minor": 2
}
