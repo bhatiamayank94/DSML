{
 "cells": [
  {
   "cell_type": "code",
   "execution_count": 4,
   "id": "9a7ab5a1",
   "metadata": {},
   "outputs": [],
   "source": [
    "import pandas as pd\n",
    "import numpy as np \n",
    "from scipy.stats import norm"
   ]
  },
  {
   "cell_type": "code",
   "execution_count": null,
   "id": "631e9d6a",
   "metadata": {},
   "outputs": [],
   "source": [
    "'''\n",
    "if number of samples are increased, then confidence interval becomes more thin \n",
    "    qualitative way to think this: more the samples, closer the means will be to actual mean and lesser will be the SD of means \n",
    "    quantitative way to think this: more the samples (N), lesser will be the SD (SD/sqrt(N)) and hence thinner confidence interval\n",
    "'''"
   ]
  },
  {
   "cell_type": "code",
   "execution_count": 3,
   "id": "95831af1",
   "metadata": {},
   "outputs": [],
   "source": [
    "df=pd.read_csv(r'C:\\Users\\28962\\Documents\\GitHub\\DSML\\8_data_analytics_and_visualisation_probability_and_stats\\8.8_confidence_interval\\weight-height.csv')"
   ]
  },
  {
   "cell_type": "markdown",
   "id": "5de70e99",
   "metadata": {},
   "source": [
    "# 95 % confidence intervals"
   ]
  },
  {
   "cell_type": "code",
   "execution_count": 11,
   "id": "b1f99acd",
   "metadata": {},
   "outputs": [
    {
     "name": "stdout",
     "output_type": "stream",
     "text": [
      "-1.959964\n",
      "1.959964\n"
     ]
    }
   ],
   "source": [
    "print(round(norm.ppf(0.025),6))\n",
    "print(round(norm.ppf(1-0.025),6))"
   ]
  }
 ],
 "metadata": {
  "kernelspec": {
   "display_name": "Python 3",
   "language": "python",
   "name": "python3"
  },
  "language_info": {
   "codemirror_mode": {
    "name": "ipython",
    "version": 3
   },
   "file_extension": ".py",
   "mimetype": "text/x-python",
   "name": "python",
   "nbconvert_exporter": "python",
   "pygments_lexer": "ipython3",
   "version": "3.12.6"
  }
 },
 "nbformat": 4,
 "nbformat_minor": 5
}
