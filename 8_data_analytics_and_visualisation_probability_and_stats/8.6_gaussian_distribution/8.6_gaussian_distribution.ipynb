{
 "cells": [
  {
   "cell_type": "code",
   "execution_count": null,
   "id": "98185b57",
   "metadata": {},
   "outputs": [],
   "source": [
    "'''\n",
    "Standard Deviation\n",
    "\n",
    "Gaussian curve/ normal curve\n",
    "    - empirical law: 68, 95, 99\n",
    "    - z score: (x-mu)/SD - basically how many times the SD is the point away from mean\n",
    "\n",
    "PPF - percentage point function: REVERSE OF CDF\n",
    "\n",
    "'''"
   ]
  },
  {
   "cell_type": "code",
   "execution_count": 1,
   "id": "2f8fbdd2",
   "metadata": {},
   "outputs": [],
   "source": [
    "from scipy.stats import norm"
   ]
  },
  {
   "cell_type": "code",
   "execution_count": 8,
   "id": "30bedd62",
   "metadata": {},
   "outputs": [
    {
     "name": "stdout",
     "output_type": "stream",
     "text": [
      "0.9331927987311419\n",
      "0.994457883209753\n"
     ]
    }
   ],
   "source": [
    "print(norm.cdf(1.5))\n",
    "print(norm.ppf(0.84))"
   ]
  }
 ],
 "metadata": {
  "kernelspec": {
   "display_name": "Python 3",
   "language": "python",
   "name": "python3"
  },
  "language_info": {
   "codemirror_mode": {
    "name": "ipython",
    "version": 3
   },
   "file_extension": ".py",
   "mimetype": "text/x-python",
   "name": "python",
   "nbconvert_exporter": "python",
   "pygments_lexer": "ipython3",
   "version": "3.12.6"
  }
 },
 "nbformat": 4,
 "nbformat_minor": 5
}
