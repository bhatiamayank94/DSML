{
 "cells": [
  {
   "cell_type": "code",
   "execution_count": null,
   "id": "c57f4d0a",
   "metadata": {},
   "outputs": [],
   "source": [
    "'''\n",
    "\n",
    "Baye's theorem: p(a|b) = [p(b|a)*p(a)]/p(b)\n",
    "\n",
    "Independent event: p(a|b) = p(a). HENCE, p(a int b) = p(a) * p(b)\n",
    "\n",
    "If A and B are mutually exclusive, then they cannot be independent\n",
    "\n",
    "Law of total probability: p(a) = p(a|b1)*p(b)+p(a|b2)*p(b2)+p(a|b3)*p(b3)----- +p(a|bn)*p(bn)\n",
    "\n",
    "'''"
   ]
  }
 ],
 "metadata": {
  "language_info": {
   "name": "python"
  }
 },
 "nbformat": 4,
 "nbformat_minor": 5
}
