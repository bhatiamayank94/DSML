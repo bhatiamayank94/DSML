{
 "cells": [
  {
   "cell_type": "code",
   "execution_count": 1,
   "id": "9a7ab5a1",
   "metadata": {},
   "outputs": [],
   "source": [
    "import pandas as pd\n",
    "import numpy as np \n",
    "from scipy.stats import norm"
   ]
  },
  {
   "cell_type": "code",
   "execution_count": null,
   "id": "631e9d6a",
   "metadata": {},
   "outputs": [],
   "source": [
    "'''\n",
    "if number of samples are increased, then confidence interval becomes more thin. think from mean of means perspective\n",
    "    qualitative way to think this: more the samples, closer the means will be to actual mean and lesser will be the SD of means \n",
    "    quantitative way to think this: more the samples (N), lesser will be the SD (SD/sqrt(N)) and hence thinner confidence interval\n",
    "'''"
   ]
  },
  {
   "cell_type": "code",
   "execution_count": 3,
   "id": "95831af1",
   "metadata": {},
   "outputs": [],
   "source": [
    "df=pd.read_csv(r'C:\\Users\\28962\\Documents\\GitHub\\DSML\\8_data_analytics_and_visualisation_probability_and_stats\\8.8_confidence_interval\\weight-height.csv')"
   ]
  },
  {
   "cell_type": "markdown",
   "id": "5de70e99",
   "metadata": {},
   "source": [
    "# 95 % confidence intervals"
   ]
  },
  {
   "cell_type": "code",
   "execution_count": 11,
   "id": "b1f99acd",
   "metadata": {},
   "outputs": [
    {
     "name": "stdout",
     "output_type": "stream",
     "text": [
      "-1.959964\n",
      "1.959964\n"
     ]
    }
   ],
   "source": [
    "print(round(norm.ppf(0.025),6))\n",
    "print(round(norm.ppf(1-0.025),6))"
   ]
  },
  {
   "cell_type": "markdown",
   "id": "5cb7f6cf",
   "metadata": {},
   "source": [
    "# Questions"
   ]
  },
  {
   "cell_type": "code",
   "execution_count": 6,
   "id": "620d17af",
   "metadata": {},
   "outputs": [
    {
     "name": "stdout",
     "output_type": "stream",
     "text": [
      "0.012673659338734126\n"
     ]
    }
   ],
   "source": [
    "# q1\n",
    "print(norm.cdf((875-900)/(50/np.sqrt(20))))"
   ]
  },
  {
   "cell_type": "code",
   "execution_count": 7,
   "id": "ad576c31",
   "metadata": {},
   "outputs": [
    {
     "name": "stdout",
     "output_type": "stream",
     "text": [
      "0.9771032071594303\n"
     ]
    }
   ],
   "source": [
    "# q2\n",
    "\n",
    "print(norm.cdf((31-28)/(7/np.sqrt(50)))-norm.cdf((26-28)/(7/np.sqrt(50))))"
   ]
  },
  {
   "cell_type": "code",
   "execution_count": 8,
   "id": "c833e7c4",
   "metadata": {},
   "outputs": [
    {
     "name": "stdout",
     "output_type": "stream",
     "text": [
      "25.568 22.432\n"
     ]
    }
   ],
   "source": [
    "# q3\n",
    "\n",
    "print(24+1.96*0.8,24-1.96*0.8)"
   ]
  },
  {
   "cell_type": "code",
   "execution_count": 10,
   "id": "3437d13c",
   "metadata": {},
   "outputs": [
    {
     "name": "stdout",
     "output_type": "stream",
     "text": [
      "76.64485362695147 73.35514637304853\n"
     ]
    }
   ],
   "source": [
    "# q5\n",
    "print(75+norm.ppf(0.95),75+norm.ppf(0.05))"
   ]
  }
 ],
 "metadata": {
  "kernelspec": {
   "display_name": "Python 3",
   "language": "python",
   "name": "python3"
  },
  "language_info": {
   "codemirror_mode": {
    "name": "ipython",
    "version": 3
   },
   "file_extension": ".py",
   "mimetype": "text/x-python",
   "name": "python",
   "nbconvert_exporter": "python",
   "pygments_lexer": "ipython3",
   "version": "3.13.3"
  }
 },
 "nbformat": 4,
 "nbformat_minor": 5
}
