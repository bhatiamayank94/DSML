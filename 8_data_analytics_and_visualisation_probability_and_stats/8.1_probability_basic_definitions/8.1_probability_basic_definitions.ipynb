{
 "cells": [
  {
   "cell_type": "code",
   "execution_count": null,
   "metadata": {},
   "outputs": [],
   "source": [
    "'''\n",
    "Event - any subset of sample space\n",
    "\n",
    "set operations - union, intersection, complement\n",
    "\n",
    "p(aUb) = p(a)+p(b)-p(a int b)\n",
    "\n",
    "mutually exclusive - p(a int b)=0\n",
    "\n",
    "'''"
   ]
  }
 ],
 "metadata": {
  "language_info": {
   "name": "python"
  }
 },
 "nbformat": 4,
 "nbformat_minor": 2
}
