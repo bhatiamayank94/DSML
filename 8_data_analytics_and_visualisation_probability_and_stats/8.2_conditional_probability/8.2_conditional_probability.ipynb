{
 "cells": [
  {
   "cell_type": "code",
   "execution_count": null,
   "id": "edd7e7c1",
   "metadata": {},
   "outputs": [],
   "source": [
    "'''\n",
    "Conditional probability: p(a|b)= p(a int b)/p(b)\n",
    "\n",
    "'''"
   ]
  }
 ],
 "metadata": {
  "language_info": {
   "name": "python"
  }
 },
 "nbformat": 4,
 "nbformat_minor": 5
}
